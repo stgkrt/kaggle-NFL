{
 "cells": [
  {
   "cell_type": "markdown",
   "id": "fc642bc2",
   "metadata": {
    "papermill": {
     "duration": 0.011005,
     "end_time": "2023-02-27T07:16:39.639827",
     "exception": false,
     "start_time": "2023-02-27T07:16:39.628822",
     "status": "completed"
    },
    "tags": []
   },
   "source": [
    "## Try Polars\n",
    "This notebook is just for learning polars"
   ]
  },
  {
   "cell_type": "markdown",
   "id": "7df37548",
   "metadata": {
    "papermill": {
     "duration": 0.010209,
     "end_time": "2023-02-27T07:17:11.214148",
     "exception": false,
     "start_time": "2023-02-27T07:17:11.203939",
     "status": "completed"
    },
    "tags": []
   },
   "source": [
    "# import libraries"
   ]
  },
  {
   "cell_type": "code",
   "execution_count": 1,
   "id": "0bf33d1e",
   "metadata": {
    "_cell_guid": "b1076dfc-b9ad-4769-8c92-a6c4dae69d19",
    "_uuid": "8f2839f25d086af736a60e9eeb907d3b93b6e0e5",
    "execution": {
     "iopub.execute_input": "2023-02-27T07:17:11.233271Z",
     "iopub.status.busy": "2023-02-27T07:17:11.232949Z",
     "iopub.status.idle": "2023-02-27T07:17:14.571969Z",
     "shell.execute_reply": "2023-02-27T07:17:14.571182Z"
    },
    "papermill": {
     "duration": 3.352481,
     "end_time": "2023-02-27T07:17:14.575478",
     "exception": false,
     "start_time": "2023-02-27T07:17:11.222997",
     "status": "completed"
    },
    "tags": []
   },
   "outputs": [
    {
     "data": {
      "text/html": [
       "<style type='text/css'>\n",
       ".datatable table.frame { margin-bottom: 0; }\n",
       ".datatable table.frame thead { border-bottom: none; }\n",
       ".datatable table.frame tr.coltypes td {  color: #FFFFFF;  line-height: 6px;  padding: 0 0.5em;}\n",
       ".datatable .bool    { background: #DDDD99; }\n",
       ".datatable .object  { background: #565656; }\n",
       ".datatable .int     { background: #5D9E5D; }\n",
       ".datatable .float   { background: #4040CC; }\n",
       ".datatable .str     { background: #CC4040; }\n",
       ".datatable .time    { background: #40CC40; }\n",
       ".datatable .row_index {  background: var(--jp-border-color3);  border-right: 1px solid var(--jp-border-color0);  color: var(--jp-ui-font-color3);  font-size: 9px;}\n",
       ".datatable .frame tbody td { text-align: left; }\n",
       ".datatable .frame tr.coltypes .row_index {  background: var(--jp-border-color0);}\n",
       ".datatable th:nth-child(2) { padding-left: 12px; }\n",
       ".datatable .hellipsis {  color: var(--jp-cell-editor-border-color);}\n",
       ".datatable .vellipsis {  background: var(--jp-layout-color0);  color: var(--jp-cell-editor-border-color);}\n",
       ".datatable .na {  color: var(--jp-cell-editor-border-color);  font-size: 80%;}\n",
       ".datatable .sp {  opacity: 0.25;}\n",
       ".datatable .footer { font-size: 9px; }\n",
       ".datatable .frame_dimensions {  background: var(--jp-border-color3);  border-top: 1px solid var(--jp-border-color0);  color: var(--jp-ui-font-color3);  display: inline-block;  opacity: 0.6;  padding: 1px 10px 1px 5px;}\n",
       "</style>\n"
      ],
      "text/plain": [
       "<IPython.core.display.HTML object>"
      ]
     },
     "metadata": {},
     "output_type": "display_data"
    }
   ],
   "source": [
    "import os\n",
    "import gc\n",
    "import pickle\n",
    "import glob\n",
    "import random\n",
    "import numpy as np\n",
    "import pandas as pd\n",
    "from tqdm.notebook import tqdm\n",
    "import cv2\n",
    "import matplotlib.pyplot as plt\n",
    "import time\n",
    "import math\n",
    "import sys\n",
    "\n",
    "import polars as pl\n",
    "\n",
    "import lightgbm as lgb\n",
    "from lightgbm import LGBMClassifier, early_stopping, log_evaluation\n",
    "from catboost import CatBoostClassifier, Pool\n",
    "\n",
    "import xgboost as xgb\n",
    "import torch\n",
    "import cupy \n",
    "import cudf\n",
    "from cuml import ForestInference\n",
    "\n",
    "from sklearn.metrics import matthews_corrcoef, confusion_matrix, roc_auc_score\n",
    "from sklearn.model_selection import GroupKFold\n",
    "from scipy.optimize import minimize\n",
    "\n",
    "import warnings\n",
    "warnings.filterwarnings(\"ignore\")"
   ]
  },
  {
   "cell_type": "markdown",
   "id": "094f7993",
   "metadata": {
    "papermill": {
     "duration": 0.016363,
     "end_time": "2023-02-27T07:17:14.617541",
     "exception": false,
     "start_time": "2023-02-27T07:17:14.601178",
     "status": "completed"
    },
    "tags": []
   },
   "source": [
    "# Set Configurations"
   ]
  },
  {
   "cell_type": "code",
   "execution_count": 2,
   "id": "9331afa1",
   "metadata": {
    "execution": {
     "iopub.execute_input": "2023-02-27T07:17:14.648500Z",
     "iopub.status.busy": "2023-02-27T07:17:14.648170Z",
     "iopub.status.idle": "2023-02-27T07:17:14.665704Z",
     "shell.execute_reply": "2023-02-27T07:17:14.664644Z"
    },
    "papermill": {
     "duration": 0.035881,
     "end_time": "2023-02-27T07:17:14.667738",
     "exception": false,
     "start_time": "2023-02-27T07:17:14.631857",
     "status": "completed"
    },
    "tags": []
   },
   "outputs": [],
   "source": [
    "CFG = {\n",
    "    \"DEBUG\" : False,\n",
    "    \"EXP_NAME\" : \"expCAT001\",\n",
    "    \"n_folds\" : 5,\n",
    "    \"train_folds\" : [0,1,2,3,4],\n",
    "    \n",
    "}\n",
    "\n",
    "CFG[\"cat_params\"] = {\n",
    "            'iterations': 10000,\n",
    "            'learning_rate' : 0.01,\n",
    "            'loss_function' : 'Logloss',\n",
    "            'eval_metric' : 'AUC',\n",
    "            'verbose' : 200,\n",
    "            'random_seed' : 42,\n",
    "            'use_best_model': True,\n",
    "}\n",
    "\n",
    "\n",
    "CFG[\"lgb_params\"] = { 'boosting_type' :'dart',\n",
    "                      'objective': 'binary',\n",
    "                      'random_state': 21,\n",
    "                      'learning_rate': 0.01,\n",
    "                      'n_estimators':5000,\n",
    "                      }\n",
    "\n",
    "# CFG[\"xgb_params\"] =  {\n",
    "#                         'objective': 'binary:logistic',\n",
    "#                         'eval_metric': 'auc',\n",
    "#                         'learning_rate':0.01,\n",
    "#                         'tree_method':'hist' if not torch.cuda.is_available() else 'gpu_hist',\n",
    "#                         'seed': 42,\n",
    "#                     }\n",
    "\n",
    "if CFG[\"DEBUG\"]:\n",
    "    CFG[\"EXP_CATEGORY\"] = \"DEBUG\"\n",
    "    CFG[\"sample_num\"] = 1000\n",
    "\n",
    "CFG[\"INPUT_DIR\"] = \"/workspace/input\"\n",
    "CFG[\"OUTPUT_DIR\"] = \"/workspace/output\"\n",
    "CFG[\"BASE_DIR\"] = os.path.join(CFG[\"INPUT_DIR\"])\n",
    "CFG[\"TRAIN_HELMET_CSV\"] = os.path.join(CFG[\"BASE_DIR\"], \"train_baseline_helmets.csv\")\n",
    "CFG[\"TRAIN_TRACKING_CSV\"] = os.path.join(CFG[\"BASE_DIR\"], \"train_player_tracking.csv\")\n",
    "CFG[\"TRAIN_VIDEO_META_CSV\"] = os.path.join(CFG[\"BASE_DIR\"], \"train_video_metadata.csv\")\n",
    "CFG[\"TRAIN_LABEL_CSV\"] = os.path.join(CFG[\"BASE_DIR\"], \"train_labels.csv\")\n",
    "\n",
    "CFG[\"NN_FEATURE_CSV_1\"] = os.path.join(CFG[\"OUTPUT_DIR\"], \"expP011_PandG_bothview_swins3base224\", \"oof_df.csv\")\n",
    "CFG[\"NN_FEATURE_CSV_2\"] = os.path.join(CFG[\"OUTPUT_DIR\"], \"expP014_PandG_nomask_swins3base224\", \"oof_df.csv\")\n",
    "CFG[\"NN_FEATURE_CSV_3\"] = os.path.join(CFG[\"OUTPUT_DIR\"], \"expP015_PandG_nomaskzoom_swins3base224\", \"oof_df.csv\")\n",
    "\n",
    "CFG[\"TRACK_FEATURE_CSV\"] = os.path.join(CFG[\"OUTPUT_DIR\"], \"expT010_Trackshift1D\", \"oof_df.csv\")\n",
    "\n",
    "CFG[\"TEST_HELMET_CSV\"] = os.path.join(CFG[\"BASE_DIR\"], \"test_baseline_helmets.csv\")\n",
    "CFG[\"TEST_TRACKING_CSV\"] = os.path.join(CFG[\"BASE_DIR\"], \"test_player_tracking.csv\")\n",
    "CFG[\"TEST_VIDEO_META_CSV\"] = os.path.join(CFG[\"BASE_DIR\"], \"test_video_metadata.csv\")\n",
    "CFG[\"TEST_LABEL_CSV\"] = os.path.join(CFG[\"BASE_DIR\"], \"sample_submission.csv\")\n",
    "\n",
    "\n",
    "CFG[\"EXP_DIR\"] = os.path.join(CFG[\"OUTPUT_DIR\"], CFG[\"EXP_NAME\"])\n",
    "if not CFG[\"DEBUG\"]:\n",
    "    os.mkdir(CFG[\"EXP_DIR\"])"
   ]
  },
  {
   "cell_type": "markdown",
   "id": "2ed4f4b4",
   "metadata": {
    "papermill": {
     "duration": 0.009013,
     "end_time": "2023-02-27T07:17:15.736708",
     "exception": false,
     "start_time": "2023-02-27T07:17:15.727695",
     "status": "completed"
    },
    "tags": []
   },
   "source": [
    "# MODEL Functions"
   ]
  },
  {
   "cell_type": "code",
   "execution_count": 3,
   "id": "ae0cf124",
   "metadata": {
    "execution": {
     "iopub.execute_input": "2023-02-27T07:17:15.756496Z",
     "iopub.status.busy": "2023-02-27T07:17:15.756153Z",
     "iopub.status.idle": "2023-02-27T07:17:15.769620Z",
     "shell.execute_reply": "2023-02-27T07:17:15.768661Z"
    },
    "papermill": {
     "duration": 0.025744,
     "end_time": "2023-02-27T07:17:15.771549",
     "exception": false,
     "start_time": "2023-02-27T07:17:15.745805",
     "status": "completed"
    },
    "tags": []
   },
   "outputs": [],
   "source": [
    "def fit_lgboost(df_, feature_cols_):\n",
    "    kf = GroupKFold(n_splits=CFG[\"n_folds\"])\n",
    "    X = df_[feature_cols_]\n",
    "    y = df_[\"contact\"]\n",
    "    oof_pred = np.zeros(len(y), dtype=np.float32)\n",
    "    generator = kf.split(X, y, df_[\"game_play\"])\n",
    "    for fold, (idx_train, idx_valid) in enumerate(generator):\n",
    "        print(\"-\")\n",
    "        print(f\"fold {fold}\")\n",
    "        x_train, y_train = X.iloc[idx_train], y.iloc[idx_train]\n",
    "        x_valid, y_valid = X.iloc[idx_valid], y.iloc[idx_valid]\n",
    "        display(pd.Series(y_valid).value_counts())\n",
    "\n",
    "        params = CFG[\"lgb_params\"]\n",
    "        model = LGBMClassifier(**params).fit(x_train, y_train, \n",
    "                                   eval_set=[(x_train, y_train), (x_valid, y_valid)],\n",
    "                                   callbacks=[early_stopping(200), log_evaluation(100)],\n",
    "                                   eval_metric=['auc'],)\n",
    "\n",
    "        model_path = os.path.join(CFG[\"EXP_DIR\"], f'lgb_fold{fold}.model')\n",
    "        pickle.dump(model, open(model_path, 'wb'))\n",
    "        importance = pd.DataFrame(model.feature_importances_, index=X.columns, columns=['importance'])\n",
    "        display(importance.sort_values(\"importance\", ascending=False).head(20))\n",
    "\n",
    "        pred_i = model.predict_proba(x_valid)[:, 1]\n",
    "        oof_pred[x_valid.index] = pred_i\n",
    "        score = round(roc_auc_score(y_valid, pred_i), 5)\n",
    "        print(f'Performance of the prediction: {score}\\n')\n",
    "        del model; gc.collect()\n",
    "\n",
    "    oof_pred_file = os.path.join(CFG[\"EXP_DIR\"], 'oof_pred')\n",
    "    df_[\"pred\"] = oof_pred\n",
    "    np.save(oof_pred_file, oof_pred)\n",
    "    auc = round(roc_auc_score(y, oof_pred), 5)\n",
    "    \n",
    "    def func(x_list):\n",
    "        score = matthews_corrcoef(df_['contact'], df_[\"pred\"]>x_list[0])\n",
    "        return -score\n",
    "    x0 = [0.5]\n",
    "    result = minimize(func, x0,  method=\"nelder-mead\")\n",
    "    opt_threshold = result.x[0]\n",
    "    score = round(matthews_corrcoef(df_['contact'], df_[\"pred\"]>opt_threshold), 5)\n",
    "    \n",
    "    print(f'All Performance of the AUC:{auc}, MCC:{score}')\n",
    "    return oof_pred\n"
   ]
  },
  {
   "cell_type": "code",
   "execution_count": 4,
   "id": "e1ff8e43",
   "metadata": {
    "execution": {
     "iopub.execute_input": "2023-02-27T07:17:15.791176Z",
     "iopub.status.busy": "2023-02-27T07:17:15.790910Z",
     "iopub.status.idle": "2023-02-27T07:17:15.802359Z",
     "shell.execute_reply": "2023-02-27T07:17:15.801383Z"
    },
    "papermill": {
     "duration": 0.023703,
     "end_time": "2023-02-27T07:17:15.804355",
     "exception": false,
     "start_time": "2023-02-27T07:17:15.780652",
     "status": "completed"
    },
    "tags": []
   },
   "outputs": [],
   "source": [
    "def fit_catboost(df_, feature_cols_):\n",
    "    kf = GroupKFold(n_splits=CFG[\"n_folds\"])\n",
    "    X = df_[feature_cols_]\n",
    "    y = df_[\"contact\"]\n",
    "    oof_pred = np.zeros(len(y), dtype=np.float32)\n",
    "    generator = kf.split(X, y, df_[\"game_play\"])\n",
    "    for fold, (idx_train, idx_valid) in enumerate(generator):\n",
    "        print(\"-\")\n",
    "        print(f\"fold {fold}\")\n",
    "        x_train, y_train = X.iloc[idx_train], y.iloc[idx_train]\n",
    "        x_valid, y_valid = X.iloc[idx_valid], y.iloc[idx_valid]\n",
    "        display(pd.Series(y_valid).value_counts())\n",
    "\n",
    "        params = CFG[\"cat_params\"]\n",
    "        model =  CatBoostClassifier(**params)\n",
    "        model.fit(x_train, y_train, eval_set=[(x_valid, y_valid)], verbose=100, early_stopping_rounds=200)\n",
    "        model_path = os.path.join(CFG[\"EXP_DIR\"], f'cat_fold{fold}.model')\n",
    "        pickle.dump(model, open(model_path, 'wb'))\n",
    "        importance = pd.DataFrame(model.feature_importances_, index=X.columns, columns=['importance'])\n",
    "        display(importance.sort_values(\"importance\", ascending=False).head(20))\n",
    "\n",
    "        pred_i = model.predict_proba(x_valid)[:, 1]\n",
    "        oof_pred[x_valid.index] = pred_i\n",
    "        score = round(roc_auc_score(y_valid, pred_i), 5)\n",
    "        print(f'Performance of the prediction: {score}\\n')\n",
    "        del model; gc.collect()\n",
    "    \n",
    "    oof_pred_file = os.path.join(CFG[\"EXP_DIR\"], 'oof_pred')\n",
    "    df_[\"pred\"] = oof_pred\n",
    "    np.save(oof_pred_file, oof_pred)\n",
    "    auc = round(roc_auc_score(y, oof_pred), 5)\n",
    "    \n",
    "    def func(x_list):\n",
    "        score = matthews_corrcoef(df_['contact'], df_[\"pred\"]>x_list[0])\n",
    "        return -score\n",
    "    x0 = [0.5]\n",
    "    result = minimize(func, x0,  method=\"nelder-mead\")\n",
    "    opt_threshold = result.x[0]\n",
    "    score = round(matthews_corrcoef(df_['contact'], df_[\"pred\"]>opt_threshold), 5)\n",
    "    \n",
    "    print(f'All Performance of the AUC:{auc}, MCC:{score}')\n",
    "    return oof_pred"
   ]
  },
  {
   "cell_type": "code",
   "execution_count": 5,
   "id": "b27173df",
   "metadata": {
    "execution": {
     "iopub.execute_input": "2023-02-27T07:17:15.824029Z",
     "iopub.status.busy": "2023-02-27T07:17:15.823500Z",
     "iopub.status.idle": "2023-02-27T07:17:15.836942Z",
     "shell.execute_reply": "2023-02-27T07:17:15.835982Z"
    },
    "papermill": {
     "duration": 0.025574,
     "end_time": "2023-02-27T07:17:15.838948",
     "exception": false,
     "start_time": "2023-02-27T07:17:15.813374",
     "status": "completed"
    },
    "tags": []
   },
   "outputs": [],
   "source": [
    "def fit_xgboost(df_, feature_cols_):\n",
    "    kf = GroupKFold(n_splits=CFG[\"n_folds\"])\n",
    "    X = df_[feature_cols_]\n",
    "    y = df_[\"contact\"]\n",
    "    oof_pred = np.zeros(len(y), dtype=np.float32)\n",
    "    generator = kf.split(X, y, df_[\"game_play\"])\n",
    "    for fold, (idx_train, idx_valid) in enumerate(generator):\n",
    "        print(\"-\")\n",
    "        print(f\"fold {fold}\")\n",
    "        # set dataset\n",
    "        x_train, y_train = X.iloc[idx_train], y.iloc[idx_train]\n",
    "        x_valid, y_valid = X.iloc[idx_valid], y.iloc[idx_valid]\n",
    "        display(pd.Series(y_valid).value_counts())\n",
    "        xgb_train = xgb.DMatrix(x_train, label=y_train)\n",
    "        xgb_valid = xgb.DMatrix(x_valid, label=y_valid)\n",
    "        evals = [(xgb_train,'train'),(xgb_valid,'eval')]\n",
    "        # fit\n",
    "        params = CFG[\"xgb_params\"]\n",
    "        model = xgb.train(\n",
    "            params,\n",
    "            xgb_train,\n",
    "            num_boost_round=10_000,\n",
    "            early_stopping_rounds=200,\n",
    "            evals=evals,\n",
    "            verbose_eval=100,\n",
    "        )\n",
    "\n",
    "        model_path = os.path.join(CFG[\"EXP_DIR\"], f'xgb_fold{fold}.model')\n",
    "        model.save_model(model_path)\n",
    "        _, ax = plt.subplots(figsize=(20, 16))\n",
    "        xgb.plot_importance(model,\n",
    "                            ax=ax,\n",
    "                            importance_type='gain',\n",
    "                            show_values=False)\n",
    "        plt.show()\n",
    "\n",
    "        if not torch.cuda.is_available():\n",
    "            model = xgb.Booster().load_model(model_path)\n",
    "        else:\n",
    "            model = ForestInference.load(model_path, output_class=True, model_type='xgboost')\n",
    "        \n",
    "        pred_i = model.predict_proba(x_valid)[:, 1]\n",
    "        oof_pred[x_valid.index] = pred_i\n",
    "        score = round(roc_auc_score(y_valid, pred_i), 5)\n",
    "        print(f'Performance of the prediction: {score}\\n')\n",
    "        del model; gc.collect()\n",
    "    \n",
    "    oof_pred_file = os.path.join(CFG[\"EXP_DIR\"], 'oof_pred')\n",
    "    df_[\"pred\"] = oof_pred\n",
    "    np.save(oof_pred_file, oof_pred)\n",
    "    auc = round(roc_auc_score(y, oof_pred), 5)\n",
    "    \n",
    "    def func(x_list):\n",
    "        score = matthews_corrcoef(df_['contact'], df_[\"pred\"]>x_list[0])\n",
    "        return -score\n",
    "    x0 = [0.5]\n",
    "    result = minimize(func, x0,  method=\"nelder-mead\")\n",
    "    opt_threshold = result.x[0]\n",
    "    score = round(matthews_corrcoef(df_['contact'], df_[\"pred\"]>opt_threshold), 5)\n",
    "    \n",
    "    print(f'All Performance of the AUC:{auc}, MCC:{score}')\n",
    "    return oof_pred"
   ]
  },
  {
   "cell_type": "markdown",
   "id": "637b4d25",
   "metadata": {
    "papermill": {
     "duration": 0.008976,
     "end_time": "2023-02-27T07:17:15.856980",
     "exception": false,
     "start_time": "2023-02-27T07:17:15.848004",
     "status": "completed"
    },
    "tags": []
   },
   "source": [
    "# Dataset Functions"
   ]
  },
  {
   "cell_type": "code",
   "execution_count": 6,
   "id": "725de3cb",
   "metadata": {
    "execution": {
     "iopub.execute_input": "2023-02-27T07:17:15.876409Z",
     "iopub.status.busy": "2023-02-27T07:17:15.876111Z",
     "iopub.status.idle": "2023-02-27T07:17:15.881699Z",
     "shell.execute_reply": "2023-02-27T07:17:15.880778Z"
    },
    "papermill": {
     "duration": 0.017794,
     "end_time": "2023-02-27T07:17:15.883953",
     "exception": false,
     "start_time": "2023-02-27T07:17:15.866159",
     "status": "completed"
    },
    "tags": []
   },
   "outputs": [],
   "source": [
    "def add_feature_cols(df_, feature_cols_, remove_col_list):\n",
    "    additional_cols = list(df_.columns)\n",
    "    additional_cols = [col for col in additional_cols if not col in remove_col_list]\n",
    "    feature_cols_.extend(additional_cols)\n",
    "    return feature_cols_"
   ]
  },
  {
   "cell_type": "markdown",
   "id": "d54e0afd",
   "metadata": {
    "papermill": {
     "duration": 0.008985,
     "end_time": "2023-02-27T07:17:15.902041",
     "exception": false,
     "start_time": "2023-02-27T07:17:15.893056",
     "status": "completed"
    },
    "tags": []
   },
   "source": [
    "## Merge Functions"
   ]
  },
  {
   "cell_type": "code",
   "execution_count": 7,
   "id": "ebffbfac",
   "metadata": {
    "execution": {
     "iopub.execute_input": "2023-02-27T07:17:15.923176Z",
     "iopub.status.busy": "2023-02-27T07:17:15.922910Z",
     "iopub.status.idle": "2023-02-27T07:17:15.934849Z",
     "shell.execute_reply": "2023-02-27T07:17:15.933964Z"
    },
    "papermill": {
     "duration": 0.02423,
     "end_time": "2023-02-27T07:17:15.936850",
     "exception": false,
     "start_time": "2023-02-27T07:17:15.912620",
     "status": "completed"
    },
    "tags": []
   },
   "outputs": [],
   "source": [
    "def target_merge_tracking(target_df_, tracking_df_, feature_cols_, SHIFT_COLS_):\n",
    "    target_df_ = target_df_.with_column(pl.concat_str([pl.col(\"game_play\"),\n",
    "                                                     pl.col(\"step\").cast(str),\n",
    "                                                     pl.col(\"nfl_player_id_1\"),\n",
    "                                                    ], sep='_').alias('game_step_player_1'))\n",
    "    target_df_ = target_df_.with_column(pl.concat_str([pl.col(\"game_play\"),\n",
    "                                                     pl.col(\"step\").cast(str),\n",
    "                                                     pl.col(\"nfl_player_id_2\"),\n",
    "                                                    ], sep='_').alias('game_step_player_2'))\n",
    "    # line man positions\n",
    "    lineman_pos = [\"T\", \"G\", \"C\", \"DE\", \"DT\", \"NG\"]\n",
    "    tracking_df_ = tracking_df_.with_column((pl.col(\"position\").is_in(lineman_pos)).cast(int).alias('is_lineman'))\n",
    "    \n",
    "    \n",
    "    # Norm cols\n",
    "    norm_cols = [\"x_position\", \"y_position\", \"direction\", \"orientation\"]\n",
    "    Norm_value_list = [120., 60., 360., 360.]\n",
    "    for col, norm_val in zip(norm_cols, Norm_value_list):\n",
    "        tracking_df_ = tracking_df_.with_column((pl.col(col)/norm_val).alias(col))\n",
    "    \n",
    "    # use columns\n",
    "    track_cols = [\"game_play\", \"nfl_player_id\", \"step\", \n",
    "                   \"x_position\", \"y_position\", \"datetime\",\n",
    "                   \"speed\",\"distance\",\"direction\",\"orientation\",\n",
    "                   \"acceleration\",\"sa\", \"team\", \"jersey_number\",\n",
    "                   \"is_lineman\",\n",
    "                 ]\n",
    "    track_cols.extend(SHIFT_COLS_)\n",
    "    tracking_df_ = tracking_df_.select(track_cols)\n",
    "    tracking_df_ = tracking_df_.with_column(pl.concat_str([pl.col(\"game_play\"),\n",
    "                                                         pl.col(\"step\").cast(str),\n",
    "                                                         pl.col(\"nfl_player_id\"),\n",
    "                                                        ], sep='_').alias('game_step_player'))\n",
    "\n",
    "    tracking_df_ = tracking_df_.drop([\"game_play\", \"step\", \"nfl_player_id\", \"datetime\"])\n",
    "\n",
    "    # merge tracking to target\n",
    "    for player_id in [1,2]:\n",
    "        tracking_player = tracking_df_.select([pl.all().suffix(f\"_{player_id}\")])\n",
    "        target_df_ = target_df_.join(tracking_player, on=[f\"game_step_player_{player_id}\"], how=\"left\")\n",
    "        # add features col\n",
    "        feature_cols_ = add_feature_cols(tracking_player, feature_cols_,\n",
    "                                        [f\"game_step_player_{player_id}\", f\"frame_{player_id}\", f\"datetime_{player_id}\"])\n",
    "    # drop col\n",
    "    target_df_ = target_df_.drop([\"game_step_player_1\", \"game_step_player_2\"])\n",
    "    print(len(target_df_.columns))\n",
    "    print(\"original length\", len(target_df_))\n",
    "    return target_df_, feature_cols_"
   ]
  },
  {
   "cell_type": "code",
   "execution_count": 8,
   "id": "6382069b",
   "metadata": {
    "execution": {
     "iopub.execute_input": "2023-02-27T07:17:15.956494Z",
     "iopub.status.busy": "2023-02-27T07:17:15.956207Z",
     "iopub.status.idle": "2023-02-27T07:17:15.966297Z",
     "shell.execute_reply": "2023-02-27T07:17:15.965379Z"
    },
    "papermill": {
     "duration": 0.022278,
     "end_time": "2023-02-27T07:17:15.968305",
     "exception": false,
     "start_time": "2023-02-27T07:17:15.946027",
     "status": "completed"
    },
    "tags": []
   },
   "outputs": [],
   "source": [
    "def target_merge_helmet(target_df_, helmet_df_, feature_cols_):\n",
    "    print(\"original length\", len(target_df_))\n",
    "    # set merge-key (game_frame_player_1,2) to merge helmet_df\n",
    "    target_df_ = target_df_.with_column(((pl.col(\"step\").cast(int)/10*59.94+5*59.94).cast(int)+1).alias(\"frame\"))\n",
    "    target_df_ = target_df_.with_column(pl.concat_str([pl.col(\"game_play\"),\n",
    "                                                     pl.col(\"frame\").cast(str),\n",
    "                                                     pl.col(\"nfl_player_id_1\"),\n",
    "                                                    ], sep='_').alias('game_frame_player_1'))\n",
    "    target_df_ = target_df_.with_column(pl.concat_str([pl.col(\"game_play\"),\n",
    "                                                     pl.col(\"frame\").cast(str),\n",
    "                                                     pl.col(\"nfl_player_id_2\"),\n",
    "                                                    ], sep='_').alias('game_frame_player_2'))\n",
    "    # set merge key\n",
    "    helmet_df_ = helmet_df_.with_column(pl.concat_str([pl.col(\"game_play\"),\n",
    "                                                     pl.col(\"frame\").cast(str),\n",
    "                                                     pl.col(\"nfl_player_id\"),\n",
    "                                                    ], sep='_').alias('game_frame_player'))\n",
    "\n",
    "    # merge target df & helmet_df\n",
    "    player_views = [[1, \"Endzone\"],[2, \"Endzone\"], [1, \"Sideline\"],[2, \"Sideline\"]]\n",
    "    for player_id, view in player_views:\n",
    "        helmet_view = helmet_df_.filter(pl.col(\"view\")==view)\n",
    "        helmet_view = helmet_view[[\"game_frame_player\", \"left\", \"width\", \"top\", \"height\"]]\n",
    "        helmet_view = helmet_view.select(pl.all().suffix(f\"_{player_id}\"))\n",
    "        helmet_view = helmet_view.select([pl.col(helmet_view.columns[0]), pl.col(helmet_view.columns[1:]).prefix(f\"{view[0]}_\")])\n",
    "        target_df_ = target_df_.join(helmet_view, on=f\"game_frame_player_{player_id}\", how=\"left\")  \n",
    "        # add features col\n",
    "        feature_cols_ = add_feature_cols(helmet_view, feature_cols_, [f\"game_frame_player_{player_id}\"])\n",
    "\n",
    "    print(len(target_df_.columns))\n",
    "    print(\"original length\", len(target_df_))\n",
    "    return target_df_, feature_cols_"
   ]
  },
  {
   "cell_type": "markdown",
   "id": "4c9adfb6",
   "metadata": {
    "papermill": {
     "duration": 0.008861,
     "end_time": "2023-02-27T07:17:15.986309",
     "exception": false,
     "start_time": "2023-02-27T07:17:15.977448",
     "status": "completed"
    },
    "tags": []
   },
   "source": [
    "## Create feature function"
   ]
  },
  {
   "cell_type": "code",
   "execution_count": 9,
   "id": "0a1bb120",
   "metadata": {
    "execution": {
     "iopub.execute_input": "2023-02-27T07:17:16.005673Z",
     "iopub.status.busy": "2023-02-27T07:17:16.005397Z",
     "iopub.status.idle": "2023-02-27T07:17:16.011961Z",
     "shell.execute_reply": "2023-02-27T07:17:16.010939Z"
    },
    "papermill": {
     "duration": 0.01882,
     "end_time": "2023-02-27T07:17:16.014253",
     "exception": false,
     "start_time": "2023-02-27T07:17:15.995433",
     "status": "completed"
    },
    "tags": []
   },
   "outputs": [],
   "source": [
    "def get_tracking_shift(tracking_df_, shift_cols=[\"x_position\",\"y_position\"], shift_nums=range(-6,6,1)):\n",
    "    # get shift key\n",
    "    tracking_df_ = tracking_df_.with_column(pl.concat_str([pl.col(\"game_play\"),\n",
    "                                                         pl.col(\"nfl_player_id\"),\n",
    "                                                        ], sep='_').alias('shift_key'))\n",
    "    # get shift features\n",
    "    shift_col_list = []\n",
    "    for num in shift_nums:\n",
    "        tracking_df_ = tracking_df_.with_columns(\n",
    "                            pl.col(shift_cols).shift(periods=num).over(\"shift_key\").suffix(f\"_shift{num}\"))\n",
    "    for col in shift_cols:\n",
    "        colname = [f\"{col}_shift{idx}\" for idx in shift_nums]\n",
    "        shift_col_list.extend(colname)\n",
    "                    \n",
    "    return tracking_df_, shift_col_list"
   ]
  },
  {
   "cell_type": "code",
   "execution_count": 10,
   "id": "d2054a3a",
   "metadata": {
    "execution": {
     "iopub.execute_input": "2023-02-27T07:17:16.033653Z",
     "iopub.status.busy": "2023-02-27T07:17:16.033392Z",
     "iopub.status.idle": "2023-02-27T07:17:16.045279Z",
     "shell.execute_reply": "2023-02-27T07:17:16.044442Z"
    },
    "papermill": {
     "duration": 0.02384,
     "end_time": "2023-02-27T07:17:16.047240",
     "exception": false,
     "start_time": "2023-02-27T07:17:16.023400",
     "status": "completed"
    },
    "tags": []
   },
   "outputs": [],
   "source": [
    "def create_trackmerged_ftr(target_df_, feature_cols_,\n",
    "                           diff_cols = ['x_position', 'y_position', 'speed', 'distance',\n",
    "                                        'direction', 'orientation', 'acceleration', 'sa']):    \n",
    "#     target_df_ = target_df_.with_column((np.sqrt(np.square(pl.col(\"x_position_1\")-pl.col(\"x_position_2\")) \\\n",
    "#                                               + np.square(pl.col(\"y_position_1\")-pl.col(\"y_position_2\"))) \\\n",
    "#                                       ).alias(\"players_dis\"))\n",
    "    target_df_ = target_df_.with_column((np.sqrt(np.square(pl.col(\"x_position_1\")*120. - pl.col(\"x_position_2\")*120.) \\\n",
    "                                              + np.square(pl.col(\"y_position_1\")*60. - pl.col(\"y_position_2\")*60.)) \\\n",
    "                                      ).alias(\"players_dis\"))\n",
    "    target_df_ = target_df_.with_column(pl.col(\"players_dis\").fill_null(0))\n",
    "    \n",
    "    # players distance sum(in shift range time : default(-6~6 frames not step))\n",
    "    players_distance_sum = 0\n",
    "    for idx in range(-6,6,1):\n",
    "        players_distance_sum += np.sqrt((target_df_[f\"x_position_shift{idx}_1\"] - target_df_[f\"x_position_shift{idx}_2\"])**2 \\\n",
    "                                       + (target_df_[f\"y_position_shift{idx}_1\"] - target_df_[f\"y_position_shift{idx}_2\"])**2)\n",
    "    target_df_ = target_df_.with_column(pl.Series(\"players_distance_sum\", players_distance_sum))\n",
    "    target_df_ = target_df_.with_column(pl.col(\"players_distance_sum\").fill_null(0))\n",
    "    feature_cols_.append(\"players_distance_sum\")\n",
    "\n",
    "    # players each axis distance sum(in shift range time : default(-6~6 frames not step))\n",
    "    for axis in [\"x\", \"y\"]:\n",
    "        axis_distance_1 = 0\n",
    "        axis_distance_2 = 0\n",
    "        for idx in range(-6, 5, 1):\n",
    "            axis_distance_1 += abs(target_df_[f\"{axis}_position_shift{idx}_1\"] - target_df_[f\"{axis}_position_shift{idx+1}_1\"])\n",
    "            axis_distance_2 += abs(target_df_[f\"{axis}_position_shift{idx}_2\"] - target_df_[f\"{axis}_position_shift{idx+1}_2\"])\n",
    "        target_df_ = target_df_.with_column(pl.Series(f\"{axis}_move_distance_1\", axis_distance_1))\n",
    "        target_df_ = target_df_.with_column(pl.col(f\"{axis}_move_distance_1\").fill_null(0))\n",
    "        target_df_ = target_df_.with_column(pl.Series(f\"{axis}_move_distance_2\", axis_distance_2))\n",
    "        target_df_ = target_df_.with_column(pl.col(f\"{axis}_move_distance_2\").fill_null(0))\n",
    "        feature_cols_.extend([f\"{axis}_move_distance_1\", f\"{axis}_move_distance_2\"])\n",
    "\n",
    "    # players difference ftr (in each step)\n",
    "    for col in diff_cols:\n",
    "        colname = f\"{col}_diff\"\n",
    "        target_df_ = target_df_.with_column((abs(pl.col(f\"{col}_1\") - pl.col(f\"{col}_2\"))).alias(colname))\n",
    "        target_df_ = target_df_.with_column(pl.col(colname).fill_null(0))\n",
    "        feature_cols_.append(colname)\n",
    "        \n",
    "    return target_df_, feature_cols_"
   ]
  },
  {
   "cell_type": "code",
   "execution_count": 11,
   "id": "3ba4359b",
   "metadata": {
    "execution": {
     "iopub.execute_input": "2023-02-27T07:17:16.067813Z",
     "iopub.status.busy": "2023-02-27T07:17:16.066397Z",
     "iopub.status.idle": "2023-02-27T07:17:16.074760Z",
     "shell.execute_reply": "2023-02-27T07:17:16.073850Z"
    },
    "papermill": {
     "duration": 0.020491,
     "end_time": "2023-02-27T07:17:16.076900",
     "exception": false,
     "start_time": "2023-02-27T07:17:16.056409",
     "status": "completed"
    },
    "tags": []
   },
   "outputs": [],
   "source": [
    "def create_roll_ftr(target_df_, feature_cols_,\n",
    "                    roll_cols = ['players_dis', 'x_position_diff', 'y_position_diff', \n",
    "                                  'speed_diff', 'distance_diff','direction_diff',\n",
    "                                  'orientation_diff', 'acceleration_diff', 'sa_diff'],\n",
    "                    key_cols = [\"contact_id\", \"game_play\", \"nfl_player_id_1\", \n",
    "                                \"nfl_player_id_2\", \"step\"]):\n",
    "    roll_df = target_df_.select(roll_cols+key_cols)\n",
    "\n",
    "    roll_df = roll_df.with_column(pl.concat_str([pl.col(\"game_play\"),\n",
    "                                                 pl.col(\"nfl_player_id_1\"),\n",
    "                                                 pl.col(\"nfl_player_id_2\"),\n",
    "                                                ], sep='_').alias('key'))\n",
    "    # cast datetime\n",
    "\n",
    "    # groupby rolling\n",
    "    roll_df = roll_df.groupby_dynamic(\"step\", every=\"1i\", period=\"6i\", by=\"key\", closed=\"both\").agg([pl.col(roll_cols).sum().suffix(\"_rollsum\"), pl.col(\"contact_id\")])\n",
    "    roll_df = roll_df.with_column(pl.col(\"contact_id\").apply(lambda x:x[0]))\n",
    "    roll_df = roll_df.drop([\"key\", \"step\"])\n",
    "    target_df_ = target_df_.join(roll_df, on=\"contact_id\", how=\"left\")\n",
    "    additional_cols = [col+\"_rollsum\" for col in roll_cols]\n",
    "    feature_cols_.extend(additional_cols)\n",
    "    return target_df_, feature_cols_"
   ]
  },
  {
   "cell_type": "code",
   "execution_count": 12,
   "id": "a9345d13",
   "metadata": {
    "_kg_hide-output": true,
    "execution": {
     "iopub.execute_input": "2023-02-27T07:17:16.096634Z",
     "iopub.status.busy": "2023-02-27T07:17:16.095774Z",
     "iopub.status.idle": "2023-02-27T07:17:16.105065Z",
     "shell.execute_reply": "2023-02-27T07:17:16.104253Z"
    },
    "papermill": {
     "duration": 0.021048,
     "end_time": "2023-02-27T07:17:16.107012",
     "exception": false,
     "start_time": "2023-02-27T07:17:16.085964",
     "status": "completed"
    },
    "tags": []
   },
   "outputs": [],
   "source": [
    "def create_helmetmerged_ftr(target_df_, feature_cols_):\n",
    "    # helmet center distance feature\n",
    "    for view in [\"Endzone\", \"Sideline\"]:\n",
    "        for p_id in [\"1\", \"2\"]: \n",
    "            # get helmet center\n",
    "            target_df_ = target_df_.with_column((pl.col(f\"{view[0]}_left_{p_id}\") + (pl.col(f\"{view[0]}_width_{p_id}\")//2)).alias(f\"{view[0]}_Wcenter_{p_id}\"))\n",
    "            target_df_ = target_df_.with_column((pl.col(f\"{view[0]}_top_{p_id}\") + (pl.col(f\"{view[0]}_height_{p_id}\")//2)).alias(f\"{view[0]}_Hcenter_{p_id}\"))\n",
    "        # helmet center distance\n",
    "        target_df_ = target_df_.with_column((np.sqrt(np.square(pl.col(f\"{view[0]}_Wcenter_1\") - pl.col(f\"{view[0]}_Wcenter_2\")) \\\n",
    "                                                  + np.square(pl.col(f\"{view[0]}_Hcenter_1\") - pl.col(f\"{view[0]}_Hcenter_2\")))\n",
    "                                          ).alias(f\"{view[0]}_helmet_dis\"))\n",
    "\n",
    "        # GがNanになるので0にしておく\n",
    "        target_df_ = target_df_.with_column(pl.col(f\"{view[0]}_helmet_dis\").fill_null(0))\n",
    "        feature_cols_.append(f\"{view[0]}_helmet_dis\")\n",
    "    \n",
    "    # helmet cols fillna(0) after get helmet distance \n",
    "    helmet_cols = ['E_left_1', 'E_width_1', 'E_top_1', 'E_height_1',\n",
    "                   'E_left_2', 'E_width_2', 'E_top_2', 'E_height_2', \n",
    "                   'S_left_1','S_width_1', 'S_top_1', 'S_height_1', \n",
    "                   'S_left_2', 'S_width_2', 'S_top_2', 'S_height_2']\n",
    "    target_df_ = target_df_.with_column(pl.col(helmet_cols).fill_null(0))\n",
    "\n",
    "    return target_df_, feature_cols_"
   ]
  },
  {
   "cell_type": "code",
   "execution_count": 13,
   "id": "307d2f4f",
   "metadata": {
    "execution": {
     "iopub.execute_input": "2023-02-27T07:17:16.127354Z",
     "iopub.status.busy": "2023-02-27T07:17:16.125996Z",
     "iopub.status.idle": "2023-02-27T07:17:16.134878Z",
     "shell.execute_reply": "2023-02-27T07:17:16.134030Z"
    },
    "papermill": {
     "duration": 0.020645,
     "end_time": "2023-02-27T07:17:16.136782",
     "exception": false,
     "start_time": "2023-02-27T07:17:16.116137",
     "status": "completed"
    },
    "tags": []
   },
   "outputs": [],
   "source": [
    "def get_categorical_ftr(target_df_, feature_cols_):\n",
    "    target_df_ = target_df_.with_column((pl.col(\"nfl_player_id_2\")== \"G\").cast(int).alias(\"is_ground\"))\n",
    "    # set team \n",
    "    target_df_ = target_df_.with_column(((pl.col(\"team_1\")==\"home\").cast(int)).alias(\"team_1\"))\n",
    "    target_df_ = target_df_.with_column(((pl.col(\"team_2\")==\"home\").cast(int)).alias(\"team_2\"))\n",
    "    target_df_ = target_df_.with_column(pl.col('nfl_player_id_2').str.replace(\"G\", \"99999\"))\n",
    "    \n",
    "    target_df_ = target_df_.with_column((1 - ((pl.col(\"E_width_1\")==0) & (pl.col(\"E_width_2\")==0)).cast(int)).alias(\"is_E_helmet\"))\n",
    "    target_df_ = target_df_.with_column((1 - ((pl.col(\"S_width_1\")==0) & (pl.col(\"S_width_2\")==0)).cast(int)).alias(\"is_S_helmet\"))\n",
    "    target_df_ = target_df_.with_column(((pl.col(\"is_E_helmet\")==1) & (pl.col(\"is_S_helmet\")==1)).cast(int).alias(\"both_helmet\"))\n",
    "    \n",
    "    target_df_ = target_df_.with_column(pl.col([\"nfl_player_id_1\", \"nfl_player_id_2\"]).cast(int))\n",
    "    \n",
    "    target_df_ = target_df_.fill_null(0)\n",
    "    target_df_ = target_df_.fill_nan(0)\n",
    "    feature_cols_.extend([\"is_ground\",\"is_E_helmet\", \"is_S_helmet\", \"both_helmet\"])\n",
    "    return target_df_, feature_cols_"
   ]
  },
  {
   "cell_type": "markdown",
   "id": "64dceb77",
   "metadata": {
    "papermill": {
     "duration": 0.009107,
     "end_time": "2023-02-27T07:17:16.154918",
     "exception": false,
     "start_time": "2023-02-27T07:17:16.145811",
     "status": "completed"
    },
    "tags": []
   },
   "source": [
    "# Merge NN df"
   ]
  },
  {
   "cell_type": "code",
   "execution_count": 15,
   "id": "3e6a829a",
   "metadata": {
    "execution": {
     "iopub.execute_input": "2023-02-27T07:17:16.203649Z",
     "iopub.status.busy": "2023-02-27T07:17:16.203392Z",
     "iopub.status.idle": "2023-02-27T07:17:16.210287Z",
     "shell.execute_reply": "2023-02-27T07:17:16.209357Z"
    },
    "papermill": {
     "duration": 0.022479,
     "end_time": "2023-02-27T07:17:16.212247",
     "exception": false,
     "start_time": "2023-02-27T07:17:16.189768",
     "status": "completed"
    },
    "tags": []
   },
   "outputs": [],
   "source": [
    "def target_merge_emb(target_df_, nn_df_, feature_cols, view_, model_num, fillna_num=0):\n",
    "    use_cols = [\"contact_id\"]\n",
    "    cnn_ftr_list_ = [f\"img_emb_{idx}\" for idx in range(5)]\n",
    "    cnn_ftr_list_.append(\"pred\")\n",
    "    use_cols.extend(cnn_ftr_list_)\n",
    "    # set use cols\n",
    "    nn_df_ = nn_df_.select(use_cols)\n",
    "    nn_df_ = nn_df_.with_columns(pl.col(cnn_ftr_list_).prefix(f\"m{model_num}_{view[0]}_\"))\n",
    "    target_df_ = target_df_.join(nn_df_, on=\"contact_id\", how=\"left\")\n",
    "    target_df_ = target_df_.fill_null(fillna_num)\n",
    "    target_df_ = target_df_.fill_nan(fillna_num)\n",
    "    # add feature cols\n",
    "    prefix_cnnftr_list_ = [f\"m{model_num}_{view[0]}_img_emb_{idx}\" for idx in range(5)]\n",
    "    prefix_cnnftr_list_.append(f\"m{model_num}_{view[0]}_pred\")\n",
    "    feature_cols.extend(prefix_cnnftr_list_)\n",
    "    target_df_ = target_df_.drop(cnn_ftr_list_)\n",
    "    return target_df_, feature_cols"
   ]
  },
  {
   "cell_type": "code",
   "execution_count": 16,
   "id": "0d005073",
   "metadata": {
    "execution": {
     "iopub.execute_input": "2023-02-27T07:17:16.232891Z",
     "iopub.status.busy": "2023-02-27T07:17:16.232610Z",
     "iopub.status.idle": "2023-02-27T07:17:16.238353Z",
     "shell.execute_reply": "2023-02-27T07:17:16.237445Z"
    },
    "papermill": {
     "duration": 0.018794,
     "end_time": "2023-02-27T07:17:16.240232",
     "exception": false,
     "start_time": "2023-02-27T07:17:16.221438",
     "status": "completed"
    },
    "tags": []
   },
   "outputs": [],
   "source": [
    "def target_merge_trackemb(target_df_, nn_df_, feature_cols, fillna_num=0):\n",
    "    use_cols = [\"contact_id\"]\n",
    "    ftr_list_ = [f\"track_emb_{idx}\" for idx in range(3)]\n",
    "    use_cols.extend(ftr_list_)\n",
    "    # set use cols\n",
    "    nn_df_ = nn_df_.select(use_cols)\n",
    "    target_df_ = target_df_.join(nn_df_, on=\"contact_id\", how=\"left\")\n",
    "    target_df_ = target_df_.fill_null(fillna_num)\n",
    "    target_df_ = target_df_.fill_nan(fillna_num)\n",
    "    # add feature cols\n",
    "    ftr_list_ = [f\"track_emb_{idx}\" for idx in range(3)]\n",
    "    feature_cols.extend(ftr_list_)\n",
    "    return target_df_, feature_cols"
   ]
  },
  {
   "cell_type": "markdown",
   "id": "d2e65ef0",
   "metadata": {
    "papermill": {
     "duration": 0.008844,
     "end_time": "2023-02-27T07:17:16.258173",
     "exception": false,
     "start_time": "2023-02-27T07:17:16.249329",
     "status": "completed"
    },
    "tags": []
   },
   "source": [
    "# Post Proc"
   ]
  },
  {
   "cell_type": "code",
   "execution_count": 17,
   "id": "45a3fb69",
   "metadata": {
    "execution": {
     "iopub.execute_input": "2023-02-27T07:17:16.278369Z",
     "iopub.status.busy": "2023-02-27T07:17:16.277563Z",
     "iopub.status.idle": "2023-02-27T07:17:16.285198Z",
     "shell.execute_reply": "2023-02-27T07:17:16.284280Z"
    },
    "papermill": {
     "duration": 0.020012,
     "end_time": "2023-02-27T07:17:16.287245",
     "exception": false,
     "start_time": "2023-02-27T07:17:16.267233",
     "status": "completed"
    },
    "tags": []
   },
   "outputs": [],
   "source": [
    "def post_proc_roll(sub_, target_df_, window_size_):\n",
    "    sub_ = pd.merge(sub_, target_df_[[\"contact_id\", \"pred\"]], on=\"contact_id\", how=\"left\")\n",
    "    sub_ = sub_.fillna(0)\n",
    "    proc_df = sub_.copy()\n",
    "    proc_cols = [\"contact_id\", \"game_play\", \"nfl_player_id_1\", \"nfl_player_id_2\",\"step\", \"pred\", \"contact\"]\n",
    "    proc_df = proc_df[proc_cols]\n",
    "    proc_df[\"proc_key\"] = proc_df[\"game_play\"] + \"_\" + proc_df[\"nfl_player_id_1\"].astype(\"str\") + \"_\" + proc_df[\"nfl_player_id_2\"].astype(\"str\")\n",
    "    \n",
    "    proc_pred = proc_df.groupby(\"proc_key\")[\"pred\"].rolling(window_size, center=True).mean().reset_index().set_index(\"level_1\")\n",
    "    proc_pred = proc_pred.rename(columns={\"pred\":\"proc_pred\"})    \n",
    "\n",
    "    proc_df = pd.concat([proc_df, proc_pred], axis=1)\n",
    "    proc_df[\"proc_pred\"] = proc_df[\"proc_pred\"].fillna(proc_df[\"pred\"])\n",
    "    return proc_df"
   ]
  },
  {
   "cell_type": "markdown",
   "id": "1ada3382",
   "metadata": {
    "papermill": {
     "duration": 0.008853,
     "end_time": "2023-02-27T07:17:16.305139",
     "exception": false,
     "start_time": "2023-02-27T07:17:16.296286",
     "status": "completed"
    },
    "tags": []
   },
   "source": [
    "---"
   ]
  },
  {
   "cell_type": "markdown",
   "id": "fc07e09a",
   "metadata": {
    "papermill": {
     "duration": 0.008924,
     "end_time": "2023-02-27T07:17:16.323111",
     "exception": false,
     "start_time": "2023-02-27T07:17:16.314187",
     "status": "completed"
    },
    "tags": []
   },
   "source": [
    "# Load Target"
   ]
  },
  {
   "cell_type": "code",
   "execution_count": 18,
   "id": "7f8f2be1",
   "metadata": {
    "execution": {
     "iopub.execute_input": "2023-02-27T07:17:16.343892Z",
     "iopub.status.busy": "2023-02-27T07:17:16.342509Z",
     "iopub.status.idle": "2023-02-27T07:17:19.895390Z",
     "shell.execute_reply": "2023-02-27T07:17:19.894381Z"
    },
    "papermill": {
     "duration": 3.565375,
     "end_time": "2023-02-27T07:17:19.897834",
     "exception": false,
     "start_time": "2023-02-27T07:17:16.332459",
     "status": "completed"
    },
    "tags": []
   },
   "outputs": [],
   "source": [
    "target_dtypes = {'contact_id':str, \n",
    "                'game_play':str,\n",
    "                'datetime':str,\n",
    "                'step':int,\n",
    "                'nfl_player_id_1':str,\n",
    "                'nfl_player_id_2':str,\n",
    "                'contact':int,\n",
    "                }\n",
    "target_df = pl.read_csv(CFG[\"TRAIN_LABEL_CSV\"], dtypes=target_dtypes)    \n",
    "\n",
    "FEATURE_COLS = [\"nfl_player_id_1\", \"nfl_player_id_2\", \"step\"]"
   ]
  },
  {
   "cell_type": "markdown",
   "id": "2874c40d",
   "metadata": {
    "papermill": {
     "duration": 0.009057,
     "end_time": "2023-02-27T07:17:19.916408",
     "exception": false,
     "start_time": "2023-02-27T07:17:19.907351",
     "status": "completed"
    },
    "tags": []
   },
   "source": [
    "# Merge tracking_df"
   ]
  },
  {
   "cell_type": "code",
   "execution_count": 19,
   "id": "f546fc6e",
   "metadata": {
    "execution": {
     "iopub.execute_input": "2023-02-27T07:17:19.936982Z",
     "iopub.status.busy": "2023-02-27T07:17:19.935463Z",
     "iopub.status.idle": "2023-02-27T07:18:15.139479Z",
     "shell.execute_reply": "2023-02-27T07:18:15.138467Z"
    },
    "papermill": {
     "duration": 55.21651,
     "end_time": "2023-02-27T07:18:15.141948",
     "exception": false,
     "start_time": "2023-02-27T07:17:19.925438",
     "status": "completed"
    },
    "tags": []
   },
   "outputs": [
    {
     "name": "stdout",
     "output_type": "stream",
     "text": [
      "77\n",
      "original length 4721618\n"
     ]
    }
   ],
   "source": [
    "tracking_df = pl.read_csv(CFG[\"TRAIN_TRACKING_CSV\"])\n",
    "tracking_df, SHIFT_COLS = get_tracking_shift(tracking_df)\n",
    "target_df, FEATURE_COLS = target_merge_tracking(target_df, tracking_df, FEATURE_COLS, SHIFT_COLS)\n",
    "\n",
    "del tracking_df\n",
    "\n",
    "target_df, FEATURE_COLS = create_trackmerged_ftr(target_df, FEATURE_COLS)\n",
    "target_df, FEATURE_COLS = create_roll_ftr(target_df, FEATURE_COLS)"
   ]
  },
  {
   "cell_type": "markdown",
   "id": "51ed9b5b",
   "metadata": {
    "papermill": {
     "duration": 0.00906,
     "end_time": "2023-02-27T07:18:15.160773",
     "exception": false,
     "start_time": "2023-02-27T07:18:15.151713",
     "status": "completed"
    },
    "tags": []
   },
   "source": [
    "# Exclude distance > 2"
   ]
  },
  {
   "cell_type": "code",
   "execution_count": 20,
   "id": "d01b078b",
   "metadata": {
    "execution": {
     "iopub.execute_input": "2023-02-27T07:18:15.180753Z",
     "iopub.status.busy": "2023-02-27T07:18:15.180447Z",
     "iopub.status.idle": "2023-02-27T07:18:16.178087Z",
     "shell.execute_reply": "2023-02-27T07:18:16.177092Z"
    },
    "papermill": {
     "duration": 1.010291,
     "end_time": "2023-02-27T07:18:16.180569",
     "exception": false,
     "start_time": "2023-02-27T07:18:15.170278",
     "status": "completed"
    },
    "tags": []
   },
   "outputs": [
    {
     "name": "stdout",
     "output_type": "stream",
     "text": [
      "660550\n"
     ]
    }
   ],
   "source": [
    "target_df = target_df.filter(pl.col(\"players_dis\") <= 2)\n",
    "print(len(target_df))"
   ]
  },
  {
   "cell_type": "markdown",
   "id": "aaaf607a",
   "metadata": {
    "papermill": {
     "duration": 0.01661,
     "end_time": "2023-02-27T07:18:16.214344",
     "exception": false,
     "start_time": "2023-02-27T07:18:16.197734",
     "status": "completed"
    },
    "tags": []
   },
   "source": [
    "# Merge helmet df"
   ]
  },
  {
   "cell_type": "code",
   "execution_count": 21,
   "id": "11a42ccf",
   "metadata": {
    "execution": {
     "iopub.execute_input": "2023-02-27T07:18:16.250628Z",
     "iopub.status.busy": "2023-02-27T07:18:16.250250Z",
     "iopub.status.idle": "2023-02-27T07:18:25.895256Z",
     "shell.execute_reply": "2023-02-27T07:18:25.894223Z"
    },
    "papermill": {
     "duration": 9.665491,
     "end_time": "2023-02-27T07:18:25.897684",
     "exception": false,
     "start_time": "2023-02-27T07:18:16.232193",
     "status": "completed"
    },
    "tags": []
   },
   "outputs": [
    {
     "name": "stdout",
     "output_type": "stream",
     "text": [
      "original length 660550\n",
      "119\n",
      "original length 660550\n",
      "660550\n"
     ]
    }
   ],
   "source": [
    "helmet_df = pl.read_csv(CFG[\"TRAIN_HELMET_CSV\"])\n",
    "target_df, FEATURE_COLS = target_merge_helmet(target_df, helmet_df, FEATURE_COLS)\n",
    "target_df, FEATURE_COLS = create_helmetmerged_ftr(target_df, FEATURE_COLS)\n",
    "target_df, FEATURE_COLS = get_categorical_ftr(target_df, FEATURE_COLS)\n",
    "print(len(target_df))"
   ]
  },
  {
   "cell_type": "markdown",
   "id": "9556e0ff",
   "metadata": {
    "papermill": {
     "duration": 0.009375,
     "end_time": "2023-02-27T07:18:25.917417",
     "exception": false,
     "start_time": "2023-02-27T07:18:25.908042",
     "status": "completed"
    },
    "tags": []
   },
   "source": [
    "# Merge NN feature"
   ]
  },
  {
   "cell_type": "code",
   "execution_count": 22,
   "id": "086c3b8b",
   "metadata": {
    "execution": {
     "iopub.execute_input": "2023-02-27T07:18:25.938596Z",
     "iopub.status.busy": "2023-02-27T07:18:25.937684Z",
     "iopub.status.idle": "2023-02-27T07:18:30.252828Z",
     "shell.execute_reply": "2023-02-27T07:18:30.251698Z"
    },
    "papermill": {
     "duration": 4.327858,
     "end_time": "2023-02-27T07:18:30.254905",
     "exception": false,
     "start_time": "2023-02-27T07:18:25.927047",
     "status": "completed"
    },
    "tags": []
   },
   "outputs": [
    {
     "name": "stdout",
     "output_type": "stream",
     "text": [
      "660550\n"
     ]
    }
   ],
   "source": [
    "nn_df = pl.read_csv(CFG[\"NN_FEATURE_CSV_1\"])\n",
    "\n",
    "for view in [\"Endzone\", \"Sideline\"]:\n",
    "    if view == \"Endzone\":\n",
    "        view_nn_df = nn_df.filter(pl.col(\"is_End\")==1)\n",
    "        target_df, FEATURE_COLS = target_merge_emb(target_df, view_nn_df, FEATURE_COLS, view, 0)\n",
    "    else:\n",
    "        view_nn_df = nn_df.filter(pl.col(\"is_End\")==1)\n",
    "        target_df, FEATURE_COLS = target_merge_emb(target_df, view_nn_df, FEATURE_COLS, view, 0)\n",
    "print(len(target_df))"
   ]
  },
  {
   "cell_type": "code",
   "execution_count": 23,
   "id": "f9a8c1af",
   "metadata": {
    "execution": {
     "iopub.execute_input": "2023-02-27T07:18:30.277064Z",
     "iopub.status.busy": "2023-02-27T07:18:30.275383Z",
     "iopub.status.idle": "2023-02-27T07:18:35.309139Z",
     "shell.execute_reply": "2023-02-27T07:18:35.307079Z"
    },
    "papermill": {
     "duration": 5.046695,
     "end_time": "2023-02-27T07:18:35.311434",
     "exception": false,
     "start_time": "2023-02-27T07:18:30.264739",
     "status": "completed"
    },
    "tags": []
   },
   "outputs": [
    {
     "name": "stdout",
     "output_type": "stream",
     "text": [
      "660550\n"
     ]
    }
   ],
   "source": [
    "nn_df = pl.read_csv(CFG[\"NN_FEATURE_CSV_2\"])\n",
    "\n",
    "for view in [\"Endzone\", \"Sideline\"]:\n",
    "    if view == \"Endzone\":\n",
    "        view_nn_df = nn_df.filter(pl.col(\"is_End\")==1)\n",
    "        target_df, FEATURE_COLS = target_merge_emb(target_df, view_nn_df, FEATURE_COLS, view, 1)\n",
    "    else:\n",
    "        view_nn_df = nn_df.filter(pl.col(\"is_End\")==1)\n",
    "        target_df, FEATURE_COLS = target_merge_emb(target_df, view_nn_df, FEATURE_COLS, view, 1)\n",
    "print(len(target_df))"
   ]
  },
  {
   "cell_type": "code",
   "execution_count": 24,
   "id": "2888740b",
   "metadata": {
    "execution": {
     "iopub.execute_input": "2023-02-27T07:18:35.333112Z",
     "iopub.status.busy": "2023-02-27T07:18:35.332807Z",
     "iopub.status.idle": "2023-02-27T07:18:40.195403Z",
     "shell.execute_reply": "2023-02-27T07:18:40.194115Z"
    },
    "papermill": {
     "duration": 4.875613,
     "end_time": "2023-02-27T07:18:40.197760",
     "exception": false,
     "start_time": "2023-02-27T07:18:35.322147",
     "status": "completed"
    },
    "tags": []
   },
   "outputs": [
    {
     "name": "stdout",
     "output_type": "stream",
     "text": [
      "660550\n"
     ]
    }
   ],
   "source": [
    "nn_df = pl.read_csv(CFG[\"NN_FEATURE_CSV_3\"])\n",
    "\n",
    "for view in [\"Endzone\", \"Sideline\"]:\n",
    "    if view == \"Endzone\":\n",
    "        view_nn_df = nn_df.filter(pl.col(\"is_End\")==1)\n",
    "        target_df, FEATURE_COLS = target_merge_emb(target_df, view_nn_df, FEATURE_COLS, view, 2)\n",
    "    else:\n",
    "        view_nn_df = nn_df.filter(pl.col(\"is_End\")==1)\n",
    "        target_df, FEATURE_COLS = target_merge_emb(target_df, view_nn_df, FEATURE_COLS, view, 2)\n",
    "print(len(target_df))"
   ]
  },
  {
   "cell_type": "markdown",
   "id": "797da79c",
   "metadata": {
    "papermill": {
     "duration": 0.009542,
     "end_time": "2023-02-27T07:18:40.217209",
     "exception": false,
     "start_time": "2023-02-27T07:18:40.207667",
     "status": "completed"
    },
    "tags": []
   },
   "source": [
    "# Merge Track NN feature"
   ]
  },
  {
   "cell_type": "code",
   "execution_count": 25,
   "id": "97b805d9",
   "metadata": {
    "execution": {
     "iopub.execute_input": "2023-02-27T07:18:40.238253Z",
     "iopub.status.busy": "2023-02-27T07:18:40.237424Z",
     "iopub.status.idle": "2023-02-27T07:18:42.593623Z",
     "shell.execute_reply": "2023-02-27T07:18:42.592491Z"
    },
    "papermill": {
     "duration": 2.370527,
     "end_time": "2023-02-27T07:18:42.597327",
     "exception": false,
     "start_time": "2023-02-27T07:18:40.226800",
     "status": "completed"
    },
    "tags": []
   },
   "outputs": [
    {
     "name": "stdout",
     "output_type": "stream",
     "text": [
      "660550\n"
     ]
    }
   ],
   "source": [
    "tracknn_df = pl.read_csv(CFG[\"TRACK_FEATURE_CSV\"])\n",
    "target_df, FEATURE_COLS = target_merge_trackemb(target_df, tracknn_df, FEATURE_COLS)\n",
    "print(len(target_df))"
   ]
  },
  {
   "cell_type": "code",
   "execution_count": 26,
   "id": "5d0a35e9",
   "metadata": {
    "execution": {
     "iopub.execute_input": "2023-02-27T07:18:42.640291Z",
     "iopub.status.busy": "2023-02-27T07:18:42.639974Z",
     "iopub.status.idle": "2023-02-27T07:18:42.645037Z",
     "shell.execute_reply": "2023-02-27T07:18:42.644087Z"
    },
    "papermill": {
     "duration": 0.030606,
     "end_time": "2023-02-27T07:18:42.648732",
     "exception": false,
     "start_time": "2023-02-27T07:18:42.618126",
     "status": "completed"
    },
    "tags": []
   },
   "outputs": [
    {
     "name": "stdout",
     "output_type": "stream",
     "text": [
      "['nfl_player_id_1', 'nfl_player_id_2', 'step', 'x_position_1', 'y_position_1', 'speed_1', 'distance_1', 'direction_1', 'orientation_1', 'acceleration_1', 'sa_1', 'team_1', 'jersey_number_1', 'is_lineman_1', 'x_position_shift-6_1', 'x_position_shift-5_1', 'x_position_shift-4_1', 'x_position_shift-3_1', 'x_position_shift-2_1', 'x_position_shift-1_1', 'x_position_shift0_1', 'x_position_shift1_1', 'x_position_shift2_1', 'x_position_shift3_1', 'x_position_shift4_1', 'x_position_shift5_1', 'y_position_shift-6_1', 'y_position_shift-5_1', 'y_position_shift-4_1', 'y_position_shift-3_1', 'y_position_shift-2_1', 'y_position_shift-1_1', 'y_position_shift0_1', 'y_position_shift1_1', 'y_position_shift2_1', 'y_position_shift3_1', 'y_position_shift4_1', 'y_position_shift5_1', 'x_position_2', 'y_position_2', 'speed_2', 'distance_2', 'direction_2', 'orientation_2', 'acceleration_2', 'sa_2', 'team_2', 'jersey_number_2', 'is_lineman_2', 'x_position_shift-6_2', 'x_position_shift-5_2', 'x_position_shift-4_2', 'x_position_shift-3_2', 'x_position_shift-2_2', 'x_position_shift-1_2', 'x_position_shift0_2', 'x_position_shift1_2', 'x_position_shift2_2', 'x_position_shift3_2', 'x_position_shift4_2', 'x_position_shift5_2', 'y_position_shift-6_2', 'y_position_shift-5_2', 'y_position_shift-4_2', 'y_position_shift-3_2', 'y_position_shift-2_2', 'y_position_shift-1_2', 'y_position_shift0_2', 'y_position_shift1_2', 'y_position_shift2_2', 'y_position_shift3_2', 'y_position_shift4_2', 'y_position_shift5_2', 'players_distance_sum', 'x_move_distance_1', 'x_move_distance_2', 'y_move_distance_1', 'y_move_distance_2', 'x_position_diff', 'y_position_diff', 'speed_diff', 'distance_diff', 'direction_diff', 'orientation_diff', 'acceleration_diff', 'sa_diff', 'players_dis_rollsum', 'x_position_diff_rollsum', 'y_position_diff_rollsum', 'speed_diff_rollsum', 'distance_diff_rollsum', 'direction_diff_rollsum', 'orientation_diff_rollsum', 'acceleration_diff_rollsum', 'sa_diff_rollsum', 'E_left_1', 'E_width_1', 'E_top_1', 'E_height_1', 'E_left_2', 'E_width_2', 'E_top_2', 'E_height_2', 'S_left_1', 'S_width_1', 'S_top_1', 'S_height_1', 'S_left_2', 'S_width_2', 'S_top_2', 'S_height_2', 'E_helmet_dis', 'S_helmet_dis', 'is_ground', 'is_E_helmet', 'is_S_helmet', 'both_helmet', 'm0_E_img_emb_0', 'm0_E_img_emb_1', 'm0_E_img_emb_2', 'm0_E_img_emb_3', 'm0_E_img_emb_4', 'm0_E_pred', 'm0_S_img_emb_0', 'm0_S_img_emb_1', 'm0_S_img_emb_2', 'm0_S_img_emb_3', 'm0_S_img_emb_4', 'm0_S_pred', 'm1_E_img_emb_0', 'm1_E_img_emb_1', 'm1_E_img_emb_2', 'm1_E_img_emb_3', 'm1_E_img_emb_4', 'm1_E_pred', 'm1_S_img_emb_0', 'm1_S_img_emb_1', 'm1_S_img_emb_2', 'm1_S_img_emb_3', 'm1_S_img_emb_4', 'm1_S_pred', 'm2_E_img_emb_0', 'm2_E_img_emb_1', 'm2_E_img_emb_2', 'm2_E_img_emb_3', 'm2_E_img_emb_4', 'm2_E_pred', 'm2_S_img_emb_0', 'm2_S_img_emb_1', 'm2_S_img_emb_2', 'm2_S_img_emb_3', 'm2_S_img_emb_4', 'm2_S_pred', 'track_emb_0', 'track_emb_1', 'track_emb_2']\n"
     ]
    }
   ],
   "source": [
    "# FEATURE_COLS = [col for col in FEATURE_COLS if not col in [\"step\"]]\n",
    "print(FEATURE_COLS)"
   ]
  },
  {
   "cell_type": "markdown",
   "id": "72d07fb2",
   "metadata": {
    "papermill": {
     "duration": 0.017005,
     "end_time": "2023-02-27T07:18:42.693696",
     "exception": false,
     "start_time": "2023-02-27T07:18:42.676691",
     "status": "completed"
    },
    "tags": []
   },
   "source": [
    "# Train"
   ]
  },
  {
   "cell_type": "code",
   "execution_count": 27,
   "id": "3a2a70ba",
   "metadata": {
    "execution": {
     "iopub.execute_input": "2023-02-27T07:18:42.725169Z",
     "iopub.status.busy": "2023-02-27T07:18:42.724791Z",
     "iopub.status.idle": "2023-02-27T11:35:55.171731Z",
     "shell.execute_reply": "2023-02-27T11:35:55.169800Z"
    },
    "papermill": {
     "duration": 15432.466865,
     "end_time": "2023-02-27T11:35:55.174103",
     "exception": false,
     "start_time": "2023-02-27T07:18:42.707238",
     "status": "completed"
    },
    "tags": []
   },
   "outputs": [
    {
     "name": "stdout",
     "output_type": "stream",
     "text": [
      "-\n",
      "fold 0\n"
     ]
    },
    {
     "data": {
      "text/plain": [
       "0    119036\n",
       "1     13030\n",
       "Name: contact, dtype: int64"
      ]
     },
     "metadata": {},
     "output_type": "display_data"
    },
    {
     "name": "stdout",
     "output_type": "stream",
     "text": [
      "0:\ttest: 0.8786963\tbest: 0.8786963 (0)\ttotal: 124ms\tremaining: 20m 38s\n",
      "100:\ttest: 0.9580496\tbest: 0.9580496 (100)\ttotal: 5.21s\tremaining: 8m 31s\n",
      "200:\ttest: 0.9630106\tbest: 0.9630106 (200)\ttotal: 10.3s\tremaining: 8m 22s\n",
      "300:\ttest: 0.9651345\tbest: 0.9651345 (300)\ttotal: 15s\tremaining: 8m 4s\n",
      "400:\ttest: 0.9664459\tbest: 0.9664459 (400)\ttotal: 19.6s\tremaining: 7m 48s\n",
      "500:\ttest: 0.9673181\tbest: 0.9673181 (500)\ttotal: 24.6s\tremaining: 7m 47s\n",
      "600:\ttest: 0.9677947\tbest: 0.9677947 (600)\ttotal: 29.9s\tremaining: 7m 47s\n",
      "700:\ttest: 0.9682877\tbest: 0.9682877 (700)\ttotal: 34.9s\tremaining: 7m 42s\n",
      "800:\ttest: 0.9686743\tbest: 0.9686743 (800)\ttotal: 39.9s\tremaining: 7m 38s\n",
      "900:\ttest: 0.9689276\tbest: 0.9689276 (900)\ttotal: 45s\tremaining: 7m 34s\n",
      "1000:\ttest: 0.9691842\tbest: 0.9691842 (1000)\ttotal: 50s\tremaining: 7m 29s\n",
      "1100:\ttest: 0.9694726\tbest: 0.9694726 (1100)\ttotal: 54.9s\tremaining: 7m 23s\n",
      "1200:\ttest: 0.9696803\tbest: 0.9696814 (1199)\ttotal: 59.9s\tremaining: 7m 19s\n",
      "1300:\ttest: 0.9699189\tbest: 0.9699189 (1300)\ttotal: 1m 4s\tremaining: 7m 13s\n",
      "1400:\ttest: 0.9700269\tbest: 0.9700488 (1382)\ttotal: 1m 9s\tremaining: 7m 7s\n",
      "1500:\ttest: 0.9700546\tbest: 0.9700640 (1460)\ttotal: 1m 14s\tremaining: 7m 1s\n",
      "1600:\ttest: 0.9701618\tbest: 0.9701618 (1600)\ttotal: 1m 19s\tremaining: 6m 56s\n",
      "1700:\ttest: 0.9703001\tbest: 0.9703001 (1700)\ttotal: 1m 24s\tremaining: 6m 52s\n",
      "1800:\ttest: 0.9703883\tbest: 0.9703883 (1800)\ttotal: 1m 29s\tremaining: 6m 46s\n",
      "1900:\ttest: 0.9704558\tbest: 0.9704569 (1885)\ttotal: 1m 34s\tremaining: 6m 42s\n",
      "2000:\ttest: 0.9706093\tbest: 0.9706143 (1996)\ttotal: 1m 39s\tremaining: 6m 36s\n",
      "2100:\ttest: 0.9706577\tbest: 0.9706577 (2100)\ttotal: 1m 44s\tremaining: 6m 31s\n",
      "2200:\ttest: 0.9707968\tbest: 0.9707969 (2198)\ttotal: 1m 48s\tremaining: 6m 26s\n",
      "2300:\ttest: 0.9708621\tbest: 0.9708625 (2299)\ttotal: 1m 53s\tremaining: 6m 20s\n",
      "2400:\ttest: 0.9709076\tbest: 0.9709108 (2379)\ttotal: 1m 58s\tremaining: 6m 15s\n",
      "2500:\ttest: 0.9709788\tbest: 0.9709810 (2495)\ttotal: 2m 3s\tremaining: 6m 10s\n",
      "2600:\ttest: 0.9710149\tbest: 0.9710156 (2598)\ttotal: 2m 8s\tremaining: 6m 5s\n",
      "2700:\ttest: 0.9710669\tbest: 0.9710669 (2700)\ttotal: 2m 13s\tremaining: 5m 59s\n",
      "2800:\ttest: 0.9711277\tbest: 0.9711277 (2800)\ttotal: 2m 18s\tremaining: 5m 54s\n",
      "2900:\ttest: 0.9711502\tbest: 0.9711502 (2900)\ttotal: 2m 22s\tremaining: 5m 49s\n",
      "3000:\ttest: 0.9711778\tbest: 0.9711888 (2989)\ttotal: 2m 27s\tremaining: 5m 44s\n",
      "3100:\ttest: 0.9712318\tbest: 0.9712318 (3100)\ttotal: 2m 32s\tremaining: 5m 39s\n",
      "3200:\ttest: 0.9712821\tbest: 0.9712821 (3200)\ttotal: 2m 37s\tremaining: 5m 34s\n",
      "3300:\ttest: 0.9713091\tbest: 0.9713102 (3294)\ttotal: 2m 42s\tremaining: 5m 29s\n",
      "3400:\ttest: 0.9713270\tbest: 0.9713270 (3400)\ttotal: 2m 47s\tremaining: 5m 24s\n",
      "3500:\ttest: 0.9713618\tbest: 0.9713667 (3472)\ttotal: 2m 52s\tremaining: 5m 19s\n",
      "3600:\ttest: 0.9714477\tbest: 0.9714507 (3596)\ttotal: 2m 57s\tremaining: 5m 14s\n",
      "3700:\ttest: 0.9715372\tbest: 0.9715381 (3695)\ttotal: 3m 2s\tremaining: 5m 10s\n",
      "3800:\ttest: 0.9716172\tbest: 0.9716172 (3799)\ttotal: 3m 7s\tremaining: 5m 5s\n",
      "3900:\ttest: 0.9716350\tbest: 0.9716356 (3898)\ttotal: 3m 12s\tremaining: 5m\n",
      "4000:\ttest: 0.9717030\tbest: 0.9717030 (4000)\ttotal: 3m 17s\tremaining: 4m 55s\n",
      "4100:\ttest: 0.9717168\tbest: 0.9717207 (4063)\ttotal: 3m 21s\tremaining: 4m 50s\n",
      "4200:\ttest: 0.9717289\tbest: 0.9717314 (4189)\ttotal: 3m 26s\tremaining: 4m 45s\n",
      "4300:\ttest: 0.9717476\tbest: 0.9717485 (4299)\ttotal: 3m 31s\tremaining: 4m 40s\n",
      "4400:\ttest: 0.9717957\tbest: 0.9717970 (4396)\ttotal: 3m 36s\tremaining: 4m 35s\n",
      "4500:\ttest: 0.9718335\tbest: 0.9718335 (4500)\ttotal: 3m 41s\tremaining: 4m 30s\n",
      "4600:\ttest: 0.9718665\tbest: 0.9718666 (4593)\ttotal: 3m 46s\tremaining: 4m 26s\n",
      "4700:\ttest: 0.9718731\tbest: 0.9718780 (4688)\ttotal: 3m 51s\tremaining: 4m 21s\n",
      "4800:\ttest: 0.9718718\tbest: 0.9718803 (4704)\ttotal: 3m 56s\tremaining: 4m 16s\n",
      "4900:\ttest: 0.9718860\tbest: 0.9718897 (4881)\ttotal: 4m 1s\tremaining: 4m 11s\n",
      "5000:\ttest: 0.9718838\tbest: 0.9718905 (4976)\ttotal: 4m 6s\tremaining: 4m 6s\n",
      "5100:\ttest: 0.9718865\tbest: 0.9718989 (5032)\ttotal: 4m 11s\tremaining: 4m 1s\n",
      "5200:\ttest: 0.9718918\tbest: 0.9719030 (5121)\ttotal: 4m 16s\tremaining: 3m 56s\n",
      "5300:\ttest: 0.9719246\tbest: 0.9719289 (5288)\ttotal: 4m 21s\tremaining: 3m 51s\n",
      "5400:\ttest: 0.9719241\tbest: 0.9719419 (5355)\ttotal: 4m 26s\tremaining: 3m 46s\n",
      "5500:\ttest: 0.9719365\tbest: 0.9719419 (5355)\ttotal: 4m 31s\tremaining: 3m 41s\n",
      "5600:\ttest: 0.9719581\tbest: 0.9719595 (5597)\ttotal: 4m 35s\tremaining: 3m 36s\n",
      "5700:\ttest: 0.9719997\tbest: 0.9720025 (5693)\ttotal: 4m 40s\tremaining: 3m 31s\n",
      "5800:\ttest: 0.9720234\tbest: 0.9720275 (5773)\ttotal: 4m 45s\tremaining: 3m 26s\n",
      "5900:\ttest: 0.9720408\tbest: 0.9720408 (5900)\ttotal: 4m 50s\tremaining: 3m 21s\n",
      "6000:\ttest: 0.9720512\tbest: 0.9720570 (5986)\ttotal: 4m 55s\tremaining: 3m 16s\n",
      "6100:\ttest: 0.9720534\tbest: 0.9720570 (5986)\ttotal: 5m\tremaining: 3m 12s\n",
      "6200:\ttest: 0.9720732\tbest: 0.9720754 (6199)\ttotal: 5m 5s\tremaining: 3m 7s\n",
      "6300:\ttest: 0.9720970\tbest: 0.9721000 (6293)\ttotal: 5m 10s\tremaining: 3m 2s\n",
      "6400:\ttest: 0.9721116\tbest: 0.9721121 (6399)\ttotal: 5m 15s\tremaining: 2m 57s\n",
      "6500:\ttest: 0.9721079\tbest: 0.9721167 (6407)\ttotal: 5m 20s\tremaining: 2m 52s\n",
      "6600:\ttest: 0.9720929\tbest: 0.9721177 (6509)\ttotal: 5m 25s\tremaining: 2m 47s\n",
      "6700:\ttest: 0.9720956\tbest: 0.9721177 (6509)\ttotal: 5m 30s\tremaining: 2m 42s\n",
      "Stopped by overfitting detector  (200 iterations wait)\n",
      "\n",
      "bestTest = 0.9721177264\n",
      "bestIteration = 6509\n",
      "\n",
      "Shrink model to first 6510 iterations.\n"
     ]
    },
    {
     "data": {
      "text/html": [
       "<div>\n",
       "<style scoped>\n",
       "    .dataframe tbody tr th:only-of-type {\n",
       "        vertical-align: middle;\n",
       "    }\n",
       "\n",
       "    .dataframe tbody tr th {\n",
       "        vertical-align: top;\n",
       "    }\n",
       "\n",
       "    .dataframe thead th {\n",
       "        text-align: right;\n",
       "    }\n",
       "</style>\n",
       "<table border=\"1\" class=\"dataframe\">\n",
       "  <thead>\n",
       "    <tr style=\"text-align: right;\">\n",
       "      <th></th>\n",
       "      <th>importance</th>\n",
       "    </tr>\n",
       "  </thead>\n",
       "  <tbody>\n",
       "    <tr>\n",
       "      <th>step</th>\n",
       "      <td>10.820579</td>\n",
       "    </tr>\n",
       "    <tr>\n",
       "      <th>speed_1</th>\n",
       "      <td>5.424010</td>\n",
       "    </tr>\n",
       "    <tr>\n",
       "      <th>players_distance_sum</th>\n",
       "      <td>4.840648</td>\n",
       "    </tr>\n",
       "    <tr>\n",
       "      <th>track_emb_2</th>\n",
       "      <td>3.582881</td>\n",
       "    </tr>\n",
       "    <tr>\n",
       "      <th>y_position_diff</th>\n",
       "      <td>3.106216</td>\n",
       "    </tr>\n",
       "    <tr>\n",
       "      <th>jersey_number_1</th>\n",
       "      <td>3.039378</td>\n",
       "    </tr>\n",
       "    <tr>\n",
       "      <th>x_position_diff</th>\n",
       "      <td>2.855091</td>\n",
       "    </tr>\n",
       "    <tr>\n",
       "      <th>distance_1</th>\n",
       "      <td>2.544407</td>\n",
       "    </tr>\n",
       "    <tr>\n",
       "      <th>nfl_player_id_1</th>\n",
       "      <td>2.389239</td>\n",
       "    </tr>\n",
       "    <tr>\n",
       "      <th>m2_S_img_emb_4</th>\n",
       "      <td>2.349346</td>\n",
       "    </tr>\n",
       "    <tr>\n",
       "      <th>m2_E_img_emb_4</th>\n",
       "      <td>2.326152</td>\n",
       "    </tr>\n",
       "    <tr>\n",
       "      <th>S_top_1</th>\n",
       "      <td>2.236119</td>\n",
       "    </tr>\n",
       "    <tr>\n",
       "      <th>track_emb_1</th>\n",
       "      <td>2.234964</td>\n",
       "    </tr>\n",
       "    <tr>\n",
       "      <th>jersey_number_2</th>\n",
       "      <td>1.750707</td>\n",
       "    </tr>\n",
       "    <tr>\n",
       "      <th>players_dis_rollsum</th>\n",
       "      <td>1.602784</td>\n",
       "    </tr>\n",
       "    <tr>\n",
       "      <th>orientation_diff</th>\n",
       "      <td>1.462701</td>\n",
       "    </tr>\n",
       "    <tr>\n",
       "      <th>m2_S_pred</th>\n",
       "      <td>1.381293</td>\n",
       "    </tr>\n",
       "    <tr>\n",
       "      <th>m0_S_pred</th>\n",
       "      <td>1.372581</td>\n",
       "    </tr>\n",
       "    <tr>\n",
       "      <th>m2_E_pred</th>\n",
       "      <td>1.371694</td>\n",
       "    </tr>\n",
       "    <tr>\n",
       "      <th>m0_E_pred</th>\n",
       "      <td>1.329184</td>\n",
       "    </tr>\n",
       "  </tbody>\n",
       "</table>\n",
       "</div>"
      ],
      "text/plain": [
       "                      importance\n",
       "step                   10.820579\n",
       "speed_1                 5.424010\n",
       "players_distance_sum    4.840648\n",
       "track_emb_2             3.582881\n",
       "y_position_diff         3.106216\n",
       "jersey_number_1         3.039378\n",
       "x_position_diff         2.855091\n",
       "distance_1              2.544407\n",
       "nfl_player_id_1         2.389239\n",
       "m2_S_img_emb_4          2.349346\n",
       "m2_E_img_emb_4          2.326152\n",
       "S_top_1                 2.236119\n",
       "track_emb_1             2.234964\n",
       "jersey_number_2         1.750707\n",
       "players_dis_rollsum     1.602784\n",
       "orientation_diff        1.462701\n",
       "m2_S_pred               1.381293\n",
       "m0_S_pred               1.372581\n",
       "m2_E_pred               1.371694\n",
       "m0_E_pred               1.329184"
      ]
     },
     "metadata": {},
     "output_type": "display_data"
    },
    {
     "name": "stdout",
     "output_type": "stream",
     "text": [
      "Performance of the prediction: 0.97212\n",
      "\n",
      "-\n",
      "fold 1\n"
     ]
    },
    {
     "data": {
      "text/plain": [
       "0    119412\n",
       "1     12751\n",
       "Name: contact, dtype: int64"
      ]
     },
     "metadata": {},
     "output_type": "display_data"
    },
    {
     "name": "stdout",
     "output_type": "stream",
     "text": [
      "0:\ttest: 0.9002287\tbest: 0.9002287 (0)\ttotal: 49.5ms\tremaining: 8m 14s\n",
      "100:\ttest: 0.9533869\tbest: 0.9533869 (100)\ttotal: 4.83s\tremaining: 7m 53s\n",
      "200:\ttest: 0.9596556\tbest: 0.9596556 (200)\ttotal: 9.87s\tremaining: 8m\n",
      "300:\ttest: 0.9622685\tbest: 0.9622685 (300)\ttotal: 15s\tremaining: 8m 2s\n",
      "400:\ttest: 0.9634261\tbest: 0.9634261 (400)\ttotal: 19.9s\tremaining: 7m 57s\n",
      "500:\ttest: 0.9644920\tbest: 0.9644920 (500)\ttotal: 25s\tremaining: 7m 53s\n",
      "600:\ttest: 0.9652487\tbest: 0.9652487 (600)\ttotal: 29.9s\tremaining: 7m 47s\n",
      "700:\ttest: 0.9657841\tbest: 0.9657841 (700)\ttotal: 34.9s\tremaining: 7m 43s\n",
      "800:\ttest: 0.9662483\tbest: 0.9662483 (800)\ttotal: 39.9s\tremaining: 7m 37s\n",
      "900:\ttest: 0.9666435\tbest: 0.9666435 (900)\ttotal: 44.8s\tremaining: 7m 31s\n",
      "1000:\ttest: 0.9669805\tbest: 0.9669805 (1000)\ttotal: 49.6s\tremaining: 7m 25s\n",
      "1100:\ttest: 0.9673531\tbest: 0.9673531 (1100)\ttotal: 54.5s\tremaining: 7m 20s\n",
      "1200:\ttest: 0.9677579\tbest: 0.9677652 (1194)\ttotal: 59.4s\tremaining: 7m 15s\n",
      "1300:\ttest: 0.9681492\tbest: 0.9681532 (1299)\ttotal: 1m 4s\tremaining: 7m 10s\n",
      "1400:\ttest: 0.9684689\tbest: 0.9684689 (1400)\ttotal: 1m 9s\tremaining: 7m 4s\n",
      "1500:\ttest: 0.9686758\tbest: 0.9686758 (1498)\ttotal: 1m 14s\tremaining: 6m 59s\n",
      "1600:\ttest: 0.9688536\tbest: 0.9688536 (1600)\ttotal: 1m 19s\tremaining: 6m 54s\n",
      "1700:\ttest: 0.9690779\tbest: 0.9690779 (1700)\ttotal: 1m 23s\tremaining: 6m 49s\n",
      "1800:\ttest: 0.9691945\tbest: 0.9691963 (1790)\ttotal: 1m 29s\tremaining: 6m 45s\n",
      "1900:\ttest: 0.9693554\tbest: 0.9693554 (1900)\ttotal: 1m 34s\tremaining: 6m 41s\n",
      "2000:\ttest: 0.9694680\tbest: 0.9694717 (1998)\ttotal: 1m 39s\tremaining: 6m 36s\n",
      "2100:\ttest: 0.9696230\tbest: 0.9696252 (2098)\ttotal: 1m 44s\tremaining: 6m 31s\n",
      "2200:\ttest: 0.9697258\tbest: 0.9697258 (2200)\ttotal: 1m 49s\tremaining: 6m 26s\n",
      "2300:\ttest: 0.9699005\tbest: 0.9699017 (2298)\ttotal: 1m 54s\tremaining: 6m 21s\n",
      "2400:\ttest: 0.9699872\tbest: 0.9699949 (2382)\ttotal: 1m 59s\tremaining: 6m 16s\n",
      "2500:\ttest: 0.9700911\tbest: 0.9700911 (2500)\ttotal: 2m 4s\tremaining: 6m 11s\n",
      "2600:\ttest: 0.9701946\tbest: 0.9701946 (2600)\ttotal: 2m 8s\tremaining: 6m 6s\n",
      "2700:\ttest: 0.9702909\tbest: 0.9702948 (2699)\ttotal: 2m 13s\tremaining: 6m 1s\n",
      "2800:\ttest: 0.9703640\tbest: 0.9703648 (2799)\ttotal: 2m 18s\tremaining: 5m 57s\n",
      "2900:\ttest: 0.9704394\tbest: 0.9704394 (2900)\ttotal: 2m 23s\tremaining: 5m 52s\n",
      "3000:\ttest: 0.9705191\tbest: 0.9705191 (3000)\ttotal: 2m 29s\tremaining: 5m 47s\n",
      "3100:\ttest: 0.9705651\tbest: 0.9705761 (3088)\ttotal: 2m 34s\tremaining: 5m 42s\n",
      "3200:\ttest: 0.9706330\tbest: 0.9706352 (3185)\ttotal: 2m 39s\tremaining: 5m 37s\n",
      "3300:\ttest: 0.9706780\tbest: 0.9706803 (3292)\ttotal: 2m 43s\tremaining: 5m 32s\n",
      "3400:\ttest: 0.9707091\tbest: 0.9707098 (3398)\ttotal: 2m 48s\tremaining: 5m 27s\n",
      "3500:\ttest: 0.9707604\tbest: 0.9707656 (3482)\ttotal: 2m 53s\tremaining: 5m 22s\n",
      "3600:\ttest: 0.9707940\tbest: 0.9707941 (3599)\ttotal: 2m 58s\tremaining: 5m 17s\n",
      "3700:\ttest: 0.9708110\tbest: 0.9708206 (3657)\ttotal: 3m 3s\tremaining: 5m 12s\n",
      "3800:\ttest: 0.9708526\tbest: 0.9708526 (3800)\ttotal: 3m 8s\tremaining: 5m 6s\n",
      "3900:\ttest: 0.9708870\tbest: 0.9708875 (3892)\ttotal: 3m 13s\tremaining: 5m 1s\n",
      "4000:\ttest: 0.9708982\tbest: 0.9709035 (3964)\ttotal: 3m 17s\tremaining: 4m 56s\n",
      "4100:\ttest: 0.9709340\tbest: 0.9709384 (4098)\ttotal: 3m 22s\tremaining: 4m 51s\n",
      "4200:\ttest: 0.9709313\tbest: 0.9709407 (4115)\ttotal: 3m 27s\tremaining: 4m 46s\n",
      "4300:\ttest: 0.9709750\tbest: 0.9709784 (4292)\ttotal: 3m 32s\tremaining: 4m 41s\n",
      "4400:\ttest: 0.9710183\tbest: 0.9710183 (4400)\ttotal: 3m 37s\tremaining: 4m 36s\n",
      "4500:\ttest: 0.9710393\tbest: 0.9710400 (4499)\ttotal: 3m 42s\tremaining: 4m 31s\n",
      "4600:\ttest: 0.9710661\tbest: 0.9710775 (4561)\ttotal: 3m 46s\tremaining: 4m 26s\n",
      "4700:\ttest: 0.9711058\tbest: 0.9711075 (4699)\ttotal: 3m 51s\tremaining: 4m 21s\n",
      "4800:\ttest: 0.9711384\tbest: 0.9711414 (4794)\ttotal: 3m 56s\tremaining: 4m 16s\n",
      "4900:\ttest: 0.9711831\tbest: 0.9711847 (4895)\ttotal: 4m 1s\tremaining: 4m 11s\n",
      "5000:\ttest: 0.9712156\tbest: 0.9712156 (5000)\ttotal: 4m 6s\tremaining: 4m 6s\n",
      "5100:\ttest: 0.9712796\tbest: 0.9712814 (5084)\ttotal: 4m 11s\tremaining: 4m 1s\n",
      "5200:\ttest: 0.9713097\tbest: 0.9713099 (5199)\ttotal: 4m 16s\tremaining: 3m 56s\n",
      "5300:\ttest: 0.9713511\tbest: 0.9713513 (5299)\ttotal: 4m 21s\tremaining: 3m 51s\n",
      "5400:\ttest: 0.9713758\tbest: 0.9713825 (5372)\ttotal: 4m 26s\tremaining: 3m 46s\n",
      "5500:\ttest: 0.9713874\tbest: 0.9713939 (5468)\ttotal: 4m 30s\tremaining: 3m 41s\n",
      "5600:\ttest: 0.9714015\tbest: 0.9714057 (5567)\ttotal: 4m 35s\tremaining: 3m 36s\n",
      "5700:\ttest: 0.9714213\tbest: 0.9714238 (5697)\ttotal: 4m 40s\tremaining: 3m 31s\n",
      "5800:\ttest: 0.9714309\tbest: 0.9714309 (5800)\ttotal: 4m 45s\tremaining: 3m 26s\n",
      "5900:\ttest: 0.9714389\tbest: 0.9714393 (5893)\ttotal: 4m 50s\tremaining: 3m 21s\n",
      "6000:\ttest: 0.9714555\tbest: 0.9714564 (5993)\ttotal: 4m 55s\tremaining: 3m 17s\n",
      "6100:\ttest: 0.9714349\tbest: 0.9714590 (6002)\ttotal: 5m\tremaining: 3m 12s\n",
      "6200:\ttest: 0.9714458\tbest: 0.9714590 (6002)\ttotal: 5m 5s\tremaining: 3m 7s\n",
      "Stopped by overfitting detector  (200 iterations wait)\n",
      "\n",
      "bestTest = 0.9714589581\n",
      "bestIteration = 6002\n",
      "\n",
      "Shrink model to first 6003 iterations.\n"
     ]
    },
    {
     "data": {
      "text/html": [
       "<div>\n",
       "<style scoped>\n",
       "    .dataframe tbody tr th:only-of-type {\n",
       "        vertical-align: middle;\n",
       "    }\n",
       "\n",
       "    .dataframe tbody tr th {\n",
       "        vertical-align: top;\n",
       "    }\n",
       "\n",
       "    .dataframe thead th {\n",
       "        text-align: right;\n",
       "    }\n",
       "</style>\n",
       "<table border=\"1\" class=\"dataframe\">\n",
       "  <thead>\n",
       "    <tr style=\"text-align: right;\">\n",
       "      <th></th>\n",
       "      <th>importance</th>\n",
       "    </tr>\n",
       "  </thead>\n",
       "  <tbody>\n",
       "    <tr>\n",
       "      <th>step</th>\n",
       "      <td>11.140202</td>\n",
       "    </tr>\n",
       "    <tr>\n",
       "      <th>players_distance_sum</th>\n",
       "      <td>4.820523</td>\n",
       "    </tr>\n",
       "    <tr>\n",
       "      <th>speed_1</th>\n",
       "      <td>4.748918</td>\n",
       "    </tr>\n",
       "    <tr>\n",
       "      <th>jersey_number_1</th>\n",
       "      <td>3.544192</td>\n",
       "    </tr>\n",
       "    <tr>\n",
       "      <th>track_emb_2</th>\n",
       "      <td>3.366042</td>\n",
       "    </tr>\n",
       "    <tr>\n",
       "      <th>y_position_diff</th>\n",
       "      <td>3.004292</td>\n",
       "    </tr>\n",
       "    <tr>\n",
       "      <th>x_position_diff</th>\n",
       "      <td>2.932351</td>\n",
       "    </tr>\n",
       "    <tr>\n",
       "      <th>m2_E_img_emb_4</th>\n",
       "      <td>2.743878</td>\n",
       "    </tr>\n",
       "    <tr>\n",
       "      <th>track_emb_1</th>\n",
       "      <td>2.720110</td>\n",
       "    </tr>\n",
       "    <tr>\n",
       "      <th>nfl_player_id_1</th>\n",
       "      <td>2.708495</td>\n",
       "    </tr>\n",
       "    <tr>\n",
       "      <th>distance_1</th>\n",
       "      <td>2.701264</td>\n",
       "    </tr>\n",
       "    <tr>\n",
       "      <th>S_top_1</th>\n",
       "      <td>2.149471</td>\n",
       "    </tr>\n",
       "    <tr>\n",
       "      <th>m2_S_img_emb_4</th>\n",
       "      <td>1.825258</td>\n",
       "    </tr>\n",
       "    <tr>\n",
       "      <th>jersey_number_2</th>\n",
       "      <td>1.786797</td>\n",
       "    </tr>\n",
       "    <tr>\n",
       "      <th>orientation_diff</th>\n",
       "      <td>1.541439</td>\n",
       "    </tr>\n",
       "    <tr>\n",
       "      <th>team_1</th>\n",
       "      <td>1.439348</td>\n",
       "    </tr>\n",
       "    <tr>\n",
       "      <th>players_dis_rollsum</th>\n",
       "      <td>1.353502</td>\n",
       "    </tr>\n",
       "    <tr>\n",
       "      <th>m0_E_pred</th>\n",
       "      <td>1.350526</td>\n",
       "    </tr>\n",
       "    <tr>\n",
       "      <th>team_2</th>\n",
       "      <td>1.343170</td>\n",
       "    </tr>\n",
       "    <tr>\n",
       "      <th>m2_E_pred</th>\n",
       "      <td>1.337365</td>\n",
       "    </tr>\n",
       "  </tbody>\n",
       "</table>\n",
       "</div>"
      ],
      "text/plain": [
       "                      importance\n",
       "step                   11.140202\n",
       "players_distance_sum    4.820523\n",
       "speed_1                 4.748918\n",
       "jersey_number_1         3.544192\n",
       "track_emb_2             3.366042\n",
       "y_position_diff         3.004292\n",
       "x_position_diff         2.932351\n",
       "m2_E_img_emb_4          2.743878\n",
       "track_emb_1             2.720110\n",
       "nfl_player_id_1         2.708495\n",
       "distance_1              2.701264\n",
       "S_top_1                 2.149471\n",
       "m2_S_img_emb_4          1.825258\n",
       "jersey_number_2         1.786797\n",
       "orientation_diff        1.541439\n",
       "team_1                  1.439348\n",
       "players_dis_rollsum     1.353502\n",
       "m0_E_pred               1.350526\n",
       "team_2                  1.343170\n",
       "m2_E_pred               1.337365"
      ]
     },
     "metadata": {},
     "output_type": "display_data"
    },
    {
     "name": "stdout",
     "output_type": "stream",
     "text": [
      "Performance of the prediction: 0.97146\n",
      "\n",
      "-\n",
      "fold 2\n"
     ]
    },
    {
     "data": {
      "text/plain": [
       "0    118684\n",
       "1     13498\n",
       "Name: contact, dtype: int64"
      ]
     },
     "metadata": {},
     "output_type": "display_data"
    },
    {
     "name": "stdout",
     "output_type": "stream",
     "text": [
      "0:\ttest: 0.8807938\tbest: 0.8807938 (0)\ttotal: 65.1ms\tremaining: 10m 50s\n",
      "100:\ttest: 0.9400078\tbest: 0.9400078 (100)\ttotal: 4.85s\tremaining: 7m 55s\n",
      "200:\ttest: 0.9483038\tbest: 0.9483038 (200)\ttotal: 9.95s\tremaining: 8m 5s\n",
      "300:\ttest: 0.9522024\tbest: 0.9522024 (300)\ttotal: 15.2s\tremaining: 8m 8s\n",
      "400:\ttest: 0.9543113\tbest: 0.9543113 (400)\ttotal: 20.2s\tremaining: 8m 3s\n",
      "500:\ttest: 0.9554210\tbest: 0.9554210 (500)\ttotal: 25.1s\tremaining: 7m 56s\n",
      "600:\ttest: 0.9561600\tbest: 0.9561600 (600)\ttotal: 30s\tremaining: 7m 49s\n",
      "700:\ttest: 0.9566960\tbest: 0.9566960 (700)\ttotal: 34.8s\tremaining: 7m 41s\n",
      "800:\ttest: 0.9571473\tbest: 0.9571473 (800)\ttotal: 39.7s\tremaining: 7m 36s\n",
      "900:\ttest: 0.9576159\tbest: 0.9576269 (897)\ttotal: 44.6s\tremaining: 7m 30s\n",
      "1000:\ttest: 0.9580198\tbest: 0.9580198 (1000)\ttotal: 49.4s\tremaining: 7m 24s\n",
      "1100:\ttest: 0.9584316\tbest: 0.9584353 (1096)\ttotal: 54.4s\tremaining: 7m 19s\n",
      "1200:\ttest: 0.9587760\tbest: 0.9587783 (1199)\ttotal: 59.3s\tremaining: 7m 14s\n",
      "1300:\ttest: 0.9590926\tbest: 0.9590926 (1300)\ttotal: 1m 4s\tremaining: 7m 8s\n",
      "1400:\ttest: 0.9593638\tbest: 0.9593638 (1400)\ttotal: 1m 9s\tremaining: 7m 3s\n",
      "1500:\ttest: 0.9596239\tbest: 0.9596239 (1500)\ttotal: 1m 13s\tremaining: 6m 58s\n",
      "1600:\ttest: 0.9597936\tbest: 0.9597936 (1600)\ttotal: 1m 18s\tremaining: 6m 52s\n",
      "1700:\ttest: 0.9599158\tbest: 0.9599158 (1700)\ttotal: 1m 23s\tremaining: 6m 47s\n",
      "1800:\ttest: 0.9601312\tbest: 0.9601338 (1799)\ttotal: 1m 28s\tremaining: 6m 42s\n",
      "1900:\ttest: 0.9603446\tbest: 0.9603446 (1900)\ttotal: 1m 33s\tremaining: 6m 37s\n",
      "2000:\ttest: 0.9605503\tbest: 0.9605579 (1997)\ttotal: 1m 38s\tremaining: 6m 32s\n",
      "2100:\ttest: 0.9607018\tbest: 0.9607018 (2100)\ttotal: 1m 43s\tremaining: 6m 28s\n",
      "2200:\ttest: 0.9608515\tbest: 0.9608525 (2199)\ttotal: 1m 48s\tremaining: 6m 23s\n",
      "2300:\ttest: 0.9609533\tbest: 0.9609612 (2297)\ttotal: 1m 53s\tremaining: 6m 18s\n",
      "2400:\ttest: 0.9611190\tbest: 0.9611190 (2400)\ttotal: 1m 58s\tremaining: 6m 14s\n",
      "2500:\ttest: 0.9612464\tbest: 0.9612464 (2500)\ttotal: 2m 3s\tremaining: 6m 9s\n",
      "2600:\ttest: 0.9613550\tbest: 0.9613550 (2600)\ttotal: 2m 8s\tremaining: 6m 4s\n",
      "2700:\ttest: 0.9614122\tbest: 0.9614124 (2699)\ttotal: 2m 13s\tremaining: 5m 59s\n",
      "2800:\ttest: 0.9615287\tbest: 0.9615318 (2797)\ttotal: 2m 18s\tremaining: 5m 55s\n",
      "2900:\ttest: 0.9615545\tbest: 0.9615557 (2898)\ttotal: 2m 23s\tremaining: 5m 50s\n",
      "3000:\ttest: 0.9616714\tbest: 0.9616714 (3000)\ttotal: 2m 28s\tremaining: 5m 45s\n",
      "3100:\ttest: 0.9617560\tbest: 0.9617560 (3100)\ttotal: 2m 33s\tremaining: 5m 42s\n",
      "3200:\ttest: 0.9618362\tbest: 0.9618362 (3200)\ttotal: 2m 38s\tremaining: 5m 37s\n",
      "3300:\ttest: 0.9619288\tbest: 0.9619288 (3300)\ttotal: 2m 44s\tremaining: 5m 33s\n",
      "3400:\ttest: 0.9619806\tbest: 0.9619825 (3393)\ttotal: 2m 49s\tremaining: 5m 28s\n",
      "3500:\ttest: 0.9620639\tbest: 0.9620639 (3500)\ttotal: 2m 54s\tremaining: 5m 23s\n",
      "3600:\ttest: 0.9621222\tbest: 0.9621231 (3599)\ttotal: 2m 59s\tremaining: 5m 18s\n",
      "3700:\ttest: 0.9621801\tbest: 0.9621818 (3697)\ttotal: 3m 4s\tremaining: 5m 14s\n",
      "3800:\ttest: 0.9622254\tbest: 0.9622254 (3800)\ttotal: 3m 9s\tremaining: 5m 9s\n",
      "3900:\ttest: 0.9622844\tbest: 0.9622859 (3899)\ttotal: 3m 14s\tremaining: 5m 4s\n",
      "4000:\ttest: 0.9623522\tbest: 0.9623562 (3997)\ttotal: 3m 20s\tremaining: 5m\n",
      "4100:\ttest: 0.9624243\tbest: 0.9624243 (4100)\ttotal: 3m 25s\tremaining: 4m 55s\n",
      "4200:\ttest: 0.9624306\tbest: 0.9624347 (4152)\ttotal: 3m 30s\tremaining: 4m 50s\n",
      "4300:\ttest: 0.9624704\tbest: 0.9624704 (4300)\ttotal: 3m 35s\tremaining: 4m 45s\n",
      "4400:\ttest: 0.9624861\tbest: 0.9624908 (4388)\ttotal: 3m 40s\tremaining: 4m 40s\n",
      "4500:\ttest: 0.9625010\tbest: 0.9625023 (4447)\ttotal: 3m 45s\tremaining: 4m 35s\n",
      "4600:\ttest: 0.9625512\tbest: 0.9625519 (4596)\ttotal: 3m 50s\tremaining: 4m 30s\n",
      "4700:\ttest: 0.9626004\tbest: 0.9626013 (4697)\ttotal: 3m 55s\tremaining: 4m 25s\n",
      "4800:\ttest: 0.9626208\tbest: 0.9626308 (4787)\ttotal: 4m\tremaining: 4m 20s\n",
      "4900:\ttest: 0.9626511\tbest: 0.9626511 (4900)\ttotal: 4m 6s\tremaining: 4m 16s\n",
      "5000:\ttest: 0.9626919\tbest: 0.9626919 (5000)\ttotal: 4m 11s\tremaining: 4m 11s\n",
      "5100:\ttest: 0.9627283\tbest: 0.9627283 (5100)\ttotal: 4m 16s\tremaining: 4m 6s\n",
      "5200:\ttest: 0.9627437\tbest: 0.9627447 (5199)\ttotal: 4m 21s\tremaining: 4m\n",
      "5300:\ttest: 0.9627433\tbest: 0.9627583 (5251)\ttotal: 4m 26s\tremaining: 3m 55s\n",
      "5400:\ttest: 0.9627300\tbest: 0.9627583 (5251)\ttotal: 4m 31s\tremaining: 3m 50s\n",
      "Stopped by overfitting detector  (200 iterations wait)\n",
      "\n",
      "bestTest = 0.9627583337\n",
      "bestIteration = 5251\n",
      "\n",
      "Shrink model to first 5252 iterations.\n"
     ]
    },
    {
     "data": {
      "text/html": [
       "<div>\n",
       "<style scoped>\n",
       "    .dataframe tbody tr th:only-of-type {\n",
       "        vertical-align: middle;\n",
       "    }\n",
       "\n",
       "    .dataframe tbody tr th {\n",
       "        vertical-align: top;\n",
       "    }\n",
       "\n",
       "    .dataframe thead th {\n",
       "        text-align: right;\n",
       "    }\n",
       "</style>\n",
       "<table border=\"1\" class=\"dataframe\">\n",
       "  <thead>\n",
       "    <tr style=\"text-align: right;\">\n",
       "      <th></th>\n",
       "      <th>importance</th>\n",
       "    </tr>\n",
       "  </thead>\n",
       "  <tbody>\n",
       "    <tr>\n",
       "      <th>step</th>\n",
       "      <td>11.627621</td>\n",
       "    </tr>\n",
       "    <tr>\n",
       "      <th>speed_1</th>\n",
       "      <td>5.558420</td>\n",
       "    </tr>\n",
       "    <tr>\n",
       "      <th>players_distance_sum</th>\n",
       "      <td>5.015491</td>\n",
       "    </tr>\n",
       "    <tr>\n",
       "      <th>track_emb_2</th>\n",
       "      <td>3.766586</td>\n",
       "    </tr>\n",
       "    <tr>\n",
       "      <th>m2_S_img_emb_4</th>\n",
       "      <td>3.138488</td>\n",
       "    </tr>\n",
       "    <tr>\n",
       "      <th>distance_1</th>\n",
       "      <td>2.941178</td>\n",
       "    </tr>\n",
       "    <tr>\n",
       "      <th>y_position_diff</th>\n",
       "      <td>2.883987</td>\n",
       "    </tr>\n",
       "    <tr>\n",
       "      <th>x_position_diff</th>\n",
       "      <td>2.858106</td>\n",
       "    </tr>\n",
       "    <tr>\n",
       "      <th>m2_E_img_emb_4</th>\n",
       "      <td>2.761963</td>\n",
       "    </tr>\n",
       "    <tr>\n",
       "      <th>jersey_number_1</th>\n",
       "      <td>2.601583</td>\n",
       "    </tr>\n",
       "    <tr>\n",
       "      <th>S_top_1</th>\n",
       "      <td>2.415475</td>\n",
       "    </tr>\n",
       "    <tr>\n",
       "      <th>nfl_player_id_1</th>\n",
       "      <td>2.242907</td>\n",
       "    </tr>\n",
       "    <tr>\n",
       "      <th>track_emb_1</th>\n",
       "      <td>1.984248</td>\n",
       "    </tr>\n",
       "    <tr>\n",
       "      <th>m0_E_pred</th>\n",
       "      <td>1.609880</td>\n",
       "    </tr>\n",
       "    <tr>\n",
       "      <th>jersey_number_2</th>\n",
       "      <td>1.600995</td>\n",
       "    </tr>\n",
       "    <tr>\n",
       "      <th>orientation_diff</th>\n",
       "      <td>1.528742</td>\n",
       "    </tr>\n",
       "    <tr>\n",
       "      <th>players_dis_rollsum</th>\n",
       "      <td>1.525133</td>\n",
       "    </tr>\n",
       "    <tr>\n",
       "      <th>S_helmet_dis</th>\n",
       "      <td>1.388394</td>\n",
       "    </tr>\n",
       "    <tr>\n",
       "      <th>m0_S_pred</th>\n",
       "      <td>1.306086</td>\n",
       "    </tr>\n",
       "    <tr>\n",
       "      <th>m2_S_pred</th>\n",
       "      <td>1.304847</td>\n",
       "    </tr>\n",
       "  </tbody>\n",
       "</table>\n",
       "</div>"
      ],
      "text/plain": [
       "                      importance\n",
       "step                   11.627621\n",
       "speed_1                 5.558420\n",
       "players_distance_sum    5.015491\n",
       "track_emb_2             3.766586\n",
       "m2_S_img_emb_4          3.138488\n",
       "distance_1              2.941178\n",
       "y_position_diff         2.883987\n",
       "x_position_diff         2.858106\n",
       "m2_E_img_emb_4          2.761963\n",
       "jersey_number_1         2.601583\n",
       "S_top_1                 2.415475\n",
       "nfl_player_id_1         2.242907\n",
       "track_emb_1             1.984248\n",
       "m0_E_pred               1.609880\n",
       "jersey_number_2         1.600995\n",
       "orientation_diff        1.528742\n",
       "players_dis_rollsum     1.525133\n",
       "S_helmet_dis            1.388394\n",
       "m0_S_pred               1.306086\n",
       "m2_S_pred               1.304847"
      ]
     },
     "metadata": {},
     "output_type": "display_data"
    },
    {
     "name": "stdout",
     "output_type": "stream",
     "text": [
      "Performance of the prediction: 0.96276\n",
      "\n",
      "-\n",
      "fold 3\n"
     ]
    },
    {
     "data": {
      "text/plain": [
       "0    119592\n",
       "1     12587\n",
       "Name: contact, dtype: int64"
      ]
     },
     "metadata": {},
     "output_type": "display_data"
    },
    {
     "name": "stdout",
     "output_type": "stream",
     "text": [
      "0:\ttest: 0.8659496\tbest: 0.8659496 (0)\ttotal: 47.5ms\tremaining: 7m 55s\n",
      "100:\ttest: 0.9496490\tbest: 0.9496490 (100)\ttotal: 5.1s\tremaining: 8m 19s\n",
      "200:\ttest: 0.9561975\tbest: 0.9561975 (200)\ttotal: 10.3s\tremaining: 8m 21s\n",
      "300:\ttest: 0.9588955\tbest: 0.9588955 (300)\ttotal: 15.6s\tremaining: 8m 22s\n",
      "400:\ttest: 0.9605257\tbest: 0.9605257 (400)\ttotal: 20.6s\tremaining: 8m 13s\n",
      "500:\ttest: 0.9616534\tbest: 0.9616534 (500)\ttotal: 25.7s\tremaining: 8m 7s\n",
      "600:\ttest: 0.9623758\tbest: 0.9623758 (600)\ttotal: 30.7s\tremaining: 8m\n",
      "700:\ttest: 0.9629565\tbest: 0.9629565 (700)\ttotal: 36.1s\tremaining: 7m 58s\n",
      "800:\ttest: 0.9634553\tbest: 0.9634553 (800)\ttotal: 41.2s\tremaining: 7m 53s\n",
      "900:\ttest: 0.9639424\tbest: 0.9639424 (900)\ttotal: 46.2s\tremaining: 7m 46s\n",
      "1000:\ttest: 0.9643588\tbest: 0.9643588 (1000)\ttotal: 51.3s\tremaining: 7m 40s\n",
      "1100:\ttest: 0.9647560\tbest: 0.9647560 (1100)\ttotal: 56.2s\tremaining: 7m 34s\n",
      "1200:\ttest: 0.9651039\tbest: 0.9651039 (1200)\ttotal: 1m 1s\tremaining: 7m 27s\n",
      "1300:\ttest: 0.9654228\tbest: 0.9654228 (1300)\ttotal: 1m 6s\tremaining: 7m 22s\n",
      "1400:\ttest: 0.9657253\tbest: 0.9657253 (1400)\ttotal: 1m 11s\tremaining: 7m 16s\n",
      "1500:\ttest: 0.9660255\tbest: 0.9660255 (1500)\ttotal: 1m 16s\tremaining: 7m 11s\n",
      "1600:\ttest: 0.9662990\tbest: 0.9662990 (1600)\ttotal: 1m 21s\tremaining: 7m 4s\n",
      "1700:\ttest: 0.9665051\tbest: 0.9665051 (1700)\ttotal: 1m 26s\tremaining: 6m 59s\n",
      "1800:\ttest: 0.9666693\tbest: 0.9666693 (1800)\ttotal: 1m 30s\tremaining: 6m 53s\n",
      "1900:\ttest: 0.9667608\tbest: 0.9667636 (1898)\ttotal: 1m 35s\tremaining: 6m 47s\n",
      "2000:\ttest: 0.9669197\tbest: 0.9669197 (2000)\ttotal: 1m 40s\tremaining: 6m 42s\n",
      "2100:\ttest: 0.9670447\tbest: 0.9670454 (2087)\ttotal: 1m 45s\tremaining: 6m 37s\n",
      "2200:\ttest: 0.9671208\tbest: 0.9671289 (2193)\ttotal: 1m 50s\tremaining: 6m 31s\n",
      "2300:\ttest: 0.9672069\tbest: 0.9672079 (2288)\ttotal: 1m 55s\tremaining: 6m 26s\n",
      "2400:\ttest: 0.9672910\tbest: 0.9672910 (2400)\ttotal: 2m\tremaining: 6m 21s\n",
      "2500:\ttest: 0.9673488\tbest: 0.9673492 (2499)\ttotal: 2m 5s\tremaining: 6m 16s\n",
      "2600:\ttest: 0.9673898\tbest: 0.9673911 (2596)\ttotal: 2m 10s\tremaining: 6m 10s\n",
      "2700:\ttest: 0.9674404\tbest: 0.9674404 (2700)\ttotal: 2m 16s\tremaining: 6m 7s\n",
      "2800:\ttest: 0.9674973\tbest: 0.9674984 (2799)\ttotal: 2m 21s\tremaining: 6m 3s\n",
      "2900:\ttest: 0.9675341\tbest: 0.9675357 (2875)\ttotal: 2m 26s\tremaining: 5m 58s\n",
      "3000:\ttest: 0.9675790\tbest: 0.9675790 (3000)\ttotal: 2m 31s\tremaining: 5m 53s\n",
      "3100:\ttest: 0.9676044\tbest: 0.9676111 (3094)\ttotal: 2m 36s\tremaining: 5m 48s\n",
      "3200:\ttest: 0.9676574\tbest: 0.9676574 (3200)\ttotal: 2m 41s\tremaining: 5m 43s\n",
      "3300:\ttest: 0.9676656\tbest: 0.9676791 (3237)\ttotal: 2m 46s\tremaining: 5m 38s\n",
      "3400:\ttest: 0.9676704\tbest: 0.9676815 (3363)\ttotal: 2m 51s\tremaining: 5m 32s\n",
      "3500:\ttest: 0.9677014\tbest: 0.9677073 (3494)\ttotal: 2m 56s\tremaining: 5m 27s\n",
      "3600:\ttest: 0.9677336\tbest: 0.9677336 (3600)\ttotal: 3m 1s\tremaining: 5m 22s\n",
      "3700:\ttest: 0.9677685\tbest: 0.9677689 (3695)\ttotal: 3m 6s\tremaining: 5m 17s\n",
      "3800:\ttest: 0.9678013\tbest: 0.9678013 (3800)\ttotal: 3m 11s\tremaining: 5m 12s\n",
      "3900:\ttest: 0.9678307\tbest: 0.9678336 (3893)\ttotal: 3m 16s\tremaining: 5m 7s\n",
      "4000:\ttest: 0.9678672\tbest: 0.9678672 (3968)\ttotal: 3m 21s\tremaining: 5m 1s\n",
      "4100:\ttest: 0.9679083\tbest: 0.9679087 (4099)\ttotal: 3m 26s\tremaining: 4m 56s\n",
      "4200:\ttest: 0.9679326\tbest: 0.9679356 (4193)\ttotal: 3m 31s\tremaining: 4m 51s\n",
      "4300:\ttest: 0.9679677\tbest: 0.9679710 (4298)\ttotal: 3m 36s\tremaining: 4m 46s\n",
      "4400:\ttest: 0.9679818\tbest: 0.9679854 (4399)\ttotal: 3m 41s\tremaining: 4m 41s\n",
      "4500:\ttest: 0.9680039\tbest: 0.9680096 (4483)\ttotal: 3m 45s\tremaining: 4m 36s\n",
      "4600:\ttest: 0.9680408\tbest: 0.9680412 (4598)\ttotal: 3m 50s\tremaining: 4m 30s\n",
      "4700:\ttest: 0.9680642\tbest: 0.9680647 (4699)\ttotal: 3m 55s\tremaining: 4m 25s\n",
      "4800:\ttest: 0.9680868\tbest: 0.9680868 (4800)\ttotal: 4m\tremaining: 4m 20s\n",
      "4900:\ttest: 0.9681212\tbest: 0.9681221 (4895)\ttotal: 4m 5s\tremaining: 4m 15s\n",
      "5000:\ttest: 0.9681570\tbest: 0.9681609 (4988)\ttotal: 4m 10s\tremaining: 4m 10s\n",
      "5100:\ttest: 0.9681824\tbest: 0.9681870 (5080)\ttotal: 4m 15s\tremaining: 4m 5s\n",
      "5200:\ttest: 0.9682010\tbest: 0.9682010 (5200)\ttotal: 4m 20s\tremaining: 4m\n",
      "5300:\ttest: 0.9682397\tbest: 0.9682420 (5294)\ttotal: 4m 25s\tremaining: 3m 55s\n",
      "5400:\ttest: 0.9682864\tbest: 0.9682898 (5393)\ttotal: 4m 29s\tremaining: 3m 49s\n",
      "5500:\ttest: 0.9683206\tbest: 0.9683215 (5499)\ttotal: 4m 34s\tremaining: 3m 44s\n",
      "5600:\ttest: 0.9683532\tbest: 0.9683548 (5596)\ttotal: 4m 39s\tremaining: 3m 39s\n",
      "5700:\ttest: 0.9683667\tbest: 0.9683731 (5692)\ttotal: 4m 44s\tremaining: 3m 34s\n",
      "5800:\ttest: 0.9684135\tbest: 0.9684137 (5797)\ttotal: 4m 49s\tremaining: 3m 29s\n",
      "5900:\ttest: 0.9684370\tbest: 0.9684381 (5883)\ttotal: 4m 54s\tremaining: 3m 24s\n",
      "6000:\ttest: 0.9684515\tbest: 0.9684529 (5993)\ttotal: 4m 59s\tremaining: 3m 19s\n",
      "6100:\ttest: 0.9684692\tbest: 0.9684697 (6099)\ttotal: 5m 4s\tremaining: 3m 14s\n",
      "6200:\ttest: 0.9684690\tbest: 0.9684768 (6158)\ttotal: 5m 9s\tremaining: 3m 9s\n",
      "6300:\ttest: 0.9684757\tbest: 0.9684855 (6286)\ttotal: 5m 14s\tremaining: 3m 4s\n",
      "6400:\ttest: 0.9684770\tbest: 0.9684855 (6286)\ttotal: 5m 19s\tremaining: 2m 59s\n",
      "Stopped by overfitting detector  (200 iterations wait)\n",
      "\n",
      "bestTest = 0.9684855211\n",
      "bestIteration = 6286\n",
      "\n",
      "Shrink model to first 6287 iterations.\n"
     ]
    },
    {
     "data": {
      "text/html": [
       "<div>\n",
       "<style scoped>\n",
       "    .dataframe tbody tr th:only-of-type {\n",
       "        vertical-align: middle;\n",
       "    }\n",
       "\n",
       "    .dataframe tbody tr th {\n",
       "        vertical-align: top;\n",
       "    }\n",
       "\n",
       "    .dataframe thead th {\n",
       "        text-align: right;\n",
       "    }\n",
       "</style>\n",
       "<table border=\"1\" class=\"dataframe\">\n",
       "  <thead>\n",
       "    <tr style=\"text-align: right;\">\n",
       "      <th></th>\n",
       "      <th>importance</th>\n",
       "    </tr>\n",
       "  </thead>\n",
       "  <tbody>\n",
       "    <tr>\n",
       "      <th>step</th>\n",
       "      <td>10.761843</td>\n",
       "    </tr>\n",
       "    <tr>\n",
       "      <th>speed_1</th>\n",
       "      <td>6.107853</td>\n",
       "    </tr>\n",
       "    <tr>\n",
       "      <th>players_distance_sum</th>\n",
       "      <td>5.141375</td>\n",
       "    </tr>\n",
       "    <tr>\n",
       "      <th>track_emb_2</th>\n",
       "      <td>3.522173</td>\n",
       "    </tr>\n",
       "    <tr>\n",
       "      <th>jersey_number_1</th>\n",
       "      <td>3.060702</td>\n",
       "    </tr>\n",
       "    <tr>\n",
       "      <th>x_position_diff</th>\n",
       "      <td>2.793785</td>\n",
       "    </tr>\n",
       "    <tr>\n",
       "      <th>y_position_diff</th>\n",
       "      <td>2.724962</td>\n",
       "    </tr>\n",
       "    <tr>\n",
       "      <th>nfl_player_id_1</th>\n",
       "      <td>2.646093</td>\n",
       "    </tr>\n",
       "    <tr>\n",
       "      <th>S_top_1</th>\n",
       "      <td>2.519109</td>\n",
       "    </tr>\n",
       "    <tr>\n",
       "      <th>track_emb_1</th>\n",
       "      <td>2.338872</td>\n",
       "    </tr>\n",
       "    <tr>\n",
       "      <th>m2_E_img_emb_4</th>\n",
       "      <td>2.169636</td>\n",
       "    </tr>\n",
       "    <tr>\n",
       "      <th>distance_1</th>\n",
       "      <td>2.020579</td>\n",
       "    </tr>\n",
       "    <tr>\n",
       "      <th>m2_S_img_emb_4</th>\n",
       "      <td>1.863281</td>\n",
       "    </tr>\n",
       "    <tr>\n",
       "      <th>jersey_number_2</th>\n",
       "      <td>1.743457</td>\n",
       "    </tr>\n",
       "    <tr>\n",
       "      <th>orientation_diff</th>\n",
       "      <td>1.680815</td>\n",
       "    </tr>\n",
       "    <tr>\n",
       "      <th>m2_E_pred</th>\n",
       "      <td>1.557905</td>\n",
       "    </tr>\n",
       "    <tr>\n",
       "      <th>team_1</th>\n",
       "      <td>1.537897</td>\n",
       "    </tr>\n",
       "    <tr>\n",
       "      <th>team_2</th>\n",
       "      <td>1.531897</td>\n",
       "    </tr>\n",
       "    <tr>\n",
       "      <th>players_dis_rollsum</th>\n",
       "      <td>1.462280</td>\n",
       "    </tr>\n",
       "    <tr>\n",
       "      <th>m0_S_pred</th>\n",
       "      <td>1.385292</td>\n",
       "    </tr>\n",
       "  </tbody>\n",
       "</table>\n",
       "</div>"
      ],
      "text/plain": [
       "                      importance\n",
       "step                   10.761843\n",
       "speed_1                 6.107853\n",
       "players_distance_sum    5.141375\n",
       "track_emb_2             3.522173\n",
       "jersey_number_1         3.060702\n",
       "x_position_diff         2.793785\n",
       "y_position_diff         2.724962\n",
       "nfl_player_id_1         2.646093\n",
       "S_top_1                 2.519109\n",
       "track_emb_1             2.338872\n",
       "m2_E_img_emb_4          2.169636\n",
       "distance_1              2.020579\n",
       "m2_S_img_emb_4          1.863281\n",
       "jersey_number_2         1.743457\n",
       "orientation_diff        1.680815\n",
       "m2_E_pred               1.557905\n",
       "team_1                  1.537897\n",
       "team_2                  1.531897\n",
       "players_dis_rollsum     1.462280\n",
       "m0_S_pred               1.385292"
      ]
     },
     "metadata": {},
     "output_type": "display_data"
    },
    {
     "name": "stdout",
     "output_type": "stream",
     "text": [
      "Performance of the prediction: 0.96849\n",
      "\n",
      "-\n",
      "fold 4\n"
     ]
    },
    {
     "data": {
      "text/plain": [
       "0    119514\n",
       "1     12446\n",
       "Name: contact, dtype: int64"
      ]
     },
     "metadata": {},
     "output_type": "display_data"
    },
    {
     "name": "stdout",
     "output_type": "stream",
     "text": [
      "0:\ttest: 0.8921059\tbest: 0.8921059 (0)\ttotal: 52.6ms\tremaining: 8m 45s\n",
      "100:\ttest: 0.9476283\tbest: 0.9476283 (100)\ttotal: 4.93s\tremaining: 8m 3s\n",
      "200:\ttest: 0.9538086\tbest: 0.9538086 (200)\ttotal: 10.1s\tremaining: 8m 14s\n",
      "300:\ttest: 0.9569871\tbest: 0.9569871 (300)\ttotal: 15.4s\tremaining: 8m 16s\n",
      "400:\ttest: 0.9586295\tbest: 0.9586295 (400)\ttotal: 20.5s\tremaining: 8m 9s\n",
      "500:\ttest: 0.9597756\tbest: 0.9597756 (500)\ttotal: 25.4s\tremaining: 8m 2s\n",
      "600:\ttest: 0.9605861\tbest: 0.9605861 (600)\ttotal: 30.5s\tremaining: 7m 56s\n",
      "700:\ttest: 0.9613373\tbest: 0.9613382 (699)\ttotal: 35.5s\tremaining: 7m 50s\n",
      "800:\ttest: 0.9619126\tbest: 0.9619127 (799)\ttotal: 40.5s\tremaining: 7m 44s\n",
      "900:\ttest: 0.9623262\tbest: 0.9623262 (900)\ttotal: 45.5s\tremaining: 7m 39s\n",
      "1000:\ttest: 0.9627491\tbest: 0.9627491 (1000)\ttotal: 50.6s\tremaining: 7m 35s\n",
      "1100:\ttest: 0.9632550\tbest: 0.9632550 (1100)\ttotal: 55.8s\tremaining: 7m 30s\n",
      "1200:\ttest: 0.9635513\tbest: 0.9635513 (1200)\ttotal: 1m\tremaining: 7m 26s\n",
      "1300:\ttest: 0.9639031\tbest: 0.9639031 (1300)\ttotal: 1m 5s\tremaining: 7m 19s\n",
      "1400:\ttest: 0.9643191\tbest: 0.9643191 (1400)\ttotal: 1m 10s\tremaining: 7m 14s\n",
      "1500:\ttest: 0.9646665\tbest: 0.9646673 (1499)\ttotal: 1m 15s\tremaining: 7m 9s\n",
      "1600:\ttest: 0.9649656\tbest: 0.9649656 (1600)\ttotal: 1m 20s\tremaining: 7m 4s\n",
      "1700:\ttest: 0.9652781\tbest: 0.9652781 (1700)\ttotal: 1m 25s\tremaining: 6m 59s\n",
      "1800:\ttest: 0.9654567\tbest: 0.9654571 (1799)\ttotal: 1m 31s\tremaining: 6m 54s\n",
      "1900:\ttest: 0.9656537\tbest: 0.9656537 (1900)\ttotal: 1m 36s\tremaining: 6m 49s\n",
      "2000:\ttest: 0.9658149\tbest: 0.9658149 (2000)\ttotal: 1m 41s\tremaining: 6m 43s\n",
      "2100:\ttest: 0.9659019\tbest: 0.9659019 (2100)\ttotal: 1m 45s\tremaining: 6m 37s\n",
      "2200:\ttest: 0.9660234\tbest: 0.9660234 (2200)\ttotal: 1m 50s\tremaining: 6m 32s\n",
      "2300:\ttest: 0.9661530\tbest: 0.9661535 (2298)\ttotal: 1m 55s\tremaining: 6m 26s\n",
      "2400:\ttest: 0.9663136\tbest: 0.9663136 (2400)\ttotal: 2m\tremaining: 6m 21s\n",
      "2500:\ttest: 0.9664268\tbest: 0.9664268 (2500)\ttotal: 2m 5s\tremaining: 6m 16s\n",
      "2600:\ttest: 0.9665197\tbest: 0.9665197 (2600)\ttotal: 2m 10s\tremaining: 6m 10s\n",
      "2700:\ttest: 0.9665955\tbest: 0.9665960 (2699)\ttotal: 2m 15s\tremaining: 6m 5s\n",
      "2800:\ttest: 0.9666652\tbest: 0.9666652 (2800)\ttotal: 2m 20s\tremaining: 6m\n",
      "2900:\ttest: 0.9667677\tbest: 0.9667677 (2900)\ttotal: 2m 25s\tremaining: 5m 54s\n",
      "3000:\ttest: 0.9668407\tbest: 0.9668408 (2999)\ttotal: 2m 29s\tremaining: 5m 49s\n",
      "3100:\ttest: 0.9669372\tbest: 0.9669372 (3100)\ttotal: 2m 34s\tremaining: 5m 44s\n",
      "3200:\ttest: 0.9670216\tbest: 0.9670245 (3192)\ttotal: 2m 39s\tremaining: 5m 39s\n",
      "3300:\ttest: 0.9671176\tbest: 0.9671182 (3298)\ttotal: 2m 44s\tremaining: 5m 34s\n",
      "3400:\ttest: 0.9671929\tbest: 0.9671966 (3396)\ttotal: 2m 49s\tremaining: 5m 29s\n",
      "3500:\ttest: 0.9672694\tbest: 0.9672694 (3500)\ttotal: 2m 54s\tremaining: 5m 24s\n",
      "3600:\ttest: 0.9673508\tbest: 0.9673553 (3596)\ttotal: 2m 59s\tremaining: 5m 19s\n",
      "3700:\ttest: 0.9674120\tbest: 0.9674141 (3696)\ttotal: 3m 4s\tremaining: 5m 14s\n",
      "3800:\ttest: 0.9674871\tbest: 0.9674871 (3800)\ttotal: 3m 9s\tremaining: 5m 9s\n",
      "3900:\ttest: 0.9675719\tbest: 0.9675728 (3899)\ttotal: 3m 14s\tremaining: 5m 4s\n",
      "4000:\ttest: 0.9676195\tbest: 0.9676215 (3998)\ttotal: 3m 19s\tremaining: 4m 59s\n",
      "4100:\ttest: 0.9676555\tbest: 0.9676555 (4100)\ttotal: 3m 24s\tremaining: 4m 53s\n",
      "4200:\ttest: 0.9677094\tbest: 0.9677125 (4192)\ttotal: 3m 29s\tremaining: 4m 49s\n",
      "4300:\ttest: 0.9677522\tbest: 0.9677522 (4300)\ttotal: 3m 34s\tremaining: 4m 43s\n",
      "4400:\ttest: 0.9677715\tbest: 0.9677731 (4395)\ttotal: 3m 39s\tremaining: 4m 38s\n",
      "4500:\ttest: 0.9677956\tbest: 0.9677956 (4500)\ttotal: 3m 44s\tremaining: 4m 33s\n",
      "4600:\ttest: 0.9678163\tbest: 0.9678178 (4592)\ttotal: 3m 48s\tremaining: 4m 28s\n",
      "4700:\ttest: 0.9678456\tbest: 0.9678456 (4700)\ttotal: 3m 53s\tremaining: 4m 23s\n",
      "4800:\ttest: 0.9678752\tbest: 0.9678771 (4792)\ttotal: 3m 58s\tremaining: 4m 18s\n",
      "4900:\ttest: 0.9679093\tbest: 0.9679104 (4899)\ttotal: 4m 3s\tremaining: 4m 13s\n",
      "5000:\ttest: 0.9679459\tbest: 0.9679478 (4980)\ttotal: 4m 8s\tremaining: 4m 8s\n",
      "5100:\ttest: 0.9679904\tbest: 0.9679910 (5099)\ttotal: 4m 13s\tremaining: 4m 3s\n",
      "5200:\ttest: 0.9680388\tbest: 0.9680421 (5196)\ttotal: 4m 18s\tremaining: 3m 58s\n",
      "5300:\ttest: 0.9680523\tbest: 0.9680523 (5300)\ttotal: 4m 23s\tremaining: 3m 53s\n",
      "5400:\ttest: 0.9680845\tbest: 0.9680867 (5367)\ttotal: 4m 28s\tremaining: 3m 48s\n",
      "5500:\ttest: 0.9680813\tbest: 0.9680870 (5408)\ttotal: 4m 32s\tremaining: 3m 43s\n",
      "5600:\ttest: 0.9681038\tbest: 0.9681038 (5600)\ttotal: 4m 38s\tremaining: 3m 38s\n",
      "5700:\ttest: 0.9681189\tbest: 0.9681203 (5692)\ttotal: 4m 42s\tremaining: 3m 33s\n",
      "5800:\ttest: 0.9681264\tbest: 0.9681266 (5797)\ttotal: 4m 47s\tremaining: 3m 28s\n",
      "5900:\ttest: 0.9681528\tbest: 0.9681564 (5897)\ttotal: 4m 52s\tremaining: 3m 23s\n",
      "6000:\ttest: 0.9681888\tbest: 0.9681888 (6000)\ttotal: 4m 57s\tremaining: 3m 18s\n",
      "6100:\ttest: 0.9682130\tbest: 0.9682130 (6100)\ttotal: 5m 2s\tremaining: 3m 13s\n",
      "6200:\ttest: 0.9682189\tbest: 0.9682263 (6188)\ttotal: 5m 7s\tremaining: 3m 8s\n",
      "6300:\ttest: 0.9682393\tbest: 0.9682408 (6299)\ttotal: 5m 12s\tremaining: 3m 3s\n",
      "6400:\ttest: 0.9682418\tbest: 0.9682449 (6351)\ttotal: 5m 17s\tremaining: 2m 58s\n",
      "6500:\ttest: 0.9682508\tbest: 0.9682508 (6500)\ttotal: 5m 22s\tremaining: 2m 53s\n",
      "6600:\ttest: 0.9682583\tbest: 0.9682643 (6566)\ttotal: 5m 27s\tremaining: 2m 48s\n",
      "6700:\ttest: 0.9682559\tbest: 0.9682643 (6566)\ttotal: 5m 32s\tremaining: 2m 43s\n",
      "Stopped by overfitting detector  (200 iterations wait)\n",
      "\n",
      "bestTest = 0.9682642947\n",
      "bestIteration = 6566\n",
      "\n",
      "Shrink model to first 6567 iterations.\n"
     ]
    },
    {
     "data": {
      "text/html": [
       "<div>\n",
       "<style scoped>\n",
       "    .dataframe tbody tr th:only-of-type {\n",
       "        vertical-align: middle;\n",
       "    }\n",
       "\n",
       "    .dataframe tbody tr th {\n",
       "        vertical-align: top;\n",
       "    }\n",
       "\n",
       "    .dataframe thead th {\n",
       "        text-align: right;\n",
       "    }\n",
       "</style>\n",
       "<table border=\"1\" class=\"dataframe\">\n",
       "  <thead>\n",
       "    <tr style=\"text-align: right;\">\n",
       "      <th></th>\n",
       "      <th>importance</th>\n",
       "    </tr>\n",
       "  </thead>\n",
       "  <tbody>\n",
       "    <tr>\n",
       "      <th>step</th>\n",
       "      <td>10.276661</td>\n",
       "    </tr>\n",
       "    <tr>\n",
       "      <th>players_distance_sum</th>\n",
       "      <td>5.687566</td>\n",
       "    </tr>\n",
       "    <tr>\n",
       "      <th>speed_1</th>\n",
       "      <td>5.547435</td>\n",
       "    </tr>\n",
       "    <tr>\n",
       "      <th>track_emb_2</th>\n",
       "      <td>3.701861</td>\n",
       "    </tr>\n",
       "    <tr>\n",
       "      <th>jersey_number_1</th>\n",
       "      <td>3.152154</td>\n",
       "    </tr>\n",
       "    <tr>\n",
       "      <th>y_position_diff</th>\n",
       "      <td>2.822145</td>\n",
       "    </tr>\n",
       "    <tr>\n",
       "      <th>x_position_diff</th>\n",
       "      <td>2.709491</td>\n",
       "    </tr>\n",
       "    <tr>\n",
       "      <th>m2_S_img_emb_4</th>\n",
       "      <td>2.681335</td>\n",
       "    </tr>\n",
       "    <tr>\n",
       "      <th>distance_1</th>\n",
       "      <td>2.446839</td>\n",
       "    </tr>\n",
       "    <tr>\n",
       "      <th>S_top_1</th>\n",
       "      <td>2.421046</td>\n",
       "    </tr>\n",
       "    <tr>\n",
       "      <th>nfl_player_id_1</th>\n",
       "      <td>2.372721</td>\n",
       "    </tr>\n",
       "    <tr>\n",
       "      <th>m2_E_img_emb_4</th>\n",
       "      <td>2.362443</td>\n",
       "    </tr>\n",
       "    <tr>\n",
       "      <th>track_emb_1</th>\n",
       "      <td>2.083891</td>\n",
       "    </tr>\n",
       "    <tr>\n",
       "      <th>players_dis_rollsum</th>\n",
       "      <td>1.704076</td>\n",
       "    </tr>\n",
       "    <tr>\n",
       "      <th>m2_E_pred</th>\n",
       "      <td>1.495919</td>\n",
       "    </tr>\n",
       "    <tr>\n",
       "      <th>orientation_diff</th>\n",
       "      <td>1.446523</td>\n",
       "    </tr>\n",
       "    <tr>\n",
       "      <th>m0_E_pred</th>\n",
       "      <td>1.434397</td>\n",
       "    </tr>\n",
       "    <tr>\n",
       "      <th>S_left_1</th>\n",
       "      <td>1.412557</td>\n",
       "    </tr>\n",
       "    <tr>\n",
       "      <th>jersey_number_2</th>\n",
       "      <td>1.410136</td>\n",
       "    </tr>\n",
       "    <tr>\n",
       "      <th>team_1</th>\n",
       "      <td>1.359446</td>\n",
       "    </tr>\n",
       "  </tbody>\n",
       "</table>\n",
       "</div>"
      ],
      "text/plain": [
       "                      importance\n",
       "step                   10.276661\n",
       "players_distance_sum    5.687566\n",
       "speed_1                 5.547435\n",
       "track_emb_2             3.701861\n",
       "jersey_number_1         3.152154\n",
       "y_position_diff         2.822145\n",
       "x_position_diff         2.709491\n",
       "m2_S_img_emb_4          2.681335\n",
       "distance_1              2.446839\n",
       "S_top_1                 2.421046\n",
       "nfl_player_id_1         2.372721\n",
       "m2_E_img_emb_4          2.362443\n",
       "track_emb_1             2.083891\n",
       "players_dis_rollsum     1.704076\n",
       "m2_E_pred               1.495919\n",
       "orientation_diff        1.446523\n",
       "m0_E_pred               1.434397\n",
       "S_left_1                1.412557\n",
       "jersey_number_2         1.410136\n",
       "team_1                  1.359446"
      ]
     },
     "metadata": {},
     "output_type": "display_data"
    },
    {
     "name": "stdout",
     "output_type": "stream",
     "text": [
      "Performance of the prediction: 0.96826\n",
      "\n",
      "All Performance of the AUC:0.96861, MCC:0.70427\n"
     ]
    }
   ],
   "source": [
    "target_df = target_df.to_pandas()\n",
    "if CFG[\"DEBUG\"]:\n",
    "    target_df = target_df.sample(1000).reset_index(drop=True)\n",
    "oof_pred = fit_catboost(target_df, FEATURE_COLS)\n",
    "# oof_pred = fit_lgboost(target_df, FEATURE_COLS)\n",
    "# oof_pred = fit_xgboost(target_df, FEATURE_COLS)"
   ]
  },
  {
   "cell_type": "code",
   "execution_count": 28,
   "id": "28b47883",
   "metadata": {
    "execution": {
     "iopub.execute_input": "2023-02-27T11:35:55.233101Z",
     "iopub.status.busy": "2023-02-27T11:35:55.232742Z",
     "iopub.status.idle": "2023-02-27T11:35:55.495892Z",
     "shell.execute_reply": "2023-02-27T11:35:55.494991Z"
    },
    "papermill": {
     "duration": 0.295608,
     "end_time": "2023-02-27T11:35:55.498353",
     "exception": false,
     "start_time": "2023-02-27T11:35:55.202745",
     "status": "completed"
    },
    "tags": []
   },
   "outputs": [
    {
     "data": {
      "text/plain": [
       "<AxesSubplot:>"
      ]
     },
     "metadata": {},
     "output_type": "display_data"
    },
    {
     "data": {
      "image/png": "[encoded data removed]",
      "text/plain": [
       "<Figure size 432x288 with 1 Axes>"
      ]
     },
     "metadata": {
      "needs_background": "light"
     },
     "output_type": "display_data"
    }
   ],
   "source": [
    "target_df[\"pred\"] = oof_pred\n",
    "display(target_df[\"pred\"].hist(bins=20))"
   ]
  },
  {
   "cell_type": "code",
   "execution_count": 29,
   "id": "ab23fc51",
   "metadata": {
    "execution": {
     "iopub.execute_input": "2023-02-27T11:35:55.556946Z",
     "iopub.status.busy": "2023-02-27T11:35:55.556588Z",
     "iopub.status.idle": "2023-02-27T11:36:50.481501Z",
     "shell.execute_reply": "2023-02-27T11:36:50.480417Z"
    },
    "papermill": {
     "duration": 54.985678,
     "end_time": "2023-02-27T11:36:50.512893",
     "exception": false,
     "start_time": "2023-02-27T11:35:55.527215",
     "status": "completed"
    },
    "tags": []
   },
   "outputs": [
    {
     "name": "stdout",
     "output_type": "stream",
     "text": [
      "4721618\n",
      "score:0.72901, threshold:0.34238\n"
     ]
    }
   ],
   "source": [
    "train = pd.read_csv(CFG[\"TRAIN_LABEL_CSV\"])\n",
    "if CFG[\"DEBUG\"]:\n",
    "    train = train.sample(5000).reset_index(drop=True)\n",
    "\n",
    "train = pd.merge(train, target_df[[\"contact_id\", \"pred\"]], on=\"contact_id\", how=\"left\")\n",
    "train = train.fillna(0)\n",
    "print(len(train))\n",
    "\n",
    "def func(x_list):\n",
    "    score = matthews_corrcoef(train['contact'], train[\"pred\"]>x_list[0])\n",
    "    return -score\n",
    "x0 = [0.5]\n",
    "result = minimize(func, x0,  method=\"nelder-mead\")\n",
    "opt_threshold = result.x[0]\n",
    "score = round(matthews_corrcoef(train['contact'], train[\"pred\"]>opt_threshold), 5)\n",
    "threshold = round(opt_threshold, 5)\n",
    "print(f\"score:{score}, threshold:{threshold}\")"
   ]
  },
  {
   "cell_type": "markdown",
   "id": "ae8b8a75",
   "metadata": {
    "papermill": {
     "duration": 0.028495,
     "end_time": "2023-02-27T11:36:50.570059",
     "exception": false,
     "start_time": "2023-02-27T11:36:50.541564",
     "status": "completed"
    },
    "tags": []
   },
   "source": [
    "## post proc"
   ]
  },
  {
   "cell_type": "code",
   "execution_count": 30,
   "id": "1369f37b",
   "metadata": {
    "execution": {
     "iopub.execute_input": "2023-02-27T11:36:50.629930Z",
     "iopub.status.busy": "2023-02-27T11:36:50.628099Z",
     "iopub.status.idle": "2023-02-27T11:43:26.705958Z",
     "shell.execute_reply": "2023-02-27T11:43:26.701396Z"
    },
    "papermill": {
     "duration": 396.139749,
     "end_time": "2023-02-27T11:43:26.738258",
     "exception": false,
     "start_time": "2023-02-27T11:36:50.598509",
     "status": "completed"
    },
    "tags": []
   },
   "outputs": [
    {
     "name": "stdout",
     "output_type": "stream",
     "text": [
      "4721618\n",
      "score:0.72901, threshold:0.34238\n",
      "window size = 3, score:0.7386, threshold:0.31406\n",
      "window size = 5, score:0.74029, threshold:0.34004\n",
      "window size = 7, score:0.74023, threshold:0.33818\n",
      "window size = 9, score:0.73871, threshold:0.34102\n",
      "window size = 11, score:0.73648, threshold:0.33555\n",
      "window size = 13, score:0.73185, threshold:0.33135\n",
      "BEST SCORE => window size:5, score:0.74029, threshold:0.34004 \n"
     ]
    }
   ],
   "source": [
    "train = pd.read_csv(CFG[\"TRAIN_LABEL_CSV\"])\n",
    "# train = train[train[\"game_play\"].isin(train_game_play)]\n",
    "print(len(train))\n",
    "\n",
    "# scoring post process\n",
    "print(f\"score:{score}, threshold:{threshold}\")\n",
    "output_threshold =threshold\n",
    "best_score = score\n",
    "best_threshold = threshold\n",
    "best_window = 1\n",
    "\n",
    "for window_size in [3, 5, 7, 9, 11, 13]:\n",
    "    print(f\"window size = {window_size}\", end=\", \")\n",
    "    proc_sub = post_proc_roll(train, target_df, window_size)\n",
    "    def func(x_list):\n",
    "        score = matthews_corrcoef(proc_sub['contact'], proc_sub[\"proc_pred\"]>x_list[0])\n",
    "        return -score\n",
    "    x0 = [0.5]\n",
    "    result = minimize(func, x0,  method=\"nelder-mead\")\n",
    "    opt_threshold = result.x[0]\n",
    "    score = round(matthews_corrcoef(proc_sub['contact'], proc_sub[\"proc_pred\"]>opt_threshold), 5)\n",
    "    threshold = round(opt_threshold, 5)\n",
    "    print(f\"score:{score}, threshold:{threshold}\")\n",
    "    if score > best_score:\n",
    "        best_score = score\n",
    "        best_threshold = threshold\n",
    "        best_window = window_size\n",
    "print(f\"BEST SCORE => window size:{best_window}, score:{best_score}, threshold:{best_threshold} \")"
   ]
  },
  {
   "cell_type": "code",
   "execution_count": 31,
   "id": "f891c381",
   "metadata": {
    "execution": {
     "iopub.execute_input": "2023-02-27T11:43:26.799459Z",
     "iopub.status.busy": "2023-02-27T11:43:26.799057Z",
     "iopub.status.idle": "2023-02-27T11:43:26.890987Z",
     "shell.execute_reply": "2023-02-27T11:43:26.889803Z"
    },
    "papermill": {
     "duration": 0.124561,
     "end_time": "2023-02-27T11:43:26.893258",
     "exception": false,
     "start_time": "2023-02-27T11:43:26.768697",
     "status": "completed"
    },
    "tags": []
   },
   "outputs": [
    {
     "name": "stdout",
     "output_type": "stream",
     "text": [
      "156\n",
      "['nfl_player_id_1', 'nfl_player_id_2', 'step', 'x_position_1', 'y_position_1', 'speed_1', 'distance_1', 'direction_1', 'orientation_1', 'acceleration_1', 'sa_1', 'team_1', 'jersey_number_1', 'is_lineman_1', 'x_position_shift-6_1', 'x_position_shift-5_1', 'x_position_shift-4_1', 'x_position_shift-3_1', 'x_position_shift-2_1', 'x_position_shift-1_1', 'x_position_shift0_1', 'x_position_shift1_1', 'x_position_shift2_1', 'x_position_shift3_1', 'x_position_shift4_1', 'x_position_shift5_1', 'y_position_shift-6_1', 'y_position_shift-5_1', 'y_position_shift-4_1', 'y_position_shift-3_1', 'y_position_shift-2_1', 'y_position_shift-1_1', 'y_position_shift0_1', 'y_position_shift1_1', 'y_position_shift2_1', 'y_position_shift3_1', 'y_position_shift4_1', 'y_position_shift5_1', 'x_position_2', 'y_position_2', 'speed_2', 'distance_2', 'direction_2', 'orientation_2', 'acceleration_2', 'sa_2', 'team_2', 'jersey_number_2', 'is_lineman_2', 'x_position_shift-6_2', 'x_position_shift-5_2', 'x_position_shift-4_2', 'x_position_shift-3_2', 'x_position_shift-2_2', 'x_position_shift-1_2', 'x_position_shift0_2', 'x_position_shift1_2', 'x_position_shift2_2', 'x_position_shift3_2', 'x_position_shift4_2', 'x_position_shift5_2', 'y_position_shift-6_2', 'y_position_shift-5_2', 'y_position_shift-4_2', 'y_position_shift-3_2', 'y_position_shift-2_2', 'y_position_shift-1_2', 'y_position_shift0_2', 'y_position_shift1_2', 'y_position_shift2_2', 'y_position_shift3_2', 'y_position_shift4_2', 'y_position_shift5_2', 'players_distance_sum', 'x_move_distance_1', 'x_move_distance_2', 'y_move_distance_1', 'y_move_distance_2', 'x_position_diff', 'y_position_diff', 'speed_diff', 'distance_diff', 'direction_diff', 'orientation_diff', 'acceleration_diff', 'sa_diff', 'players_dis_rollsum', 'x_position_diff_rollsum', 'y_position_diff_rollsum', 'speed_diff_rollsum', 'distance_diff_rollsum', 'direction_diff_rollsum', 'orientation_diff_rollsum', 'acceleration_diff_rollsum', 'sa_diff_rollsum', 'E_left_1', 'E_width_1', 'E_top_1', 'E_height_1', 'E_left_2', 'E_width_2', 'E_top_2', 'E_height_2', 'S_left_1', 'S_width_1', 'S_top_1', 'S_height_1', 'S_left_2', 'S_width_2', 'S_top_2', 'S_height_2', 'E_helmet_dis', 'S_helmet_dis', 'is_ground', 'is_E_helmet', 'is_S_helmet', 'both_helmet', 'm0_E_img_emb_0', 'm0_E_img_emb_1', 'm0_E_img_emb_2', 'm0_E_img_emb_3', 'm0_E_img_emb_4', 'm0_E_pred', 'm0_S_img_emb_0', 'm0_S_img_emb_1', 'm0_S_img_emb_2', 'm0_S_img_emb_3', 'm0_S_img_emb_4', 'm0_S_pred', 'm1_E_img_emb_0', 'm1_E_img_emb_1', 'm1_E_img_emb_2', 'm1_E_img_emb_3', 'm1_E_img_emb_4', 'm1_E_pred', 'm1_S_img_emb_0', 'm1_S_img_emb_1', 'm1_S_img_emb_2', 'm1_S_img_emb_3', 'm1_S_img_emb_4', 'm1_S_pred', 'm2_E_img_emb_0', 'm2_E_img_emb_1', 'm2_E_img_emb_2', 'm2_E_img_emb_3', 'm2_E_img_emb_4', 'm2_E_pred', 'm2_S_img_emb_0', 'm2_S_img_emb_1', 'm2_S_img_emb_2', 'm2_S_img_emb_3', 'm2_S_img_emb_4', 'm2_S_pred', 'track_emb_0', 'track_emb_1', 'track_emb_2']\n"
     ]
    }
   ],
   "source": [
    "print(len(FEATURE_COLS))\n",
    "print(FEATURE_COLS)\n",
    "del train"
   ]
  },
  {
   "cell_type": "code",
   "execution_count": 32,
   "id": "7b6e0a05",
   "metadata": {
    "execution": {
     "iopub.execute_input": "2023-02-27T11:43:26.951913Z",
     "iopub.status.busy": "2023-02-27T11:43:26.950996Z",
     "iopub.status.idle": "2023-02-27T11:43:26.966655Z",
     "shell.execute_reply": "2023-02-27T11:43:26.965783Z"
    },
    "papermill": {
     "duration": 0.04668,
     "end_time": "2023-02-27T11:43:26.968748",
     "exception": false,
     "start_time": "2023-02-27T11:43:26.922068",
     "status": "completed"
    },
    "tags": []
   },
   "outputs": [],
   "source": [
    "CFG[\"features\"] = FEATURE_COLS\n",
    "CFG[\"PRED_THR\"] = output_threshold\n",
    "CFG[\"PROC_PRED_THR\"] = best_threshold\n",
    "CFG[\"proc_window_size\"] = best_window\n",
    "\n",
    "import yaml\n",
    "\n",
    "cofig_yaml = os.path.join(CFG[\"EXP_DIR\"], \"Config.yaml\")\n",
    "with open(cofig_yaml, \"w\") as f:\n",
    "    yaml.dump(CFG, f)"
   ]
  },
  {
   "cell_type": "code",
   "execution_count": null,
   "id": "cd97c854",
   "metadata": {
    "papermill": {
     "duration": 0.04158,
     "end_time": "2023-02-27T11:43:27.043995",
     "exception": false,
     "start_time": "2023-02-27T11:43:27.002415",
     "status": "completed"
    },
    "tags": []
   },
   "outputs": [],
   "source": []
  },
  {
   "cell_type": "code",
   "execution_count": null,
   "id": "59d850ec",
   "metadata": {
    "papermill": {
     "duration": 0.028904,
     "end_time": "2023-02-27T11:43:27.101254",
     "exception": false,
     "start_time": "2023-02-27T11:43:27.072350",
     "status": "completed"
    },
    "tags": []
   },
   "outputs": [],
   "source": []
  }
 ],
 "metadata": {
  "kernelspec": {
   "display_name": "base",
   "language": "python",
   "name": "python3"
  },
  "language_info": {
   "codemirror_mode": {
    "name": "ipython",
    "version": 3
   },
   "file_extension": ".py",
   "mimetype": "text/x-python",
   "name": "python",
   "nbconvert_exporter": "python",
   "pygments_lexer": "ipython3",
   "version": "3.7.12"
  },
  "papermill": {
   "default_parameters": {},
   "duration": 16016.888521,
   "end_time": "2023-02-27T11:43:28.881260",
   "environment_variables": {},
   "exception": null,
   "input_path": "__notebook__.ipynb",
   "output_path": "__notebook__.ipynb",
   "parameters": {},
   "start_time": "2023-02-27T07:16:31.992739",
   "version": "2.3.4"
  },
  "vscode": {
   "interpreter": {
    "hash": "d4d1e4263499bec80672ea0156c357c1ee493ec2b1c70f0acce89fc37c4a6abe"
   }
  }
 },
 "nbformat": 4,
 "nbformat_minor": 5
}
