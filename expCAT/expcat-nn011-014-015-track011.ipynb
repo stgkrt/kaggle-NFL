{
 "cells": [
  {
   "cell_type": "markdown",
   "id": "fc642bc2",
   "metadata": {
    "papermill": {
     "duration": 0.011005,
     "end_time": "2023-02-27T07:16:39.639827",
     "exception": false,
     "start_time": "2023-02-27T07:16:39.628822",
     "status": "completed"
    },
    "tags": []
   },
   "source": [
    "## Try Polars\n",
    "This notebook is just for learning polars"
   ]
  },
  {
   "cell_type": "markdown",
   "id": "7df37548",
   "metadata": {
    "papermill": {
     "duration": 0.010209,
     "end_time": "2023-02-27T07:17:11.214148",
     "exception": false,
     "start_time": "2023-02-27T07:17:11.203939",
     "status": "completed"
    },
    "tags": []
   },
   "source": [
    "# import libraries"
   ]
  },
  {
   "cell_type": "code",
   "execution_count": 1,
   "id": "0bf33d1e",
   "metadata": {
    "_cell_guid": "b1076dfc-b9ad-4769-8c92-a6c4dae69d19",
    "_uuid": "8f2839f25d086af736a60e9eeb907d3b93b6e0e5",
    "execution": {
     "iopub.execute_input": "2023-02-27T07:17:11.233271Z",
     "iopub.status.busy": "2023-02-27T07:17:11.232949Z",
     "iopub.status.idle": "2023-02-27T07:17:14.571969Z",
     "shell.execute_reply": "2023-02-27T07:17:14.571182Z"
    },
    "papermill": {
     "duration": 3.352481,
     "end_time": "2023-02-27T07:17:14.575478",
     "exception": false,
     "start_time": "2023-02-27T07:17:11.222997",
     "status": "completed"
    },
    "tags": []
   },
   "outputs": [
    {
     "data": {
      "text/html": [
       "<style type='text/css'>\n",
       ".datatable table.frame { margin-bottom: 0; }\n",
       ".datatable table.frame thead { border-bottom: none; }\n",
       ".datatable table.frame tr.coltypes td {  color: #FFFFFF;  line-height: 6px;  padding: 0 0.5em;}\n",
       ".datatable .bool    { background: #DDDD99; }\n",
       ".datatable .object  { background: #565656; }\n",
       ".datatable .int     { background: #5D9E5D; }\n",
       ".datatable .float   { background: #4040CC; }\n",
       ".datatable .str     { background: #CC4040; }\n",
       ".datatable .time    { background: #40CC40; }\n",
       ".datatable .row_index {  background: var(--jp-border-color3);  border-right: 1px solid var(--jp-border-color0);  color: var(--jp-ui-font-color3);  font-size: 9px;}\n",
       ".datatable .frame tbody td { text-align: left; }\n",
       ".datatable .frame tr.coltypes .row_index {  background: var(--jp-border-color0);}\n",
       ".datatable th:nth-child(2) { padding-left: 12px; }\n",
       ".datatable .hellipsis {  color: var(--jp-cell-editor-border-color);}\n",
       ".datatable .vellipsis {  background: var(--jp-layout-color0);  color: var(--jp-cell-editor-border-color);}\n",
       ".datatable .na {  color: var(--jp-cell-editor-border-color);  font-size: 80%;}\n",
       ".datatable .sp {  opacity: 0.25;}\n",
       ".datatable .footer { font-size: 9px; }\n",
       ".datatable .frame_dimensions {  background: var(--jp-border-color3);  border-top: 1px solid var(--jp-border-color0);  color: var(--jp-ui-font-color3);  display: inline-block;  opacity: 0.6;  padding: 1px 10px 1px 5px;}\n",
       "</style>\n"
      ],
      "text/plain": [
       "<IPython.core.display.HTML object>"
      ]
     },
     "metadata": {},
     "output_type": "display_data"
    }
   ],
   "source": [
    "import os\n",
    "import gc\n",
    "import pickle\n",
    "import glob\n",
    "import random\n",
    "import numpy as np\n",
    "import pandas as pd\n",
    "from tqdm.notebook import tqdm\n",
    "import cv2\n",
    "import matplotlib.pyplot as plt\n",
    "import time\n",
    "import math\n",
    "import sys\n",
    "\n",
    "import polars as pl\n",
    "\n",
    "import lightgbm as lgb\n",
    "from lightgbm import LGBMClassifier, early_stopping, log_evaluation\n",
    "from catboost import CatBoostClassifier, Pool\n",
    "\n",
    "import xgboost as xgb\n",
    "import torch\n",
    "import cupy \n",
    "import cudf\n",
    "from cuml import ForestInference\n",
    "\n",
    "from sklearn.metrics import matthews_corrcoef, confusion_matrix, roc_auc_score\n",
    "from sklearn.model_selection import GroupKFold\n",
    "from scipy.optimize import minimize\n",
    "\n",
    "import warnings\n",
    "warnings.filterwarnings(\"ignore\")"
   ]
  },
  {
   "cell_type": "markdown",
   "id": "094f7993",
   "metadata": {
    "papermill": {
     "duration": 0.016363,
     "end_time": "2023-02-27T07:17:14.617541",
     "exception": false,
     "start_time": "2023-02-27T07:17:14.601178",
     "status": "completed"
    },
    "tags": []
   },
   "source": [
    "# Set Configurations"
   ]
  },
  {
   "cell_type": "code",
   "execution_count": 2,
   "id": "9331afa1",
   "metadata": {
    "execution": {
     "iopub.execute_input": "2023-02-27T07:17:14.648500Z",
     "iopub.status.busy": "2023-02-27T07:17:14.648170Z",
     "iopub.status.idle": "2023-02-27T07:17:14.665704Z",
     "shell.execute_reply": "2023-02-27T07:17:14.664644Z"
    },
    "papermill": {
     "duration": 0.035881,
     "end_time": "2023-02-27T07:17:14.667738",
     "exception": false,
     "start_time": "2023-02-27T07:17:14.631857",
     "status": "completed"
    },
    "tags": []
   },
   "outputs": [],
   "source": [
    "CFG = {\n",
    "    \"DEBUG\" : False,\n",
    "    \"EXP_NAME\" : \"expCAT004\",\n",
    "    \"n_folds\" : 5,\n",
    "    \"train_folds\" : [0,1,2,3,4],\n",
    "    \n",
    "}\n",
    "\n",
    "CFG[\"cat_params\"] = {\n",
    "            'iterations': 10000,\n",
    "            'learning_rate' : 0.01,\n",
    "            'loss_function' : 'Logloss',\n",
    "            'eval_metric' : 'AUC',\n",
    "            'verbose' : 200,\n",
    "            'random_seed' : 42,\n",
    "            'use_best_model': True,\n",
    "}\n",
    "\n",
    "\n",
    "CFG[\"lgb_params\"] = { 'boosting_type' :'dart',\n",
    "                      'objective': 'binary',\n",
    "                      'random_state': 21,\n",
    "                      'learning_rate': 0.01,\n",
    "                      'n_estimators':5000,\n",
    "                      }\n",
    "\n",
    "# CFG[\"xgb_params\"] =  {\n",
    "#                         'objective': 'binary:logistic',\n",
    "#                         'eval_metric': 'auc',\n",
    "#                         'learning_rate':0.01,\n",
    "#                         'tree_method':'hist' if not torch.cuda.is_available() else 'gpu_hist',\n",
    "#                         'seed': 42,\n",
    "#                     }\n",
    "\n",
    "if CFG[\"DEBUG\"]:\n",
    "    CFG[\"EXP_CATEGORY\"] = \"DEBUG\"\n",
    "    CFG[\"sample_num\"] = 1000\n",
    "\n",
    "CFG[\"INPUT_DIR\"] = \"/workspace/input\"\n",
    "CFG[\"OUTPUT_DIR\"] = \"/workspace/output\"\n",
    "CFG[\"BASE_DIR\"] = os.path.join(CFG[\"INPUT_DIR\"])\n",
    "CFG[\"TRAIN_HELMET_CSV\"] = os.path.join(CFG[\"BASE_DIR\"], \"train_baseline_helmets.csv\")\n",
    "CFG[\"TRAIN_TRACKING_CSV\"] = os.path.join(CFG[\"BASE_DIR\"], \"train_player_tracking.csv\")\n",
    "CFG[\"TRAIN_VIDEO_META_CSV\"] = os.path.join(CFG[\"BASE_DIR\"], \"train_video_metadata.csv\")\n",
    "CFG[\"TRAIN_LABEL_CSV\"] = os.path.join(CFG[\"BASE_DIR\"], \"train_labels.csv\")\n",
    "\n",
    "CFG[\"NN_FEATURE_CSV_1\"] = os.path.join(CFG[\"OUTPUT_DIR\"], \"expP011_PandG_bothview_swins3base224\", \"oof_df.csv\")\n",
    "CFG[\"NN_FEATURE_CSV_2\"] = os.path.join(CFG[\"OUTPUT_DIR\"], \"expP014_PandG_nomask_swins3base224\", \"oof_df.csv\")\n",
    "CFG[\"NN_FEATURE_CSV_3\"] = os.path.join(CFG[\"OUTPUT_DIR\"], \"expP015_PandG_nomaskzoom_swins3base224\", \"oof_df.csv\")\n",
    "\n",
    "CFG[\"TRACK_FEATURE_CSV\"] = os.path.join(CFG[\"OUTPUT_DIR\"], \"expT012_Trackshift1D\", \"oof_df.csv\")\n",
    "\n",
    "CFG[\"TEST_HELMET_CSV\"] = os.path.join(CFG[\"BASE_DIR\"], \"test_baseline_helmets.csv\")\n",
    "CFG[\"TEST_TRACKING_CSV\"] = os.path.join(CFG[\"BASE_DIR\"], \"test_player_tracking.csv\")\n",
    "CFG[\"TEST_VIDEO_META_CSV\"] = os.path.join(CFG[\"BASE_DIR\"], \"test_video_metadata.csv\")\n",
    "CFG[\"TEST_LABEL_CSV\"] = os.path.join(CFG[\"BASE_DIR\"], \"sample_submission.csv\")\n",
    "\n",
    "\n",
    "CFG[\"EXP_DIR\"] = os.path.join(CFG[\"OUTPUT_DIR\"], CFG[\"EXP_NAME\"])\n",
    "if not CFG[\"DEBUG\"]:\n",
    "    os.mkdir(CFG[\"EXP_DIR\"])"
   ]
  },
  {
   "cell_type": "markdown",
   "id": "2ed4f4b4",
   "metadata": {
    "papermill": {
     "duration": 0.009013,
     "end_time": "2023-02-27T07:17:15.736708",
     "exception": false,
     "start_time": "2023-02-27T07:17:15.727695",
     "status": "completed"
    },
    "tags": []
   },
   "source": [
    "# MODEL Functions"
   ]
  },
  {
   "cell_type": "code",
   "execution_count": 3,
   "id": "ae0cf124",
   "metadata": {
    "execution": {
     "iopub.execute_input": "2023-02-27T07:17:15.756496Z",
     "iopub.status.busy": "2023-02-27T07:17:15.756153Z",
     "iopub.status.idle": "2023-02-27T07:17:15.769620Z",
     "shell.execute_reply": "2023-02-27T07:17:15.768661Z"
    },
    "papermill": {
     "duration": 0.025744,
     "end_time": "2023-02-27T07:17:15.771549",
     "exception": false,
     "start_time": "2023-02-27T07:17:15.745805",
     "status": "completed"
    },
    "tags": []
   },
   "outputs": [],
   "source": [
    "def fit_lgboost(df_, feature_cols_):\n",
    "    kf = GroupKFold(n_splits=CFG[\"n_folds\"])\n",
    "    X = df_[feature_cols_]\n",
    "    y = df_[\"contact\"]\n",
    "    oof_pred = np.zeros(len(y), dtype=np.float32)\n",
    "    generator = kf.split(X, y, df_[\"game_id\"])\n",
    "    for fold, (idx_train, idx_valid) in enumerate(generator):\n",
    "        print(\"-\")\n",
    "        print(f\"fold {fold}\")\n",
    "        x_train, y_train = X.iloc[idx_train], y.iloc[idx_train]\n",
    "        x_valid, y_valid = X.iloc[idx_valid], y.iloc[idx_valid]\n",
    "        display(pd.Series(y_valid).value_counts())\n",
    "\n",
    "        params = CFG[\"lgb_params\"]\n",
    "        model = LGBMClassifier(**params).fit(x_train, y_train, \n",
    "                                   eval_set=[(x_train, y_train), (x_valid, y_valid)],\n",
    "                                   callbacks=[early_stopping(200), log_evaluation(100)],\n",
    "                                   eval_metric=['auc'],)\n",
    "\n",
    "        model_path = os.path.join(CFG[\"EXP_DIR\"], f'lgb_fold{fold}.model')\n",
    "        pickle.dump(model, open(model_path, 'wb'))\n",
    "        importance = pd.DataFrame(model.feature_importances_, index=X.columns, columns=['importance'])\n",
    "        display(importance.sort_values(\"importance\", ascending=False).head(20))\n",
    "\n",
    "        pred_i = model.predict_proba(x_valid)[:, 1]\n",
    "        oof_pred[x_valid.index] = pred_i\n",
    "        score = round(roc_auc_score(y_valid, pred_i), 5)\n",
    "        print(f'Performance of the prediction: {score}\\n')\n",
    "        del model; gc.collect()\n",
    "\n",
    "    oof_pred_file = os.path.join(CFG[\"EXP_DIR\"], 'oof_pred')\n",
    "    df_[\"pred\"] = oof_pred\n",
    "    np.save(oof_pred_file, oof_pred)\n",
    "    auc = round(roc_auc_score(y, oof_pred), 5)\n",
    "    \n",
    "    def func(x_list):\n",
    "        score = matthews_corrcoef(df_['contact'], df_[\"pred\"]>x_list[0])\n",
    "        return -score\n",
    "    x0 = [0.5]\n",
    "    result = minimize(func, x0,  method=\"nelder-mead\")\n",
    "    opt_threshold = result.x[0]\n",
    "    score = round(matthews_corrcoef(df_['contact'], df_[\"pred\"]>opt_threshold), 5)\n",
    "    \n",
    "    print(f'All Performance of the AUC:{auc}, MCC:{score}')\n",
    "    return oof_pred\n"
   ]
  },
  {
   "cell_type": "code",
   "execution_count": 4,
   "id": "e1ff8e43",
   "metadata": {
    "execution": {
     "iopub.execute_input": "2023-02-27T07:17:15.791176Z",
     "iopub.status.busy": "2023-02-27T07:17:15.790910Z",
     "iopub.status.idle": "2023-02-27T07:17:15.802359Z",
     "shell.execute_reply": "2023-02-27T07:17:15.801383Z"
    },
    "papermill": {
     "duration": 0.023703,
     "end_time": "2023-02-27T07:17:15.804355",
     "exception": false,
     "start_time": "2023-02-27T07:17:15.780652",
     "status": "completed"
    },
    "tags": []
   },
   "outputs": [],
   "source": [
    "def fit_catboost(df_, feature_cols_):\n",
    "    kf = GroupKFold(n_splits=CFG[\"n_folds\"])\n",
    "    X = df_[feature_cols_]\n",
    "    y = df_[\"contact\"]\n",
    "    oof_pred = np.zeros(len(y), dtype=np.float32)\n",
    "    generator = kf.split(X, y, df_[\"game_id\"])\n",
    "    for fold, (idx_train, idx_valid) in enumerate(generator):\n",
    "        print(\"-\")\n",
    "        print(f\"fold {fold}\")\n",
    "        x_train, y_train = X.iloc[idx_train], y.iloc[idx_train]\n",
    "        x_valid, y_valid = X.iloc[idx_valid], y.iloc[idx_valid]\n",
    "        display(pd.Series(y_valid).value_counts())\n",
    "\n",
    "        params = CFG[\"cat_params\"]\n",
    "        model =  CatBoostClassifier(**params)\n",
    "        model.fit(x_train, y_train, eval_set=[(x_valid, y_valid)], verbose=100, early_stopping_rounds=200)\n",
    "        model_path = os.path.join(CFG[\"EXP_DIR\"], f'cat_fold{fold}.model')\n",
    "        pickle.dump(model, open(model_path, 'wb'))\n",
    "        importance = pd.DataFrame(model.feature_importances_, index=X.columns, columns=['importance'])\n",
    "        display(importance.sort_values(\"importance\", ascending=False).head(20))\n",
    "\n",
    "        pred_i = model.predict_proba(x_valid)[:, 1]\n",
    "        oof_pred[x_valid.index] = pred_i\n",
    "        score = round(roc_auc_score(y_valid, pred_i), 5)\n",
    "        print(f'Performance of the prediction: {score}\\n')\n",
    "        del model; gc.collect()\n",
    "    \n",
    "    oof_pred_file = os.path.join(CFG[\"EXP_DIR\"], 'oof_pred')\n",
    "    df_[\"pred\"] = oof_pred\n",
    "    np.save(oof_pred_file, oof_pred)\n",
    "    auc = round(roc_auc_score(y, oof_pred), 5)\n",
    "    \n",
    "    def func(x_list):\n",
    "        score = matthews_corrcoef(df_['contact'], df_[\"pred\"]>x_list[0])\n",
    "        return -score\n",
    "    x0 = [0.5]\n",
    "    result = minimize(func, x0,  method=\"nelder-mead\")\n",
    "    opt_threshold = result.x[0]\n",
    "    score = round(matthews_corrcoef(df_['contact'], df_[\"pred\"]>opt_threshold), 5)\n",
    "    \n",
    "    print(f'All Performance of the AUC:{auc}, MCC:{score}')\n",
    "    return oof_pred"
   ]
  },
  {
   "cell_type": "code",
   "execution_count": 5,
   "id": "b27173df",
   "metadata": {
    "execution": {
     "iopub.execute_input": "2023-02-27T07:17:15.824029Z",
     "iopub.status.busy": "2023-02-27T07:17:15.823500Z",
     "iopub.status.idle": "2023-02-27T07:17:15.836942Z",
     "shell.execute_reply": "2023-02-27T07:17:15.835982Z"
    },
    "papermill": {
     "duration": 0.025574,
     "end_time": "2023-02-27T07:17:15.838948",
     "exception": false,
     "start_time": "2023-02-27T07:17:15.813374",
     "status": "completed"
    },
    "tags": []
   },
   "outputs": [],
   "source": [
    "def fit_xgboost(df_, feature_cols_):\n",
    "    kf = GroupKFold(n_splits=CFG[\"n_folds\"])\n",
    "    X = df_[feature_cols_]\n",
    "    y = df_[\"contact\"]\n",
    "    oof_pred = np.zeros(len(y), dtype=np.float32)\n",
    "    generator = kf.split(X, y, df_[\"game_play\"])\n",
    "    for fold, (idx_train, idx_valid) in enumerate(generator):\n",
    "        print(\"-\")\n",
    "        print(f\"fold {fold}\")\n",
    "        # set dataset\n",
    "        x_train, y_train = X.iloc[idx_train], y.iloc[idx_train]\n",
    "        x_valid, y_valid = X.iloc[idx_valid], y.iloc[idx_valid]\n",
    "        display(pd.Series(y_valid).value_counts())\n",
    "        xgb_train = xgb.DMatrix(x_train, label=y_train)\n",
    "        xgb_valid = xgb.DMatrix(x_valid, label=y_valid)\n",
    "        evals = [(xgb_train,'train'),(xgb_valid,'eval')]\n",
    "        # fit\n",
    "        params = CFG[\"xgb_params\"]\n",
    "        model = xgb.train(\n",
    "            params,\n",
    "            xgb_train,\n",
    "            num_boost_round=10_000,\n",
    "            early_stopping_rounds=200,\n",
    "            evals=evals,\n",
    "            verbose_eval=100,\n",
    "        )\n",
    "\n",
    "        model_path = os.path.join(CFG[\"EXP_DIR\"], f'xgb_fold{fold}.model')\n",
    "        model.save_model(model_path)\n",
    "        _, ax = plt.subplots(figsize=(20, 16))\n",
    "        xgb.plot_importance(model,\n",
    "                            ax=ax,\n",
    "                            importance_type='gain',\n",
    "                            show_values=False)\n",
    "        plt.show()\n",
    "\n",
    "        if not torch.cuda.is_available():\n",
    "            model = xgb.Booster().load_model(model_path)\n",
    "        else:\n",
    "            model = ForestInference.load(model_path, output_class=True, model_type='xgboost')\n",
    "        \n",
    "        pred_i = model.predict_proba(x_valid)[:, 1]\n",
    "        oof_pred[x_valid.index] = pred_i\n",
    "        score = round(roc_auc_score(y_valid, pred_i), 5)\n",
    "        print(f'Performance of the prediction: {score}\\n')\n",
    "        del model; gc.collect()\n",
    "    \n",
    "    oof_pred_file = os.path.join(CFG[\"EXP_DIR\"], 'oof_pred')\n",
    "    df_[\"pred\"] = oof_pred\n",
    "    np.save(oof_pred_file, oof_pred)\n",
    "    auc = round(roc_auc_score(y, oof_pred), 5)\n",
    "    \n",
    "    def func(x_list):\n",
    "        score = matthews_corrcoef(df_['contact'], df_[\"pred\"]>x_list[0])\n",
    "        return -score\n",
    "    x0 = [0.5]\n",
    "    result = minimize(func, x0,  method=\"nelder-mead\")\n",
    "    opt_threshold = result.x[0]\n",
    "    score = round(matthews_corrcoef(df_['contact'], df_[\"pred\"]>opt_threshold), 5)\n",
    "    \n",
    "    print(f'All Performance of the AUC:{auc}, MCC:{score}')\n",
    "    return oof_pred"
   ]
  },
  {
   "cell_type": "markdown",
   "id": "637b4d25",
   "metadata": {
    "papermill": {
     "duration": 0.008976,
     "end_time": "2023-02-27T07:17:15.856980",
     "exception": false,
     "start_time": "2023-02-27T07:17:15.848004",
     "status": "completed"
    },
    "tags": []
   },
   "source": [
    "# Dataset Functions"
   ]
  },
  {
   "cell_type": "code",
   "execution_count": 6,
   "id": "725de3cb",
   "metadata": {
    "execution": {
     "iopub.execute_input": "2023-02-27T07:17:15.876409Z",
     "iopub.status.busy": "2023-02-27T07:17:15.876111Z",
     "iopub.status.idle": "2023-02-27T07:17:15.881699Z",
     "shell.execute_reply": "2023-02-27T07:17:15.880778Z"
    },
    "papermill": {
     "duration": 0.017794,
     "end_time": "2023-02-27T07:17:15.883953",
     "exception": false,
     "start_time": "2023-02-27T07:17:15.866159",
     "status": "completed"
    },
    "tags": []
   },
   "outputs": [],
   "source": [
    "def add_feature_cols(df_, feature_cols_, remove_col_list):\n",
    "    additional_cols = list(df_.columns)\n",
    "    additional_cols = [col for col in additional_cols if not col in remove_col_list]\n",
    "    feature_cols_.extend(additional_cols)\n",
    "    return feature_cols_"
   ]
  },
  {
   "cell_type": "markdown",
   "id": "d54e0afd",
   "metadata": {
    "papermill": {
     "duration": 0.008985,
     "end_time": "2023-02-27T07:17:15.902041",
     "exception": false,
     "start_time": "2023-02-27T07:17:15.893056",
     "status": "completed"
    },
    "tags": []
   },
   "source": [
    "## Merge Functions"
   ]
  },
  {
   "cell_type": "code",
   "execution_count": 7,
   "id": "ebffbfac",
   "metadata": {
    "execution": {
     "iopub.execute_input": "2023-02-27T07:17:15.923176Z",
     "iopub.status.busy": "2023-02-27T07:17:15.922910Z",
     "iopub.status.idle": "2023-02-27T07:17:15.934849Z",
     "shell.execute_reply": "2023-02-27T07:17:15.933964Z"
    },
    "papermill": {
     "duration": 0.02423,
     "end_time": "2023-02-27T07:17:15.936850",
     "exception": false,
     "start_time": "2023-02-27T07:17:15.912620",
     "status": "completed"
    },
    "tags": []
   },
   "outputs": [],
   "source": [
    "def target_merge_tracking(target_df_, tracking_df_, feature_cols_, SHIFT_COLS_):\n",
    "    target_df_ = target_df_.with_column(pl.concat_str([pl.col(\"game_play\"),\n",
    "                                                     pl.col(\"step\").cast(str),\n",
    "                                                     pl.col(\"nfl_player_id_1\"),\n",
    "                                                    ], sep='_').alias('game_step_player_1'))\n",
    "    target_df_ = target_df_.with_column(pl.concat_str([pl.col(\"game_play\"),\n",
    "                                                     pl.col(\"step\").cast(str),\n",
    "                                                     pl.col(\"nfl_player_id_2\"),\n",
    "                                                    ], sep='_').alias('game_step_player_2'))\n",
    "    # line man positions\n",
    "    lineman_pos = [\"T\", \"G\", \"C\", \"DE\", \"DT\", \"NG\"]\n",
    "    tracking_df_ = tracking_df_.with_column((pl.col(\"position\").is_in(lineman_pos)).cast(int).alias('is_lineman'))\n",
    "    \n",
    "    \n",
    "    # Norm cols\n",
    "    norm_cols = [\"x_position\", \"y_position\", \"direction\", \"orientation\"]\n",
    "    Norm_value_list = [120., 60., 360., 360.]\n",
    "    for col, norm_val in zip(norm_cols, Norm_value_list):\n",
    "        tracking_df_ = tracking_df_.with_column((pl.col(col)/norm_val).alias(col))\n",
    "    \n",
    "    # use columns\n",
    "    track_cols = [\"game_play\", \"nfl_player_id\", \"step\", \n",
    "                   \"x_position\", \"y_position\", \"datetime\",\n",
    "                   \"speed\",\"distance\",\"direction\",\"orientation\",\n",
    "                   \"acceleration\",\"sa\", \"team\", \"jersey_number\",\n",
    "                   \"is_lineman\",\n",
    "                 ]\n",
    "    track_cols.extend(SHIFT_COLS_)\n",
    "    tracking_df_ = tracking_df_.select(track_cols)\n",
    "    tracking_df_ = tracking_df_.with_column(pl.concat_str([pl.col(\"game_play\"),\n",
    "                                                         pl.col(\"step\").cast(str),\n",
    "                                                         pl.col(\"nfl_player_id\"),\n",
    "                                                        ], sep='_').alias('game_step_player'))\n",
    "\n",
    "    tracking_df_ = tracking_df_.drop([\"game_play\", \"step\", \"nfl_player_id\", \"datetime\"])\n",
    "\n",
    "    # merge tracking to target\n",
    "    for player_id in [1,2]:\n",
    "        tracking_player = tracking_df_.select([pl.all().suffix(f\"_{player_id}\")])\n",
    "        target_df_ = target_df_.join(tracking_player, on=[f\"game_step_player_{player_id}\"], how=\"left\")\n",
    "        # add features col\n",
    "        feature_cols_ = add_feature_cols(tracking_player, feature_cols_,\n",
    "                                        [f\"game_step_player_{player_id}\", f\"frame_{player_id}\", f\"datetime_{player_id}\"])\n",
    "    # drop col\n",
    "    target_df_ = target_df_.drop([\"game_step_player_1\", \"game_step_player_2\"])\n",
    "    print(len(target_df_.columns))\n",
    "    print(\"original length\", len(target_df_))\n",
    "    return target_df_, feature_cols_"
   ]
  },
  {
   "cell_type": "code",
   "execution_count": 8,
   "id": "6382069b",
   "metadata": {
    "execution": {
     "iopub.execute_input": "2023-02-27T07:17:15.956494Z",
     "iopub.status.busy": "2023-02-27T07:17:15.956207Z",
     "iopub.status.idle": "2023-02-27T07:17:15.966297Z",
     "shell.execute_reply": "2023-02-27T07:17:15.965379Z"
    },
    "papermill": {
     "duration": 0.022278,
     "end_time": "2023-02-27T07:17:15.968305",
     "exception": false,
     "start_time": "2023-02-27T07:17:15.946027",
     "status": "completed"
    },
    "tags": []
   },
   "outputs": [],
   "source": [
    "def target_merge_helmet(target_df_, helmet_df_, feature_cols_):\n",
    "    print(\"original length\", len(target_df_))\n",
    "    # set merge-key (game_frame_player_1,2) to merge helmet_df\n",
    "    target_df_ = target_df_.with_column(((pl.col(\"step\").cast(int)/10*59.94+5*59.94).cast(int)+1).alias(\"frame\"))\n",
    "    target_df_ = target_df_.with_column(pl.concat_str([pl.col(\"game_play\"),\n",
    "                                                     pl.col(\"frame\").cast(str),\n",
    "                                                     pl.col(\"nfl_player_id_1\"),\n",
    "                                                    ], sep='_').alias('game_frame_player_1'))\n",
    "    target_df_ = target_df_.with_column(pl.concat_str([pl.col(\"game_play\"),\n",
    "                                                     pl.col(\"frame\").cast(str),\n",
    "                                                     pl.col(\"nfl_player_id_2\"),\n",
    "                                                    ], sep='_').alias('game_frame_player_2'))\n",
    "    # set merge key\n",
    "    helmet_df_ = helmet_df_.with_column(pl.concat_str([pl.col(\"game_play\"),\n",
    "                                                     pl.col(\"frame\").cast(str),\n",
    "                                                     pl.col(\"nfl_player_id\"),\n",
    "                                                    ], sep='_').alias('game_frame_player'))\n",
    "\n",
    "    # merge target df & helmet_df\n",
    "    player_views = [[1, \"Endzone\"],[2, \"Endzone\"], [1, \"Sideline\"],[2, \"Sideline\"]]\n",
    "    for player_id, view in player_views:\n",
    "        helmet_view = helmet_df_.filter(pl.col(\"view\")==view)\n",
    "        helmet_view = helmet_view[[\"game_frame_player\", \"left\", \"width\", \"top\", \"height\"]]\n",
    "        helmet_view = helmet_view.select(pl.all().suffix(f\"_{player_id}\"))\n",
    "        helmet_view = helmet_view.select([pl.col(helmet_view.columns[0]), pl.col(helmet_view.columns[1:]).prefix(f\"{view[0]}_\")])\n",
    "        target_df_ = target_df_.join(helmet_view, on=f\"game_frame_player_{player_id}\", how=\"left\")  \n",
    "        # add features col\n",
    "        feature_cols_ = add_feature_cols(helmet_view, feature_cols_, [f\"game_frame_player_{player_id}\"])\n",
    "\n",
    "    print(len(target_df_.columns))\n",
    "    print(\"original length\", len(target_df_))\n",
    "    return target_df_, feature_cols_"
   ]
  },
  {
   "cell_type": "markdown",
   "id": "4c9adfb6",
   "metadata": {
    "papermill": {
     "duration": 0.008861,
     "end_time": "2023-02-27T07:17:15.986309",
     "exception": false,
     "start_time": "2023-02-27T07:17:15.977448",
     "status": "completed"
    },
    "tags": []
   },
   "source": [
    "## Create feature function"
   ]
  },
  {
   "cell_type": "code",
   "execution_count": 9,
   "id": "0a1bb120",
   "metadata": {
    "execution": {
     "iopub.execute_input": "2023-02-27T07:17:16.005673Z",
     "iopub.status.busy": "2023-02-27T07:17:16.005397Z",
     "iopub.status.idle": "2023-02-27T07:17:16.011961Z",
     "shell.execute_reply": "2023-02-27T07:17:16.010939Z"
    },
    "papermill": {
     "duration": 0.01882,
     "end_time": "2023-02-27T07:17:16.014253",
     "exception": false,
     "start_time": "2023-02-27T07:17:15.995433",
     "status": "completed"
    },
    "tags": []
   },
   "outputs": [],
   "source": [
    "def get_tracking_shift(tracking_df_, shift_cols=[\"x_position\",\"y_position\"], shift_nums=range(-6,6,1)):\n",
    "    # get shift key\n",
    "    tracking_df_ = tracking_df_.with_column(pl.concat_str([pl.col(\"game_play\"),\n",
    "                                                         pl.col(\"nfl_player_id\"),\n",
    "                                                        ], sep='_').alias('shift_key'))\n",
    "    # get shift features\n",
    "    shift_col_list = []\n",
    "    for num in shift_nums:\n",
    "        tracking_df_ = tracking_df_.with_columns(\n",
    "                            pl.col(shift_cols).shift(periods=num).over(\"shift_key\").suffix(f\"_shift{num}\"))\n",
    "    for col in shift_cols:\n",
    "        colname = [f\"{col}_shift{idx}\" for idx in shift_nums]\n",
    "        shift_col_list.extend(colname)\n",
    "                    \n",
    "    return tracking_df_, shift_col_list"
   ]
  },
  {
   "cell_type": "code",
   "execution_count": 10,
   "id": "d2054a3a",
   "metadata": {
    "execution": {
     "iopub.execute_input": "2023-02-27T07:17:16.033653Z",
     "iopub.status.busy": "2023-02-27T07:17:16.033392Z",
     "iopub.status.idle": "2023-02-27T07:17:16.045279Z",
     "shell.execute_reply": "2023-02-27T07:17:16.044442Z"
    },
    "papermill": {
     "duration": 0.02384,
     "end_time": "2023-02-27T07:17:16.047240",
     "exception": false,
     "start_time": "2023-02-27T07:17:16.023400",
     "status": "completed"
    },
    "tags": []
   },
   "outputs": [],
   "source": [
    "def create_trackmerged_ftr(target_df_, feature_cols_,\n",
    "                           diff_cols = ['x_position', 'y_position', 'speed', 'distance',\n",
    "                                        'direction', 'orientation', 'acceleration', 'sa']):    \n",
    "#     target_df_ = target_df_.with_column((np.sqrt(np.square(pl.col(\"x_position_1\")-pl.col(\"x_position_2\")) \\\n",
    "#                                               + np.square(pl.col(\"y_position_1\")-pl.col(\"y_position_2\"))) \\\n",
    "#                                       ).alias(\"players_dis\"))\n",
    "    target_df_ = target_df_.with_column((np.sqrt(np.square(pl.col(\"x_position_1\")*120. - pl.col(\"x_position_2\")*120.) \\\n",
    "                                              + np.square(pl.col(\"y_position_1\")*60. - pl.col(\"y_position_2\")*60.)) \\\n",
    "                                      ).alias(\"players_dis\"))\n",
    "    target_df_ = target_df_.with_column(pl.col(\"players_dis\").fill_null(0))\n",
    "    \n",
    "    # players distance sum(in shift range time : default(-6~6 frames not step))\n",
    "    players_distance_sum = 0\n",
    "    for idx in range(-6,6,1):\n",
    "        players_distance_sum += np.sqrt((target_df_[f\"x_position_shift{idx}_1\"] - target_df_[f\"x_position_shift{idx}_2\"])**2 \\\n",
    "                                       + (target_df_[f\"y_position_shift{idx}_1\"] - target_df_[f\"y_position_shift{idx}_2\"])**2)\n",
    "    target_df_ = target_df_.with_column(pl.Series(\"players_distance_sum\", players_distance_sum))\n",
    "    target_df_ = target_df_.with_column(pl.col(\"players_distance_sum\").fill_null(0))\n",
    "    feature_cols_.append(\"players_distance_sum\")\n",
    "\n",
    "    # players each axis distance sum(in shift range time : default(-6~6 frames not step))\n",
    "    for axis in [\"x\", \"y\"]:\n",
    "        axis_distance_1 = 0\n",
    "        axis_distance_2 = 0\n",
    "        for idx in range(-6, 5, 1):\n",
    "            axis_distance_1 += abs(target_df_[f\"{axis}_position_shift{idx}_1\"] - target_df_[f\"{axis}_position_shift{idx+1}_1\"])\n",
    "            axis_distance_2 += abs(target_df_[f\"{axis}_position_shift{idx}_2\"] - target_df_[f\"{axis}_position_shift{idx+1}_2\"])\n",
    "        target_df_ = target_df_.with_column(pl.Series(f\"{axis}_move_distance_1\", axis_distance_1))\n",
    "        target_df_ = target_df_.with_column(pl.col(f\"{axis}_move_distance_1\").fill_null(0))\n",
    "        target_df_ = target_df_.with_column(pl.Series(f\"{axis}_move_distance_2\", axis_distance_2))\n",
    "        target_df_ = target_df_.with_column(pl.col(f\"{axis}_move_distance_2\").fill_null(0))\n",
    "        feature_cols_.extend([f\"{axis}_move_distance_1\", f\"{axis}_move_distance_2\"])\n",
    "\n",
    "    # players difference ftr (in each step)\n",
    "    for col in diff_cols:\n",
    "        colname = f\"{col}_diff\"\n",
    "        target_df_ = target_df_.with_column((abs(pl.col(f\"{col}_1\") - pl.col(f\"{col}_2\"))).alias(colname))\n",
    "        target_df_ = target_df_.with_column(pl.col(colname).fill_null(0))\n",
    "        feature_cols_.append(colname)\n",
    "        \n",
    "    return target_df_, feature_cols_"
   ]
  },
  {
   "cell_type": "code",
   "execution_count": 11,
   "id": "3ba4359b",
   "metadata": {
    "execution": {
     "iopub.execute_input": "2023-02-27T07:17:16.067813Z",
     "iopub.status.busy": "2023-02-27T07:17:16.066397Z",
     "iopub.status.idle": "2023-02-27T07:17:16.074760Z",
     "shell.execute_reply": "2023-02-27T07:17:16.073850Z"
    },
    "papermill": {
     "duration": 0.020491,
     "end_time": "2023-02-27T07:17:16.076900",
     "exception": false,
     "start_time": "2023-02-27T07:17:16.056409",
     "status": "completed"
    },
    "tags": []
   },
   "outputs": [],
   "source": [
    "def create_roll_ftr(target_df_, feature_cols_,\n",
    "                    roll_cols = ['players_dis', 'x_position_diff', 'y_position_diff', \n",
    "                                  'speed_diff', 'distance_diff','direction_diff',\n",
    "                                  'orientation_diff', 'acceleration_diff', 'sa_diff'],\n",
    "                    key_cols = [\"contact_id\", \"game_play\", \"nfl_player_id_1\", \n",
    "                                \"nfl_player_id_2\", \"step\"]):\n",
    "    roll_df = target_df_.select(roll_cols+key_cols)\n",
    "\n",
    "    roll_df = roll_df.with_column(pl.concat_str([pl.col(\"game_play\"),\n",
    "                                                 pl.col(\"nfl_player_id_1\"),\n",
    "                                                 pl.col(\"nfl_player_id_2\"),\n",
    "                                                ], sep='_').alias('key'))\n",
    "    # cast datetime\n",
    "\n",
    "    # groupby rolling\n",
    "    roll_df = roll_df.groupby_dynamic(\"step\", every=\"1i\", period=\"6i\", by=\"key\", closed=\"both\").agg([pl.col(roll_cols).sum().suffix(\"_rollsum\"), pl.col(\"contact_id\")])\n",
    "    roll_df = roll_df.with_column(pl.col(\"contact_id\").apply(lambda x:x[0]))\n",
    "    roll_df = roll_df.drop([\"key\", \"step\"])\n",
    "    target_df_ = target_df_.join(roll_df, on=\"contact_id\", how=\"left\")\n",
    "    additional_cols = [col+\"_rollsum\" for col in roll_cols]\n",
    "    feature_cols_.extend(additional_cols)\n",
    "    return target_df_, feature_cols_"
   ]
  },
  {
   "cell_type": "code",
   "execution_count": 12,
   "id": "a9345d13",
   "metadata": {
    "_kg_hide-output": true,
    "execution": {
     "iopub.execute_input": "2023-02-27T07:17:16.096634Z",
     "iopub.status.busy": "2023-02-27T07:17:16.095774Z",
     "iopub.status.idle": "2023-02-27T07:17:16.105065Z",
     "shell.execute_reply": "2023-02-27T07:17:16.104253Z"
    },
    "papermill": {
     "duration": 0.021048,
     "end_time": "2023-02-27T07:17:16.107012",
     "exception": false,
     "start_time": "2023-02-27T07:17:16.085964",
     "status": "completed"
    },
    "tags": []
   },
   "outputs": [],
   "source": [
    "def create_helmetmerged_ftr(target_df_, feature_cols_):\n",
    "    # helmet center distance feature\n",
    "    for view in [\"Endzone\", \"Sideline\"]:\n",
    "        for p_id in [\"1\", \"2\"]: \n",
    "            # get helmet center\n",
    "            target_df_ = target_df_.with_column((pl.col(f\"{view[0]}_left_{p_id}\") + (pl.col(f\"{view[0]}_width_{p_id}\")//2)).alias(f\"{view[0]}_Wcenter_{p_id}\"))\n",
    "            target_df_ = target_df_.with_column((pl.col(f\"{view[0]}_top_{p_id}\") + (pl.col(f\"{view[0]}_height_{p_id}\")//2)).alias(f\"{view[0]}_Hcenter_{p_id}\"))\n",
    "        # helmet center distance\n",
    "        target_df_ = target_df_.with_column((np.sqrt(np.square(pl.col(f\"{view[0]}_Wcenter_1\") - pl.col(f\"{view[0]}_Wcenter_2\")) \\\n",
    "                                                  + np.square(pl.col(f\"{view[0]}_Hcenter_1\") - pl.col(f\"{view[0]}_Hcenter_2\")))\n",
    "                                          ).alias(f\"{view[0]}_helmet_dis\"))\n",
    "\n",
    "        # GがNanになるので0にしておく\n",
    "        target_df_ = target_df_.with_column(pl.col(f\"{view[0]}_helmet_dis\").fill_null(0))\n",
    "        feature_cols_.append(f\"{view[0]}_helmet_dis\")\n",
    "    \n",
    "    # helmet cols fillna(0) after get helmet distance \n",
    "    helmet_cols = ['E_left_1', 'E_width_1', 'E_top_1', 'E_height_1',\n",
    "                   'E_left_2', 'E_width_2', 'E_top_2', 'E_height_2', \n",
    "                   'S_left_1','S_width_1', 'S_top_1', 'S_height_1', \n",
    "                   'S_left_2', 'S_width_2', 'S_top_2', 'S_height_2']\n",
    "    target_df_ = target_df_.with_column(pl.col(helmet_cols).fill_null(0))\n",
    "\n",
    "    return target_df_, feature_cols_"
   ]
  },
  {
   "cell_type": "code",
   "execution_count": 13,
   "id": "307d2f4f",
   "metadata": {
    "execution": {
     "iopub.execute_input": "2023-02-27T07:17:16.127354Z",
     "iopub.status.busy": "2023-02-27T07:17:16.125996Z",
     "iopub.status.idle": "2023-02-27T07:17:16.134878Z",
     "shell.execute_reply": "2023-02-27T07:17:16.134030Z"
    },
    "papermill": {
     "duration": 0.020645,
     "end_time": "2023-02-27T07:17:16.136782",
     "exception": false,
     "start_time": "2023-02-27T07:17:16.116137",
     "status": "completed"
    },
    "tags": []
   },
   "outputs": [],
   "source": [
    "def get_categorical_ftr(target_df_, feature_cols_):\n",
    "    target_df_ = target_df_.with_column((pl.col(\"nfl_player_id_2\")== \"G\").cast(int).alias(\"is_ground\"))\n",
    "    # set team \n",
    "    target_df_ = target_df_.with_column(((pl.col(\"team_1\")==\"home\").cast(int)).alias(\"team_1\"))\n",
    "    target_df_ = target_df_.with_column(((pl.col(\"team_2\")==\"home\").cast(int)).alias(\"team_2\"))\n",
    "    target_df_ = target_df_.with_column(pl.col('nfl_player_id_2').str.replace(\"G\", \"99999\"))\n",
    "    \n",
    "    target_df_ = target_df_.with_column((1 - ((pl.col(\"E_width_1\")==0) & (pl.col(\"E_width_2\")==0)).cast(int)).alias(\"is_E_helmet\"))\n",
    "    target_df_ = target_df_.with_column((1 - ((pl.col(\"S_width_1\")==0) & (pl.col(\"S_width_2\")==0)).cast(int)).alias(\"is_S_helmet\"))\n",
    "    target_df_ = target_df_.with_column(((pl.col(\"is_E_helmet\")==1) & (pl.col(\"is_S_helmet\")==1)).cast(int).alias(\"both_helmet\"))\n",
    "    \n",
    "    target_df_ = target_df_.with_column(pl.col([\"nfl_player_id_1\", \"nfl_player_id_2\"]).cast(int))\n",
    "    \n",
    "    target_df_ = target_df_.fill_null(0)\n",
    "    target_df_ = target_df_.fill_nan(0)\n",
    "    feature_cols_.extend([\"is_ground\",\"is_E_helmet\", \"is_S_helmet\", \"both_helmet\"])\n",
    "    return target_df_, feature_cols_"
   ]
  },
  {
   "cell_type": "markdown",
   "id": "64dceb77",
   "metadata": {
    "papermill": {
     "duration": 0.009107,
     "end_time": "2023-02-27T07:17:16.154918",
     "exception": false,
     "start_time": "2023-02-27T07:17:16.145811",
     "status": "completed"
    },
    "tags": []
   },
   "source": [
    "# Merge NN df"
   ]
  },
  {
   "cell_type": "code",
   "execution_count": 14,
   "id": "3e6a829a",
   "metadata": {
    "execution": {
     "iopub.execute_input": "2023-02-27T07:17:16.203649Z",
     "iopub.status.busy": "2023-02-27T07:17:16.203392Z",
     "iopub.status.idle": "2023-02-27T07:17:16.210287Z",
     "shell.execute_reply": "2023-02-27T07:17:16.209357Z"
    },
    "papermill": {
     "duration": 0.022479,
     "end_time": "2023-02-27T07:17:16.212247",
     "exception": false,
     "start_time": "2023-02-27T07:17:16.189768",
     "status": "completed"
    },
    "tags": []
   },
   "outputs": [],
   "source": [
    "def target_merge_emb(target_df_, nn_df_, feature_cols, view_, model_num, fillna_num=0):\n",
    "    use_cols = [\"contact_id\"]\n",
    "    cnn_ftr_list_ = [f\"img_emb_{idx}\" for idx in range(5)]\n",
    "    cnn_ftr_list_.append(\"pred\")\n",
    "    use_cols.extend(cnn_ftr_list_)\n",
    "    # set use cols\n",
    "    nn_df_ = nn_df_.select(use_cols)\n",
    "    nn_df_ = nn_df_.with_columns(pl.col(cnn_ftr_list_).prefix(f\"m{model_num}_{view[0]}_\"))\n",
    "    target_df_ = target_df_.join(nn_df_, on=\"contact_id\", how=\"left\")\n",
    "    target_df_ = target_df_.fill_null(fillna_num)\n",
    "    target_df_ = target_df_.fill_nan(fillna_num)\n",
    "    # add feature cols\n",
    "    prefix_cnnftr_list_ = [f\"m{model_num}_{view[0]}_img_emb_{idx}\" for idx in range(5)]\n",
    "    prefix_cnnftr_list_.append(f\"m{model_num}_{view[0]}_pred\")\n",
    "    feature_cols.extend(prefix_cnnftr_list_)\n",
    "    target_df_ = target_df_.drop(cnn_ftr_list_)\n",
    "    return target_df_, feature_cols"
   ]
  },
  {
   "cell_type": "code",
   "execution_count": 15,
   "id": "0d005073",
   "metadata": {
    "execution": {
     "iopub.execute_input": "2023-02-27T07:17:16.232891Z",
     "iopub.status.busy": "2023-02-27T07:17:16.232610Z",
     "iopub.status.idle": "2023-02-27T07:17:16.238353Z",
     "shell.execute_reply": "2023-02-27T07:17:16.237445Z"
    },
    "papermill": {
     "duration": 0.018794,
     "end_time": "2023-02-27T07:17:16.240232",
     "exception": false,
     "start_time": "2023-02-27T07:17:16.221438",
     "status": "completed"
    },
    "tags": []
   },
   "outputs": [],
   "source": [
    "def target_merge_trackemb(target_df_, nn_df_, feature_cols, fillna_num=0):\n",
    "    use_cols = [\"contact_id\"]\n",
    "    ftr_list_ = [f\"track_emb_{idx}\" for idx in range(3)]\n",
    "    use_cols.extend(ftr_list_)\n",
    "    # set use cols\n",
    "    nn_df_ = nn_df_.select(use_cols)\n",
    "    target_df_ = target_df_.join(nn_df_, on=\"contact_id\", how=\"left\")\n",
    "    target_df_ = target_df_.fill_null(fillna_num)\n",
    "    target_df_ = target_df_.fill_nan(fillna_num)\n",
    "    # add feature cols\n",
    "    ftr_list_ = [f\"track_emb_{idx}\" for idx in range(3)]\n",
    "    feature_cols.extend(ftr_list_)\n",
    "    return target_df_, feature_cols"
   ]
  },
  {
   "cell_type": "markdown",
   "id": "d2e65ef0",
   "metadata": {
    "papermill": {
     "duration": 0.008844,
     "end_time": "2023-02-27T07:17:16.258173",
     "exception": false,
     "start_time": "2023-02-27T07:17:16.249329",
     "status": "completed"
    },
    "tags": []
   },
   "source": [
    "# Post Proc"
   ]
  },
  {
   "cell_type": "code",
   "execution_count": 16,
   "id": "45a3fb69",
   "metadata": {
    "execution": {
     "iopub.execute_input": "2023-02-27T07:17:16.278369Z",
     "iopub.status.busy": "2023-02-27T07:17:16.277563Z",
     "iopub.status.idle": "2023-02-27T07:17:16.285198Z",
     "shell.execute_reply": "2023-02-27T07:17:16.284280Z"
    },
    "papermill": {
     "duration": 0.020012,
     "end_time": "2023-02-27T07:17:16.287245",
     "exception": false,
     "start_time": "2023-02-27T07:17:16.267233",
     "status": "completed"
    },
    "tags": []
   },
   "outputs": [],
   "source": [
    "def post_proc_roll(sub_, target_df_, window_size_):\n",
    "    sub_ = pd.merge(sub_, target_df_[[\"contact_id\", \"pred\"]], on=\"contact_id\", how=\"left\")\n",
    "    sub_ = sub_.fillna(0)\n",
    "    proc_df = sub_.copy()\n",
    "    proc_cols = [\"contact_id\", \"game_play\", \"nfl_player_id_1\", \"nfl_player_id_2\",\"step\", \"pred\", \"contact\"]\n",
    "    proc_df = proc_df[proc_cols]\n",
    "    proc_df[\"proc_key\"] = proc_df[\"game_play\"] + \"_\" + proc_df[\"nfl_player_id_1\"].astype(\"str\") + \"_\" + proc_df[\"nfl_player_id_2\"].astype(\"str\")\n",
    "    \n",
    "    proc_pred = proc_df.groupby(\"proc_key\")[\"pred\"].rolling(window_size, center=True).mean().reset_index().set_index(\"level_1\")\n",
    "    proc_pred = proc_pred.rename(columns={\"pred\":\"proc_pred\"})    \n",
    "\n",
    "    proc_df = pd.concat([proc_df, proc_pred], axis=1)\n",
    "    proc_df[\"proc_pred\"] = proc_df[\"proc_pred\"].fillna(proc_df[\"pred\"])\n",
    "    return proc_df"
   ]
  },
  {
   "cell_type": "markdown",
   "id": "1ada3382",
   "metadata": {
    "papermill": {
     "duration": 0.008853,
     "end_time": "2023-02-27T07:17:16.305139",
     "exception": false,
     "start_time": "2023-02-27T07:17:16.296286",
     "status": "completed"
    },
    "tags": []
   },
   "source": [
    "---"
   ]
  },
  {
   "cell_type": "markdown",
   "id": "fc07e09a",
   "metadata": {
    "papermill": {
     "duration": 0.008924,
     "end_time": "2023-02-27T07:17:16.323111",
     "exception": false,
     "start_time": "2023-02-27T07:17:16.314187",
     "status": "completed"
    },
    "tags": []
   },
   "source": [
    "# Load Target"
   ]
  },
  {
   "cell_type": "code",
   "execution_count": 17,
   "id": "7f8f2be1",
   "metadata": {
    "execution": {
     "iopub.execute_input": "2023-02-27T07:17:16.343892Z",
     "iopub.status.busy": "2023-02-27T07:17:16.342509Z",
     "iopub.status.idle": "2023-02-27T07:17:19.895390Z",
     "shell.execute_reply": "2023-02-27T07:17:19.894381Z"
    },
    "papermill": {
     "duration": 3.565375,
     "end_time": "2023-02-27T07:17:19.897834",
     "exception": false,
     "start_time": "2023-02-27T07:17:16.332459",
     "status": "completed"
    },
    "tags": []
   },
   "outputs": [],
   "source": [
    "target_dtypes = {'contact_id':str, \n",
    "                'game_play':str,\n",
    "                'datetime':str,\n",
    "                'step':int,\n",
    "                'nfl_player_id_1':str,\n",
    "                'nfl_player_id_2':str,\n",
    "                'contact':int,\n",
    "                }\n",
    "target_df = pl.read_csv(CFG[\"TRAIN_LABEL_CSV\"], dtypes=target_dtypes)    \n",
    "\n",
    "FEATURE_COLS = [\"nfl_player_id_1\", \"nfl_player_id_2\", \"step\"]"
   ]
  },
  {
   "cell_type": "markdown",
   "id": "2874c40d",
   "metadata": {
    "papermill": {
     "duration": 0.009057,
     "end_time": "2023-02-27T07:17:19.916408",
     "exception": false,
     "start_time": "2023-02-27T07:17:19.907351",
     "status": "completed"
    },
    "tags": []
   },
   "source": [
    "# Merge tracking_df"
   ]
  },
  {
   "cell_type": "code",
   "execution_count": 18,
   "id": "f546fc6e",
   "metadata": {
    "execution": {
     "iopub.execute_input": "2023-02-27T07:17:19.936982Z",
     "iopub.status.busy": "2023-02-27T07:17:19.935463Z",
     "iopub.status.idle": "2023-02-27T07:18:15.139479Z",
     "shell.execute_reply": "2023-02-27T07:18:15.138467Z"
    },
    "papermill": {
     "duration": 55.21651,
     "end_time": "2023-02-27T07:18:15.141948",
     "exception": false,
     "start_time": "2023-02-27T07:17:19.925438",
     "status": "completed"
    },
    "tags": []
   },
   "outputs": [
    {
     "name": "stdout",
     "output_type": "stream",
     "text": [
      "77\n",
      "original length 4721618\n"
     ]
    }
   ],
   "source": [
    "tracking_df = pl.read_csv(CFG[\"TRAIN_TRACKING_CSV\"])\n",
    "tracking_df, SHIFT_COLS = get_tracking_shift(tracking_df)\n",
    "target_df, FEATURE_COLS = target_merge_tracking(target_df, tracking_df, FEATURE_COLS, SHIFT_COLS)\n",
    "\n",
    "del tracking_df\n",
    "\n",
    "target_df, FEATURE_COLS = create_trackmerged_ftr(target_df, FEATURE_COLS)\n",
    "target_df, FEATURE_COLS = create_roll_ftr(target_df, FEATURE_COLS)"
   ]
  },
  {
   "cell_type": "markdown",
   "id": "51ed9b5b",
   "metadata": {
    "papermill": {
     "duration": 0.00906,
     "end_time": "2023-02-27T07:18:15.160773",
     "exception": false,
     "start_time": "2023-02-27T07:18:15.151713",
     "status": "completed"
    },
    "tags": []
   },
   "source": [
    "# Exclude distance > 2"
   ]
  },
  {
   "cell_type": "code",
   "execution_count": 19,
   "id": "d01b078b",
   "metadata": {
    "execution": {
     "iopub.execute_input": "2023-02-27T07:18:15.180753Z",
     "iopub.status.busy": "2023-02-27T07:18:15.180447Z",
     "iopub.status.idle": "2023-02-27T07:18:16.178087Z",
     "shell.execute_reply": "2023-02-27T07:18:16.177092Z"
    },
    "papermill": {
     "duration": 1.010291,
     "end_time": "2023-02-27T07:18:16.180569",
     "exception": false,
     "start_time": "2023-02-27T07:18:15.170278",
     "status": "completed"
    },
    "tags": []
   },
   "outputs": [
    {
     "name": "stdout",
     "output_type": "stream",
     "text": [
      "660550\n"
     ]
    }
   ],
   "source": [
    "target_df = target_df.filter(pl.col(\"players_dis\") <= 2)\n",
    "print(len(target_df))"
   ]
  },
  {
   "cell_type": "markdown",
   "id": "aaaf607a",
   "metadata": {
    "papermill": {
     "duration": 0.01661,
     "end_time": "2023-02-27T07:18:16.214344",
     "exception": false,
     "start_time": "2023-02-27T07:18:16.197734",
     "status": "completed"
    },
    "tags": []
   },
   "source": [
    "# Merge helmet df"
   ]
  },
  {
   "cell_type": "code",
   "execution_count": 20,
   "id": "11a42ccf",
   "metadata": {
    "execution": {
     "iopub.execute_input": "2023-02-27T07:18:16.250628Z",
     "iopub.status.busy": "2023-02-27T07:18:16.250250Z",
     "iopub.status.idle": "2023-02-27T07:18:25.895256Z",
     "shell.execute_reply": "2023-02-27T07:18:25.894223Z"
    },
    "papermill": {
     "duration": 9.665491,
     "end_time": "2023-02-27T07:18:25.897684",
     "exception": false,
     "start_time": "2023-02-27T07:18:16.232193",
     "status": "completed"
    },
    "tags": []
   },
   "outputs": [
    {
     "name": "stdout",
     "output_type": "stream",
     "text": [
      "original length 660550\n",
      "119\n",
      "original length 660550\n",
      "660550\n"
     ]
    }
   ],
   "source": [
    "helmet_df = pl.read_csv(CFG[\"TRAIN_HELMET_CSV\"])\n",
    "target_df, FEATURE_COLS = target_merge_helmet(target_df, helmet_df, FEATURE_COLS)\n",
    "target_df, FEATURE_COLS = create_helmetmerged_ftr(target_df, FEATURE_COLS)\n",
    "target_df, FEATURE_COLS = get_categorical_ftr(target_df, FEATURE_COLS)\n",
    "print(len(target_df))"
   ]
  },
  {
   "cell_type": "markdown",
   "id": "9556e0ff",
   "metadata": {
    "papermill": {
     "duration": 0.009375,
     "end_time": "2023-02-27T07:18:25.917417",
     "exception": false,
     "start_time": "2023-02-27T07:18:25.908042",
     "status": "completed"
    },
    "tags": []
   },
   "source": [
    "# Merge NN feature"
   ]
  },
  {
   "cell_type": "code",
   "execution_count": 21,
   "id": "086c3b8b",
   "metadata": {
    "execution": {
     "iopub.execute_input": "2023-02-27T07:18:25.938596Z",
     "iopub.status.busy": "2023-02-27T07:18:25.937684Z",
     "iopub.status.idle": "2023-02-27T07:18:30.252828Z",
     "shell.execute_reply": "2023-02-27T07:18:30.251698Z"
    },
    "papermill": {
     "duration": 4.327858,
     "end_time": "2023-02-27T07:18:30.254905",
     "exception": false,
     "start_time": "2023-02-27T07:18:25.927047",
     "status": "completed"
    },
    "tags": []
   },
   "outputs": [
    {
     "name": "stdout",
     "output_type": "stream",
     "text": [
      "660550\n"
     ]
    }
   ],
   "source": [
    "nn_df = pl.read_csv(CFG[\"NN_FEATURE_CSV_1\"])\n",
    "\n",
    "for view in [\"Endzone\", \"Sideline\"]:\n",
    "    if view == \"Endzone\":\n",
    "        view_nn_df = nn_df.filter(pl.col(\"is_End\")==1)\n",
    "        target_df, FEATURE_COLS = target_merge_emb(target_df, view_nn_df, FEATURE_COLS, view, 0)\n",
    "    else:\n",
    "        view_nn_df = nn_df.filter(pl.col(\"is_End\")==1)\n",
    "        target_df, FEATURE_COLS = target_merge_emb(target_df, view_nn_df, FEATURE_COLS, view, 0)\n",
    "print(len(target_df))"
   ]
  },
  {
   "cell_type": "code",
   "execution_count": 22,
   "id": "f9a8c1af",
   "metadata": {
    "execution": {
     "iopub.execute_input": "2023-02-27T07:18:30.277064Z",
     "iopub.status.busy": "2023-02-27T07:18:30.275383Z",
     "iopub.status.idle": "2023-02-27T07:18:35.309139Z",
     "shell.execute_reply": "2023-02-27T07:18:35.307079Z"
    },
    "papermill": {
     "duration": 5.046695,
     "end_time": "2023-02-27T07:18:35.311434",
     "exception": false,
     "start_time": "2023-02-27T07:18:30.264739",
     "status": "completed"
    },
    "tags": []
   },
   "outputs": [
    {
     "name": "stdout",
     "output_type": "stream",
     "text": [
      "660550\n"
     ]
    }
   ],
   "source": [
    "nn_df = pl.read_csv(CFG[\"NN_FEATURE_CSV_2\"])\n",
    "\n",
    "for view in [\"Endzone\", \"Sideline\"]:\n",
    "    if view == \"Endzone\":\n",
    "        view_nn_df = nn_df.filter(pl.col(\"is_End\")==1)\n",
    "        target_df, FEATURE_COLS = target_merge_emb(target_df, view_nn_df, FEATURE_COLS, view, 1)\n",
    "    else:\n",
    "        view_nn_df = nn_df.filter(pl.col(\"is_End\")==1)\n",
    "        target_df, FEATURE_COLS = target_merge_emb(target_df, view_nn_df, FEATURE_COLS, view, 1)\n",
    "print(len(target_df))"
   ]
  },
  {
   "cell_type": "code",
   "execution_count": 23,
   "id": "2888740b",
   "metadata": {
    "execution": {
     "iopub.execute_input": "2023-02-27T07:18:35.333112Z",
     "iopub.status.busy": "2023-02-27T07:18:35.332807Z",
     "iopub.status.idle": "2023-02-27T07:18:40.195403Z",
     "shell.execute_reply": "2023-02-27T07:18:40.194115Z"
    },
    "papermill": {
     "duration": 4.875613,
     "end_time": "2023-02-27T07:18:40.197760",
     "exception": false,
     "start_time": "2023-02-27T07:18:35.322147",
     "status": "completed"
    },
    "tags": []
   },
   "outputs": [
    {
     "name": "stdout",
     "output_type": "stream",
     "text": [
      "660550\n"
     ]
    }
   ],
   "source": [
    "nn_df = pl.read_csv(CFG[\"NN_FEATURE_CSV_3\"])\n",
    "\n",
    "for view in [\"Endzone\", \"Sideline\"]:\n",
    "    if view == \"Endzone\":\n",
    "        view_nn_df = nn_df.filter(pl.col(\"is_End\")==1)\n",
    "        target_df, FEATURE_COLS = target_merge_emb(target_df, view_nn_df, FEATURE_COLS, view, 2)\n",
    "    else:\n",
    "        view_nn_df = nn_df.filter(pl.col(\"is_End\")==1)\n",
    "        target_df, FEATURE_COLS = target_merge_emb(target_df, view_nn_df, FEATURE_COLS, view, 2)\n",
    "print(len(target_df))"
   ]
  },
  {
   "cell_type": "markdown",
   "id": "797da79c",
   "metadata": {
    "papermill": {
     "duration": 0.009542,
     "end_time": "2023-02-27T07:18:40.217209",
     "exception": false,
     "start_time": "2023-02-27T07:18:40.207667",
     "status": "completed"
    },
    "tags": []
   },
   "source": [
    "# Merge Track NN feature"
   ]
  },
  {
   "cell_type": "code",
   "execution_count": 24,
   "id": "97b805d9",
   "metadata": {
    "execution": {
     "iopub.execute_input": "2023-02-27T07:18:40.238253Z",
     "iopub.status.busy": "2023-02-27T07:18:40.237424Z",
     "iopub.status.idle": "2023-02-27T07:18:42.593623Z",
     "shell.execute_reply": "2023-02-27T07:18:42.592491Z"
    },
    "papermill": {
     "duration": 2.370527,
     "end_time": "2023-02-27T07:18:42.597327",
     "exception": false,
     "start_time": "2023-02-27T07:18:40.226800",
     "status": "completed"
    },
    "tags": []
   },
   "outputs": [
    {
     "name": "stdout",
     "output_type": "stream",
     "text": [
      "660550\n"
     ]
    }
   ],
   "source": [
    "tracknn_df = pl.read_csv(CFG[\"TRACK_FEATURE_CSV\"])\n",
    "target_df, FEATURE_COLS = target_merge_trackemb(target_df, tracknn_df, FEATURE_COLS)\n",
    "print(len(target_df))"
   ]
  },
  {
   "cell_type": "code",
   "execution_count": 25,
   "id": "5d0a35e9",
   "metadata": {
    "execution": {
     "iopub.execute_input": "2023-02-27T07:18:42.640291Z",
     "iopub.status.busy": "2023-02-27T07:18:42.639974Z",
     "iopub.status.idle": "2023-02-27T07:18:42.645037Z",
     "shell.execute_reply": "2023-02-27T07:18:42.644087Z"
    },
    "papermill": {
     "duration": 0.030606,
     "end_time": "2023-02-27T07:18:42.648732",
     "exception": false,
     "start_time": "2023-02-27T07:18:42.618126",
     "status": "completed"
    },
    "tags": []
   },
   "outputs": [
    {
     "name": "stdout",
     "output_type": "stream",
     "text": [
      "['nfl_player_id_1', 'nfl_player_id_2', 'step', 'x_position_1', 'y_position_1', 'speed_1', 'distance_1', 'direction_1', 'orientation_1', 'acceleration_1', 'sa_1', 'team_1', 'jersey_number_1', 'is_lineman_1', 'x_position_shift-6_1', 'x_position_shift-5_1', 'x_position_shift-4_1', 'x_position_shift-3_1', 'x_position_shift-2_1', 'x_position_shift-1_1', 'x_position_shift0_1', 'x_position_shift1_1', 'x_position_shift2_1', 'x_position_shift3_1', 'x_position_shift4_1', 'x_position_shift5_1', 'y_position_shift-6_1', 'y_position_shift-5_1', 'y_position_shift-4_1', 'y_position_shift-3_1', 'y_position_shift-2_1', 'y_position_shift-1_1', 'y_position_shift0_1', 'y_position_shift1_1', 'y_position_shift2_1', 'y_position_shift3_1', 'y_position_shift4_1', 'y_position_shift5_1', 'x_position_2', 'y_position_2', 'speed_2', 'distance_2', 'direction_2', 'orientation_2', 'acceleration_2', 'sa_2', 'team_2', 'jersey_number_2', 'is_lineman_2', 'x_position_shift-6_2', 'x_position_shift-5_2', 'x_position_shift-4_2', 'x_position_shift-3_2', 'x_position_shift-2_2', 'x_position_shift-1_2', 'x_position_shift0_2', 'x_position_shift1_2', 'x_position_shift2_2', 'x_position_shift3_2', 'x_position_shift4_2', 'x_position_shift5_2', 'y_position_shift-6_2', 'y_position_shift-5_2', 'y_position_shift-4_2', 'y_position_shift-3_2', 'y_position_shift-2_2', 'y_position_shift-1_2', 'y_position_shift0_2', 'y_position_shift1_2', 'y_position_shift2_2', 'y_position_shift3_2', 'y_position_shift4_2', 'y_position_shift5_2', 'players_distance_sum', 'x_move_distance_1', 'x_move_distance_2', 'y_move_distance_1', 'y_move_distance_2', 'x_position_diff', 'y_position_diff', 'speed_diff', 'distance_diff', 'direction_diff', 'orientation_diff', 'acceleration_diff', 'sa_diff', 'players_dis_rollsum', 'x_position_diff_rollsum', 'y_position_diff_rollsum', 'speed_diff_rollsum', 'distance_diff_rollsum', 'direction_diff_rollsum', 'orientation_diff_rollsum', 'acceleration_diff_rollsum', 'sa_diff_rollsum', 'E_left_1', 'E_width_1', 'E_top_1', 'E_height_1', 'E_left_2', 'E_width_2', 'E_top_2', 'E_height_2', 'S_left_1', 'S_width_1', 'S_top_1', 'S_height_1', 'S_left_2', 'S_width_2', 'S_top_2', 'S_height_2', 'E_helmet_dis', 'S_helmet_dis', 'is_ground', 'is_E_helmet', 'is_S_helmet', 'both_helmet', 'm0_E_img_emb_0', 'm0_E_img_emb_1', 'm0_E_img_emb_2', 'm0_E_img_emb_3', 'm0_E_img_emb_4', 'm0_E_pred', 'm0_S_img_emb_0', 'm0_S_img_emb_1', 'm0_S_img_emb_2', 'm0_S_img_emb_3', 'm0_S_img_emb_4', 'm0_S_pred', 'm1_E_img_emb_0', 'm1_E_img_emb_1', 'm1_E_img_emb_2', 'm1_E_img_emb_3', 'm1_E_img_emb_4', 'm1_E_pred', 'm1_S_img_emb_0', 'm1_S_img_emb_1', 'm1_S_img_emb_2', 'm1_S_img_emb_3', 'm1_S_img_emb_4', 'm1_S_pred', 'm2_E_img_emb_0', 'm2_E_img_emb_1', 'm2_E_img_emb_2', 'm2_E_img_emb_3', 'm2_E_img_emb_4', 'm2_E_pred', 'm2_S_img_emb_0', 'm2_S_img_emb_1', 'm2_S_img_emb_2', 'm2_S_img_emb_3', 'm2_S_img_emb_4', 'm2_S_pred', 'track_emb_0', 'track_emb_1', 'track_emb_2']\n"
     ]
    }
   ],
   "source": [
    "# FEATURE_COLS = [col for col in FEATURE_COLS if not col in [\"step\"]]\n",
    "print(FEATURE_COLS)"
   ]
  },
  {
   "cell_type": "markdown",
   "id": "72d07fb2",
   "metadata": {
    "papermill": {
     "duration": 0.017005,
     "end_time": "2023-02-27T07:18:42.693696",
     "exception": false,
     "start_time": "2023-02-27T07:18:42.676691",
     "status": "completed"
    },
    "tags": []
   },
   "source": [
    "# Train"
   ]
  },
  {
   "cell_type": "code",
   "execution_count": 26,
   "id": "69b82600",
   "metadata": {},
   "outputs": [],
   "source": [
    "# expand_cols = [\"game_id\", \"play_id\", \"step_split\", \"nfl_player_id_1_split\", \"nfl_player_id_2\"]\n",
    "# target_df = target_df.with_column([pl.col(\"contact_id\").str.split_exact(\"_\", 4)\n",
    "#                                     .struct.rename_fields(expand_cols).alias(\"key\")]).unnest(\"key\")\n",
    "expand_cols = [\"game_id\", \"play_id\"]\n",
    "target_df = target_df.with_column([pl.col(\"contact_id\").str.split_exact(\"_\", 2)\n",
    "                                    .struct.rename_fields(expand_cols).alias(\"key\")]).unnest(\"key\")"
   ]
  },
  {
   "cell_type": "code",
   "execution_count": 27,
   "id": "3a2a70ba",
   "metadata": {
    "execution": {
     "iopub.execute_input": "2023-02-27T07:18:42.725169Z",
     "iopub.status.busy": "2023-02-27T07:18:42.724791Z",
     "iopub.status.idle": "2023-02-27T11:35:55.171731Z",
     "shell.execute_reply": "2023-02-27T11:35:55.169800Z"
    },
    "papermill": {
     "duration": 15432.466865,
     "end_time": "2023-02-27T11:35:55.174103",
     "exception": false,
     "start_time": "2023-02-27T07:18:42.707238",
     "status": "completed"
    },
    "tags": []
   },
   "outputs": [
    {
     "name": "stdout",
     "output_type": "stream",
     "text": [
      "-\n",
      "fold 0\n"
     ]
    },
    {
     "data": {
      "text/plain": [
       "0    118129\n",
       "1     13104\n",
       "Name: contact, dtype: int64"
      ]
     },
     "metadata": {},
     "output_type": "display_data"
    },
    {
     "name": "stdout",
     "output_type": "stream",
     "text": [
      "0:\ttest: 0.8965101\tbest: 0.8965101 (0)\ttotal: 105ms\tremaining: 17m 32s\n",
      "100:\ttest: 0.9504976\tbest: 0.9504976 (100)\ttotal: 4.86s\tremaining: 7m 56s\n",
      "200:\ttest: 0.9569787\tbest: 0.9569787 (200)\ttotal: 9.36s\tremaining: 7m 36s\n",
      "300:\ttest: 0.9597001\tbest: 0.9597001 (300)\ttotal: 13.9s\tremaining: 7m 28s\n",
      "400:\ttest: 0.9611151\tbest: 0.9611151 (400)\ttotal: 18.6s\tremaining: 7m 25s\n",
      "500:\ttest: 0.9622594\tbest: 0.9622594 (500)\ttotal: 23.5s\tremaining: 7m 25s\n",
      "600:\ttest: 0.9629700\tbest: 0.9629700 (600)\ttotal: 28.4s\tremaining: 7m 24s\n",
      "700:\ttest: 0.9635971\tbest: 0.9635971 (700)\ttotal: 33.3s\tremaining: 7m 22s\n",
      "800:\ttest: 0.9641168\tbest: 0.9641168 (800)\ttotal: 38.4s\tremaining: 7m 20s\n",
      "900:\ttest: 0.9645547\tbest: 0.9645547 (900)\ttotal: 43.3s\tremaining: 7m 17s\n",
      "1000:\ttest: 0.9649243\tbest: 0.9649243 (1000)\ttotal: 48.2s\tremaining: 7m 13s\n",
      "1100:\ttest: 0.9652963\tbest: 0.9652963 (1100)\ttotal: 53.2s\tremaining: 7m 10s\n",
      "1200:\ttest: 0.9656285\tbest: 0.9656285 (1200)\ttotal: 58.2s\tremaining: 7m 6s\n",
      "1300:\ttest: 0.9659347\tbest: 0.9659369 (1298)\ttotal: 1m 3s\tremaining: 7m 1s\n",
      "1400:\ttest: 0.9662595\tbest: 0.9662595 (1400)\ttotal: 1m 7s\tremaining: 6m 57s\n",
      "1500:\ttest: 0.9666370\tbest: 0.9666370 (1500)\ttotal: 1m 13s\tremaining: 6m 53s\n",
      "1600:\ttest: 0.9668782\tbest: 0.9668782 (1600)\ttotal: 1m 18s\tremaining: 6m 49s\n",
      "1700:\ttest: 0.9670172\tbest: 0.9670178 (1693)\ttotal: 1m 22s\tremaining: 6m 44s\n",
      "1800:\ttest: 0.9671472\tbest: 0.9671472 (1800)\ttotal: 1m 27s\tremaining: 6m 39s\n",
      "1900:\ttest: 0.9672806\tbest: 0.9672828 (1895)\ttotal: 1m 32s\tremaining: 6m 34s\n",
      "2000:\ttest: 0.9674312\tbest: 0.9674328 (1996)\ttotal: 1m 37s\tremaining: 6m 29s\n",
      "2100:\ttest: 0.9675019\tbest: 0.9675019 (2100)\ttotal: 1m 42s\tremaining: 6m 24s\n",
      "2200:\ttest: 0.9675875\tbest: 0.9675875 (2200)\ttotal: 1m 46s\tremaining: 6m 18s\n",
      "2300:\ttest: 0.9676612\tbest: 0.9676638 (2296)\ttotal: 1m 51s\tremaining: 6m 14s\n",
      "2400:\ttest: 0.9677113\tbest: 0.9677113 (2400)\ttotal: 1m 56s\tremaining: 6m 9s\n",
      "2500:\ttest: 0.9677615\tbest: 0.9677627 (2499)\ttotal: 2m 1s\tremaining: 6m 4s\n",
      "2600:\ttest: 0.9678026\tbest: 0.9678038 (2593)\ttotal: 2m 6s\tremaining: 5m 59s\n",
      "2700:\ttest: 0.9678630\tbest: 0.9678671 (2695)\ttotal: 2m 11s\tremaining: 5m 54s\n",
      "2800:\ttest: 0.9679224\tbest: 0.9679224 (2800)\ttotal: 2m 15s\tremaining: 5m 49s\n",
      "2900:\ttest: 0.9680117\tbest: 0.9680127 (2892)\ttotal: 2m 20s\tremaining: 5m 44s\n",
      "3000:\ttest: 0.9680792\tbest: 0.9680811 (2994)\ttotal: 2m 25s\tremaining: 5m 39s\n",
      "3100:\ttest: 0.9681228\tbest: 0.9681274 (3092)\ttotal: 2m 30s\tremaining: 5m 34s\n",
      "3200:\ttest: 0.9681689\tbest: 0.9681689 (3200)\ttotal: 2m 35s\tremaining: 5m 29s\n",
      "3300:\ttest: 0.9681951\tbest: 0.9681960 (3295)\ttotal: 2m 40s\tremaining: 5m 25s\n",
      "3400:\ttest: 0.9682244\tbest: 0.9682244 (3400)\ttotal: 2m 44s\tremaining: 5m 20s\n",
      "3500:\ttest: 0.9682556\tbest: 0.9682631 (3484)\ttotal: 2m 49s\tremaining: 5m 15s\n",
      "3600:\ttest: 0.9682911\tbest: 0.9682911 (3600)\ttotal: 2m 54s\tremaining: 5m 10s\n",
      "3700:\ttest: 0.9683345\tbest: 0.9683355 (3696)\ttotal: 2m 59s\tremaining: 5m 5s\n",
      "3800:\ttest: 0.9683498\tbest: 0.9683515 (3795)\ttotal: 3m 4s\tremaining: 5m\n",
      "3900:\ttest: 0.9683718\tbest: 0.9683723 (3899)\ttotal: 3m 9s\tremaining: 4m 55s\n",
      "4000:\ttest: 0.9684071\tbest: 0.9684071 (4000)\ttotal: 3m 14s\tremaining: 4m 51s\n",
      "4100:\ttest: 0.9684452\tbest: 0.9684452 (4100)\ttotal: 3m 19s\tremaining: 4m 46s\n",
      "4200:\ttest: 0.9684708\tbest: 0.9684708 (4200)\ttotal: 3m 23s\tremaining: 4m 41s\n",
      "4300:\ttest: 0.9684879\tbest: 0.9684939 (4281)\ttotal: 3m 28s\tremaining: 4m 36s\n",
      "4400:\ttest: 0.9685151\tbest: 0.9685151 (4400)\ttotal: 3m 34s\tremaining: 4m 32s\n",
      "4500:\ttest: 0.9685308\tbest: 0.9685317 (4499)\ttotal: 3m 39s\tremaining: 4m 28s\n",
      "4600:\ttest: 0.9685612\tbest: 0.9685612 (4600)\ttotal: 3m 45s\tremaining: 4m 24s\n",
      "4700:\ttest: 0.9685953\tbest: 0.9685953 (4700)\ttotal: 3m 49s\tremaining: 4m 19s\n",
      "4800:\ttest: 0.9686084\tbest: 0.9686112 (4758)\ttotal: 3m 54s\tremaining: 4m 14s\n",
      "4900:\ttest: 0.9686352\tbest: 0.9686352 (4899)\ttotal: 3m 59s\tremaining: 4m 9s\n",
      "5000:\ttest: 0.9686477\tbest: 0.9686495 (4996)\ttotal: 4m 4s\tremaining: 4m 4s\n",
      "5100:\ttest: 0.9686903\tbest: 0.9686903 (5100)\ttotal: 4m 9s\tremaining: 3m 59s\n",
      "5200:\ttest: 0.9687049\tbest: 0.9687125 (5193)\ttotal: 4m 14s\tremaining: 3m 54s\n",
      "5300:\ttest: 0.9687095\tbest: 0.9687150 (5242)\ttotal: 4m 18s\tremaining: 3m 49s\n",
      "5400:\ttest: 0.9687183\tbest: 0.9687213 (5376)\ttotal: 4m 23s\tremaining: 3m 44s\n",
      "5500:\ttest: 0.9687331\tbest: 0.9687423 (5472)\ttotal: 4m 28s\tremaining: 3m 39s\n",
      "5600:\ttest: 0.9687549\tbest: 0.9687549 (5600)\ttotal: 4m 33s\tremaining: 3m 34s\n",
      "5700:\ttest: 0.9687737\tbest: 0.9687745 (5695)\ttotal: 4m 38s\tremaining: 3m 29s\n",
      "5800:\ttest: 0.9687939\tbest: 0.9688060 (5764)\ttotal: 4m 43s\tremaining: 3m 24s\n",
      "5900:\ttest: 0.9688489\tbest: 0.9688489 (5900)\ttotal: 4m 47s\tremaining: 3m 19s\n",
      "6000:\ttest: 0.9688957\tbest: 0.9688960 (5988)\ttotal: 4m 52s\tremaining: 3m 15s\n",
      "6100:\ttest: 0.9689329\tbest: 0.9689329 (6100)\ttotal: 4m 57s\tremaining: 3m 10s\n",
      "6200:\ttest: 0.9689431\tbest: 0.9689493 (6185)\ttotal: 5m 2s\tremaining: 3m 5s\n",
      "6300:\ttest: 0.9689526\tbest: 0.9689533 (6270)\ttotal: 5m 7s\tremaining: 3m\n",
      "6400:\ttest: 0.9689608\tbest: 0.9689673 (6395)\ttotal: 5m 12s\tremaining: 2m 55s\n",
      "6500:\ttest: 0.9689849\tbest: 0.9689876 (6495)\ttotal: 5m 16s\tremaining: 2m 50s\n",
      "6600:\ttest: 0.9689810\tbest: 0.9689946 (6542)\ttotal: 5m 21s\tremaining: 2m 45s\n",
      "6700:\ttest: 0.9690054\tbest: 0.9690056 (6698)\ttotal: 5m 26s\tremaining: 2m 40s\n",
      "6800:\ttest: 0.9690099\tbest: 0.9690101 (6798)\ttotal: 5m 31s\tremaining: 2m 35s\n",
      "6900:\ttest: 0.9690357\tbest: 0.9690360 (6888)\ttotal: 5m 36s\tremaining: 2m 30s\n",
      "7000:\ttest: 0.9690594\tbest: 0.9690601 (6996)\ttotal: 5m 41s\tremaining: 2m 26s\n",
      "7100:\ttest: 0.9690661\tbest: 0.9690735 (7086)\ttotal: 5m 45s\tremaining: 2m 21s\n",
      "7200:\ttest: 0.9690715\tbest: 0.9690762 (7132)\ttotal: 5m 50s\tremaining: 2m 16s\n",
      "7300:\ttest: 0.9690624\tbest: 0.9690780 (7229)\ttotal: 5m 55s\tremaining: 2m 11s\n",
      "7400:\ttest: 0.9690700\tbest: 0.9690780 (7229)\ttotal: 6m\tremaining: 2m 6s\n",
      "Stopped by overfitting detector  (200 iterations wait)\n",
      "\n",
      "bestTest = 0.9690780083\n",
      "bestIteration = 7229\n",
      "\n",
      "Shrink model to first 7230 iterations.\n"
     ]
    },
    {
     "data": {
      "text/html": [
       "<div>\n",
       "<style scoped>\n",
       "    .dataframe tbody tr th:only-of-type {\n",
       "        vertical-align: middle;\n",
       "    }\n",
       "\n",
       "    .dataframe tbody tr th {\n",
       "        vertical-align: top;\n",
       "    }\n",
       "\n",
       "    .dataframe thead th {\n",
       "        text-align: right;\n",
       "    }\n",
       "</style>\n",
       "<table border=\"1\" class=\"dataframe\">\n",
       "  <thead>\n",
       "    <tr style=\"text-align: right;\">\n",
       "      <th></th>\n",
       "      <th>importance</th>\n",
       "    </tr>\n",
       "  </thead>\n",
       "  <tbody>\n",
       "    <tr>\n",
       "      <th>step</th>\n",
       "      <td>9.602463</td>\n",
       "    </tr>\n",
       "    <tr>\n",
       "      <th>track_emb_1</th>\n",
       "      <td>5.025772</td>\n",
       "    </tr>\n",
       "    <tr>\n",
       "      <th>speed_1</th>\n",
       "      <td>4.558098</td>\n",
       "    </tr>\n",
       "    <tr>\n",
       "      <th>players_distance_sum</th>\n",
       "      <td>4.497914</td>\n",
       "    </tr>\n",
       "    <tr>\n",
       "      <th>track_emb_2</th>\n",
       "      <td>3.989435</td>\n",
       "    </tr>\n",
       "    <tr>\n",
       "      <th>jersey_number_1</th>\n",
       "      <td>2.976818</td>\n",
       "    </tr>\n",
       "    <tr>\n",
       "      <th>y_position_diff</th>\n",
       "      <td>2.839916</td>\n",
       "    </tr>\n",
       "    <tr>\n",
       "      <th>x_position_diff</th>\n",
       "      <td>2.819715</td>\n",
       "    </tr>\n",
       "    <tr>\n",
       "      <th>nfl_player_id_1</th>\n",
       "      <td>2.769730</td>\n",
       "    </tr>\n",
       "    <tr>\n",
       "      <th>m2_E_img_emb_4</th>\n",
       "      <td>2.590314</td>\n",
       "    </tr>\n",
       "    <tr>\n",
       "      <th>track_emb_0</th>\n",
       "      <td>2.221558</td>\n",
       "    </tr>\n",
       "    <tr>\n",
       "      <th>distance_1</th>\n",
       "      <td>2.171688</td>\n",
       "    </tr>\n",
       "    <tr>\n",
       "      <th>S_top_1</th>\n",
       "      <td>2.144599</td>\n",
       "    </tr>\n",
       "    <tr>\n",
       "      <th>m2_S_img_emb_4</th>\n",
       "      <td>2.142411</td>\n",
       "    </tr>\n",
       "    <tr>\n",
       "      <th>jersey_number_2</th>\n",
       "      <td>1.454245</td>\n",
       "    </tr>\n",
       "    <tr>\n",
       "      <th>players_dis_rollsum</th>\n",
       "      <td>1.441621</td>\n",
       "    </tr>\n",
       "    <tr>\n",
       "      <th>team_1</th>\n",
       "      <td>1.432055</td>\n",
       "    </tr>\n",
       "    <tr>\n",
       "      <th>m2_E_pred</th>\n",
       "      <td>1.424057</td>\n",
       "    </tr>\n",
       "    <tr>\n",
       "      <th>S_left_1</th>\n",
       "      <td>1.367267</td>\n",
       "    </tr>\n",
       "    <tr>\n",
       "      <th>team_2</th>\n",
       "      <td>1.349184</td>\n",
       "    </tr>\n",
       "  </tbody>\n",
       "</table>\n",
       "</div>"
      ],
      "text/plain": [
       "                      importance\n",
       "step                    9.602463\n",
       "track_emb_1             5.025772\n",
       "speed_1                 4.558098\n",
       "players_distance_sum    4.497914\n",
       "track_emb_2             3.989435\n",
       "jersey_number_1         2.976818\n",
       "y_position_diff         2.839916\n",
       "x_position_diff         2.819715\n",
       "nfl_player_id_1         2.769730\n",
       "m2_E_img_emb_4          2.590314\n",
       "track_emb_0             2.221558\n",
       "distance_1              2.171688\n",
       "S_top_1                 2.144599\n",
       "m2_S_img_emb_4          2.142411\n",
       "jersey_number_2         1.454245\n",
       "players_dis_rollsum     1.441621\n",
       "team_1                  1.432055\n",
       "m2_E_pred               1.424057\n",
       "S_left_1                1.367267\n",
       "team_2                  1.349184"
      ]
     },
     "metadata": {},
     "output_type": "display_data"
    },
    {
     "name": "stdout",
     "output_type": "stream",
     "text": [
      "Performance of the prediction: 0.96908\n",
      "\n",
      "-\n",
      "fold 1\n"
     ]
    },
    {
     "data": {
      "text/plain": [
       "0    119782\n",
       "1     12623\n",
       "Name: contact, dtype: int64"
      ]
     },
     "metadata": {},
     "output_type": "display_data"
    },
    {
     "name": "stdout",
     "output_type": "stream",
     "text": [
      "0:\ttest: 0.8613552\tbest: 0.8613552 (0)\ttotal: 58.4ms\tremaining: 9m 43s\n",
      "100:\ttest: 0.9474148\tbest: 0.9474270 (97)\ttotal: 4.89s\tremaining: 7m 59s\n",
      "200:\ttest: 0.9546229\tbest: 0.9546229 (200)\ttotal: 10s\tremaining: 8m 8s\n",
      "300:\ttest: 0.9581495\tbest: 0.9581495 (300)\ttotal: 15.2s\tremaining: 8m 9s\n",
      "400:\ttest: 0.9601460\tbest: 0.9601460 (400)\ttotal: 20.3s\tremaining: 8m 6s\n",
      "500:\ttest: 0.9614802\tbest: 0.9614802 (500)\ttotal: 25.3s\tremaining: 8m\n",
      "600:\ttest: 0.9625153\tbest: 0.9625153 (600)\ttotal: 30.2s\tremaining: 7m 52s\n",
      "700:\ttest: 0.9631322\tbest: 0.9631322 (700)\ttotal: 35.1s\tremaining: 7m 46s\n",
      "800:\ttest: 0.9636510\tbest: 0.9636510 (800)\ttotal: 40s\tremaining: 7m 39s\n",
      "900:\ttest: 0.9641014\tbest: 0.9641018 (899)\ttotal: 44.9s\tremaining: 7m 33s\n",
      "1000:\ttest: 0.9644390\tbest: 0.9644390 (1000)\ttotal: 49.9s\tremaining: 7m 28s\n",
      "1100:\ttest: 0.9647968\tbest: 0.9647970 (1099)\ttotal: 54.9s\tremaining: 7m 23s\n",
      "1200:\ttest: 0.9650514\tbest: 0.9650514 (1200)\ttotal: 59.8s\tremaining: 7m 17s\n",
      "1300:\ttest: 0.9652271\tbest: 0.9652296 (1298)\ttotal: 1m 4s\tremaining: 7m 12s\n",
      "1400:\ttest: 0.9654076\tbest: 0.9654076 (1400)\ttotal: 1m 9s\tremaining: 7m 7s\n",
      "1500:\ttest: 0.9657095\tbest: 0.9657095 (1500)\ttotal: 1m 14s\tremaining: 7m 1s\n",
      "1600:\ttest: 0.9658582\tbest: 0.9658595 (1593)\ttotal: 1m 19s\tremaining: 6m 56s\n",
      "1700:\ttest: 0.9659904\tbest: 0.9659913 (1698)\ttotal: 1m 24s\tremaining: 6m 51s\n",
      "1800:\ttest: 0.9661324\tbest: 0.9661324 (1800)\ttotal: 1m 29s\tremaining: 6m 45s\n",
      "1900:\ttest: 0.9663346\tbest: 0.9663399 (1897)\ttotal: 1m 34s\tremaining: 6m 40s\n",
      "2000:\ttest: 0.9665043\tbest: 0.9665065 (1998)\ttotal: 1m 38s\tremaining: 6m 35s\n",
      "2100:\ttest: 0.9666113\tbest: 0.9666113 (2100)\ttotal: 1m 43s\tremaining: 6m 29s\n",
      "2200:\ttest: 0.9666765\tbest: 0.9666796 (2189)\ttotal: 1m 48s\tremaining: 6m 24s\n",
      "2300:\ttest: 0.9668146\tbest: 0.9668146 (2300)\ttotal: 1m 53s\tremaining: 6m 19s\n",
      "2400:\ttest: 0.9669276\tbest: 0.9669281 (2398)\ttotal: 1m 58s\tremaining: 6m 14s\n",
      "2500:\ttest: 0.9670416\tbest: 0.9670428 (2499)\ttotal: 2m 3s\tremaining: 6m 9s\n",
      "2600:\ttest: 0.9671355\tbest: 0.9671362 (2599)\ttotal: 2m 8s\tremaining: 6m 4s\n",
      "2700:\ttest: 0.9672306\tbest: 0.9672351 (2693)\ttotal: 2m 12s\tremaining: 5m 59s\n",
      "2800:\ttest: 0.9673316\tbest: 0.9673316 (2800)\ttotal: 2m 17s\tremaining: 5m 54s\n",
      "2900:\ttest: 0.9674619\tbest: 0.9674619 (2900)\ttotal: 2m 23s\tremaining: 5m 50s\n",
      "3000:\ttest: 0.9675351\tbest: 0.9675351 (3000)\ttotal: 2m 28s\tremaining: 5m 45s\n",
      "3100:\ttest: 0.9675500\tbest: 0.9675534 (3059)\ttotal: 2m 32s\tremaining: 5m 40s\n",
      "3200:\ttest: 0.9675861\tbest: 0.9675914 (3150)\ttotal: 2m 37s\tremaining: 5m 35s\n",
      "3300:\ttest: 0.9676519\tbest: 0.9676534 (3295)\ttotal: 2m 42s\tremaining: 5m 30s\n",
      "3400:\ttest: 0.9676908\tbest: 0.9677071 (3375)\ttotal: 2m 47s\tremaining: 5m 25s\n",
      "3500:\ttest: 0.9677315\tbest: 0.9677486 (3469)\ttotal: 2m 52s\tremaining: 5m 20s\n",
      "3600:\ttest: 0.9677271\tbest: 0.9677486 (3469)\ttotal: 2m 57s\tremaining: 5m 15s\n",
      "3700:\ttest: 0.9677588\tbest: 0.9677673 (3695)\ttotal: 3m 2s\tremaining: 5m 9s\n",
      "3800:\ttest: 0.9677711\tbest: 0.9677722 (3786)\ttotal: 3m 6s\tremaining: 5m 4s\n",
      "3900:\ttest: 0.9678092\tbest: 0.9678096 (3898)\ttotal: 3m 11s\tremaining: 4m 59s\n",
      "4000:\ttest: 0.9678424\tbest: 0.9678447 (3996)\ttotal: 3m 16s\tremaining: 4m 54s\n",
      "4100:\ttest: 0.9678643\tbest: 0.9678647 (4092)\ttotal: 3m 21s\tremaining: 4m 49s\n",
      "4200:\ttest: 0.9678870\tbest: 0.9678887 (4198)\ttotal: 3m 26s\tremaining: 4m 44s\n",
      "4300:\ttest: 0.9678902\tbest: 0.9679148 (4229)\ttotal: 3m 30s\tremaining: 4m 39s\n",
      "4400:\ttest: 0.9679051\tbest: 0.9679148 (4229)\ttotal: 3m 35s\tremaining: 4m 34s\n",
      "Stopped by overfitting detector  (200 iterations wait)\n",
      "\n",
      "bestTest = 0.9679148014\n",
      "bestIteration = 4229\n",
      "\n",
      "Shrink model to first 4230 iterations.\n"
     ]
    },
    {
     "data": {
      "text/html": [
       "<div>\n",
       "<style scoped>\n",
       "    .dataframe tbody tr th:only-of-type {\n",
       "        vertical-align: middle;\n",
       "    }\n",
       "\n",
       "    .dataframe tbody tr th {\n",
       "        vertical-align: top;\n",
       "    }\n",
       "\n",
       "    .dataframe thead th {\n",
       "        text-align: right;\n",
       "    }\n",
       "</style>\n",
       "<table border=\"1\" class=\"dataframe\">\n",
       "  <thead>\n",
       "    <tr style=\"text-align: right;\">\n",
       "      <th></th>\n",
       "      <th>importance</th>\n",
       "    </tr>\n",
       "  </thead>\n",
       "  <tbody>\n",
       "    <tr>\n",
       "      <th>step</th>\n",
       "      <td>11.245355</td>\n",
       "    </tr>\n",
       "    <tr>\n",
       "      <th>track_emb_1</th>\n",
       "      <td>6.319488</td>\n",
       "    </tr>\n",
       "    <tr>\n",
       "      <th>players_distance_sum</th>\n",
       "      <td>5.776361</td>\n",
       "    </tr>\n",
       "    <tr>\n",
       "      <th>speed_1</th>\n",
       "      <td>4.935874</td>\n",
       "    </tr>\n",
       "    <tr>\n",
       "      <th>track_emb_0</th>\n",
       "      <td>3.547682</td>\n",
       "    </tr>\n",
       "    <tr>\n",
       "      <th>track_emb_2</th>\n",
       "      <td>3.370961</td>\n",
       "    </tr>\n",
       "    <tr>\n",
       "      <th>m2_S_img_emb_4</th>\n",
       "      <td>3.138563</td>\n",
       "    </tr>\n",
       "    <tr>\n",
       "      <th>y_position_diff</th>\n",
       "      <td>2.785729</td>\n",
       "    </tr>\n",
       "    <tr>\n",
       "      <th>jersey_number_1</th>\n",
       "      <td>2.773556</td>\n",
       "    </tr>\n",
       "    <tr>\n",
       "      <th>x_position_diff</th>\n",
       "      <td>2.578011</td>\n",
       "    </tr>\n",
       "    <tr>\n",
       "      <th>m2_E_img_emb_4</th>\n",
       "      <td>2.344512</td>\n",
       "    </tr>\n",
       "    <tr>\n",
       "      <th>S_top_1</th>\n",
       "      <td>2.096327</td>\n",
       "    </tr>\n",
       "    <tr>\n",
       "      <th>nfl_player_id_1</th>\n",
       "      <td>1.723172</td>\n",
       "    </tr>\n",
       "    <tr>\n",
       "      <th>distance_1</th>\n",
       "      <td>1.671333</td>\n",
       "    </tr>\n",
       "    <tr>\n",
       "      <th>m2_S_pred</th>\n",
       "      <td>1.648791</td>\n",
       "    </tr>\n",
       "    <tr>\n",
       "      <th>orientation_diff</th>\n",
       "      <td>1.645251</td>\n",
       "    </tr>\n",
       "    <tr>\n",
       "      <th>S_helmet_dis</th>\n",
       "      <td>1.492971</td>\n",
       "    </tr>\n",
       "    <tr>\n",
       "      <th>m0_E_pred</th>\n",
       "      <td>1.466088</td>\n",
       "    </tr>\n",
       "    <tr>\n",
       "      <th>jersey_number_2</th>\n",
       "      <td>1.423912</td>\n",
       "    </tr>\n",
       "    <tr>\n",
       "      <th>players_dis_rollsum</th>\n",
       "      <td>1.406945</td>\n",
       "    </tr>\n",
       "  </tbody>\n",
       "</table>\n",
       "</div>"
      ],
      "text/plain": [
       "                      importance\n",
       "step                   11.245355\n",
       "track_emb_1             6.319488\n",
       "players_distance_sum    5.776361\n",
       "speed_1                 4.935874\n",
       "track_emb_0             3.547682\n",
       "track_emb_2             3.370961\n",
       "m2_S_img_emb_4          3.138563\n",
       "y_position_diff         2.785729\n",
       "jersey_number_1         2.773556\n",
       "x_position_diff         2.578011\n",
       "m2_E_img_emb_4          2.344512\n",
       "S_top_1                 2.096327\n",
       "nfl_player_id_1         1.723172\n",
       "distance_1              1.671333\n",
       "m2_S_pred               1.648791\n",
       "orientation_diff        1.645251\n",
       "S_helmet_dis            1.492971\n",
       "m0_E_pred               1.466088\n",
       "jersey_number_2         1.423912\n",
       "players_dis_rollsum     1.406945"
      ]
     },
     "metadata": {},
     "output_type": "display_data"
    },
    {
     "name": "stdout",
     "output_type": "stream",
     "text": [
      "Performance of the prediction: 0.96791\n",
      "\n",
      "-\n",
      "fold 2\n"
     ]
    },
    {
     "data": {
      "text/plain": [
       "0    119831\n",
       "1     12485\n",
       "Name: contact, dtype: int64"
      ]
     },
     "metadata": {},
     "output_type": "display_data"
    },
    {
     "name": "stdout",
     "output_type": "stream",
     "text": [
      "0:\ttest: 0.9040887\tbest: 0.9040887 (0)\ttotal: 62.1ms\tremaining: 10m 20s\n",
      "100:\ttest: 0.9509469\tbest: 0.9509469 (100)\ttotal: 4.96s\tremaining: 8m 5s\n",
      "200:\ttest: 0.9552386\tbest: 0.9552386 (200)\ttotal: 10.1s\tremaining: 8m 13s\n",
      "300:\ttest: 0.9578654\tbest: 0.9578654 (300)\ttotal: 15.3s\tremaining: 8m 12s\n",
      "400:\ttest: 0.9591773\tbest: 0.9591773 (400)\ttotal: 20.3s\tremaining: 8m 5s\n",
      "500:\ttest: 0.9601496\tbest: 0.9601503 (499)\ttotal: 25.2s\tremaining: 7m 58s\n",
      "600:\ttest: 0.9609271\tbest: 0.9609271 (600)\ttotal: 30.1s\tremaining: 7m 50s\n",
      "700:\ttest: 0.9615011\tbest: 0.9615030 (698)\ttotal: 35s\tremaining: 7m 43s\n",
      "800:\ttest: 0.9619049\tbest: 0.9619129 (796)\ttotal: 39.8s\tremaining: 7m 37s\n",
      "900:\ttest: 0.9624781\tbest: 0.9624781 (900)\ttotal: 44.8s\tremaining: 7m 32s\n",
      "1000:\ttest: 0.9627653\tbest: 0.9627653 (1000)\ttotal: 49.7s\tremaining: 7m 26s\n",
      "1100:\ttest: 0.9631631\tbest: 0.9631631 (1100)\ttotal: 54.7s\tremaining: 7m 22s\n",
      "1200:\ttest: 0.9633520\tbest: 0.9633526 (1198)\ttotal: 59.6s\tremaining: 7m 16s\n",
      "1300:\ttest: 0.9635386\tbest: 0.9635386 (1300)\ttotal: 1m 4s\tremaining: 7m 10s\n",
      "1400:\ttest: 0.9638105\tbest: 0.9638170 (1396)\ttotal: 1m 9s\tremaining: 7m 5s\n",
      "1500:\ttest: 0.9639756\tbest: 0.9639824 (1496)\ttotal: 1m 14s\tremaining: 7m\n",
      "1600:\ttest: 0.9642165\tbest: 0.9642165 (1600)\ttotal: 1m 19s\tremaining: 6m 55s\n",
      "1700:\ttest: 0.9643357\tbest: 0.9643418 (1698)\ttotal: 1m 24s\tremaining: 6m 50s\n",
      "1800:\ttest: 0.9644561\tbest: 0.9644561 (1800)\ttotal: 1m 28s\tremaining: 6m 44s\n",
      "1900:\ttest: 0.9646650\tbest: 0.9646661 (1899)\ttotal: 1m 33s\tremaining: 6m 38s\n",
      "2000:\ttest: 0.9647690\tbest: 0.9647707 (1988)\ttotal: 1m 38s\tremaining: 6m 33s\n",
      "2100:\ttest: 0.9648763\tbest: 0.9648763 (2100)\ttotal: 1m 43s\tremaining: 6m 28s\n",
      "2200:\ttest: 0.9649601\tbest: 0.9649669 (2187)\ttotal: 1m 48s\tremaining: 6m 23s\n",
      "2300:\ttest: 0.9650751\tbest: 0.9650777 (2299)\ttotal: 1m 53s\tremaining: 6m 18s\n",
      "2400:\ttest: 0.9651656\tbest: 0.9651656 (2400)\ttotal: 1m 57s\tremaining: 6m 13s\n",
      "2500:\ttest: 0.9652583\tbest: 0.9652588 (2499)\ttotal: 2m 2s\tremaining: 6m 8s\n",
      "2600:\ttest: 0.9653457\tbest: 0.9653457 (2600)\ttotal: 2m 7s\tremaining: 6m 2s\n",
      "2700:\ttest: 0.9654609\tbest: 0.9654623 (2697)\ttotal: 2m 12s\tremaining: 5m 58s\n",
      "2800:\ttest: 0.9655006\tbest: 0.9655006 (2800)\ttotal: 2m 17s\tremaining: 5m 52s\n",
      "2900:\ttest: 0.9655285\tbest: 0.9655385 (2870)\ttotal: 2m 22s\tremaining: 5m 48s\n",
      "3000:\ttest: 0.9655671\tbest: 0.9655671 (3000)\ttotal: 2m 27s\tremaining: 5m 43s\n",
      "3100:\ttest: 0.9656455\tbest: 0.9656455 (3100)\ttotal: 2m 31s\tremaining: 5m 37s\n",
      "3200:\ttest: 0.9657243\tbest: 0.9657265 (3198)\ttotal: 2m 36s\tremaining: 5m 33s\n",
      "3300:\ttest: 0.9657361\tbest: 0.9657375 (3299)\ttotal: 2m 41s\tremaining: 5m 27s\n",
      "3400:\ttest: 0.9657512\tbest: 0.9657561 (3376)\ttotal: 2m 46s\tremaining: 5m 22s\n",
      "3500:\ttest: 0.9658343\tbest: 0.9658345 (3494)\ttotal: 2m 51s\tremaining: 5m 17s\n",
      "3600:\ttest: 0.9658367\tbest: 0.9658482 (3590)\ttotal: 2m 56s\tremaining: 5m 12s\n",
      "3700:\ttest: 0.9658731\tbest: 0.9658751 (3699)\ttotal: 3m\tremaining: 5m 7s\n",
      "3800:\ttest: 0.9658556\tbest: 0.9658751 (3699)\ttotal: 3m 5s\tremaining: 5m 2s\n",
      "3900:\ttest: 0.9659171\tbest: 0.9659187 (3899)\ttotal: 3m 10s\tremaining: 4m 57s\n",
      "4000:\ttest: 0.9659487\tbest: 0.9659595 (3973)\ttotal: 3m 15s\tremaining: 4m 52s\n",
      "4100:\ttest: 0.9659666\tbest: 0.9659666 (4100)\ttotal: 3m 20s\tremaining: 4m 47s\n",
      "4200:\ttest: 0.9659980\tbest: 0.9659991 (4133)\ttotal: 3m 24s\tremaining: 4m 42s\n",
      "4300:\ttest: 0.9660333\tbest: 0.9660339 (4294)\ttotal: 3m 29s\tremaining: 4m 38s\n",
      "4400:\ttest: 0.9660582\tbest: 0.9660590 (4387)\ttotal: 3m 34s\tremaining: 4m 33s\n",
      "4500:\ttest: 0.9661095\tbest: 0.9661095 (4500)\ttotal: 3m 39s\tremaining: 4m 28s\n",
      "4600:\ttest: 0.9661497\tbest: 0.9661497 (4600)\ttotal: 3m 44s\tremaining: 4m 23s\n",
      "4700:\ttest: 0.9662047\tbest: 0.9662047 (4700)\ttotal: 3m 49s\tremaining: 4m 18s\n",
      "4800:\ttest: 0.9662409\tbest: 0.9662483 (4781)\ttotal: 3m 54s\tremaining: 4m 13s\n",
      "4900:\ttest: 0.9662668\tbest: 0.9662682 (4897)\ttotal: 3m 59s\tremaining: 4m 8s\n",
      "5000:\ttest: 0.9663177\tbest: 0.9663188 (4997)\ttotal: 4m 3s\tremaining: 4m 3s\n",
      "5100:\ttest: 0.9663532\tbest: 0.9663554 (5096)\ttotal: 4m 8s\tremaining: 3m 58s\n",
      "5200:\ttest: 0.9663771\tbest: 0.9663771 (5200)\ttotal: 4m 13s\tremaining: 3m 53s\n",
      "5300:\ttest: 0.9664070\tbest: 0.9664070 (5300)\ttotal: 4m 18s\tremaining: 3m 48s\n",
      "5400:\ttest: 0.9664436\tbest: 0.9664526 (5372)\ttotal: 4m 23s\tremaining: 3m 44s\n",
      "5500:\ttest: 0.9664878\tbest: 0.9664878 (5500)\ttotal: 4m 27s\tremaining: 3m 39s\n",
      "5600:\ttest: 0.9665056\tbest: 0.9665106 (5595)\ttotal: 4m 32s\tremaining: 3m 34s\n",
      "5700:\ttest: 0.9665092\tbest: 0.9665200 (5636)\ttotal: 4m 37s\tremaining: 3m 29s\n",
      "5800:\ttest: 0.9665535\tbest: 0.9665535 (5800)\ttotal: 4m 42s\tremaining: 3m 24s\n",
      "5900:\ttest: 0.9665644\tbest: 0.9665644 (5900)\ttotal: 4m 47s\tremaining: 3m 19s\n",
      "6000:\ttest: 0.9665863\tbest: 0.9665914 (5990)\ttotal: 4m 52s\tremaining: 3m 14s\n",
      "6100:\ttest: 0.9666145\tbest: 0.9666209 (6093)\ttotal: 4m 56s\tremaining: 3m 9s\n",
      "6200:\ttest: 0.9666277\tbest: 0.9666333 (6193)\ttotal: 5m 1s\tremaining: 3m 4s\n",
      "6300:\ttest: 0.9666599\tbest: 0.9666603 (6299)\ttotal: 5m 6s\tremaining: 2m 59s\n",
      "6400:\ttest: 0.9666515\tbest: 0.9666678 (6347)\ttotal: 5m 11s\tremaining: 2m 55s\n",
      "6500:\ttest: 0.9666529\tbest: 0.9666678 (6347)\ttotal: 5m 16s\tremaining: 2m 50s\n",
      "Stopped by overfitting detector  (200 iterations wait)\n",
      "\n",
      "bestTest = 0.9666677988\n",
      "bestIteration = 6347\n",
      "\n",
      "Shrink model to first 6348 iterations.\n"
     ]
    },
    {
     "data": {
      "text/html": [
       "<div>\n",
       "<style scoped>\n",
       "    .dataframe tbody tr th:only-of-type {\n",
       "        vertical-align: middle;\n",
       "    }\n",
       "\n",
       "    .dataframe tbody tr th {\n",
       "        vertical-align: top;\n",
       "    }\n",
       "\n",
       "    .dataframe thead th {\n",
       "        text-align: right;\n",
       "    }\n",
       "</style>\n",
       "<table border=\"1\" class=\"dataframe\">\n",
       "  <thead>\n",
       "    <tr style=\"text-align: right;\">\n",
       "      <th></th>\n",
       "      <th>importance</th>\n",
       "    </tr>\n",
       "  </thead>\n",
       "  <tbody>\n",
       "    <tr>\n",
       "      <th>step</th>\n",
       "      <td>9.443574</td>\n",
       "    </tr>\n",
       "    <tr>\n",
       "      <th>track_emb_1</th>\n",
       "      <td>5.700932</td>\n",
       "    </tr>\n",
       "    <tr>\n",
       "      <th>players_distance_sum</th>\n",
       "      <td>5.245689</td>\n",
       "    </tr>\n",
       "    <tr>\n",
       "      <th>speed_1</th>\n",
       "      <td>4.881620</td>\n",
       "    </tr>\n",
       "    <tr>\n",
       "      <th>track_emb_2</th>\n",
       "      <td>4.324743</td>\n",
       "    </tr>\n",
       "    <tr>\n",
       "      <th>jersey_number_1</th>\n",
       "      <td>3.201631</td>\n",
       "    </tr>\n",
       "    <tr>\n",
       "      <th>x_position_diff</th>\n",
       "      <td>2.793014</td>\n",
       "    </tr>\n",
       "    <tr>\n",
       "      <th>y_position_diff</th>\n",
       "      <td>2.679005</td>\n",
       "    </tr>\n",
       "    <tr>\n",
       "      <th>S_top_1</th>\n",
       "      <td>2.419016</td>\n",
       "    </tr>\n",
       "    <tr>\n",
       "      <th>m2_E_img_emb_4</th>\n",
       "      <td>2.360353</td>\n",
       "    </tr>\n",
       "    <tr>\n",
       "      <th>nfl_player_id_1</th>\n",
       "      <td>2.121525</td>\n",
       "    </tr>\n",
       "    <tr>\n",
       "      <th>jersey_number_2</th>\n",
       "      <td>1.976270</td>\n",
       "    </tr>\n",
       "    <tr>\n",
       "      <th>distance_1</th>\n",
       "      <td>1.921670</td>\n",
       "    </tr>\n",
       "    <tr>\n",
       "      <th>m2_S_img_emb_4</th>\n",
       "      <td>1.863203</td>\n",
       "    </tr>\n",
       "    <tr>\n",
       "      <th>track_emb_0</th>\n",
       "      <td>1.645213</td>\n",
       "    </tr>\n",
       "    <tr>\n",
       "      <th>team_1</th>\n",
       "      <td>1.422271</td>\n",
       "    </tr>\n",
       "    <tr>\n",
       "      <th>team_2</th>\n",
       "      <td>1.400235</td>\n",
       "    </tr>\n",
       "    <tr>\n",
       "      <th>m2_E_pred</th>\n",
       "      <td>1.389527</td>\n",
       "    </tr>\n",
       "    <tr>\n",
       "      <th>m0_E_pred</th>\n",
       "      <td>1.361298</td>\n",
       "    </tr>\n",
       "    <tr>\n",
       "      <th>orientation_diff</th>\n",
       "      <td>1.275180</td>\n",
       "    </tr>\n",
       "  </tbody>\n",
       "</table>\n",
       "</div>"
      ],
      "text/plain": [
       "                      importance\n",
       "step                    9.443574\n",
       "track_emb_1             5.700932\n",
       "players_distance_sum    5.245689\n",
       "speed_1                 4.881620\n",
       "track_emb_2             4.324743\n",
       "jersey_number_1         3.201631\n",
       "x_position_diff         2.793014\n",
       "y_position_diff         2.679005\n",
       "S_top_1                 2.419016\n",
       "m2_E_img_emb_4          2.360353\n",
       "nfl_player_id_1         2.121525\n",
       "jersey_number_2         1.976270\n",
       "distance_1              1.921670\n",
       "m2_S_img_emb_4          1.863203\n",
       "track_emb_0             1.645213\n",
       "team_1                  1.422271\n",
       "team_2                  1.400235\n",
       "m2_E_pred               1.389527\n",
       "m0_E_pred               1.361298\n",
       "orientation_diff        1.275180"
      ]
     },
     "metadata": {},
     "output_type": "display_data"
    },
    {
     "name": "stdout",
     "output_type": "stream",
     "text": [
      "Performance of the prediction: 0.96667\n",
      "\n",
      "-\n",
      "fold 3\n"
     ]
    },
    {
     "data": {
      "text/plain": [
       "0    118010\n",
       "1     14260\n",
       "Name: contact, dtype: int64"
      ]
     },
     "metadata": {},
     "output_type": "display_data"
    },
    {
     "name": "stdout",
     "output_type": "stream",
     "text": [
      "0:\ttest: 0.8654110\tbest: 0.8654110 (0)\ttotal: 71.6ms\tremaining: 11m 55s\n",
      "100:\ttest: 0.9450165\tbest: 0.9450165 (100)\ttotal: 4.85s\tremaining: 7m 55s\n",
      "200:\ttest: 0.9515908\tbest: 0.9515908 (200)\ttotal: 9.8s\tremaining: 7m 58s\n",
      "300:\ttest: 0.9558966\tbest: 0.9558966 (300)\ttotal: 14.9s\tremaining: 8m\n",
      "400:\ttest: 0.9578818\tbest: 0.9578818 (400)\ttotal: 19.9s\tremaining: 7m 57s\n",
      "500:\ttest: 0.9592853\tbest: 0.9592853 (500)\ttotal: 24.8s\tremaining: 7m 51s\n",
      "600:\ttest: 0.9601535\tbest: 0.9601535 (600)\ttotal: 29.7s\tremaining: 7m 43s\n",
      "700:\ttest: 0.9609000\tbest: 0.9609000 (700)\ttotal: 34.5s\tremaining: 7m 38s\n",
      "800:\ttest: 0.9615082\tbest: 0.9615082 (800)\ttotal: 39.4s\tremaining: 7m 32s\n",
      "900:\ttest: 0.9619470\tbest: 0.9619480 (899)\ttotal: 44.3s\tremaining: 7m 27s\n",
      "1000:\ttest: 0.9623195\tbest: 0.9623195 (1000)\ttotal: 49.3s\tremaining: 7m 23s\n",
      "1100:\ttest: 0.9627648\tbest: 0.9627651 (1099)\ttotal: 54.2s\tremaining: 7m 17s\n",
      "1200:\ttest: 0.9632016\tbest: 0.9632016 (1200)\ttotal: 59.1s\tremaining: 7m 12s\n",
      "1300:\ttest: 0.9634738\tbest: 0.9634738 (1300)\ttotal: 1m 3s\tremaining: 7m 7s\n",
      "1400:\ttest: 0.9637525\tbest: 0.9637525 (1400)\ttotal: 1m 8s\tremaining: 7m 1s\n",
      "1500:\ttest: 0.9639879\tbest: 0.9639888 (1497)\ttotal: 1m 13s\tremaining: 6m 56s\n",
      "1600:\ttest: 0.9641998\tbest: 0.9641998 (1600)\ttotal: 1m 18s\tremaining: 6m 51s\n",
      "1700:\ttest: 0.9644521\tbest: 0.9644521 (1700)\ttotal: 1m 23s\tremaining: 6m 46s\n",
      "1800:\ttest: 0.9646903\tbest: 0.9646903 (1800)\ttotal: 1m 28s\tremaining: 6m 41s\n",
      "1900:\ttest: 0.9649208\tbest: 0.9649208 (1900)\ttotal: 1m 32s\tremaining: 6m 36s\n",
      "2000:\ttest: 0.9651038\tbest: 0.9651044 (1998)\ttotal: 1m 37s\tremaining: 6m 30s\n",
      "2100:\ttest: 0.9652699\tbest: 0.9652699 (2100)\ttotal: 1m 42s\tremaining: 6m 25s\n",
      "2200:\ttest: 0.9654057\tbest: 0.9654057 (2200)\ttotal: 1m 47s\tremaining: 6m 20s\n",
      "2300:\ttest: 0.9655276\tbest: 0.9655307 (2299)\ttotal: 1m 52s\tremaining: 6m 15s\n",
      "2400:\ttest: 0.9656522\tbest: 0.9656522 (2400)\ttotal: 1m 57s\tremaining: 6m 10s\n",
      "2500:\ttest: 0.9657473\tbest: 0.9657473 (2500)\ttotal: 2m 1s\tremaining: 6m 5s\n",
      "2600:\ttest: 0.9658668\tbest: 0.9658682 (2599)\ttotal: 2m 6s\tremaining: 6m\n",
      "2700:\ttest: 0.9659328\tbest: 0.9659360 (2684)\ttotal: 2m 11s\tremaining: 5m 55s\n",
      "2800:\ttest: 0.9659743\tbest: 0.9659768 (2798)\ttotal: 2m 16s\tremaining: 5m 51s\n",
      "2900:\ttest: 0.9660715\tbest: 0.9660720 (2898)\ttotal: 2m 21s\tremaining: 5m 46s\n",
      "3000:\ttest: 0.9661799\tbest: 0.9661799 (3000)\ttotal: 2m 26s\tremaining: 5m 41s\n",
      "3100:\ttest: 0.9662694\tbest: 0.9662694 (3100)\ttotal: 2m 31s\tremaining: 5m 36s\n",
      "3200:\ttest: 0.9663414\tbest: 0.9663438 (3198)\ttotal: 2m 36s\tremaining: 5m 31s\n",
      "3300:\ttest: 0.9663885\tbest: 0.9663922 (3295)\ttotal: 2m 41s\tremaining: 5m 26s\n",
      "3400:\ttest: 0.9664430\tbest: 0.9664512 (3386)\ttotal: 2m 45s\tremaining: 5m 21s\n",
      "3500:\ttest: 0.9665065\tbest: 0.9665091 (3499)\ttotal: 2m 50s\tremaining: 5m 17s\n",
      "3600:\ttest: 0.9665606\tbest: 0.9665642 (3597)\ttotal: 2m 55s\tremaining: 5m 12s\n",
      "3700:\ttest: 0.9666049\tbest: 0.9666067 (3699)\ttotal: 3m\tremaining: 5m 7s\n",
      "3800:\ttest: 0.9666246\tbest: 0.9666287 (3782)\ttotal: 3m 5s\tremaining: 5m 2s\n",
      "3900:\ttest: 0.9666388\tbest: 0.9666453 (3877)\ttotal: 3m 10s\tremaining: 4m 57s\n",
      "4000:\ttest: 0.9666719\tbest: 0.9666756 (3990)\ttotal: 3m 15s\tremaining: 4m 52s\n",
      "4100:\ttest: 0.9667002\tbest: 0.9667009 (4088)\ttotal: 3m 20s\tremaining: 4m 47s\n",
      "4200:\ttest: 0.9667404\tbest: 0.9667404 (4200)\ttotal: 3m 24s\tremaining: 4m 42s\n",
      "4300:\ttest: 0.9667552\tbest: 0.9667601 (4283)\ttotal: 3m 29s\tremaining: 4m 37s\n",
      "4400:\ttest: 0.9668215\tbest: 0.9668215 (4400)\ttotal: 3m 34s\tremaining: 4m 33s\n",
      "4500:\ttest: 0.9668389\tbest: 0.9668431 (4487)\ttotal: 3m 39s\tremaining: 4m 28s\n",
      "4600:\ttest: 0.9668748\tbest: 0.9668751 (4598)\ttotal: 3m 44s\tremaining: 4m 23s\n",
      "4700:\ttest: 0.9669021\tbest: 0.9669034 (4675)\ttotal: 3m 49s\tremaining: 4m 18s\n",
      "4800:\ttest: 0.9669430\tbest: 0.9669430 (4800)\ttotal: 3m 53s\tremaining: 4m 13s\n",
      "4900:\ttest: 0.9669631\tbest: 0.9669664 (4882)\ttotal: 3m 58s\tremaining: 4m 8s\n",
      "5000:\ttest: 0.9669983\tbest: 0.9669985 (4998)\ttotal: 4m 3s\tremaining: 4m 3s\n",
      "5100:\ttest: 0.9670177\tbest: 0.9670196 (5097)\ttotal: 4m 8s\tremaining: 3m 58s\n",
      "5200:\ttest: 0.9670278\tbest: 0.9670309 (5197)\ttotal: 4m 13s\tremaining: 3m 53s\n",
      "5300:\ttest: 0.9670536\tbest: 0.9670547 (5295)\ttotal: 4m 18s\tremaining: 3m 48s\n",
      "5400:\ttest: 0.9670572\tbest: 0.9670572 (5400)\ttotal: 4m 23s\tremaining: 3m 43s\n",
      "5500:\ttest: 0.9670644\tbest: 0.9670660 (5498)\ttotal: 4m 27s\tremaining: 3m 39s\n",
      "5600:\ttest: 0.9670750\tbest: 0.9670791 (5586)\ttotal: 4m 32s\tremaining: 3m 34s\n",
      "5700:\ttest: 0.9671007\tbest: 0.9671036 (5686)\ttotal: 4m 37s\tremaining: 3m 29s\n",
      "5800:\ttest: 0.9671325\tbest: 0.9671325 (5800)\ttotal: 4m 42s\tremaining: 3m 24s\n",
      "5900:\ttest: 0.9671609\tbest: 0.9671620 (5890)\ttotal: 4m 47s\tremaining: 3m 19s\n",
      "6000:\ttest: 0.9671996\tbest: 0.9671996 (6000)\ttotal: 4m 51s\tremaining: 3m 14s\n",
      "6100:\ttest: 0.9672114\tbest: 0.9672120 (6099)\ttotal: 4m 56s\tremaining: 3m 9s\n",
      "6200:\ttest: 0.9672218\tbest: 0.9672226 (6164)\ttotal: 5m 1s\tremaining: 3m 4s\n",
      "6300:\ttest: 0.9672507\tbest: 0.9672550 (6294)\ttotal: 5m 6s\tremaining: 2m 59s\n",
      "6400:\ttest: 0.9672743\tbest: 0.9672788 (6374)\ttotal: 5m 11s\tremaining: 2m 55s\n",
      "6500:\ttest: 0.9672846\tbest: 0.9672859 (6497)\ttotal: 5m 16s\tremaining: 2m 50s\n",
      "6600:\ttest: 0.9673020\tbest: 0.9673020 (6600)\ttotal: 5m 21s\tremaining: 2m 45s\n",
      "6700:\ttest: 0.9673284\tbest: 0.9673284 (6700)\ttotal: 5m 25s\tremaining: 2m 40s\n",
      "6800:\ttest: 0.9673301\tbest: 0.9673437 (6788)\ttotal: 5m 30s\tremaining: 2m 35s\n",
      "6900:\ttest: 0.9673724\tbest: 0.9673743 (6895)\ttotal: 5m 35s\tremaining: 2m 30s\n",
      "7000:\ttest: 0.9673945\tbest: 0.9674004 (6997)\ttotal: 5m 40s\tremaining: 2m 25s\n",
      "7100:\ttest: 0.9674091\tbest: 0.9674091 (7100)\ttotal: 5m 45s\tremaining: 2m 20s\n",
      "7200:\ttest: 0.9674398\tbest: 0.9674401 (7198)\ttotal: 5m 50s\tremaining: 2m 16s\n",
      "7300:\ttest: 0.9674409\tbest: 0.9674512 (7227)\ttotal: 5m 55s\tremaining: 2m 11s\n",
      "7400:\ttest: 0.9674669\tbest: 0.9674669 (7400)\ttotal: 6m\tremaining: 2m 6s\n",
      "7500:\ttest: 0.9674891\tbest: 0.9674891 (7497)\ttotal: 6m 4s\tremaining: 2m 1s\n",
      "7600:\ttest: 0.9675034\tbest: 0.9675051 (7597)\ttotal: 6m 9s\tremaining: 1m 56s\n",
      "7700:\ttest: 0.9675281\tbest: 0.9675281 (7700)\ttotal: 6m 14s\tremaining: 1m 51s\n",
      "7800:\ttest: 0.9675432\tbest: 0.9675444 (7795)\ttotal: 6m 19s\tremaining: 1m 46s\n",
      "7900:\ttest: 0.9675369\tbest: 0.9675444 (7804)\ttotal: 6m 24s\tremaining: 1m 42s\n",
      "8000:\ttest: 0.9675572\tbest: 0.9675588 (7986)\ttotal: 6m 29s\tremaining: 1m 37s\n",
      "8100:\ttest: 0.9675632\tbest: 0.9675648 (8070)\ttotal: 6m 34s\tremaining: 1m 32s\n",
      "8200:\ttest: 0.9675825\tbest: 0.9675835 (8195)\ttotal: 6m 38s\tremaining: 1m 27s\n",
      "8300:\ttest: 0.9675874\tbest: 0.9675886 (8298)\ttotal: 6m 43s\tremaining: 1m 22s\n",
      "8400:\ttest: 0.9675843\tbest: 0.9675900 (8307)\ttotal: 6m 48s\tremaining: 1m 17s\n",
      "8500:\ttest: 0.9675987\tbest: 0.9675995 (8497)\ttotal: 6m 53s\tremaining: 1m 12s\n",
      "8600:\ttest: 0.9675992\tbest: 0.9676044 (8564)\ttotal: 6m 58s\tremaining: 1m 7s\n",
      "8700:\ttest: 0.9676058\tbest: 0.9676058 (8700)\ttotal: 7m 2s\tremaining: 1m 3s\n",
      "8800:\ttest: 0.9676180\tbest: 0.9676180 (8800)\ttotal: 7m 7s\tremaining: 58.3s\n",
      "8900:\ttest: 0.9676341\tbest: 0.9676371 (8897)\ttotal: 7m 12s\tremaining: 53.4s\n",
      "9000:\ttest: 0.9676182\tbest: 0.9676371 (8897)\ttotal: 7m 17s\tremaining: 48.5s\n",
      "Stopped by overfitting detector  (200 iterations wait)\n",
      "\n",
      "bestTest = 0.9676370551\n",
      "bestIteration = 8897\n",
      "\n",
      "Shrink model to first 8898 iterations.\n"
     ]
    },
    {
     "data": {
      "text/html": [
       "<div>\n",
       "<style scoped>\n",
       "    .dataframe tbody tr th:only-of-type {\n",
       "        vertical-align: middle;\n",
       "    }\n",
       "\n",
       "    .dataframe tbody tr th {\n",
       "        vertical-align: top;\n",
       "    }\n",
       "\n",
       "    .dataframe thead th {\n",
       "        text-align: right;\n",
       "    }\n",
       "</style>\n",
       "<table border=\"1\" class=\"dataframe\">\n",
       "  <thead>\n",
       "    <tr style=\"text-align: right;\">\n",
       "      <th></th>\n",
       "      <th>importance</th>\n",
       "    </tr>\n",
       "  </thead>\n",
       "  <tbody>\n",
       "    <tr>\n",
       "      <th>step</th>\n",
       "      <td>9.021220</td>\n",
       "    </tr>\n",
       "    <tr>\n",
       "      <th>track_emb_1</th>\n",
       "      <td>4.980308</td>\n",
       "    </tr>\n",
       "    <tr>\n",
       "      <th>players_distance_sum</th>\n",
       "      <td>4.530796</td>\n",
       "    </tr>\n",
       "    <tr>\n",
       "      <th>track_emb_2</th>\n",
       "      <td>4.141594</td>\n",
       "    </tr>\n",
       "    <tr>\n",
       "      <th>speed_1</th>\n",
       "      <td>3.858552</td>\n",
       "    </tr>\n",
       "    <tr>\n",
       "      <th>y_position_diff</th>\n",
       "      <td>3.169435</td>\n",
       "    </tr>\n",
       "    <tr>\n",
       "      <th>jersey_number_1</th>\n",
       "      <td>3.042704</td>\n",
       "    </tr>\n",
       "    <tr>\n",
       "      <th>nfl_player_id_1</th>\n",
       "      <td>2.742552</td>\n",
       "    </tr>\n",
       "    <tr>\n",
       "      <th>x_position_diff</th>\n",
       "      <td>2.724564</td>\n",
       "    </tr>\n",
       "    <tr>\n",
       "      <th>track_emb_0</th>\n",
       "      <td>2.175143</td>\n",
       "    </tr>\n",
       "    <tr>\n",
       "      <th>S_top_1</th>\n",
       "      <td>2.159069</td>\n",
       "    </tr>\n",
       "    <tr>\n",
       "      <th>distance_1</th>\n",
       "      <td>2.064076</td>\n",
       "    </tr>\n",
       "    <tr>\n",
       "      <th>m2_E_img_emb_4</th>\n",
       "      <td>1.794827</td>\n",
       "    </tr>\n",
       "    <tr>\n",
       "      <th>jersey_number_2</th>\n",
       "      <td>1.706132</td>\n",
       "    </tr>\n",
       "    <tr>\n",
       "      <th>m2_S_img_emb_4</th>\n",
       "      <td>1.699979</td>\n",
       "    </tr>\n",
       "    <tr>\n",
       "      <th>orientation_diff</th>\n",
       "      <td>1.498569</td>\n",
       "    </tr>\n",
       "    <tr>\n",
       "      <th>players_dis_rollsum</th>\n",
       "      <td>1.450043</td>\n",
       "    </tr>\n",
       "    <tr>\n",
       "      <th>team_1</th>\n",
       "      <td>1.394194</td>\n",
       "    </tr>\n",
       "    <tr>\n",
       "      <th>team_2</th>\n",
       "      <td>1.359669</td>\n",
       "    </tr>\n",
       "    <tr>\n",
       "      <th>S_left_1</th>\n",
       "      <td>1.356334</td>\n",
       "    </tr>\n",
       "  </tbody>\n",
       "</table>\n",
       "</div>"
      ],
      "text/plain": [
       "                      importance\n",
       "step                    9.021220\n",
       "track_emb_1             4.980308\n",
       "players_distance_sum    4.530796\n",
       "track_emb_2             4.141594\n",
       "speed_1                 3.858552\n",
       "y_position_diff         3.169435\n",
       "jersey_number_1         3.042704\n",
       "nfl_player_id_1         2.742552\n",
       "x_position_diff         2.724564\n",
       "track_emb_0             2.175143\n",
       "S_top_1                 2.159069\n",
       "distance_1              2.064076\n",
       "m2_E_img_emb_4          1.794827\n",
       "jersey_number_2         1.706132\n",
       "m2_S_img_emb_4          1.699979\n",
       "orientation_diff        1.498569\n",
       "players_dis_rollsum     1.450043\n",
       "team_1                  1.394194\n",
       "team_2                  1.359669\n",
       "S_left_1                1.356334"
      ]
     },
     "metadata": {},
     "output_type": "display_data"
    },
    {
     "name": "stdout",
     "output_type": "stream",
     "text": [
      "Performance of the prediction: 0.96764\n",
      "\n",
      "-\n",
      "fold 4\n"
     ]
    },
    {
     "data": {
      "text/plain": [
       "0    120486\n",
       "1     11840\n",
       "Name: contact, dtype: int64"
      ]
     },
     "metadata": {},
     "output_type": "display_data"
    },
    {
     "name": "stdout",
     "output_type": "stream",
     "text": [
      "0:\ttest: 0.9062404\tbest: 0.9062404 (0)\ttotal: 61.8ms\tremaining: 10m 18s\n",
      "100:\ttest: 0.9574798\tbest: 0.9574798 (100)\ttotal: 4.87s\tremaining: 7m 57s\n",
      "200:\ttest: 0.9613790\tbest: 0.9613790 (200)\ttotal: 9.91s\tremaining: 8m 3s\n",
      "300:\ttest: 0.9635900\tbest: 0.9635900 (300)\ttotal: 15.4s\tremaining: 8m 16s\n",
      "400:\ttest: 0.9649471\tbest: 0.9649471 (400)\ttotal: 20.5s\tremaining: 8m 10s\n",
      "500:\ttest: 0.9657562\tbest: 0.9657562 (500)\ttotal: 25.5s\tremaining: 8m 3s\n",
      "600:\ttest: 0.9663069\tbest: 0.9663069 (600)\ttotal: 30.4s\tremaining: 7m 54s\n",
      "700:\ttest: 0.9667044\tbest: 0.9667044 (700)\ttotal: 35.2s\tremaining: 7m 46s\n",
      "800:\ttest: 0.9670986\tbest: 0.9670986 (800)\ttotal: 40.1s\tremaining: 7m 40s\n",
      "900:\ttest: 0.9674759\tbest: 0.9674759 (900)\ttotal: 45s\tremaining: 7m 34s\n",
      "1000:\ttest: 0.9677424\tbest: 0.9677450 (999)\ttotal: 49.9s\tremaining: 7m 29s\n",
      "1100:\ttest: 0.9681186\tbest: 0.9681186 (1100)\ttotal: 55s\tremaining: 7m 24s\n",
      "1200:\ttest: 0.9683219\tbest: 0.9683219 (1200)\ttotal: 60s\tremaining: 7m 19s\n",
      "1300:\ttest: 0.9686425\tbest: 0.9686425 (1300)\ttotal: 1m 4s\tremaining: 7m 14s\n",
      "1400:\ttest: 0.9688667\tbest: 0.9688699 (1393)\ttotal: 1m 9s\tremaining: 7m 8s\n",
      "1500:\ttest: 0.9690948\tbest: 0.9690956 (1499)\ttotal: 1m 14s\tremaining: 7m 3s\n",
      "1600:\ttest: 0.9692373\tbest: 0.9692403 (1599)\ttotal: 1m 19s\tremaining: 6m 57s\n",
      "1700:\ttest: 0.9693543\tbest: 0.9693543 (1700)\ttotal: 1m 24s\tremaining: 6m 52s\n",
      "1800:\ttest: 0.9694967\tbest: 0.9694967 (1800)\ttotal: 1m 29s\tremaining: 6m 46s\n",
      "1900:\ttest: 0.9696509\tbest: 0.9696519 (1890)\ttotal: 1m 34s\tremaining: 6m 41s\n",
      "2000:\ttest: 0.9698635\tbest: 0.9698636 (1999)\ttotal: 1m 39s\tremaining: 6m 36s\n",
      "2100:\ttest: 0.9700442\tbest: 0.9700442 (2100)\ttotal: 1m 44s\tremaining: 6m 31s\n",
      "2200:\ttest: 0.9702490\tbest: 0.9702490 (2200)\ttotal: 1m 49s\tremaining: 6m 26s\n",
      "2300:\ttest: 0.9703600\tbest: 0.9703610 (2295)\ttotal: 1m 54s\tremaining: 6m 21s\n",
      "2400:\ttest: 0.9704808\tbest: 0.9704808 (2400)\ttotal: 1m 58s\tremaining: 6m 16s\n",
      "2500:\ttest: 0.9706115\tbest: 0.9706142 (2481)\ttotal: 2m 3s\tremaining: 6m 11s\n",
      "2600:\ttest: 0.9706877\tbest: 0.9706888 (2598)\ttotal: 2m 8s\tremaining: 6m 6s\n",
      "2700:\ttest: 0.9707223\tbest: 0.9707223 (2700)\ttotal: 2m 13s\tremaining: 6m 1s\n",
      "2800:\ttest: 0.9707844\tbest: 0.9707857 (2799)\ttotal: 2m 18s\tremaining: 5m 56s\n",
      "2900:\ttest: 0.9708494\tbest: 0.9708544 (2892)\ttotal: 2m 23s\tremaining: 5m 51s\n",
      "3000:\ttest: 0.9709271\tbest: 0.9709290 (2999)\ttotal: 2m 28s\tremaining: 5m 46s\n",
      "3100:\ttest: 0.9710020\tbest: 0.9710035 (3099)\ttotal: 2m 33s\tremaining: 5m 41s\n",
      "3200:\ttest: 0.9711106\tbest: 0.9711122 (3197)\ttotal: 2m 38s\tremaining: 5m 35s\n",
      "3300:\ttest: 0.9711770\tbest: 0.9711779 (3299)\ttotal: 2m 43s\tremaining: 5m 30s\n",
      "3400:\ttest: 0.9712571\tbest: 0.9712571 (3400)\ttotal: 2m 47s\tremaining: 5m 25s\n",
      "3500:\ttest: 0.9713483\tbest: 0.9713483 (3500)\ttotal: 2m 52s\tremaining: 5m 20s\n",
      "3600:\ttest: 0.9714023\tbest: 0.9714087 (3592)\ttotal: 2m 57s\tremaining: 5m 15s\n",
      "3700:\ttest: 0.9714651\tbest: 0.9714651 (3700)\ttotal: 3m 2s\tremaining: 5m 10s\n",
      "3800:\ttest: 0.9715343\tbest: 0.9715344 (3792)\ttotal: 3m 7s\tremaining: 5m 5s\n",
      "3900:\ttest: 0.9715738\tbest: 0.9715741 (3899)\ttotal: 3m 12s\tremaining: 5m\n",
      "4000:\ttest: 0.9715875\tbest: 0.9715875 (4000)\ttotal: 3m 17s\tremaining: 4m 55s\n",
      "4100:\ttest: 0.9716284\tbest: 0.9716307 (4095)\ttotal: 3m 22s\tremaining: 4m 50s\n",
      "4200:\ttest: 0.9716408\tbest: 0.9716417 (4198)\ttotal: 3m 27s\tremaining: 4m 45s\n",
      "4300:\ttest: 0.9717145\tbest: 0.9717145 (4300)\ttotal: 3m 31s\tremaining: 4m 40s\n",
      "4400:\ttest: 0.9717293\tbest: 0.9717304 (4399)\ttotal: 3m 36s\tremaining: 4m 35s\n",
      "4500:\ttest: 0.9717909\tbest: 0.9717938 (4491)\ttotal: 3m 41s\tremaining: 4m 30s\n",
      "4600:\ttest: 0.9718223\tbest: 0.9718223 (4600)\ttotal: 3m 46s\tremaining: 4m 25s\n",
      "4700:\ttest: 0.9718540\tbest: 0.9718547 (4698)\ttotal: 3m 51s\tremaining: 4m 20s\n",
      "4800:\ttest: 0.9718706\tbest: 0.9718789 (4776)\ttotal: 3m 56s\tremaining: 4m 15s\n",
      "4900:\ttest: 0.9718855\tbest: 0.9718855 (4900)\ttotal: 4m 1s\tremaining: 4m 10s\n",
      "5000:\ttest: 0.9719076\tbest: 0.9719103 (4994)\ttotal: 4m 5s\tremaining: 4m 5s\n",
      "5100:\ttest: 0.9719223\tbest: 0.9719249 (5057)\ttotal: 4m 10s\tremaining: 4m\n",
      "5200:\ttest: 0.9719278\tbest: 0.9719368 (5165)\ttotal: 4m 15s\tremaining: 3m 55s\n",
      "5300:\ttest: 0.9719390\tbest: 0.9719420 (5290)\ttotal: 4m 20s\tremaining: 3m 50s\n",
      "5400:\ttest: 0.9719594\tbest: 0.9719670 (5391)\ttotal: 4m 25s\tremaining: 3m 45s\n",
      "5500:\ttest: 0.9719946\tbest: 0.9719973 (5496)\ttotal: 4m 30s\tremaining: 3m 40s\n",
      "5600:\ttest: 0.9720073\tbest: 0.9720089 (5597)\ttotal: 4m 35s\tremaining: 3m 35s\n",
      "5700:\ttest: 0.9720363\tbest: 0.9720363 (5700)\ttotal: 4m 39s\tremaining: 3m 31s\n",
      "5800:\ttest: 0.9720503\tbest: 0.9720539 (5787)\ttotal: 4m 44s\tremaining: 3m 26s\n",
      "5900:\ttest: 0.9720631\tbest: 0.9720653 (5899)\ttotal: 4m 49s\tremaining: 3m 21s\n",
      "6000:\ttest: 0.9720718\tbest: 0.9720718 (6000)\ttotal: 4m 54s\tremaining: 3m 16s\n",
      "6100:\ttest: 0.9720783\tbest: 0.9720864 (6043)\ttotal: 4m 58s\tremaining: 3m 11s\n",
      "6200:\ttest: 0.9720883\tbest: 0.9720904 (6191)\ttotal: 5m 3s\tremaining: 3m 6s\n",
      "6300:\ttest: 0.9720971\tbest: 0.9720995 (6295)\ttotal: 5m 8s\tremaining: 3m 1s\n",
      "6400:\ttest: 0.9720859\tbest: 0.9721022 (6310)\ttotal: 5m 13s\tremaining: 2m 56s\n",
      "6500:\ttest: 0.9720988\tbest: 0.9721022 (6310)\ttotal: 5m 18s\tremaining: 2m 51s\n",
      "Stopped by overfitting detector  (200 iterations wait)\n",
      "\n",
      "bestTest = 0.9721022315\n",
      "bestIteration = 6310\n",
      "\n",
      "Shrink model to first 6311 iterations.\n"
     ]
    },
    {
     "data": {
      "text/html": [
       "<div>\n",
       "<style scoped>\n",
       "    .dataframe tbody tr th:only-of-type {\n",
       "        vertical-align: middle;\n",
       "    }\n",
       "\n",
       "    .dataframe tbody tr th {\n",
       "        vertical-align: top;\n",
       "    }\n",
       "\n",
       "    .dataframe thead th {\n",
       "        text-align: right;\n",
       "    }\n",
       "</style>\n",
       "<table border=\"1\" class=\"dataframe\">\n",
       "  <thead>\n",
       "    <tr style=\"text-align: right;\">\n",
       "      <th></th>\n",
       "      <th>importance</th>\n",
       "    </tr>\n",
       "  </thead>\n",
       "  <tbody>\n",
       "    <tr>\n",
       "      <th>step</th>\n",
       "      <td>9.232688</td>\n",
       "    </tr>\n",
       "    <tr>\n",
       "      <th>track_emb_1</th>\n",
       "      <td>5.444419</td>\n",
       "    </tr>\n",
       "    <tr>\n",
       "      <th>track_emb_2</th>\n",
       "      <td>4.835664</td>\n",
       "    </tr>\n",
       "    <tr>\n",
       "      <th>players_distance_sum</th>\n",
       "      <td>4.704202</td>\n",
       "    </tr>\n",
       "    <tr>\n",
       "      <th>speed_1</th>\n",
       "      <td>4.665258</td>\n",
       "    </tr>\n",
       "    <tr>\n",
       "      <th>jersey_number_1</th>\n",
       "      <td>3.077588</td>\n",
       "    </tr>\n",
       "    <tr>\n",
       "      <th>y_position_diff</th>\n",
       "      <td>2.813176</td>\n",
       "    </tr>\n",
       "    <tr>\n",
       "      <th>x_position_diff</th>\n",
       "      <td>2.784744</td>\n",
       "    </tr>\n",
       "    <tr>\n",
       "      <th>nfl_player_id_1</th>\n",
       "      <td>2.288154</td>\n",
       "    </tr>\n",
       "    <tr>\n",
       "      <th>track_emb_0</th>\n",
       "      <td>2.145869</td>\n",
       "    </tr>\n",
       "    <tr>\n",
       "      <th>m2_E_img_emb_4</th>\n",
       "      <td>2.139357</td>\n",
       "    </tr>\n",
       "    <tr>\n",
       "      <th>S_top_1</th>\n",
       "      <td>2.072140</td>\n",
       "    </tr>\n",
       "    <tr>\n",
       "      <th>distance_1</th>\n",
       "      <td>1.980197</td>\n",
       "    </tr>\n",
       "    <tr>\n",
       "      <th>m2_S_img_emb_4</th>\n",
       "      <td>1.908476</td>\n",
       "    </tr>\n",
       "    <tr>\n",
       "      <th>m0_S_img_emb_4</th>\n",
       "      <td>1.674455</td>\n",
       "    </tr>\n",
       "    <tr>\n",
       "      <th>players_dis_rollsum</th>\n",
       "      <td>1.523020</td>\n",
       "    </tr>\n",
       "    <tr>\n",
       "      <th>jersey_number_2</th>\n",
       "      <td>1.468891</td>\n",
       "    </tr>\n",
       "    <tr>\n",
       "      <th>m0_E_pred</th>\n",
       "      <td>1.379320</td>\n",
       "    </tr>\n",
       "    <tr>\n",
       "      <th>m2_S_pred</th>\n",
       "      <td>1.306569</td>\n",
       "    </tr>\n",
       "    <tr>\n",
       "      <th>team_2</th>\n",
       "      <td>1.301838</td>\n",
       "    </tr>\n",
       "  </tbody>\n",
       "</table>\n",
       "</div>"
      ],
      "text/plain": [
       "                      importance\n",
       "step                    9.232688\n",
       "track_emb_1             5.444419\n",
       "track_emb_2             4.835664\n",
       "players_distance_sum    4.704202\n",
       "speed_1                 4.665258\n",
       "jersey_number_1         3.077588\n",
       "y_position_diff         2.813176\n",
       "x_position_diff         2.784744\n",
       "nfl_player_id_1         2.288154\n",
       "track_emb_0             2.145869\n",
       "m2_E_img_emb_4          2.139357\n",
       "S_top_1                 2.072140\n",
       "distance_1              1.980197\n",
       "m2_S_img_emb_4          1.908476\n",
       "m0_S_img_emb_4          1.674455\n",
       "players_dis_rollsum     1.523020\n",
       "jersey_number_2         1.468891\n",
       "m0_E_pred               1.379320\n",
       "m2_S_pred               1.306569\n",
       "team_2                  1.301838"
      ]
     },
     "metadata": {},
     "output_type": "display_data"
    },
    {
     "name": "stdout",
     "output_type": "stream",
     "text": [
      "Performance of the prediction: 0.9721\n",
      "\n",
      "All Performance of the AUC:0.96856, MCC:0.70254\n"
     ]
    }
   ],
   "source": [
    "target_df = target_df.to_pandas()\n",
    "if CFG[\"DEBUG\"]:\n",
    "    target_df = target_df.sample(1000).reset_index(drop=True)\n",
    "oof_pred = fit_catboost(target_df, FEATURE_COLS)\n",
    "# oof_pred = fit_lgboost(target_df, FEATURE_COLS)\n",
    "# oof_pred = fit_xgboost(target_df, FEATURE_COLS)"
   ]
  },
  {
   "cell_type": "code",
   "execution_count": 28,
   "id": "28b47883",
   "metadata": {
    "execution": {
     "iopub.execute_input": "2023-02-27T11:35:55.233101Z",
     "iopub.status.busy": "2023-02-27T11:35:55.232742Z",
     "iopub.status.idle": "2023-02-27T11:35:55.495892Z",
     "shell.execute_reply": "2023-02-27T11:35:55.494991Z"
    },
    "papermill": {
     "duration": 0.295608,
     "end_time": "2023-02-27T11:35:55.498353",
     "exception": false,
     "start_time": "2023-02-27T11:35:55.202745",
     "status": "completed"
    },
    "tags": []
   },
   "outputs": [
    {
     "data": {
      "text/plain": [
       "<AxesSubplot:>"
      ]
     },
     "metadata": {},
     "output_type": "display_data"
    },
    {
     "data": {
      "image/png": "[encoded data removed]",
      "text/plain": [
       "<Figure size 432x288 with 1 Axes>"
      ]
     },
     "metadata": {
      "needs_background": "light"
     },
     "output_type": "display_data"
    }
   ],
   "source": [
    "target_df[\"pred\"] = oof_pred\n",
    "display(target_df[\"pred\"].hist(bins=20))"
   ]
  },
  {
   "cell_type": "code",
   "execution_count": 29,
   "id": "ab23fc51",
   "metadata": {
    "execution": {
     "iopub.execute_input": "2023-02-27T11:35:55.556946Z",
     "iopub.status.busy": "2023-02-27T11:35:55.556588Z",
     "iopub.status.idle": "2023-02-27T11:36:50.481501Z",
     "shell.execute_reply": "2023-02-27T11:36:50.480417Z"
    },
    "papermill": {
     "duration": 54.985678,
     "end_time": "2023-02-27T11:36:50.512893",
     "exception": false,
     "start_time": "2023-02-27T11:35:55.527215",
     "status": "completed"
    },
    "tags": []
   },
   "outputs": [
    {
     "name": "stdout",
     "output_type": "stream",
     "text": [
      "4721618\n",
      "score:0.72736, threshold:0.3375\n"
     ]
    }
   ],
   "source": [
    "train = pd.read_csv(CFG[\"TRAIN_LABEL_CSV\"])\n",
    "if CFG[\"DEBUG\"]:\n",
    "    train = train.sample(5000).reset_index(drop=True)\n",
    "\n",
    "train = pd.merge(train, target_df[[\"contact_id\", \"pred\"]], on=\"contact_id\", how=\"left\")\n",
    "train = train.fillna(0)\n",
    "print(len(train))\n",
    "\n",
    "def func(x_list):\n",
    "    score = matthews_corrcoef(train['contact'], train[\"pred\"]>x_list[0])\n",
    "    return -score\n",
    "x0 = [0.5]\n",
    "result = minimize(func, x0,  method=\"nelder-mead\")\n",
    "opt_threshold = result.x[0]\n",
    "score = round(matthews_corrcoef(train['contact'], train[\"pred\"]>opt_threshold), 5)\n",
    "threshold = round(opt_threshold, 5)\n",
    "print(f\"score:{score}, threshold:{threshold}\")"
   ]
  },
  {
   "cell_type": "markdown",
   "id": "ae8b8a75",
   "metadata": {
    "papermill": {
     "duration": 0.028495,
     "end_time": "2023-02-27T11:36:50.570059",
     "exception": false,
     "start_time": "2023-02-27T11:36:50.541564",
     "status": "completed"
    },
    "tags": []
   },
   "source": [
    "## post proc"
   ]
  },
  {
   "cell_type": "code",
   "execution_count": 30,
   "id": "1369f37b",
   "metadata": {
    "execution": {
     "iopub.execute_input": "2023-02-27T11:36:50.629930Z",
     "iopub.status.busy": "2023-02-27T11:36:50.628099Z",
     "iopub.status.idle": "2023-02-27T11:43:26.705958Z",
     "shell.execute_reply": "2023-02-27T11:43:26.701396Z"
    },
    "papermill": {
     "duration": 396.139749,
     "end_time": "2023-02-27T11:43:26.738258",
     "exception": false,
     "start_time": "2023-02-27T11:36:50.598509",
     "status": "completed"
    },
    "tags": []
   },
   "outputs": [
    {
     "name": "stdout",
     "output_type": "stream",
     "text": [
      "4721618\n",
      "score:0.72736, threshold:0.3375\n",
      "window size = 3, score:0.73786, threshold:0.3251\n",
      "window size = 5, score:0.74001, threshold:0.31436\n",
      "window size = 7, score:0.73973, threshold:0.33877\n",
      "window size = 9, score:0.73724, threshold:0.35078\n",
      "window size = 11, score:0.73548, threshold:0.34326\n",
      "window size = 13, score:0.73124, threshold:0.33467\n",
      "BEST SCORE => window size:5, score:0.74001, threshold:0.31436 \n"
     ]
    }
   ],
   "source": [
    "train = pd.read_csv(CFG[\"TRAIN_LABEL_CSV\"])\n",
    "# train = train[train[\"game_play\"].isin(train_game_play)]\n",
    "print(len(train))\n",
    "\n",
    "# scoring post process\n",
    "print(f\"score:{score}, threshold:{threshold}\")\n",
    "output_threshold =threshold\n",
    "best_score = score\n",
    "best_threshold = threshold\n",
    "best_window = 1\n",
    "\n",
    "for window_size in [3, 5, 7, 9, 11, 13]:\n",
    "    print(f\"window size = {window_size}\", end=\", \")\n",
    "    proc_sub = post_proc_roll(train, target_df, window_size)\n",
    "    def func(x_list):\n",
    "        score = matthews_corrcoef(proc_sub['contact'], proc_sub[\"proc_pred\"]>x_list[0])\n",
    "        return -score\n",
    "    x0 = [0.5]\n",
    "    result = minimize(func, x0,  method=\"nelder-mead\")\n",
    "    opt_threshold = result.x[0]\n",
    "    score = round(matthews_corrcoef(proc_sub['contact'], proc_sub[\"proc_pred\"]>opt_threshold), 5)\n",
    "    threshold = round(opt_threshold, 5)\n",
    "    print(f\"score:{score}, threshold:{threshold}\")\n",
    "    if score > best_score:\n",
    "        best_score = score\n",
    "        best_threshold = threshold\n",
    "        best_window = window_size\n",
    "print(f\"BEST SCORE => window size:{best_window}, score:{best_score}, threshold:{best_threshold} \")"
   ]
  },
  {
   "cell_type": "code",
   "execution_count": 31,
   "id": "f891c381",
   "metadata": {
    "execution": {
     "iopub.execute_input": "2023-02-27T11:43:26.799459Z",
     "iopub.status.busy": "2023-02-27T11:43:26.799057Z",
     "iopub.status.idle": "2023-02-27T11:43:26.890987Z",
     "shell.execute_reply": "2023-02-27T11:43:26.889803Z"
    },
    "papermill": {
     "duration": 0.124561,
     "end_time": "2023-02-27T11:43:26.893258",
     "exception": false,
     "start_time": "2023-02-27T11:43:26.768697",
     "status": "completed"
    },
    "tags": []
   },
   "outputs": [
    {
     "name": "stdout",
     "output_type": "stream",
     "text": [
      "156\n",
      "['nfl_player_id_1', 'nfl_player_id_2', 'step', 'x_position_1', 'y_position_1', 'speed_1', 'distance_1', 'direction_1', 'orientation_1', 'acceleration_1', 'sa_1', 'team_1', 'jersey_number_1', 'is_lineman_1', 'x_position_shift-6_1', 'x_position_shift-5_1', 'x_position_shift-4_1', 'x_position_shift-3_1', 'x_position_shift-2_1', 'x_position_shift-1_1', 'x_position_shift0_1', 'x_position_shift1_1', 'x_position_shift2_1', 'x_position_shift3_1', 'x_position_shift4_1', 'x_position_shift5_1', 'y_position_shift-6_1', 'y_position_shift-5_1', 'y_position_shift-4_1', 'y_position_shift-3_1', 'y_position_shift-2_1', 'y_position_shift-1_1', 'y_position_shift0_1', 'y_position_shift1_1', 'y_position_shift2_1', 'y_position_shift3_1', 'y_position_shift4_1', 'y_position_shift5_1', 'x_position_2', 'y_position_2', 'speed_2', 'distance_2', 'direction_2', 'orientation_2', 'acceleration_2', 'sa_2', 'team_2', 'jersey_number_2', 'is_lineman_2', 'x_position_shift-6_2', 'x_position_shift-5_2', 'x_position_shift-4_2', 'x_position_shift-3_2', 'x_position_shift-2_2', 'x_position_shift-1_2', 'x_position_shift0_2', 'x_position_shift1_2', 'x_position_shift2_2', 'x_position_shift3_2', 'x_position_shift4_2', 'x_position_shift5_2', 'y_position_shift-6_2', 'y_position_shift-5_2', 'y_position_shift-4_2', 'y_position_shift-3_2', 'y_position_shift-2_2', 'y_position_shift-1_2', 'y_position_shift0_2', 'y_position_shift1_2', 'y_position_shift2_2', 'y_position_shift3_2', 'y_position_shift4_2', 'y_position_shift5_2', 'players_distance_sum', 'x_move_distance_1', 'x_move_distance_2', 'y_move_distance_1', 'y_move_distance_2', 'x_position_diff', 'y_position_diff', 'speed_diff', 'distance_diff', 'direction_diff', 'orientation_diff', 'acceleration_diff', 'sa_diff', 'players_dis_rollsum', 'x_position_diff_rollsum', 'y_position_diff_rollsum', 'speed_diff_rollsum', 'distance_diff_rollsum', 'direction_diff_rollsum', 'orientation_diff_rollsum', 'acceleration_diff_rollsum', 'sa_diff_rollsum', 'E_left_1', 'E_width_1', 'E_top_1', 'E_height_1', 'E_left_2', 'E_width_2', 'E_top_2', 'E_height_2', 'S_left_1', 'S_width_1', 'S_top_1', 'S_height_1', 'S_left_2', 'S_width_2', 'S_top_2', 'S_height_2', 'E_helmet_dis', 'S_helmet_dis', 'is_ground', 'is_E_helmet', 'is_S_helmet', 'both_helmet', 'm0_E_img_emb_0', 'm0_E_img_emb_1', 'm0_E_img_emb_2', 'm0_E_img_emb_3', 'm0_E_img_emb_4', 'm0_E_pred', 'm0_S_img_emb_0', 'm0_S_img_emb_1', 'm0_S_img_emb_2', 'm0_S_img_emb_3', 'm0_S_img_emb_4', 'm0_S_pred', 'm1_E_img_emb_0', 'm1_E_img_emb_1', 'm1_E_img_emb_2', 'm1_E_img_emb_3', 'm1_E_img_emb_4', 'm1_E_pred', 'm1_S_img_emb_0', 'm1_S_img_emb_1', 'm1_S_img_emb_2', 'm1_S_img_emb_3', 'm1_S_img_emb_4', 'm1_S_pred', 'm2_E_img_emb_0', 'm2_E_img_emb_1', 'm2_E_img_emb_2', 'm2_E_img_emb_3', 'm2_E_img_emb_4', 'm2_E_pred', 'm2_S_img_emb_0', 'm2_S_img_emb_1', 'm2_S_img_emb_2', 'm2_S_img_emb_3', 'm2_S_img_emb_4', 'm2_S_pred', 'track_emb_0', 'track_emb_1', 'track_emb_2']\n"
     ]
    }
   ],
   "source": [
    "print(len(FEATURE_COLS))\n",
    "print(FEATURE_COLS)\n",
    "del train"
   ]
  },
  {
   "cell_type": "code",
   "execution_count": 32,
   "id": "7b6e0a05",
   "metadata": {
    "execution": {
     "iopub.execute_input": "2023-02-27T11:43:26.951913Z",
     "iopub.status.busy": "2023-02-27T11:43:26.950996Z",
     "iopub.status.idle": "2023-02-27T11:43:26.966655Z",
     "shell.execute_reply": "2023-02-27T11:43:26.965783Z"
    },
    "papermill": {
     "duration": 0.04668,
     "end_time": "2023-02-27T11:43:26.968748",
     "exception": false,
     "start_time": "2023-02-27T11:43:26.922068",
     "status": "completed"
    },
    "tags": []
   },
   "outputs": [],
   "source": [
    "CFG[\"features\"] = FEATURE_COLS\n",
    "CFG[\"PRED_THR\"] = output_threshold\n",
    "CFG[\"PROC_PRED_THR\"] = best_threshold\n",
    "CFG[\"proc_window_size\"] = best_window\n",
    "\n",
    "import yaml\n",
    "\n",
    "cofig_yaml = os.path.join(CFG[\"EXP_DIR\"], \"Config.yaml\")\n",
    "with open(cofig_yaml, \"w\") as f:\n",
    "    yaml.dump(CFG, f)"
   ]
  },
  {
   "cell_type": "code",
   "execution_count": null,
   "id": "cd97c854",
   "metadata": {
    "papermill": {
     "duration": 0.04158,
     "end_time": "2023-02-27T11:43:27.043995",
     "exception": false,
     "start_time": "2023-02-27T11:43:27.002415",
     "status": "completed"
    },
    "tags": []
   },
   "outputs": [],
   "source": []
  },
  {
   "cell_type": "code",
   "execution_count": null,
   "id": "59d850ec",
   "metadata": {
    "papermill": {
     "duration": 0.028904,
     "end_time": "2023-02-27T11:43:27.101254",
     "exception": false,
     "start_time": "2023-02-27T11:43:27.072350",
     "status": "completed"
    },
    "tags": []
   },
   "outputs": [],
   "source": []
  }
 ],
 "metadata": {
  "kernelspec": {
   "display_name": "base",
   "language": "python",
   "name": "python3"
  },
  "language_info": {
   "codemirror_mode": {
    "name": "ipython",
    "version": 3
   },
   "file_extension": ".py",
   "mimetype": "text/x-python",
   "name": "python",
   "nbconvert_exporter": "python",
   "pygments_lexer": "ipython3",
   "version": "3.7.12"
  },
  "papermill": {
   "default_parameters": {},
   "duration": 16016.888521,
   "end_time": "2023-02-27T11:43:28.881260",
   "environment_variables": {},
   "exception": null,
   "input_path": "__notebook__.ipynb",
   "output_path": "__notebook__.ipynb",
   "parameters": {},
   "start_time": "2023-02-27T07:16:31.992739",
   "version": "2.3.4"
  },
  "vscode": {
   "interpreter": {
    "hash": "d4d1e4263499bec80672ea0156c357c1ee493ec2b1c70f0acce89fc37c4a6abe"
   }
  }
 },
 "nbformat": 4,
 "nbformat_minor": 5
}
