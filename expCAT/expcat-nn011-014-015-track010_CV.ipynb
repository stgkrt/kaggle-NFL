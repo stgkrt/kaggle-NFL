{
 "cells": [
  {
   "cell_type": "markdown",
   "id": "fc642bc2",
   "metadata": {
    "papermill": {
     "duration": 0.011005,
     "end_time": "2023-02-27T07:16:39.639827",
     "exception": false,
     "start_time": "2023-02-27T07:16:39.628822",
     "status": "completed"
    },
    "tags": []
   },
   "source": [
    "## Try Polars\n",
    "This notebook is just for learning polars"
   ]
  },
  {
   "cell_type": "markdown",
   "id": "7df37548",
   "metadata": {
    "papermill": {
     "duration": 0.010209,
     "end_time": "2023-02-27T07:17:11.214148",
     "exception": false,
     "start_time": "2023-02-27T07:17:11.203939",
     "status": "completed"
    },
    "tags": []
   },
   "source": [
    "# import libraries"
   ]
  },
  {
   "cell_type": "code",
   "execution_count": 1,
   "id": "0bf33d1e",
   "metadata": {
    "_cell_guid": "b1076dfc-b9ad-4769-8c92-a6c4dae69d19",
    "_uuid": "8f2839f25d086af736a60e9eeb907d3b93b6e0e5",
    "execution": {
     "iopub.execute_input": "2023-02-27T07:17:11.233271Z",
     "iopub.status.busy": "2023-02-27T07:17:11.232949Z",
     "iopub.status.idle": "2023-02-27T07:17:14.571969Z",
     "shell.execute_reply": "2023-02-27T07:17:14.571182Z"
    },
    "papermill": {
     "duration": 3.352481,
     "end_time": "2023-02-27T07:17:14.575478",
     "exception": false,
     "start_time": "2023-02-27T07:17:11.222997",
     "status": "completed"
    },
    "tags": []
   },
   "outputs": [
    {
     "data": {
      "text/html": [
       "<style type='text/css'>\n",
       ".datatable table.frame { margin-bottom: 0; }\n",
       ".datatable table.frame thead { border-bottom: none; }\n",
       ".datatable table.frame tr.coltypes td {  color: #FFFFFF;  line-height: 6px;  padding: 0 0.5em;}\n",
       ".datatable .bool    { background: #DDDD99; }\n",
       ".datatable .object  { background: #565656; }\n",
       ".datatable .int     { background: #5D9E5D; }\n",
       ".datatable .float   { background: #4040CC; }\n",
       ".datatable .str     { background: #CC4040; }\n",
       ".datatable .time    { background: #40CC40; }\n",
       ".datatable .row_index {  background: var(--jp-border-color3);  border-right: 1px solid var(--jp-border-color0);  color: var(--jp-ui-font-color3);  font-size: 9px;}\n",
       ".datatable .frame tbody td { text-align: left; }\n",
       ".datatable .frame tr.coltypes .row_index {  background: var(--jp-border-color0);}\n",
       ".datatable th:nth-child(2) { padding-left: 12px; }\n",
       ".datatable .hellipsis {  color: var(--jp-cell-editor-border-color);}\n",
       ".datatable .vellipsis {  background: var(--jp-layout-color0);  color: var(--jp-cell-editor-border-color);}\n",
       ".datatable .na {  color: var(--jp-cell-editor-border-color);  font-size: 80%;}\n",
       ".datatable .sp {  opacity: 0.25;}\n",
       ".datatable .footer { font-size: 9px; }\n",
       ".datatable .frame_dimensions {  background: var(--jp-border-color3);  border-top: 1px solid var(--jp-border-color0);  color: var(--jp-ui-font-color3);  display: inline-block;  opacity: 0.6;  padding: 1px 10px 1px 5px;}\n",
       "</style>\n"
      ],
      "text/plain": [
       "<IPython.core.display.HTML object>"
      ]
     },
     "metadata": {},
     "output_type": "display_data"
    }
   ],
   "source": [
    "import os\n",
    "import gc\n",
    "import pickle\n",
    "import glob\n",
    "import random\n",
    "import numpy as np\n",
    "import pandas as pd\n",
    "from tqdm.notebook import tqdm\n",
    "import cv2\n",
    "import matplotlib.pyplot as plt\n",
    "import time\n",
    "import math\n",
    "import sys\n",
    "\n",
    "import polars as pl\n",
    "\n",
    "import lightgbm as lgb\n",
    "from lightgbm import LGBMClassifier, early_stopping, log_evaluation\n",
    "from catboost import CatBoostClassifier, Pool\n",
    "\n",
    "import xgboost as xgb\n",
    "import torch\n",
    "import cupy \n",
    "import cudf\n",
    "from cuml import ForestInference\n",
    "\n",
    "from sklearn.metrics import matthews_corrcoef, confusion_matrix, roc_auc_score\n",
    "from sklearn.model_selection import GroupKFold\n",
    "from scipy.optimize import minimize\n",
    "\n",
    "import warnings\n",
    "warnings.filterwarnings(\"ignore\")"
   ]
  },
  {
   "cell_type": "markdown",
   "id": "094f7993",
   "metadata": {
    "papermill": {
     "duration": 0.016363,
     "end_time": "2023-02-27T07:17:14.617541",
     "exception": false,
     "start_time": "2023-02-27T07:17:14.601178",
     "status": "completed"
    },
    "tags": []
   },
   "source": [
    "# Set Configurations"
   ]
  },
  {
   "cell_type": "code",
   "execution_count": 2,
   "id": "9331afa1",
   "metadata": {
    "execution": {
     "iopub.execute_input": "2023-02-27T07:17:14.648500Z",
     "iopub.status.busy": "2023-02-27T07:17:14.648170Z",
     "iopub.status.idle": "2023-02-27T07:17:14.665704Z",
     "shell.execute_reply": "2023-02-27T07:17:14.664644Z"
    },
    "papermill": {
     "duration": 0.035881,
     "end_time": "2023-02-27T07:17:14.667738",
     "exception": false,
     "start_time": "2023-02-27T07:17:14.631857",
     "status": "completed"
    },
    "tags": []
   },
   "outputs": [],
   "source": [
    "CFG = {\n",
    "    \"DEBUG\" : False,\n",
    "    \"EXP_NAME\" : \"expCAT002\",\n",
    "    \"n_folds\" : 5,\n",
    "    \"train_folds\" : [0,1,2,3,4],\n",
    "    \n",
    "}\n",
    "\n",
    "CFG[\"cat_params\"] = {\n",
    "            'iterations': 10000,\n",
    "            'learning_rate' : 0.01,\n",
    "            'loss_function' : 'Logloss',\n",
    "            'eval_metric' : 'AUC',\n",
    "            'verbose' : 200,\n",
    "            'random_seed' : 42,\n",
    "            'use_best_model': True,\n",
    "}\n",
    "\n",
    "\n",
    "CFG[\"lgb_params\"] = { 'boosting_type' :'dart',\n",
    "                      'objective': 'binary',\n",
    "                      'random_state': 21,\n",
    "                      'learning_rate': 0.01,\n",
    "                      'n_estimators':5000,\n",
    "                      }\n",
    "\n",
    "# CFG[\"xgb_params\"] =  {\n",
    "#                         'objective': 'binary:logistic',\n",
    "#                         'eval_metric': 'auc',\n",
    "#                         'learning_rate':0.01,\n",
    "#                         'tree_method':'hist' if not torch.cuda.is_available() else 'gpu_hist',\n",
    "#                         'seed': 42,\n",
    "#                     }\n",
    "\n",
    "if CFG[\"DEBUG\"]:\n",
    "    CFG[\"EXP_CATEGORY\"] = \"DEBUG\"\n",
    "    CFG[\"sample_num\"] = 1000\n",
    "\n",
    "CFG[\"INPUT_DIR\"] = \"/workspace/input\"\n",
    "CFG[\"OUTPUT_DIR\"] = \"/workspace/output\"\n",
    "CFG[\"BASE_DIR\"] = os.path.join(CFG[\"INPUT_DIR\"])\n",
    "CFG[\"TRAIN_HELMET_CSV\"] = os.path.join(CFG[\"BASE_DIR\"], \"train_baseline_helmets.csv\")\n",
    "CFG[\"TRAIN_TRACKING_CSV\"] = os.path.join(CFG[\"BASE_DIR\"], \"train_player_tracking.csv\")\n",
    "CFG[\"TRAIN_VIDEO_META_CSV\"] = os.path.join(CFG[\"BASE_DIR\"], \"train_video_metadata.csv\")\n",
    "CFG[\"TRAIN_LABEL_CSV\"] = os.path.join(CFG[\"BASE_DIR\"], \"train_labels.csv\")\n",
    "\n",
    "CFG[\"NN_FEATURE_CSV_1\"] = os.path.join(CFG[\"OUTPUT_DIR\"], \"expP011_PandG_bothview_swins3base224\", \"oof_df.csv\")\n",
    "CFG[\"NN_FEATURE_CSV_2\"] = os.path.join(CFG[\"OUTPUT_DIR\"], \"expP014_PandG_nomask_swins3base224\", \"oof_df.csv\")\n",
    "CFG[\"NN_FEATURE_CSV_3\"] = os.path.join(CFG[\"OUTPUT_DIR\"], \"expP015_PandG_nomaskzoom_swins3base224\", \"oof_df.csv\")\n",
    "\n",
    "CFG[\"TRACK_FEATURE_CSV\"] = os.path.join(CFG[\"OUTPUT_DIR\"], \"expT010_Trackshift1D\", \"oof_df.csv\")\n",
    "\n",
    "CFG[\"TEST_HELMET_CSV\"] = os.path.join(CFG[\"BASE_DIR\"], \"test_baseline_helmets.csv\")\n",
    "CFG[\"TEST_TRACKING_CSV\"] = os.path.join(CFG[\"BASE_DIR\"], \"test_player_tracking.csv\")\n",
    "CFG[\"TEST_VIDEO_META_CSV\"] = os.path.join(CFG[\"BASE_DIR\"], \"test_video_metadata.csv\")\n",
    "CFG[\"TEST_LABEL_CSV\"] = os.path.join(CFG[\"BASE_DIR\"], \"sample_submission.csv\")\n",
    "\n",
    "\n",
    "CFG[\"EXP_DIR\"] = os.path.join(CFG[\"OUTPUT_DIR\"], CFG[\"EXP_NAME\"])\n",
    "if not CFG[\"DEBUG\"]:\n",
    "    os.mkdir(CFG[\"EXP_DIR\"])"
   ]
  },
  {
   "cell_type": "markdown",
   "id": "2ed4f4b4",
   "metadata": {
    "papermill": {
     "duration": 0.009013,
     "end_time": "2023-02-27T07:17:15.736708",
     "exception": false,
     "start_time": "2023-02-27T07:17:15.727695",
     "status": "completed"
    },
    "tags": []
   },
   "source": [
    "# MODEL Functions"
   ]
  },
  {
   "cell_type": "code",
   "execution_count": 3,
   "id": "ae0cf124",
   "metadata": {
    "execution": {
     "iopub.execute_input": "2023-02-27T07:17:15.756496Z",
     "iopub.status.busy": "2023-02-27T07:17:15.756153Z",
     "iopub.status.idle": "2023-02-27T07:17:15.769620Z",
     "shell.execute_reply": "2023-02-27T07:17:15.768661Z"
    },
    "papermill": {
     "duration": 0.025744,
     "end_time": "2023-02-27T07:17:15.771549",
     "exception": false,
     "start_time": "2023-02-27T07:17:15.745805",
     "status": "completed"
    },
    "tags": []
   },
   "outputs": [],
   "source": [
    "def fit_lgboost(df_, feature_cols_):\n",
    "    kf = GroupKFold(n_splits=CFG[\"n_folds\"])\n",
    "    X = df_[feature_cols_]\n",
    "    y = df_[\"contact\"]\n",
    "    oof_pred = np.zeros(len(y), dtype=np.float32)\n",
    "    generator = kf.split(X, y, df_[\"game_id\"])\n",
    "    for fold, (idx_train, idx_valid) in enumerate(generator):\n",
    "        print(\"-\")\n",
    "        print(f\"fold {fold}\")\n",
    "        x_train, y_train = X.iloc[idx_train], y.iloc[idx_train]\n",
    "        x_valid, y_valid = X.iloc[idx_valid], y.iloc[idx_valid]\n",
    "        display(pd.Series(y_valid).value_counts())\n",
    "\n",
    "        params = CFG[\"lgb_params\"]\n",
    "        model = LGBMClassifier(**params).fit(x_train, y_train, \n",
    "                                   eval_set=[(x_train, y_train), (x_valid, y_valid)],\n",
    "                                   callbacks=[early_stopping(200), log_evaluation(100)],\n",
    "                                   eval_metric=['auc'],)\n",
    "\n",
    "        model_path = os.path.join(CFG[\"EXP_DIR\"], f'lgb_fold{fold}.model')\n",
    "        pickle.dump(model, open(model_path, 'wb'))\n",
    "        importance = pd.DataFrame(model.feature_importances_, index=X.columns, columns=['importance'])\n",
    "        display(importance.sort_values(\"importance\", ascending=False).head(20))\n",
    "\n",
    "        pred_i = model.predict_proba(x_valid)[:, 1]\n",
    "        oof_pred[x_valid.index] = pred_i\n",
    "        score = round(roc_auc_score(y_valid, pred_i), 5)\n",
    "        print(f'Performance of the prediction: {score}\\n')\n",
    "        del model; gc.collect()\n",
    "\n",
    "    oof_pred_file = os.path.join(CFG[\"EXP_DIR\"], 'oof_pred')\n",
    "    df_[\"pred\"] = oof_pred\n",
    "    np.save(oof_pred_file, oof_pred)\n",
    "    auc = round(roc_auc_score(y, oof_pred), 5)\n",
    "    \n",
    "    def func(x_list):\n",
    "        score = matthews_corrcoef(df_['contact'], df_[\"pred\"]>x_list[0])\n",
    "        return -score\n",
    "    x0 = [0.5]\n",
    "    result = minimize(func, x0,  method=\"nelder-mead\")\n",
    "    opt_threshold = result.x[0]\n",
    "    score = round(matthews_corrcoef(df_['contact'], df_[\"pred\"]>opt_threshold), 5)\n",
    "    \n",
    "    print(f'All Performance of the AUC:{auc}, MCC:{score}')\n",
    "    return oof_pred\n"
   ]
  },
  {
   "cell_type": "code",
   "execution_count": 4,
   "id": "e1ff8e43",
   "metadata": {
    "execution": {
     "iopub.execute_input": "2023-02-27T07:17:15.791176Z",
     "iopub.status.busy": "2023-02-27T07:17:15.790910Z",
     "iopub.status.idle": "2023-02-27T07:17:15.802359Z",
     "shell.execute_reply": "2023-02-27T07:17:15.801383Z"
    },
    "papermill": {
     "duration": 0.023703,
     "end_time": "2023-02-27T07:17:15.804355",
     "exception": false,
     "start_time": "2023-02-27T07:17:15.780652",
     "status": "completed"
    },
    "tags": []
   },
   "outputs": [],
   "source": [
    "def fit_catboost(df_, feature_cols_):\n",
    "    kf = GroupKFold(n_splits=CFG[\"n_folds\"])\n",
    "    X = df_[feature_cols_]\n",
    "    y = df_[\"contact\"]\n",
    "    oof_pred = np.zeros(len(y), dtype=np.float32)\n",
    "    generator = kf.split(X, y, df_[\"game_id\"])\n",
    "    for fold, (idx_train, idx_valid) in enumerate(generator):\n",
    "        print(\"-\")\n",
    "        print(f\"fold {fold}\")\n",
    "        x_train, y_train = X.iloc[idx_train], y.iloc[idx_train]\n",
    "        x_valid, y_valid = X.iloc[idx_valid], y.iloc[idx_valid]\n",
    "        display(pd.Series(y_valid).value_counts())\n",
    "\n",
    "        params = CFG[\"cat_params\"]\n",
    "        model =  CatBoostClassifier(**params)\n",
    "        model.fit(x_train, y_train, eval_set=[(x_valid, y_valid)], verbose=100, early_stopping_rounds=200)\n",
    "        model_path = os.path.join(CFG[\"EXP_DIR\"], f'cat_fold{fold}.model')\n",
    "        pickle.dump(model, open(model_path, 'wb'))\n",
    "        importance = pd.DataFrame(model.feature_importances_, index=X.columns, columns=['importance'])\n",
    "        display(importance.sort_values(\"importance\", ascending=False).head(20))\n",
    "\n",
    "        pred_i = model.predict_proba(x_valid)[:, 1]\n",
    "        oof_pred[x_valid.index] = pred_i\n",
    "        score = round(roc_auc_score(y_valid, pred_i), 5)\n",
    "        print(f'Performance of the prediction: {score}\\n')\n",
    "        del model; gc.collect()\n",
    "    \n",
    "    oof_pred_file = os.path.join(CFG[\"EXP_DIR\"], 'oof_pred')\n",
    "    df_[\"pred\"] = oof_pred\n",
    "    np.save(oof_pred_file, oof_pred)\n",
    "    auc = round(roc_auc_score(y, oof_pred), 5)\n",
    "    \n",
    "    def func(x_list):\n",
    "        score = matthews_corrcoef(df_['contact'], df_[\"pred\"]>x_list[0])\n",
    "        return -score\n",
    "    x0 = [0.5]\n",
    "    result = minimize(func, x0,  method=\"nelder-mead\")\n",
    "    opt_threshold = result.x[0]\n",
    "    score = round(matthews_corrcoef(df_['contact'], df_[\"pred\"]>opt_threshold), 5)\n",
    "    \n",
    "    print(f'All Performance of the AUC:{auc}, MCC:{score}')\n",
    "    return oof_pred"
   ]
  },
  {
   "cell_type": "code",
   "execution_count": 5,
   "id": "b27173df",
   "metadata": {
    "execution": {
     "iopub.execute_input": "2023-02-27T07:17:15.824029Z",
     "iopub.status.busy": "2023-02-27T07:17:15.823500Z",
     "iopub.status.idle": "2023-02-27T07:17:15.836942Z",
     "shell.execute_reply": "2023-02-27T07:17:15.835982Z"
    },
    "papermill": {
     "duration": 0.025574,
     "end_time": "2023-02-27T07:17:15.838948",
     "exception": false,
     "start_time": "2023-02-27T07:17:15.813374",
     "status": "completed"
    },
    "tags": []
   },
   "outputs": [],
   "source": [
    "def fit_xgboost(df_, feature_cols_):\n",
    "    kf = GroupKFold(n_splits=CFG[\"n_folds\"])\n",
    "    X = df_[feature_cols_]\n",
    "    y = df_[\"contact\"]\n",
    "    oof_pred = np.zeros(len(y), dtype=np.float32)\n",
    "    generator = kf.split(X, y, df_[\"game_play\"])\n",
    "    for fold, (idx_train, idx_valid) in enumerate(generator):\n",
    "        print(\"-\")\n",
    "        print(f\"fold {fold}\")\n",
    "        # set dataset\n",
    "        x_train, y_train = X.iloc[idx_train], y.iloc[idx_train]\n",
    "        x_valid, y_valid = X.iloc[idx_valid], y.iloc[idx_valid]\n",
    "        display(pd.Series(y_valid).value_counts())\n",
    "        xgb_train = xgb.DMatrix(x_train, label=y_train)\n",
    "        xgb_valid = xgb.DMatrix(x_valid, label=y_valid)\n",
    "        evals = [(xgb_train,'train'),(xgb_valid,'eval')]\n",
    "        # fit\n",
    "        params = CFG[\"xgb_params\"]\n",
    "        model = xgb.train(\n",
    "            params,\n",
    "            xgb_train,\n",
    "            num_boost_round=10_000,\n",
    "            early_stopping_rounds=200,\n",
    "            evals=evals,\n",
    "            verbose_eval=100,\n",
    "        )\n",
    "\n",
    "        model_path = os.path.join(CFG[\"EXP_DIR\"], f'xgb_fold{fold}.model')\n",
    "        model.save_model(model_path)\n",
    "        _, ax = plt.subplots(figsize=(20, 16))\n",
    "        xgb.plot_importance(model,\n",
    "                            ax=ax,\n",
    "                            importance_type='gain',\n",
    "                            show_values=False)\n",
    "        plt.show()\n",
    "\n",
    "        if not torch.cuda.is_available():\n",
    "            model = xgb.Booster().load_model(model_path)\n",
    "        else:\n",
    "            model = ForestInference.load(model_path, output_class=True, model_type='xgboost')\n",
    "        \n",
    "        pred_i = model.predict_proba(x_valid)[:, 1]\n",
    "        oof_pred[x_valid.index] = pred_i\n",
    "        score = round(roc_auc_score(y_valid, pred_i), 5)\n",
    "        print(f'Performance of the prediction: {score}\\n')\n",
    "        del model; gc.collect()\n",
    "    \n",
    "    oof_pred_file = os.path.join(CFG[\"EXP_DIR\"], 'oof_pred')\n",
    "    df_[\"pred\"] = oof_pred\n",
    "    np.save(oof_pred_file, oof_pred)\n",
    "    auc = round(roc_auc_score(y, oof_pred), 5)\n",
    "    \n",
    "    def func(x_list):\n",
    "        score = matthews_corrcoef(df_['contact'], df_[\"pred\"]>x_list[0])\n",
    "        return -score\n",
    "    x0 = [0.5]\n",
    "    result = minimize(func, x0,  method=\"nelder-mead\")\n",
    "    opt_threshold = result.x[0]\n",
    "    score = round(matthews_corrcoef(df_['contact'], df_[\"pred\"]>opt_threshold), 5)\n",
    "    \n",
    "    print(f'All Performance of the AUC:{auc}, MCC:{score}')\n",
    "    return oof_pred"
   ]
  },
  {
   "cell_type": "markdown",
   "id": "637b4d25",
   "metadata": {
    "papermill": {
     "duration": 0.008976,
     "end_time": "2023-02-27T07:17:15.856980",
     "exception": false,
     "start_time": "2023-02-27T07:17:15.848004",
     "status": "completed"
    },
    "tags": []
   },
   "source": [
    "# Dataset Functions"
   ]
  },
  {
   "cell_type": "code",
   "execution_count": 6,
   "id": "725de3cb",
   "metadata": {
    "execution": {
     "iopub.execute_input": "2023-02-27T07:17:15.876409Z",
     "iopub.status.busy": "2023-02-27T07:17:15.876111Z",
     "iopub.status.idle": "2023-02-27T07:17:15.881699Z",
     "shell.execute_reply": "2023-02-27T07:17:15.880778Z"
    },
    "papermill": {
     "duration": 0.017794,
     "end_time": "2023-02-27T07:17:15.883953",
     "exception": false,
     "start_time": "2023-02-27T07:17:15.866159",
     "status": "completed"
    },
    "tags": []
   },
   "outputs": [],
   "source": [
    "def add_feature_cols(df_, feature_cols_, remove_col_list):\n",
    "    additional_cols = list(df_.columns)\n",
    "    additional_cols = [col for col in additional_cols if not col in remove_col_list]\n",
    "    feature_cols_.extend(additional_cols)\n",
    "    return feature_cols_"
   ]
  },
  {
   "cell_type": "markdown",
   "id": "d54e0afd",
   "metadata": {
    "papermill": {
     "duration": 0.008985,
     "end_time": "2023-02-27T07:17:15.902041",
     "exception": false,
     "start_time": "2023-02-27T07:17:15.893056",
     "status": "completed"
    },
    "tags": []
   },
   "source": [
    "## Merge Functions"
   ]
  },
  {
   "cell_type": "code",
   "execution_count": 7,
   "id": "ebffbfac",
   "metadata": {
    "execution": {
     "iopub.execute_input": "2023-02-27T07:17:15.923176Z",
     "iopub.status.busy": "2023-02-27T07:17:15.922910Z",
     "iopub.status.idle": "2023-02-27T07:17:15.934849Z",
     "shell.execute_reply": "2023-02-27T07:17:15.933964Z"
    },
    "papermill": {
     "duration": 0.02423,
     "end_time": "2023-02-27T07:17:15.936850",
     "exception": false,
     "start_time": "2023-02-27T07:17:15.912620",
     "status": "completed"
    },
    "tags": []
   },
   "outputs": [],
   "source": [
    "def target_merge_tracking(target_df_, tracking_df_, feature_cols_, SHIFT_COLS_):\n",
    "    target_df_ = target_df_.with_column(pl.concat_str([pl.col(\"game_play\"),\n",
    "                                                     pl.col(\"step\").cast(str),\n",
    "                                                     pl.col(\"nfl_player_id_1\"),\n",
    "                                                    ], sep='_').alias('game_step_player_1'))\n",
    "    target_df_ = target_df_.with_column(pl.concat_str([pl.col(\"game_play\"),\n",
    "                                                     pl.col(\"step\").cast(str),\n",
    "                                                     pl.col(\"nfl_player_id_2\"),\n",
    "                                                    ], sep='_').alias('game_step_player_2'))\n",
    "    # line man positions\n",
    "    lineman_pos = [\"T\", \"G\", \"C\", \"DE\", \"DT\", \"NG\"]\n",
    "    tracking_df_ = tracking_df_.with_column((pl.col(\"position\").is_in(lineman_pos)).cast(int).alias('is_lineman'))\n",
    "    \n",
    "    \n",
    "    # Norm cols\n",
    "    norm_cols = [\"x_position\", \"y_position\", \"direction\", \"orientation\"]\n",
    "    Norm_value_list = [120., 60., 360., 360.]\n",
    "    for col, norm_val in zip(norm_cols, Norm_value_list):\n",
    "        tracking_df_ = tracking_df_.with_column((pl.col(col)/norm_val).alias(col))\n",
    "    \n",
    "    # use columns\n",
    "    track_cols = [\"game_play\", \"nfl_player_id\", \"step\", \n",
    "                   \"x_position\", \"y_position\", \"datetime\",\n",
    "                   \"speed\",\"distance\",\"direction\",\"orientation\",\n",
    "                   \"acceleration\",\"sa\", \"team\", \"jersey_number\",\n",
    "                   \"is_lineman\",\n",
    "                 ]\n",
    "    track_cols.extend(SHIFT_COLS_)\n",
    "    tracking_df_ = tracking_df_.select(track_cols)\n",
    "    tracking_df_ = tracking_df_.with_column(pl.concat_str([pl.col(\"game_play\"),\n",
    "                                                         pl.col(\"step\").cast(str),\n",
    "                                                         pl.col(\"nfl_player_id\"),\n",
    "                                                        ], sep='_').alias('game_step_player'))\n",
    "\n",
    "    tracking_df_ = tracking_df_.drop([\"game_play\", \"step\", \"nfl_player_id\", \"datetime\"])\n",
    "\n",
    "    # merge tracking to target\n",
    "    for player_id in [1,2]:\n",
    "        tracking_player = tracking_df_.select([pl.all().suffix(f\"_{player_id}\")])\n",
    "        target_df_ = target_df_.join(tracking_player, on=[f\"game_step_player_{player_id}\"], how=\"left\")\n",
    "        # add features col\n",
    "        feature_cols_ = add_feature_cols(tracking_player, feature_cols_,\n",
    "                                        [f\"game_step_player_{player_id}\", f\"frame_{player_id}\", f\"datetime_{player_id}\"])\n",
    "    # drop col\n",
    "    target_df_ = target_df_.drop([\"game_step_player_1\", \"game_step_player_2\"])\n",
    "    print(len(target_df_.columns))\n",
    "    print(\"original length\", len(target_df_))\n",
    "    return target_df_, feature_cols_"
   ]
  },
  {
   "cell_type": "code",
   "execution_count": 8,
   "id": "6382069b",
   "metadata": {
    "execution": {
     "iopub.execute_input": "2023-02-27T07:17:15.956494Z",
     "iopub.status.busy": "2023-02-27T07:17:15.956207Z",
     "iopub.status.idle": "2023-02-27T07:17:15.966297Z",
     "shell.execute_reply": "2023-02-27T07:17:15.965379Z"
    },
    "papermill": {
     "duration": 0.022278,
     "end_time": "2023-02-27T07:17:15.968305",
     "exception": false,
     "start_time": "2023-02-27T07:17:15.946027",
     "status": "completed"
    },
    "tags": []
   },
   "outputs": [],
   "source": [
    "def target_merge_helmet(target_df_, helmet_df_, feature_cols_):\n",
    "    print(\"original length\", len(target_df_))\n",
    "    # set merge-key (game_frame_player_1,2) to merge helmet_df\n",
    "    target_df_ = target_df_.with_column(((pl.col(\"step\").cast(int)/10*59.94+5*59.94).cast(int)+1).alias(\"frame\"))\n",
    "    target_df_ = target_df_.with_column(pl.concat_str([pl.col(\"game_play\"),\n",
    "                                                     pl.col(\"frame\").cast(str),\n",
    "                                                     pl.col(\"nfl_player_id_1\"),\n",
    "                                                    ], sep='_').alias('game_frame_player_1'))\n",
    "    target_df_ = target_df_.with_column(pl.concat_str([pl.col(\"game_play\"),\n",
    "                                                     pl.col(\"frame\").cast(str),\n",
    "                                                     pl.col(\"nfl_player_id_2\"),\n",
    "                                                    ], sep='_').alias('game_frame_player_2'))\n",
    "    # set merge key\n",
    "    helmet_df_ = helmet_df_.with_column(pl.concat_str([pl.col(\"game_play\"),\n",
    "                                                     pl.col(\"frame\").cast(str),\n",
    "                                                     pl.col(\"nfl_player_id\"),\n",
    "                                                    ], sep='_').alias('game_frame_player'))\n",
    "\n",
    "    # merge target df & helmet_df\n",
    "    player_views = [[1, \"Endzone\"],[2, \"Endzone\"], [1, \"Sideline\"],[2, \"Sideline\"]]\n",
    "    for player_id, view in player_views:\n",
    "        helmet_view = helmet_df_.filter(pl.col(\"view\")==view)\n",
    "        helmet_view = helmet_view[[\"game_frame_player\", \"left\", \"width\", \"top\", \"height\"]]\n",
    "        helmet_view = helmet_view.select(pl.all().suffix(f\"_{player_id}\"))\n",
    "        helmet_view = helmet_view.select([pl.col(helmet_view.columns[0]), pl.col(helmet_view.columns[1:]).prefix(f\"{view[0]}_\")])\n",
    "        target_df_ = target_df_.join(helmet_view, on=f\"game_frame_player_{player_id}\", how=\"left\")  \n",
    "        # add features col\n",
    "        feature_cols_ = add_feature_cols(helmet_view, feature_cols_, [f\"game_frame_player_{player_id}\"])\n",
    "\n",
    "    print(len(target_df_.columns))\n",
    "    print(\"original length\", len(target_df_))\n",
    "    return target_df_, feature_cols_"
   ]
  },
  {
   "cell_type": "markdown",
   "id": "4c9adfb6",
   "metadata": {
    "papermill": {
     "duration": 0.008861,
     "end_time": "2023-02-27T07:17:15.986309",
     "exception": false,
     "start_time": "2023-02-27T07:17:15.977448",
     "status": "completed"
    },
    "tags": []
   },
   "source": [
    "## Create feature function"
   ]
  },
  {
   "cell_type": "code",
   "execution_count": 9,
   "id": "0a1bb120",
   "metadata": {
    "execution": {
     "iopub.execute_input": "2023-02-27T07:17:16.005673Z",
     "iopub.status.busy": "2023-02-27T07:17:16.005397Z",
     "iopub.status.idle": "2023-02-27T07:17:16.011961Z",
     "shell.execute_reply": "2023-02-27T07:17:16.010939Z"
    },
    "papermill": {
     "duration": 0.01882,
     "end_time": "2023-02-27T07:17:16.014253",
     "exception": false,
     "start_time": "2023-02-27T07:17:15.995433",
     "status": "completed"
    },
    "tags": []
   },
   "outputs": [],
   "source": [
    "def get_tracking_shift(tracking_df_, shift_cols=[\"x_position\",\"y_position\"], shift_nums=range(-6,6,1)):\n",
    "    # get shift key\n",
    "    tracking_df_ = tracking_df_.with_column(pl.concat_str([pl.col(\"game_play\"),\n",
    "                                                         pl.col(\"nfl_player_id\"),\n",
    "                                                        ], sep='_').alias('shift_key'))\n",
    "    # get shift features\n",
    "    shift_col_list = []\n",
    "    for num in shift_nums:\n",
    "        tracking_df_ = tracking_df_.with_columns(\n",
    "                            pl.col(shift_cols).shift(periods=num).over(\"shift_key\").suffix(f\"_shift{num}\"))\n",
    "    for col in shift_cols:\n",
    "        colname = [f\"{col}_shift{idx}\" for idx in shift_nums]\n",
    "        shift_col_list.extend(colname)\n",
    "                    \n",
    "    return tracking_df_, shift_col_list"
   ]
  },
  {
   "cell_type": "code",
   "execution_count": 10,
   "id": "d2054a3a",
   "metadata": {
    "execution": {
     "iopub.execute_input": "2023-02-27T07:17:16.033653Z",
     "iopub.status.busy": "2023-02-27T07:17:16.033392Z",
     "iopub.status.idle": "2023-02-27T07:17:16.045279Z",
     "shell.execute_reply": "2023-02-27T07:17:16.044442Z"
    },
    "papermill": {
     "duration": 0.02384,
     "end_time": "2023-02-27T07:17:16.047240",
     "exception": false,
     "start_time": "2023-02-27T07:17:16.023400",
     "status": "completed"
    },
    "tags": []
   },
   "outputs": [],
   "source": [
    "def create_trackmerged_ftr(target_df_, feature_cols_,\n",
    "                           diff_cols = ['x_position', 'y_position', 'speed', 'distance',\n",
    "                                        'direction', 'orientation', 'acceleration', 'sa']):    \n",
    "#     target_df_ = target_df_.with_column((np.sqrt(np.square(pl.col(\"x_position_1\")-pl.col(\"x_position_2\")) \\\n",
    "#                                               + np.square(pl.col(\"y_position_1\")-pl.col(\"y_position_2\"))) \\\n",
    "#                                       ).alias(\"players_dis\"))\n",
    "    target_df_ = target_df_.with_column((np.sqrt(np.square(pl.col(\"x_position_1\")*120. - pl.col(\"x_position_2\")*120.) \\\n",
    "                                              + np.square(pl.col(\"y_position_1\")*60. - pl.col(\"y_position_2\")*60.)) \\\n",
    "                                      ).alias(\"players_dis\"))\n",
    "    target_df_ = target_df_.with_column(pl.col(\"players_dis\").fill_null(0))\n",
    "    \n",
    "    # players distance sum(in shift range time : default(-6~6 frames not step))\n",
    "    players_distance_sum = 0\n",
    "    for idx in range(-6,6,1):\n",
    "        players_distance_sum += np.sqrt((target_df_[f\"x_position_shift{idx}_1\"] - target_df_[f\"x_position_shift{idx}_2\"])**2 \\\n",
    "                                       + (target_df_[f\"y_position_shift{idx}_1\"] - target_df_[f\"y_position_shift{idx}_2\"])**2)\n",
    "    target_df_ = target_df_.with_column(pl.Series(\"players_distance_sum\", players_distance_sum))\n",
    "    target_df_ = target_df_.with_column(pl.col(\"players_distance_sum\").fill_null(0))\n",
    "    feature_cols_.append(\"players_distance_sum\")\n",
    "\n",
    "    # players each axis distance sum(in shift range time : default(-6~6 frames not step))\n",
    "    for axis in [\"x\", \"y\"]:\n",
    "        axis_distance_1 = 0\n",
    "        axis_distance_2 = 0\n",
    "        for idx in range(-6, 5, 1):\n",
    "            axis_distance_1 += abs(target_df_[f\"{axis}_position_shift{idx}_1\"] - target_df_[f\"{axis}_position_shift{idx+1}_1\"])\n",
    "            axis_distance_2 += abs(target_df_[f\"{axis}_position_shift{idx}_2\"] - target_df_[f\"{axis}_position_shift{idx+1}_2\"])\n",
    "        target_df_ = target_df_.with_column(pl.Series(f\"{axis}_move_distance_1\", axis_distance_1))\n",
    "        target_df_ = target_df_.with_column(pl.col(f\"{axis}_move_distance_1\").fill_null(0))\n",
    "        target_df_ = target_df_.with_column(pl.Series(f\"{axis}_move_distance_2\", axis_distance_2))\n",
    "        target_df_ = target_df_.with_column(pl.col(f\"{axis}_move_distance_2\").fill_null(0))\n",
    "        feature_cols_.extend([f\"{axis}_move_distance_1\", f\"{axis}_move_distance_2\"])\n",
    "\n",
    "    # players difference ftr (in each step)\n",
    "    for col in diff_cols:\n",
    "        colname = f\"{col}_diff\"\n",
    "        target_df_ = target_df_.with_column((abs(pl.col(f\"{col}_1\") - pl.col(f\"{col}_2\"))).alias(colname))\n",
    "        target_df_ = target_df_.with_column(pl.col(colname).fill_null(0))\n",
    "        feature_cols_.append(colname)\n",
    "        \n",
    "    return target_df_, feature_cols_"
   ]
  },
  {
   "cell_type": "code",
   "execution_count": 11,
   "id": "3ba4359b",
   "metadata": {
    "execution": {
     "iopub.execute_input": "2023-02-27T07:17:16.067813Z",
     "iopub.status.busy": "2023-02-27T07:17:16.066397Z",
     "iopub.status.idle": "2023-02-27T07:17:16.074760Z",
     "shell.execute_reply": "2023-02-27T07:17:16.073850Z"
    },
    "papermill": {
     "duration": 0.020491,
     "end_time": "2023-02-27T07:17:16.076900",
     "exception": false,
     "start_time": "2023-02-27T07:17:16.056409",
     "status": "completed"
    },
    "tags": []
   },
   "outputs": [],
   "source": [
    "def create_roll_ftr(target_df_, feature_cols_,\n",
    "                    roll_cols = ['players_dis', 'x_position_diff', 'y_position_diff', \n",
    "                                  'speed_diff', 'distance_diff','direction_diff',\n",
    "                                  'orientation_diff', 'acceleration_diff', 'sa_diff'],\n",
    "                    key_cols = [\"contact_id\", \"game_play\", \"nfl_player_id_1\", \n",
    "                                \"nfl_player_id_2\", \"step\"]):\n",
    "    roll_df = target_df_.select(roll_cols+key_cols)\n",
    "\n",
    "    roll_df = roll_df.with_column(pl.concat_str([pl.col(\"game_play\"),\n",
    "                                                 pl.col(\"nfl_player_id_1\"),\n",
    "                                                 pl.col(\"nfl_player_id_2\"),\n",
    "                                                ], sep='_').alias('key'))\n",
    "    # cast datetime\n",
    "\n",
    "    # groupby rolling\n",
    "    roll_df = roll_df.groupby_dynamic(\"step\", every=\"1i\", period=\"6i\", by=\"key\", closed=\"both\").agg([pl.col(roll_cols).sum().suffix(\"_rollsum\"), pl.col(\"contact_id\")])\n",
    "    roll_df = roll_df.with_column(pl.col(\"contact_id\").apply(lambda x:x[0]))\n",
    "    roll_df = roll_df.drop([\"key\", \"step\"])\n",
    "    target_df_ = target_df_.join(roll_df, on=\"contact_id\", how=\"left\")\n",
    "    additional_cols = [col+\"_rollsum\" for col in roll_cols]\n",
    "    feature_cols_.extend(additional_cols)\n",
    "    return target_df_, feature_cols_"
   ]
  },
  {
   "cell_type": "code",
   "execution_count": 12,
   "id": "a9345d13",
   "metadata": {
    "_kg_hide-output": true,
    "execution": {
     "iopub.execute_input": "2023-02-27T07:17:16.096634Z",
     "iopub.status.busy": "2023-02-27T07:17:16.095774Z",
     "iopub.status.idle": "2023-02-27T07:17:16.105065Z",
     "shell.execute_reply": "2023-02-27T07:17:16.104253Z"
    },
    "papermill": {
     "duration": 0.021048,
     "end_time": "2023-02-27T07:17:16.107012",
     "exception": false,
     "start_time": "2023-02-27T07:17:16.085964",
     "status": "completed"
    },
    "tags": []
   },
   "outputs": [],
   "source": [
    "def create_helmetmerged_ftr(target_df_, feature_cols_):\n",
    "    # helmet center distance feature\n",
    "    for view in [\"Endzone\", \"Sideline\"]:\n",
    "        for p_id in [\"1\", \"2\"]: \n",
    "            # get helmet center\n",
    "            target_df_ = target_df_.with_column((pl.col(f\"{view[0]}_left_{p_id}\") + (pl.col(f\"{view[0]}_width_{p_id}\")//2)).alias(f\"{view[0]}_Wcenter_{p_id}\"))\n",
    "            target_df_ = target_df_.with_column((pl.col(f\"{view[0]}_top_{p_id}\") + (pl.col(f\"{view[0]}_height_{p_id}\")//2)).alias(f\"{view[0]}_Hcenter_{p_id}\"))\n",
    "        # helmet center distance\n",
    "        target_df_ = target_df_.with_column((np.sqrt(np.square(pl.col(f\"{view[0]}_Wcenter_1\") - pl.col(f\"{view[0]}_Wcenter_2\")) \\\n",
    "                                                  + np.square(pl.col(f\"{view[0]}_Hcenter_1\") - pl.col(f\"{view[0]}_Hcenter_2\")))\n",
    "                                          ).alias(f\"{view[0]}_helmet_dis\"))\n",
    "\n",
    "        # GがNanになるので0にしておく\n",
    "        target_df_ = target_df_.with_column(pl.col(f\"{view[0]}_helmet_dis\").fill_null(0))\n",
    "        feature_cols_.append(f\"{view[0]}_helmet_dis\")\n",
    "    \n",
    "    # helmet cols fillna(0) after get helmet distance \n",
    "    helmet_cols = ['E_left_1', 'E_width_1', 'E_top_1', 'E_height_1',\n",
    "                   'E_left_2', 'E_width_2', 'E_top_2', 'E_height_2', \n",
    "                   'S_left_1','S_width_1', 'S_top_1', 'S_height_1', \n",
    "                   'S_left_2', 'S_width_2', 'S_top_2', 'S_height_2']\n",
    "    target_df_ = target_df_.with_column(pl.col(helmet_cols).fill_null(0))\n",
    "\n",
    "    return target_df_, feature_cols_"
   ]
  },
  {
   "cell_type": "code",
   "execution_count": 13,
   "id": "307d2f4f",
   "metadata": {
    "execution": {
     "iopub.execute_input": "2023-02-27T07:17:16.127354Z",
     "iopub.status.busy": "2023-02-27T07:17:16.125996Z",
     "iopub.status.idle": "2023-02-27T07:17:16.134878Z",
     "shell.execute_reply": "2023-02-27T07:17:16.134030Z"
    },
    "papermill": {
     "duration": 0.020645,
     "end_time": "2023-02-27T07:17:16.136782",
     "exception": false,
     "start_time": "2023-02-27T07:17:16.116137",
     "status": "completed"
    },
    "tags": []
   },
   "outputs": [],
   "source": [
    "def get_categorical_ftr(target_df_, feature_cols_):\n",
    "    target_df_ = target_df_.with_column((pl.col(\"nfl_player_id_2\")== \"G\").cast(int).alias(\"is_ground\"))\n",
    "    # set team \n",
    "    target_df_ = target_df_.with_column(((pl.col(\"team_1\")==\"home\").cast(int)).alias(\"team_1\"))\n",
    "    target_df_ = target_df_.with_column(((pl.col(\"team_2\")==\"home\").cast(int)).alias(\"team_2\"))\n",
    "    target_df_ = target_df_.with_column(pl.col('nfl_player_id_2').str.replace(\"G\", \"99999\"))\n",
    "    \n",
    "    target_df_ = target_df_.with_column((1 - ((pl.col(\"E_width_1\")==0) & (pl.col(\"E_width_2\")==0)).cast(int)).alias(\"is_E_helmet\"))\n",
    "    target_df_ = target_df_.with_column((1 - ((pl.col(\"S_width_1\")==0) & (pl.col(\"S_width_2\")==0)).cast(int)).alias(\"is_S_helmet\"))\n",
    "    target_df_ = target_df_.with_column(((pl.col(\"is_E_helmet\")==1) & (pl.col(\"is_S_helmet\")==1)).cast(int).alias(\"both_helmet\"))\n",
    "    \n",
    "    target_df_ = target_df_.with_column(pl.col([\"nfl_player_id_1\", \"nfl_player_id_2\"]).cast(int))\n",
    "    \n",
    "    target_df_ = target_df_.fill_null(0)\n",
    "    target_df_ = target_df_.fill_nan(0)\n",
    "    feature_cols_.extend([\"is_ground\",\"is_E_helmet\", \"is_S_helmet\", \"both_helmet\"])\n",
    "    return target_df_, feature_cols_"
   ]
  },
  {
   "cell_type": "markdown",
   "id": "64dceb77",
   "metadata": {
    "papermill": {
     "duration": 0.009107,
     "end_time": "2023-02-27T07:17:16.154918",
     "exception": false,
     "start_time": "2023-02-27T07:17:16.145811",
     "status": "completed"
    },
    "tags": []
   },
   "source": [
    "# Merge NN df"
   ]
  },
  {
   "cell_type": "code",
   "execution_count": 14,
   "id": "3e6a829a",
   "metadata": {
    "execution": {
     "iopub.execute_input": "2023-02-27T07:17:16.203649Z",
     "iopub.status.busy": "2023-02-27T07:17:16.203392Z",
     "iopub.status.idle": "2023-02-27T07:17:16.210287Z",
     "shell.execute_reply": "2023-02-27T07:17:16.209357Z"
    },
    "papermill": {
     "duration": 0.022479,
     "end_time": "2023-02-27T07:17:16.212247",
     "exception": false,
     "start_time": "2023-02-27T07:17:16.189768",
     "status": "completed"
    },
    "tags": []
   },
   "outputs": [],
   "source": [
    "def target_merge_emb(target_df_, nn_df_, feature_cols, view_, model_num, fillna_num=0):\n",
    "    use_cols = [\"contact_id\"]\n",
    "    cnn_ftr_list_ = [f\"img_emb_{idx}\" for idx in range(5)]\n",
    "    cnn_ftr_list_.append(\"pred\")\n",
    "    use_cols.extend(cnn_ftr_list_)\n",
    "    # set use cols\n",
    "    nn_df_ = nn_df_.select(use_cols)\n",
    "    nn_df_ = nn_df_.with_columns(pl.col(cnn_ftr_list_).prefix(f\"m{model_num}_{view[0]}_\"))\n",
    "    target_df_ = target_df_.join(nn_df_, on=\"contact_id\", how=\"left\")\n",
    "    target_df_ = target_df_.fill_null(fillna_num)\n",
    "    target_df_ = target_df_.fill_nan(fillna_num)\n",
    "    # add feature cols\n",
    "    prefix_cnnftr_list_ = [f\"m{model_num}_{view[0]}_img_emb_{idx}\" for idx in range(5)]\n",
    "    prefix_cnnftr_list_.append(f\"m{model_num}_{view[0]}_pred\")\n",
    "    feature_cols.extend(prefix_cnnftr_list_)\n",
    "    target_df_ = target_df_.drop(cnn_ftr_list_)\n",
    "    return target_df_, feature_cols"
   ]
  },
  {
   "cell_type": "code",
   "execution_count": 15,
   "id": "0d005073",
   "metadata": {
    "execution": {
     "iopub.execute_input": "2023-02-27T07:17:16.232891Z",
     "iopub.status.busy": "2023-02-27T07:17:16.232610Z",
     "iopub.status.idle": "2023-02-27T07:17:16.238353Z",
     "shell.execute_reply": "2023-02-27T07:17:16.237445Z"
    },
    "papermill": {
     "duration": 0.018794,
     "end_time": "2023-02-27T07:17:16.240232",
     "exception": false,
     "start_time": "2023-02-27T07:17:16.221438",
     "status": "completed"
    },
    "tags": []
   },
   "outputs": [],
   "source": [
    "def target_merge_trackemb(target_df_, nn_df_, feature_cols, fillna_num=0):\n",
    "    use_cols = [\"contact_id\"]\n",
    "    ftr_list_ = [f\"track_emb_{idx}\" for idx in range(3)]\n",
    "    use_cols.extend(ftr_list_)\n",
    "    # set use cols\n",
    "    nn_df_ = nn_df_.select(use_cols)\n",
    "    target_df_ = target_df_.join(nn_df_, on=\"contact_id\", how=\"left\")\n",
    "    target_df_ = target_df_.fill_null(fillna_num)\n",
    "    target_df_ = target_df_.fill_nan(fillna_num)\n",
    "    # add feature cols\n",
    "    ftr_list_ = [f\"track_emb_{idx}\" for idx in range(3)]\n",
    "    feature_cols.extend(ftr_list_)\n",
    "    return target_df_, feature_cols"
   ]
  },
  {
   "cell_type": "markdown",
   "id": "d2e65ef0",
   "metadata": {
    "papermill": {
     "duration": 0.008844,
     "end_time": "2023-02-27T07:17:16.258173",
     "exception": false,
     "start_time": "2023-02-27T07:17:16.249329",
     "status": "completed"
    },
    "tags": []
   },
   "source": [
    "# Post Proc"
   ]
  },
  {
   "cell_type": "code",
   "execution_count": 16,
   "id": "45a3fb69",
   "metadata": {
    "execution": {
     "iopub.execute_input": "2023-02-27T07:17:16.278369Z",
     "iopub.status.busy": "2023-02-27T07:17:16.277563Z",
     "iopub.status.idle": "2023-02-27T07:17:16.285198Z",
     "shell.execute_reply": "2023-02-27T07:17:16.284280Z"
    },
    "papermill": {
     "duration": 0.020012,
     "end_time": "2023-02-27T07:17:16.287245",
     "exception": false,
     "start_time": "2023-02-27T07:17:16.267233",
     "status": "completed"
    },
    "tags": []
   },
   "outputs": [],
   "source": [
    "def post_proc_roll(sub_, target_df_, window_size_):\n",
    "    sub_ = pd.merge(sub_, target_df_[[\"contact_id\", \"pred\"]], on=\"contact_id\", how=\"left\")\n",
    "    sub_ = sub_.fillna(0)\n",
    "    proc_df = sub_.copy()\n",
    "    proc_cols = [\"contact_id\", \"game_play\", \"nfl_player_id_1\", \"nfl_player_id_2\",\"step\", \"pred\", \"contact\"]\n",
    "    proc_df = proc_df[proc_cols]\n",
    "    proc_df[\"proc_key\"] = proc_df[\"game_play\"] + \"_\" + proc_df[\"nfl_player_id_1\"].astype(\"str\") + \"_\" + proc_df[\"nfl_player_id_2\"].astype(\"str\")\n",
    "    \n",
    "    proc_pred = proc_df.groupby(\"proc_key\")[\"pred\"].rolling(window_size, center=True).mean().reset_index().set_index(\"level_1\")\n",
    "    proc_pred = proc_pred.rename(columns={\"pred\":\"proc_pred\"})    \n",
    "\n",
    "    proc_df = pd.concat([proc_df, proc_pred], axis=1)\n",
    "    proc_df[\"proc_pred\"] = proc_df[\"proc_pred\"].fillna(proc_df[\"pred\"])\n",
    "    return proc_df"
   ]
  },
  {
   "cell_type": "markdown",
   "id": "1ada3382",
   "metadata": {
    "papermill": {
     "duration": 0.008853,
     "end_time": "2023-02-27T07:17:16.305139",
     "exception": false,
     "start_time": "2023-02-27T07:17:16.296286",
     "status": "completed"
    },
    "tags": []
   },
   "source": [
    "---"
   ]
  },
  {
   "cell_type": "markdown",
   "id": "fc07e09a",
   "metadata": {
    "papermill": {
     "duration": 0.008924,
     "end_time": "2023-02-27T07:17:16.323111",
     "exception": false,
     "start_time": "2023-02-27T07:17:16.314187",
     "status": "completed"
    },
    "tags": []
   },
   "source": [
    "# Load Target"
   ]
  },
  {
   "cell_type": "code",
   "execution_count": 17,
   "id": "7f8f2be1",
   "metadata": {
    "execution": {
     "iopub.execute_input": "2023-02-27T07:17:16.343892Z",
     "iopub.status.busy": "2023-02-27T07:17:16.342509Z",
     "iopub.status.idle": "2023-02-27T07:17:19.895390Z",
     "shell.execute_reply": "2023-02-27T07:17:19.894381Z"
    },
    "papermill": {
     "duration": 3.565375,
     "end_time": "2023-02-27T07:17:19.897834",
     "exception": false,
     "start_time": "2023-02-27T07:17:16.332459",
     "status": "completed"
    },
    "tags": []
   },
   "outputs": [],
   "source": [
    "target_dtypes = {'contact_id':str, \n",
    "                'game_play':str,\n",
    "                'datetime':str,\n",
    "                'step':int,\n",
    "                'nfl_player_id_1':str,\n",
    "                'nfl_player_id_2':str,\n",
    "                'contact':int,\n",
    "                }\n",
    "target_df = pl.read_csv(CFG[\"TRAIN_LABEL_CSV\"], dtypes=target_dtypes)    \n",
    "\n",
    "FEATURE_COLS = [\"nfl_player_id_1\", \"nfl_player_id_2\", \"step\"]"
   ]
  },
  {
   "cell_type": "markdown",
   "id": "2874c40d",
   "metadata": {
    "papermill": {
     "duration": 0.009057,
     "end_time": "2023-02-27T07:17:19.916408",
     "exception": false,
     "start_time": "2023-02-27T07:17:19.907351",
     "status": "completed"
    },
    "tags": []
   },
   "source": [
    "# Merge tracking_df"
   ]
  },
  {
   "cell_type": "code",
   "execution_count": 18,
   "id": "f546fc6e",
   "metadata": {
    "execution": {
     "iopub.execute_input": "2023-02-27T07:17:19.936982Z",
     "iopub.status.busy": "2023-02-27T07:17:19.935463Z",
     "iopub.status.idle": "2023-02-27T07:18:15.139479Z",
     "shell.execute_reply": "2023-02-27T07:18:15.138467Z"
    },
    "papermill": {
     "duration": 55.21651,
     "end_time": "2023-02-27T07:18:15.141948",
     "exception": false,
     "start_time": "2023-02-27T07:17:19.925438",
     "status": "completed"
    },
    "tags": []
   },
   "outputs": [
    {
     "name": "stdout",
     "output_type": "stream",
     "text": [
      "77\n",
      "original length 4721618\n"
     ]
    }
   ],
   "source": [
    "tracking_df = pl.read_csv(CFG[\"TRAIN_TRACKING_CSV\"])\n",
    "tracking_df, SHIFT_COLS = get_tracking_shift(tracking_df)\n",
    "target_df, FEATURE_COLS = target_merge_tracking(target_df, tracking_df, FEATURE_COLS, SHIFT_COLS)\n",
    "\n",
    "del tracking_df\n",
    "\n",
    "target_df, FEATURE_COLS = create_trackmerged_ftr(target_df, FEATURE_COLS)\n",
    "target_df, FEATURE_COLS = create_roll_ftr(target_df, FEATURE_COLS)"
   ]
  },
  {
   "cell_type": "markdown",
   "id": "51ed9b5b",
   "metadata": {
    "papermill": {
     "duration": 0.00906,
     "end_time": "2023-02-27T07:18:15.160773",
     "exception": false,
     "start_time": "2023-02-27T07:18:15.151713",
     "status": "completed"
    },
    "tags": []
   },
   "source": [
    "# Exclude distance > 2"
   ]
  },
  {
   "cell_type": "code",
   "execution_count": 19,
   "id": "d01b078b",
   "metadata": {
    "execution": {
     "iopub.execute_input": "2023-02-27T07:18:15.180753Z",
     "iopub.status.busy": "2023-02-27T07:18:15.180447Z",
     "iopub.status.idle": "2023-02-27T07:18:16.178087Z",
     "shell.execute_reply": "2023-02-27T07:18:16.177092Z"
    },
    "papermill": {
     "duration": 1.010291,
     "end_time": "2023-02-27T07:18:16.180569",
     "exception": false,
     "start_time": "2023-02-27T07:18:15.170278",
     "status": "completed"
    },
    "tags": []
   },
   "outputs": [
    {
     "name": "stdout",
     "output_type": "stream",
     "text": [
      "660550\n"
     ]
    }
   ],
   "source": [
    "target_df = target_df.filter(pl.col(\"players_dis\") <= 2)\n",
    "print(len(target_df))"
   ]
  },
  {
   "cell_type": "markdown",
   "id": "aaaf607a",
   "metadata": {
    "papermill": {
     "duration": 0.01661,
     "end_time": "2023-02-27T07:18:16.214344",
     "exception": false,
     "start_time": "2023-02-27T07:18:16.197734",
     "status": "completed"
    },
    "tags": []
   },
   "source": [
    "# Merge helmet df"
   ]
  },
  {
   "cell_type": "code",
   "execution_count": 20,
   "id": "11a42ccf",
   "metadata": {
    "execution": {
     "iopub.execute_input": "2023-02-27T07:18:16.250628Z",
     "iopub.status.busy": "2023-02-27T07:18:16.250250Z",
     "iopub.status.idle": "2023-02-27T07:18:25.895256Z",
     "shell.execute_reply": "2023-02-27T07:18:25.894223Z"
    },
    "papermill": {
     "duration": 9.665491,
     "end_time": "2023-02-27T07:18:25.897684",
     "exception": false,
     "start_time": "2023-02-27T07:18:16.232193",
     "status": "completed"
    },
    "tags": []
   },
   "outputs": [
    {
     "name": "stdout",
     "output_type": "stream",
     "text": [
      "original length 660550\n",
      "119\n",
      "original length 660550\n",
      "660550\n"
     ]
    }
   ],
   "source": [
    "helmet_df = pl.read_csv(CFG[\"TRAIN_HELMET_CSV\"])\n",
    "target_df, FEATURE_COLS = target_merge_helmet(target_df, helmet_df, FEATURE_COLS)\n",
    "target_df, FEATURE_COLS = create_helmetmerged_ftr(target_df, FEATURE_COLS)\n",
    "target_df, FEATURE_COLS = get_categorical_ftr(target_df, FEATURE_COLS)\n",
    "print(len(target_df))"
   ]
  },
  {
   "cell_type": "markdown",
   "id": "9556e0ff",
   "metadata": {
    "papermill": {
     "duration": 0.009375,
     "end_time": "2023-02-27T07:18:25.917417",
     "exception": false,
     "start_time": "2023-02-27T07:18:25.908042",
     "status": "completed"
    },
    "tags": []
   },
   "source": [
    "# Merge NN feature"
   ]
  },
  {
   "cell_type": "code",
   "execution_count": 21,
   "id": "086c3b8b",
   "metadata": {
    "execution": {
     "iopub.execute_input": "2023-02-27T07:18:25.938596Z",
     "iopub.status.busy": "2023-02-27T07:18:25.937684Z",
     "iopub.status.idle": "2023-02-27T07:18:30.252828Z",
     "shell.execute_reply": "2023-02-27T07:18:30.251698Z"
    },
    "papermill": {
     "duration": 4.327858,
     "end_time": "2023-02-27T07:18:30.254905",
     "exception": false,
     "start_time": "2023-02-27T07:18:25.927047",
     "status": "completed"
    },
    "tags": []
   },
   "outputs": [
    {
     "name": "stdout",
     "output_type": "stream",
     "text": [
      "660550\n"
     ]
    }
   ],
   "source": [
    "nn_df = pl.read_csv(CFG[\"NN_FEATURE_CSV_1\"])\n",
    "\n",
    "for view in [\"Endzone\", \"Sideline\"]:\n",
    "    if view == \"Endzone\":\n",
    "        view_nn_df = nn_df.filter(pl.col(\"is_End\")==1)\n",
    "        target_df, FEATURE_COLS = target_merge_emb(target_df, view_nn_df, FEATURE_COLS, view, 0)\n",
    "    else:\n",
    "        view_nn_df = nn_df.filter(pl.col(\"is_End\")==1)\n",
    "        target_df, FEATURE_COLS = target_merge_emb(target_df, view_nn_df, FEATURE_COLS, view, 0)\n",
    "print(len(target_df))"
   ]
  },
  {
   "cell_type": "code",
   "execution_count": 22,
   "id": "f9a8c1af",
   "metadata": {
    "execution": {
     "iopub.execute_input": "2023-02-27T07:18:30.277064Z",
     "iopub.status.busy": "2023-02-27T07:18:30.275383Z",
     "iopub.status.idle": "2023-02-27T07:18:35.309139Z",
     "shell.execute_reply": "2023-02-27T07:18:35.307079Z"
    },
    "papermill": {
     "duration": 5.046695,
     "end_time": "2023-02-27T07:18:35.311434",
     "exception": false,
     "start_time": "2023-02-27T07:18:30.264739",
     "status": "completed"
    },
    "tags": []
   },
   "outputs": [
    {
     "name": "stdout",
     "output_type": "stream",
     "text": [
      "660550\n"
     ]
    }
   ],
   "source": [
    "nn_df = pl.read_csv(CFG[\"NN_FEATURE_CSV_2\"])\n",
    "\n",
    "for view in [\"Endzone\", \"Sideline\"]:\n",
    "    if view == \"Endzone\":\n",
    "        view_nn_df = nn_df.filter(pl.col(\"is_End\")==1)\n",
    "        target_df, FEATURE_COLS = target_merge_emb(target_df, view_nn_df, FEATURE_COLS, view, 1)\n",
    "    else:\n",
    "        view_nn_df = nn_df.filter(pl.col(\"is_End\")==1)\n",
    "        target_df, FEATURE_COLS = target_merge_emb(target_df, view_nn_df, FEATURE_COLS, view, 1)\n",
    "print(len(target_df))"
   ]
  },
  {
   "cell_type": "code",
   "execution_count": 23,
   "id": "2888740b",
   "metadata": {
    "execution": {
     "iopub.execute_input": "2023-02-27T07:18:35.333112Z",
     "iopub.status.busy": "2023-02-27T07:18:35.332807Z",
     "iopub.status.idle": "2023-02-27T07:18:40.195403Z",
     "shell.execute_reply": "2023-02-27T07:18:40.194115Z"
    },
    "papermill": {
     "duration": 4.875613,
     "end_time": "2023-02-27T07:18:40.197760",
     "exception": false,
     "start_time": "2023-02-27T07:18:35.322147",
     "status": "completed"
    },
    "tags": []
   },
   "outputs": [
    {
     "name": "stdout",
     "output_type": "stream",
     "text": [
      "660550\n"
     ]
    }
   ],
   "source": [
    "nn_df = pl.read_csv(CFG[\"NN_FEATURE_CSV_3\"])\n",
    "\n",
    "for view in [\"Endzone\", \"Sideline\"]:\n",
    "    if view == \"Endzone\":\n",
    "        view_nn_df = nn_df.filter(pl.col(\"is_End\")==1)\n",
    "        target_df, FEATURE_COLS = target_merge_emb(target_df, view_nn_df, FEATURE_COLS, view, 2)\n",
    "    else:\n",
    "        view_nn_df = nn_df.filter(pl.col(\"is_End\")==1)\n",
    "        target_df, FEATURE_COLS = target_merge_emb(target_df, view_nn_df, FEATURE_COLS, view, 2)\n",
    "print(len(target_df))"
   ]
  },
  {
   "cell_type": "markdown",
   "id": "797da79c",
   "metadata": {
    "papermill": {
     "duration": 0.009542,
     "end_time": "2023-02-27T07:18:40.217209",
     "exception": false,
     "start_time": "2023-02-27T07:18:40.207667",
     "status": "completed"
    },
    "tags": []
   },
   "source": [
    "# Merge Track NN feature"
   ]
  },
  {
   "cell_type": "code",
   "execution_count": 24,
   "id": "97b805d9",
   "metadata": {
    "execution": {
     "iopub.execute_input": "2023-02-27T07:18:40.238253Z",
     "iopub.status.busy": "2023-02-27T07:18:40.237424Z",
     "iopub.status.idle": "2023-02-27T07:18:42.593623Z",
     "shell.execute_reply": "2023-02-27T07:18:42.592491Z"
    },
    "papermill": {
     "duration": 2.370527,
     "end_time": "2023-02-27T07:18:42.597327",
     "exception": false,
     "start_time": "2023-02-27T07:18:40.226800",
     "status": "completed"
    },
    "tags": []
   },
   "outputs": [
    {
     "name": "stdout",
     "output_type": "stream",
     "text": [
      "660550\n"
     ]
    }
   ],
   "source": [
    "tracknn_df = pl.read_csv(CFG[\"TRACK_FEATURE_CSV\"])\n",
    "target_df, FEATURE_COLS = target_merge_trackemb(target_df, tracknn_df, FEATURE_COLS)\n",
    "print(len(target_df))"
   ]
  },
  {
   "cell_type": "code",
   "execution_count": 25,
   "id": "5d0a35e9",
   "metadata": {
    "execution": {
     "iopub.execute_input": "2023-02-27T07:18:42.640291Z",
     "iopub.status.busy": "2023-02-27T07:18:42.639974Z",
     "iopub.status.idle": "2023-02-27T07:18:42.645037Z",
     "shell.execute_reply": "2023-02-27T07:18:42.644087Z"
    },
    "papermill": {
     "duration": 0.030606,
     "end_time": "2023-02-27T07:18:42.648732",
     "exception": false,
     "start_time": "2023-02-27T07:18:42.618126",
     "status": "completed"
    },
    "tags": []
   },
   "outputs": [
    {
     "name": "stdout",
     "output_type": "stream",
     "text": [
      "['nfl_player_id_1', 'nfl_player_id_2', 'step', 'x_position_1', 'y_position_1', 'speed_1', 'distance_1', 'direction_1', 'orientation_1', 'acceleration_1', 'sa_1', 'team_1', 'jersey_number_1', 'is_lineman_1', 'x_position_shift-6_1', 'x_position_shift-5_1', 'x_position_shift-4_1', 'x_position_shift-3_1', 'x_position_shift-2_1', 'x_position_shift-1_1', 'x_position_shift0_1', 'x_position_shift1_1', 'x_position_shift2_1', 'x_position_shift3_1', 'x_position_shift4_1', 'x_position_shift5_1', 'y_position_shift-6_1', 'y_position_shift-5_1', 'y_position_shift-4_1', 'y_position_shift-3_1', 'y_position_shift-2_1', 'y_position_shift-1_1', 'y_position_shift0_1', 'y_position_shift1_1', 'y_position_shift2_1', 'y_position_shift3_1', 'y_position_shift4_1', 'y_position_shift5_1', 'x_position_2', 'y_position_2', 'speed_2', 'distance_2', 'direction_2', 'orientation_2', 'acceleration_2', 'sa_2', 'team_2', 'jersey_number_2', 'is_lineman_2', 'x_position_shift-6_2', 'x_position_shift-5_2', 'x_position_shift-4_2', 'x_position_shift-3_2', 'x_position_shift-2_2', 'x_position_shift-1_2', 'x_position_shift0_2', 'x_position_shift1_2', 'x_position_shift2_2', 'x_position_shift3_2', 'x_position_shift4_2', 'x_position_shift5_2', 'y_position_shift-6_2', 'y_position_shift-5_2', 'y_position_shift-4_2', 'y_position_shift-3_2', 'y_position_shift-2_2', 'y_position_shift-1_2', 'y_position_shift0_2', 'y_position_shift1_2', 'y_position_shift2_2', 'y_position_shift3_2', 'y_position_shift4_2', 'y_position_shift5_2', 'players_distance_sum', 'x_move_distance_1', 'x_move_distance_2', 'y_move_distance_1', 'y_move_distance_2', 'x_position_diff', 'y_position_diff', 'speed_diff', 'distance_diff', 'direction_diff', 'orientation_diff', 'acceleration_diff', 'sa_diff', 'players_dis_rollsum', 'x_position_diff_rollsum', 'y_position_diff_rollsum', 'speed_diff_rollsum', 'distance_diff_rollsum', 'direction_diff_rollsum', 'orientation_diff_rollsum', 'acceleration_diff_rollsum', 'sa_diff_rollsum', 'E_left_1', 'E_width_1', 'E_top_1', 'E_height_1', 'E_left_2', 'E_width_2', 'E_top_2', 'E_height_2', 'S_left_1', 'S_width_1', 'S_top_1', 'S_height_1', 'S_left_2', 'S_width_2', 'S_top_2', 'S_height_2', 'E_helmet_dis', 'S_helmet_dis', 'is_ground', 'is_E_helmet', 'is_S_helmet', 'both_helmet', 'm0_E_img_emb_0', 'm0_E_img_emb_1', 'm0_E_img_emb_2', 'm0_E_img_emb_3', 'm0_E_img_emb_4', 'm0_E_pred', 'm0_S_img_emb_0', 'm0_S_img_emb_1', 'm0_S_img_emb_2', 'm0_S_img_emb_3', 'm0_S_img_emb_4', 'm0_S_pred', 'm1_E_img_emb_0', 'm1_E_img_emb_1', 'm1_E_img_emb_2', 'm1_E_img_emb_3', 'm1_E_img_emb_4', 'm1_E_pred', 'm1_S_img_emb_0', 'm1_S_img_emb_1', 'm1_S_img_emb_2', 'm1_S_img_emb_3', 'm1_S_img_emb_4', 'm1_S_pred', 'm2_E_img_emb_0', 'm2_E_img_emb_1', 'm2_E_img_emb_2', 'm2_E_img_emb_3', 'm2_E_img_emb_4', 'm2_E_pred', 'm2_S_img_emb_0', 'm2_S_img_emb_1', 'm2_S_img_emb_2', 'm2_S_img_emb_3', 'm2_S_img_emb_4', 'm2_S_pred', 'track_emb_0', 'track_emb_1', 'track_emb_2']\n"
     ]
    }
   ],
   "source": [
    "# FEATURE_COLS = [col for col in FEATURE_COLS if not col in [\"step\"]]\n",
    "print(FEATURE_COLS)"
   ]
  },
  {
   "cell_type": "markdown",
   "id": "72d07fb2",
   "metadata": {
    "papermill": {
     "duration": 0.017005,
     "end_time": "2023-02-27T07:18:42.693696",
     "exception": false,
     "start_time": "2023-02-27T07:18:42.676691",
     "status": "completed"
    },
    "tags": []
   },
   "source": [
    "# Train"
   ]
  },
  {
   "cell_type": "code",
   "execution_count": 26,
   "id": "69b82600",
   "metadata": {},
   "outputs": [],
   "source": [
    "# expand_cols = [\"game_id\", \"play_id\", \"step_split\", \"nfl_player_id_1_split\", \"nfl_player_id_2\"]\n",
    "# target_df = target_df.with_column([pl.col(\"contact_id\").str.split_exact(\"_\", 4)\n",
    "#                                     .struct.rename_fields(expand_cols).alias(\"key\")]).unnest(\"key\")\n",
    "expand_cols = [\"game_id\", \"play_id\"]\n",
    "target_df = target_df.with_column([pl.col(\"contact_id\").str.split_exact(\"_\", 2)\n",
    "                                    .struct.rename_fields(expand_cols).alias(\"key\")]).unnest(\"key\")"
   ]
  },
  {
   "cell_type": "code",
   "execution_count": 27,
   "id": "3a2a70ba",
   "metadata": {
    "execution": {
     "iopub.execute_input": "2023-02-27T07:18:42.725169Z",
     "iopub.status.busy": "2023-02-27T07:18:42.724791Z",
     "iopub.status.idle": "2023-02-27T11:35:55.171731Z",
     "shell.execute_reply": "2023-02-27T11:35:55.169800Z"
    },
    "papermill": {
     "duration": 15432.466865,
     "end_time": "2023-02-27T11:35:55.174103",
     "exception": false,
     "start_time": "2023-02-27T07:18:42.707238",
     "status": "completed"
    },
    "tags": []
   },
   "outputs": [
    {
     "name": "stdout",
     "output_type": "stream",
     "text": [
      "-\n",
      "fold 0\n"
     ]
    },
    {
     "data": {
      "text/plain": [
       "0    118129\n",
       "1     13104\n",
       "Name: contact, dtype: int64"
      ]
     },
     "metadata": {},
     "output_type": "display_data"
    },
    {
     "name": "stdout",
     "output_type": "stream",
     "text": [
      "0:\ttest: 0.8965101\tbest: 0.8965101 (0)\ttotal: 109ms\tremaining: 18m 8s\n",
      "100:\ttest: 0.9513042\tbest: 0.9513042 (100)\ttotal: 4.77s\tremaining: 7m 47s\n",
      "200:\ttest: 0.9576773\tbest: 0.9576773 (200)\ttotal: 9.3s\tremaining: 7m 33s\n",
      "300:\ttest: 0.9601067\tbest: 0.9601067 (300)\ttotal: 13.9s\tremaining: 7m 26s\n",
      "400:\ttest: 0.9614670\tbest: 0.9614670 (400)\ttotal: 18.6s\tremaining: 7m 24s\n",
      "500:\ttest: 0.9624731\tbest: 0.9624731 (500)\ttotal: 23.5s\tremaining: 7m 24s\n",
      "600:\ttest: 0.9631303\tbest: 0.9631303 (600)\ttotal: 28.4s\tremaining: 7m 24s\n",
      "700:\ttest: 0.9636909\tbest: 0.9636909 (700)\ttotal: 33.4s\tremaining: 7m 23s\n",
      "800:\ttest: 0.9641447\tbest: 0.9641447 (800)\ttotal: 38.4s\tremaining: 7m 20s\n",
      "900:\ttest: 0.9644851\tbest: 0.9644851 (900)\ttotal: 43.3s\tremaining: 7m 17s\n",
      "1000:\ttest: 0.9649029\tbest: 0.9649029 (1000)\ttotal: 48.2s\tremaining: 7m 13s\n",
      "1100:\ttest: 0.9652740\tbest: 0.9652773 (1099)\ttotal: 53.1s\tremaining: 7m 9s\n",
      "1200:\ttest: 0.9655459\tbest: 0.9655489 (1197)\ttotal: 58.1s\tremaining: 7m 5s\n",
      "1300:\ttest: 0.9659087\tbest: 0.9659087 (1300)\ttotal: 1m 3s\tremaining: 7m 1s\n",
      "1400:\ttest: 0.9662783\tbest: 0.9662783 (1400)\ttotal: 1m 8s\tremaining: 6m 57s\n",
      "1500:\ttest: 0.9666225\tbest: 0.9666225 (1500)\ttotal: 1m 12s\tremaining: 6m 53s\n",
      "1600:\ttest: 0.9668095\tbest: 0.9668121 (1598)\ttotal: 1m 17s\tremaining: 6m 47s\n",
      "1700:\ttest: 0.9669682\tbest: 0.9669690 (1697)\ttotal: 1m 22s\tremaining: 6m 42s\n",
      "1800:\ttest: 0.9670554\tbest: 0.9670554 (1800)\ttotal: 1m 27s\tremaining: 6m 37s\n",
      "1900:\ttest: 0.9671564\tbest: 0.9671564 (1900)\ttotal: 1m 32s\tremaining: 6m 32s\n",
      "2000:\ttest: 0.9672762\tbest: 0.9672796 (1997)\ttotal: 1m 37s\tremaining: 6m 28s\n",
      "2100:\ttest: 0.9673672\tbest: 0.9673672 (2100)\ttotal: 1m 42s\tremaining: 6m 23s\n",
      "2200:\ttest: 0.9674717\tbest: 0.9674762 (2194)\ttotal: 1m 46s\tremaining: 6m 18s\n",
      "2300:\ttest: 0.9675794\tbest: 0.9675801 (2293)\ttotal: 1m 51s\tremaining: 6m 14s\n",
      "2400:\ttest: 0.9676554\tbest: 0.9676564 (2386)\ttotal: 1m 56s\tremaining: 6m 9s\n",
      "2500:\ttest: 0.9677507\tbest: 0.9677507 (2500)\ttotal: 2m 1s\tremaining: 6m 4s\n",
      "2600:\ttest: 0.9678125\tbest: 0.9678125 (2600)\ttotal: 2m 6s\tremaining: 5m 59s\n",
      "2700:\ttest: 0.9678615\tbest: 0.9678630 (2699)\ttotal: 2m 11s\tremaining: 5m 55s\n",
      "2800:\ttest: 0.9679484\tbest: 0.9679484 (2800)\ttotal: 2m 16s\tremaining: 5m 50s\n",
      "2900:\ttest: 0.9680002\tbest: 0.9680008 (2894)\ttotal: 2m 21s\tremaining: 5m 46s\n",
      "3000:\ttest: 0.9680603\tbest: 0.9680603 (3000)\ttotal: 2m 26s\tremaining: 5m 41s\n",
      "3100:\ttest: 0.9681123\tbest: 0.9681146 (3092)\ttotal: 2m 31s\tremaining: 5m 36s\n",
      "3200:\ttest: 0.9681119\tbest: 0.9681194 (3167)\ttotal: 2m 36s\tremaining: 5m 31s\n",
      "3300:\ttest: 0.9681700\tbest: 0.9681700 (3300)\ttotal: 2m 41s\tremaining: 5m 27s\n",
      "3400:\ttest: 0.9681913\tbest: 0.9681930 (3381)\ttotal: 2m 46s\tremaining: 5m 22s\n",
      "3500:\ttest: 0.9682286\tbest: 0.9682311 (3488)\ttotal: 2m 51s\tremaining: 5m 17s\n",
      "3600:\ttest: 0.9682741\tbest: 0.9682741 (3600)\ttotal: 2m 55s\tremaining: 5m 12s\n",
      "3700:\ttest: 0.9683025\tbest: 0.9683064 (3680)\ttotal: 3m\tremaining: 5m 7s\n",
      "3800:\ttest: 0.9683377\tbest: 0.9683418 (3787)\ttotal: 3m 5s\tremaining: 5m 2s\n",
      "3900:\ttest: 0.9683474\tbest: 0.9683553 (3864)\ttotal: 3m 10s\tremaining: 4m 58s\n",
      "4000:\ttest: 0.9683912\tbest: 0.9683912 (4000)\ttotal: 3m 15s\tremaining: 4m 53s\n",
      "4100:\ttest: 0.9684304\tbest: 0.9684306 (4090)\ttotal: 3m 20s\tremaining: 4m 48s\n",
      "4200:\ttest: 0.9684461\tbest: 0.9684475 (4196)\ttotal: 3m 25s\tremaining: 4m 43s\n",
      "4300:\ttest: 0.9684770\tbest: 0.9684770 (4300)\ttotal: 3m 30s\tremaining: 4m 38s\n",
      "4400:\ttest: 0.9684934\tbest: 0.9684948 (4394)\ttotal: 3m 34s\tremaining: 4m 33s\n",
      "4500:\ttest: 0.9685326\tbest: 0.9685351 (4497)\ttotal: 3m 39s\tremaining: 4m 28s\n",
      "4600:\ttest: 0.9685451\tbest: 0.9685481 (4579)\ttotal: 3m 44s\tremaining: 4m 23s\n",
      "4700:\ttest: 0.9685623\tbest: 0.9685669 (4691)\ttotal: 3m 49s\tremaining: 4m 18s\n",
      "4800:\ttest: 0.9685984\tbest: 0.9685984 (4800)\ttotal: 3m 54s\tremaining: 4m 13s\n",
      "4900:\ttest: 0.9686100\tbest: 0.9686125 (4899)\ttotal: 3m 59s\tremaining: 4m 9s\n",
      "5000:\ttest: 0.9686416\tbest: 0.9686416 (5000)\ttotal: 4m 4s\tremaining: 4m 4s\n",
      "5100:\ttest: 0.9686705\tbest: 0.9686713 (5098)\ttotal: 4m 9s\tremaining: 3m 59s\n",
      "5200:\ttest: 0.9686747\tbest: 0.9686782 (5179)\ttotal: 4m 13s\tremaining: 3m 54s\n",
      "5300:\ttest: 0.9687067\tbest: 0.9687107 (5276)\ttotal: 4m 18s\tremaining: 3m 49s\n",
      "5400:\ttest: 0.9687102\tbest: 0.9687111 (5396)\ttotal: 4m 23s\tremaining: 3m 44s\n",
      "5500:\ttest: 0.9687384\tbest: 0.9687395 (5495)\ttotal: 4m 28s\tremaining: 3m 39s\n",
      "5600:\ttest: 0.9687495\tbest: 0.9687495 (5600)\ttotal: 4m 33s\tremaining: 3m 34s\n",
      "5700:\ttest: 0.9687526\tbest: 0.9687568 (5674)\ttotal: 4m 38s\tremaining: 3m 29s\n",
      "5800:\ttest: 0.9687765\tbest: 0.9687765 (5800)\ttotal: 4m 43s\tremaining: 3m 24s\n",
      "5900:\ttest: 0.9687853\tbest: 0.9687869 (5896)\ttotal: 4m 47s\tremaining: 3m 20s\n",
      "6000:\ttest: 0.9688008\tbest: 0.9688032 (5992)\ttotal: 4m 52s\tremaining: 3m 15s\n",
      "6100:\ttest: 0.9688052\tbest: 0.9688106 (6089)\ttotal: 4m 57s\tremaining: 3m 10s\n",
      "6200:\ttest: 0.9688328\tbest: 0.9688367 (6179)\ttotal: 5m 2s\tremaining: 3m 5s\n",
      "6300:\ttest: 0.9688582\tbest: 0.9688608 (6296)\ttotal: 5m 7s\tremaining: 3m\n",
      "6400:\ttest: 0.9688819\tbest: 0.9688823 (6398)\ttotal: 5m 12s\tremaining: 2m 55s\n",
      "6500:\ttest: 0.9688745\tbest: 0.9688841 (6421)\ttotal: 5m 16s\tremaining: 2m 50s\n",
      "6600:\ttest: 0.9688941\tbest: 0.9688975 (6591)\ttotal: 5m 21s\tremaining: 2m 45s\n",
      "6700:\ttest: 0.9688952\tbest: 0.9688975 (6591)\ttotal: 5m 26s\tremaining: 2m 40s\n",
      "6800:\ttest: 0.9688985\tbest: 0.9688999 (6771)\ttotal: 5m 31s\tremaining: 2m 35s\n",
      "6900:\ttest: 0.9689151\tbest: 0.9689151 (6900)\ttotal: 5m 36s\tremaining: 2m 30s\n",
      "7000:\ttest: 0.9689373\tbest: 0.9689385 (6989)\ttotal: 5m 41s\tremaining: 2m 26s\n",
      "7100:\ttest: 0.9689496\tbest: 0.9689511 (7097)\ttotal: 5m 45s\tremaining: 2m 21s\n",
      "7200:\ttest: 0.9689682\tbest: 0.9689690 (7191)\ttotal: 5m 50s\tremaining: 2m 16s\n",
      "7300:\ttest: 0.9689759\tbest: 0.9689763 (7299)\ttotal: 5m 55s\tremaining: 2m 11s\n",
      "7400:\ttest: 0.9689706\tbest: 0.9689777 (7313)\ttotal: 6m\tremaining: 2m 6s\n",
      "7500:\ttest: 0.9689679\tbest: 0.9689777 (7313)\ttotal: 6m 5s\tremaining: 2m 1s\n",
      "Stopped by overfitting detector  (200 iterations wait)\n",
      "\n",
      "bestTest = 0.9689777358\n",
      "bestIteration = 7313\n",
      "\n",
      "Shrink model to first 7314 iterations.\n"
     ]
    },
    {
     "data": {
      "text/html": [
       "<div>\n",
       "<style scoped>\n",
       "    .dataframe tbody tr th:only-of-type {\n",
       "        vertical-align: middle;\n",
       "    }\n",
       "\n",
       "    .dataframe tbody tr th {\n",
       "        vertical-align: top;\n",
       "    }\n",
       "\n",
       "    .dataframe thead th {\n",
       "        text-align: right;\n",
       "    }\n",
       "</style>\n",
       "<table border=\"1\" class=\"dataframe\">\n",
       "  <thead>\n",
       "    <tr style=\"text-align: right;\">\n",
       "      <th></th>\n",
       "      <th>importance</th>\n",
       "    </tr>\n",
       "  </thead>\n",
       "  <tbody>\n",
       "    <tr>\n",
       "      <th>step</th>\n",
       "      <td>10.764333</td>\n",
       "    </tr>\n",
       "    <tr>\n",
       "      <th>speed_1</th>\n",
       "      <td>5.671762</td>\n",
       "    </tr>\n",
       "    <tr>\n",
       "      <th>players_distance_sum</th>\n",
       "      <td>4.663367</td>\n",
       "    </tr>\n",
       "    <tr>\n",
       "      <th>jersey_number_1</th>\n",
       "      <td>3.206042</td>\n",
       "    </tr>\n",
       "    <tr>\n",
       "      <th>track_emb_2</th>\n",
       "      <td>3.075522</td>\n",
       "    </tr>\n",
       "    <tr>\n",
       "      <th>nfl_player_id_1</th>\n",
       "      <td>2.996246</td>\n",
       "    </tr>\n",
       "    <tr>\n",
       "      <th>y_position_diff</th>\n",
       "      <td>2.929723</td>\n",
       "    </tr>\n",
       "    <tr>\n",
       "      <th>x_position_diff</th>\n",
       "      <td>2.899241</td>\n",
       "    </tr>\n",
       "    <tr>\n",
       "      <th>m2_S_img_emb_4</th>\n",
       "      <td>2.366609</td>\n",
       "    </tr>\n",
       "    <tr>\n",
       "      <th>S_top_1</th>\n",
       "      <td>2.316803</td>\n",
       "    </tr>\n",
       "    <tr>\n",
       "      <th>m2_E_img_emb_4</th>\n",
       "      <td>2.247081</td>\n",
       "    </tr>\n",
       "    <tr>\n",
       "      <th>distance_1</th>\n",
       "      <td>2.210551</td>\n",
       "    </tr>\n",
       "    <tr>\n",
       "      <th>track_emb_1</th>\n",
       "      <td>2.096191</td>\n",
       "    </tr>\n",
       "    <tr>\n",
       "      <th>players_dis_rollsum</th>\n",
       "      <td>1.732617</td>\n",
       "    </tr>\n",
       "    <tr>\n",
       "      <th>jersey_number_2</th>\n",
       "      <td>1.568109</td>\n",
       "    </tr>\n",
       "    <tr>\n",
       "      <th>S_left_1</th>\n",
       "      <td>1.478298</td>\n",
       "    </tr>\n",
       "    <tr>\n",
       "      <th>team_1</th>\n",
       "      <td>1.426941</td>\n",
       "    </tr>\n",
       "    <tr>\n",
       "      <th>orientation_diff</th>\n",
       "      <td>1.410186</td>\n",
       "    </tr>\n",
       "    <tr>\n",
       "      <th>m0_E_pred</th>\n",
       "      <td>1.405228</td>\n",
       "    </tr>\n",
       "    <tr>\n",
       "      <th>m2_E_pred</th>\n",
       "      <td>1.404346</td>\n",
       "    </tr>\n",
       "  </tbody>\n",
       "</table>\n",
       "</div>"
      ],
      "text/plain": [
       "                      importance\n",
       "step                   10.764333\n",
       "speed_1                 5.671762\n",
       "players_distance_sum    4.663367\n",
       "jersey_number_1         3.206042\n",
       "track_emb_2             3.075522\n",
       "nfl_player_id_1         2.996246\n",
       "y_position_diff         2.929723\n",
       "x_position_diff         2.899241\n",
       "m2_S_img_emb_4          2.366609\n",
       "S_top_1                 2.316803\n",
       "m2_E_img_emb_4          2.247081\n",
       "distance_1              2.210551\n",
       "track_emb_1             2.096191\n",
       "players_dis_rollsum     1.732617\n",
       "jersey_number_2         1.568109\n",
       "S_left_1                1.478298\n",
       "team_1                  1.426941\n",
       "orientation_diff        1.410186\n",
       "m0_E_pred               1.405228\n",
       "m2_E_pred               1.404346"
      ]
     },
     "metadata": {},
     "output_type": "display_data"
    },
    {
     "name": "stdout",
     "output_type": "stream",
     "text": [
      "Performance of the prediction: 0.96898\n",
      "\n",
      "-\n",
      "fold 1\n"
     ]
    },
    {
     "data": {
      "text/plain": [
       "0    119782\n",
       "1     12623\n",
       "Name: contact, dtype: int64"
      ]
     },
     "metadata": {},
     "output_type": "display_data"
    },
    {
     "name": "stdout",
     "output_type": "stream",
     "text": [
      "0:\ttest: 0.8613552\tbest: 0.8613552 (0)\ttotal: 48.5ms\tremaining: 8m 5s\n",
      "100:\ttest: 0.9481801\tbest: 0.9481801 (100)\ttotal: 4.88s\tremaining: 7m 58s\n",
      "200:\ttest: 0.9553262\tbest: 0.9553262 (200)\ttotal: 10.1s\tremaining: 8m 9s\n",
      "300:\ttest: 0.9586981\tbest: 0.9586981 (300)\ttotal: 15.2s\tremaining: 8m 8s\n",
      "400:\ttest: 0.9604563\tbest: 0.9604563 (400)\ttotal: 20.3s\tremaining: 8m 4s\n",
      "500:\ttest: 0.9619033\tbest: 0.9619033 (500)\ttotal: 25.2s\tremaining: 7m 58s\n",
      "600:\ttest: 0.9627126\tbest: 0.9627126 (600)\ttotal: 30.1s\tremaining: 7m 50s\n",
      "700:\ttest: 0.9633626\tbest: 0.9633629 (699)\ttotal: 35s\tremaining: 7m 43s\n",
      "800:\ttest: 0.9639149\tbest: 0.9639149 (800)\ttotal: 39.9s\tremaining: 7m 38s\n",
      "900:\ttest: 0.9643240\tbest: 0.9643240 (900)\ttotal: 44.8s\tremaining: 7m 32s\n",
      "1000:\ttest: 0.9646174\tbest: 0.9646174 (1000)\ttotal: 49.8s\tremaining: 7m 27s\n",
      "1100:\ttest: 0.9649466\tbest: 0.9649466 (1100)\ttotal: 54.6s\tremaining: 7m 21s\n",
      "1200:\ttest: 0.9651825\tbest: 0.9651825 (1200)\ttotal: 59.5s\tremaining: 7m 16s\n",
      "1300:\ttest: 0.9654220\tbest: 0.9654220 (1300)\ttotal: 1m 4s\tremaining: 7m 10s\n",
      "1400:\ttest: 0.9657058\tbest: 0.9657100 (1392)\ttotal: 1m 9s\tremaining: 7m 5s\n",
      "1500:\ttest: 0.9659612\tbest: 0.9659612 (1500)\ttotal: 1m 14s\tremaining: 7m\n",
      "1600:\ttest: 0.9661696\tbest: 0.9661718 (1595)\ttotal: 1m 19s\tremaining: 6m 55s\n",
      "1700:\ttest: 0.9663400\tbest: 0.9663400 (1700)\ttotal: 1m 24s\tremaining: 6m 50s\n",
      "1800:\ttest: 0.9664956\tbest: 0.9664956 (1800)\ttotal: 1m 29s\tremaining: 6m 45s\n",
      "1900:\ttest: 0.9666438\tbest: 0.9666443 (1899)\ttotal: 1m 33s\tremaining: 6m 40s\n",
      "2000:\ttest: 0.9667464\tbest: 0.9667464 (2000)\ttotal: 1m 38s\tremaining: 6m 35s\n",
      "2100:\ttest: 0.9668813\tbest: 0.9668813 (2100)\ttotal: 1m 43s\tremaining: 6m 29s\n",
      "2200:\ttest: 0.9669834\tbest: 0.9669848 (2199)\ttotal: 1m 48s\tremaining: 6m 25s\n",
      "2300:\ttest: 0.9670537\tbest: 0.9670545 (2298)\ttotal: 1m 53s\tremaining: 6m 20s\n",
      "2400:\ttest: 0.9671308\tbest: 0.9671323 (2393)\ttotal: 1m 58s\tremaining: 6m 15s\n",
      "2500:\ttest: 0.9672498\tbest: 0.9672534 (2498)\ttotal: 2m 3s\tremaining: 6m 9s\n",
      "2600:\ttest: 0.9673805\tbest: 0.9673818 (2599)\ttotal: 2m 8s\tremaining: 6m 4s\n",
      "2700:\ttest: 0.9674425\tbest: 0.9674428 (2698)\ttotal: 2m 13s\tremaining: 5m 59s\n",
      "2800:\ttest: 0.9675287\tbest: 0.9675300 (2799)\ttotal: 2m 18s\tremaining: 5m 54s\n",
      "2900:\ttest: 0.9675879\tbest: 0.9675889 (2899)\ttotal: 2m 22s\tremaining: 5m 49s\n",
      "3000:\ttest: 0.9676605\tbest: 0.9676608 (2998)\ttotal: 2m 27s\tremaining: 5m 44s\n",
      "3100:\ttest: 0.9677368\tbest: 0.9677462 (3090)\ttotal: 2m 32s\tremaining: 5m 39s\n",
      "3200:\ttest: 0.9677682\tbest: 0.9677765 (3178)\ttotal: 2m 37s\tremaining: 5m 34s\n",
      "3300:\ttest: 0.9677943\tbest: 0.9677943 (3300)\ttotal: 2m 42s\tremaining: 5m 29s\n",
      "3400:\ttest: 0.9678294\tbest: 0.9678315 (3399)\ttotal: 2m 47s\tremaining: 5m 24s\n",
      "3500:\ttest: 0.9678963\tbest: 0.9678963 (3500)\ttotal: 2m 52s\tremaining: 5m 19s\n",
      "3600:\ttest: 0.9679545\tbest: 0.9679545 (3600)\ttotal: 2m 57s\tremaining: 5m 14s\n",
      "3700:\ttest: 0.9679827\tbest: 0.9679934 (3679)\ttotal: 3m 1s\tremaining: 5m 9s\n",
      "3800:\ttest: 0.9680516\tbest: 0.9680527 (3792)\ttotal: 3m 6s\tremaining: 5m 4s\n",
      "3900:\ttest: 0.9680509\tbest: 0.9680646 (3863)\ttotal: 3m 11s\tremaining: 4m 59s\n",
      "4000:\ttest: 0.9680822\tbest: 0.9680834 (3995)\ttotal: 3m 16s\tremaining: 4m 54s\n",
      "4100:\ttest: 0.9681070\tbest: 0.9681104 (4084)\ttotal: 3m 21s\tremaining: 4m 49s\n",
      "4200:\ttest: 0.9681437\tbest: 0.9681437 (4200)\ttotal: 3m 26s\tremaining: 4m 44s\n",
      "4300:\ttest: 0.9681452\tbest: 0.9681503 (4237)\ttotal: 3m 31s\tremaining: 4m 39s\n",
      "4400:\ttest: 0.9681749\tbest: 0.9681749 (4400)\ttotal: 3m 35s\tremaining: 4m 34s\n",
      "4500:\ttest: 0.9681801\tbest: 0.9681909 (4482)\ttotal: 3m 40s\tremaining: 4m 29s\n",
      "4600:\ttest: 0.9682150\tbest: 0.9682161 (4594)\ttotal: 3m 45s\tremaining: 4m 24s\n",
      "4700:\ttest: 0.9682627\tbest: 0.9682645 (4683)\ttotal: 3m 50s\tremaining: 4m 19s\n",
      "4800:\ttest: 0.9682585\tbest: 0.9682798 (4728)\ttotal: 3m 55s\tremaining: 4m 14s\n",
      "4900:\ttest: 0.9682645\tbest: 0.9682798 (4728)\ttotal: 3m 59s\tremaining: 4m 9s\n",
      "Stopped by overfitting detector  (200 iterations wait)\n",
      "\n",
      "bestTest = 0.9682798014\n",
      "bestIteration = 4728\n",
      "\n",
      "Shrink model to first 4729 iterations.\n"
     ]
    },
    {
     "data": {
      "text/html": [
       "<div>\n",
       "<style scoped>\n",
       "    .dataframe tbody tr th:only-of-type {\n",
       "        vertical-align: middle;\n",
       "    }\n",
       "\n",
       "    .dataframe tbody tr th {\n",
       "        vertical-align: top;\n",
       "    }\n",
       "\n",
       "    .dataframe thead th {\n",
       "        text-align: right;\n",
       "    }\n",
       "</style>\n",
       "<table border=\"1\" class=\"dataframe\">\n",
       "  <thead>\n",
       "    <tr style=\"text-align: right;\">\n",
       "      <th></th>\n",
       "      <th>importance</th>\n",
       "    </tr>\n",
       "  </thead>\n",
       "  <tbody>\n",
       "    <tr>\n",
       "      <th>step</th>\n",
       "      <td>12.120715</td>\n",
       "    </tr>\n",
       "    <tr>\n",
       "      <th>players_distance_sum</th>\n",
       "      <td>5.923742</td>\n",
       "    </tr>\n",
       "    <tr>\n",
       "      <th>speed_1</th>\n",
       "      <td>5.546541</td>\n",
       "    </tr>\n",
       "    <tr>\n",
       "      <th>track_emb_2</th>\n",
       "      <td>3.710073</td>\n",
       "    </tr>\n",
       "    <tr>\n",
       "      <th>jersey_number_1</th>\n",
       "      <td>3.329461</td>\n",
       "    </tr>\n",
       "    <tr>\n",
       "      <th>y_position_diff</th>\n",
       "      <td>2.883927</td>\n",
       "    </tr>\n",
       "    <tr>\n",
       "      <th>distance_1</th>\n",
       "      <td>2.687715</td>\n",
       "    </tr>\n",
       "    <tr>\n",
       "      <th>x_position_diff</th>\n",
       "      <td>2.668765</td>\n",
       "    </tr>\n",
       "    <tr>\n",
       "      <th>m2_E_img_emb_4</th>\n",
       "      <td>2.551359</td>\n",
       "    </tr>\n",
       "    <tr>\n",
       "      <th>m2_S_img_emb_4</th>\n",
       "      <td>2.538815</td>\n",
       "    </tr>\n",
       "    <tr>\n",
       "      <th>S_top_1</th>\n",
       "      <td>2.503896</td>\n",
       "    </tr>\n",
       "    <tr>\n",
       "      <th>track_emb_1</th>\n",
       "      <td>2.494415</td>\n",
       "    </tr>\n",
       "    <tr>\n",
       "      <th>nfl_player_id_1</th>\n",
       "      <td>1.970757</td>\n",
       "    </tr>\n",
       "    <tr>\n",
       "      <th>m2_E_pred</th>\n",
       "      <td>1.604130</td>\n",
       "    </tr>\n",
       "    <tr>\n",
       "      <th>orientation_diff</th>\n",
       "      <td>1.525531</td>\n",
       "    </tr>\n",
       "    <tr>\n",
       "      <th>m0_S_pred</th>\n",
       "      <td>1.455217</td>\n",
       "    </tr>\n",
       "    <tr>\n",
       "      <th>S_helmet_dis</th>\n",
       "      <td>1.432339</td>\n",
       "    </tr>\n",
       "    <tr>\n",
       "      <th>players_dis_rollsum</th>\n",
       "      <td>1.426349</td>\n",
       "    </tr>\n",
       "    <tr>\n",
       "      <th>jersey_number_2</th>\n",
       "      <td>1.414827</td>\n",
       "    </tr>\n",
       "    <tr>\n",
       "      <th>S_left_1</th>\n",
       "      <td>1.395377</td>\n",
       "    </tr>\n",
       "  </tbody>\n",
       "</table>\n",
       "</div>"
      ],
      "text/plain": [
       "                      importance\n",
       "step                   12.120715\n",
       "players_distance_sum    5.923742\n",
       "speed_1                 5.546541\n",
       "track_emb_2             3.710073\n",
       "jersey_number_1         3.329461\n",
       "y_position_diff         2.883927\n",
       "distance_1              2.687715\n",
       "x_position_diff         2.668765\n",
       "m2_E_img_emb_4          2.551359\n",
       "m2_S_img_emb_4          2.538815\n",
       "S_top_1                 2.503896\n",
       "track_emb_1             2.494415\n",
       "nfl_player_id_1         1.970757\n",
       "m2_E_pred               1.604130\n",
       "orientation_diff        1.525531\n",
       "m0_S_pred               1.455217\n",
       "S_helmet_dis            1.432339\n",
       "players_dis_rollsum     1.426349\n",
       "jersey_number_2         1.414827\n",
       "S_left_1                1.395377"
      ]
     },
     "metadata": {},
     "output_type": "display_data"
    },
    {
     "name": "stdout",
     "output_type": "stream",
     "text": [
      "Performance of the prediction: 0.96828\n",
      "\n",
      "-\n",
      "fold 2\n"
     ]
    },
    {
     "data": {
      "text/plain": [
       "0    119831\n",
       "1     12485\n",
       "Name: contact, dtype: int64"
      ]
     },
     "metadata": {},
     "output_type": "display_data"
    },
    {
     "name": "stdout",
     "output_type": "stream",
     "text": [
      "0:\ttest: 0.9040887\tbest: 0.9040887 (0)\ttotal: 58.8ms\tremaining: 9m 48s\n",
      "100:\ttest: 0.9501410\tbest: 0.9501410 (100)\ttotal: 4.83s\tremaining: 7m 53s\n",
      "200:\ttest: 0.9555209\tbest: 0.9555209 (200)\ttotal: 9.89s\tremaining: 8m 2s\n",
      "300:\ttest: 0.9579790\tbest: 0.9579790 (300)\ttotal: 15.1s\tremaining: 8m 5s\n",
      "400:\ttest: 0.9592616\tbest: 0.9592616 (400)\ttotal: 20.1s\tremaining: 8m\n",
      "500:\ttest: 0.9602278\tbest: 0.9602278 (500)\ttotal: 25s\tremaining: 7m 53s\n",
      "600:\ttest: 0.9610188\tbest: 0.9610188 (600)\ttotal: 29.9s\tremaining: 7m 46s\n",
      "700:\ttest: 0.9616144\tbest: 0.9616144 (700)\ttotal: 34.9s\tremaining: 7m 42s\n",
      "800:\ttest: 0.9621651\tbest: 0.9621663 (799)\ttotal: 39.8s\tremaining: 7m 36s\n",
      "900:\ttest: 0.9625854\tbest: 0.9625864 (898)\ttotal: 44.7s\tremaining: 7m 31s\n",
      "1000:\ttest: 0.9628508\tbest: 0.9628508 (1000)\ttotal: 49.7s\tremaining: 7m 26s\n",
      "1100:\ttest: 0.9631987\tbest: 0.9631987 (1100)\ttotal: 54.7s\tremaining: 7m 22s\n",
      "1200:\ttest: 0.9634901\tbest: 0.9634928 (1198)\ttotal: 59.6s\tremaining: 7m 17s\n",
      "1300:\ttest: 0.9638311\tbest: 0.9638387 (1295)\ttotal: 1m 4s\tremaining: 7m 11s\n",
      "1400:\ttest: 0.9640126\tbest: 0.9640279 (1392)\ttotal: 1m 9s\tremaining: 7m 6s\n",
      "1500:\ttest: 0.9642086\tbest: 0.9642189 (1494)\ttotal: 1m 14s\tremaining: 7m 1s\n",
      "1600:\ttest: 0.9642521\tbest: 0.9642843 (1583)\ttotal: 1m 19s\tremaining: 6m 56s\n",
      "1700:\ttest: 0.9643987\tbest: 0.9644156 (1699)\ttotal: 1m 24s\tremaining: 6m 51s\n",
      "1800:\ttest: 0.9645716\tbest: 0.9645716 (1800)\ttotal: 1m 29s\tremaining: 6m 45s\n",
      "1900:\ttest: 0.9647747\tbest: 0.9647874 (1879)\ttotal: 1m 34s\tremaining: 6m 40s\n",
      "2000:\ttest: 0.9649998\tbest: 0.9649998 (2000)\ttotal: 1m 39s\tremaining: 6m 36s\n",
      "2100:\ttest: 0.9651013\tbest: 0.9651077 (2091)\ttotal: 1m 43s\tremaining: 6m 30s\n",
      "2200:\ttest: 0.9651768\tbest: 0.9651768 (2200)\ttotal: 1m 48s\tremaining: 6m 26s\n",
      "2300:\ttest: 0.9652671\tbest: 0.9652671 (2300)\ttotal: 1m 53s\tremaining: 6m 20s\n",
      "2400:\ttest: 0.9653469\tbest: 0.9653481 (2392)\ttotal: 1m 58s\tremaining: 6m 15s\n",
      "2500:\ttest: 0.9654370\tbest: 0.9654370 (2500)\ttotal: 2m 3s\tremaining: 6m 10s\n",
      "2600:\ttest: 0.9654781\tbest: 0.9654795 (2595)\ttotal: 2m 8s\tremaining: 6m 5s\n",
      "2700:\ttest: 0.9655255\tbest: 0.9655326 (2692)\ttotal: 2m 13s\tremaining: 6m\n",
      "2800:\ttest: 0.9655846\tbest: 0.9655872 (2788)\ttotal: 2m 18s\tremaining: 5m 55s\n",
      "2900:\ttest: 0.9656532\tbest: 0.9656544 (2899)\ttotal: 2m 23s\tremaining: 5m 50s\n",
      "3000:\ttest: 0.9657126\tbest: 0.9657129 (2994)\ttotal: 2m 27s\tremaining: 5m 44s\n",
      "3100:\ttest: 0.9657715\tbest: 0.9657715 (3100)\ttotal: 2m 32s\tremaining: 5m 39s\n",
      "3200:\ttest: 0.9658501\tbest: 0.9658501 (3200)\ttotal: 2m 37s\tremaining: 5m 34s\n",
      "3300:\ttest: 0.9659394\tbest: 0.9659451 (3294)\ttotal: 2m 42s\tremaining: 5m 29s\n",
      "3400:\ttest: 0.9660160\tbest: 0.9660160 (3400)\ttotal: 2m 47s\tremaining: 5m 24s\n",
      "3500:\ttest: 0.9660599\tbest: 0.9660658 (3494)\ttotal: 2m 52s\tremaining: 5m 19s\n",
      "3600:\ttest: 0.9661110\tbest: 0.9661121 (3596)\ttotal: 2m 57s\tremaining: 5m 15s\n",
      "3700:\ttest: 0.9662112\tbest: 0.9662112 (3700)\ttotal: 3m 2s\tremaining: 5m 10s\n",
      "3800:\ttest: 0.9662239\tbest: 0.9662292 (3771)\ttotal: 3m 7s\tremaining: 5m 5s\n",
      "3900:\ttest: 0.9663235\tbest: 0.9663288 (3890)\ttotal: 3m 12s\tremaining: 5m\n",
      "4000:\ttest: 0.9663628\tbest: 0.9663628 (4000)\ttotal: 3m 16s\tremaining: 4m 55s\n",
      "4100:\ttest: 0.9664115\tbest: 0.9664174 (4083)\ttotal: 3m 22s\tremaining: 4m 50s\n",
      "4200:\ttest: 0.9664666\tbest: 0.9664666 (4200)\ttotal: 3m 27s\tremaining: 4m 45s\n",
      "4300:\ttest: 0.9664984\tbest: 0.9665019 (4290)\ttotal: 3m 32s\tremaining: 4m 41s\n",
      "4400:\ttest: 0.9665155\tbest: 0.9665187 (4396)\ttotal: 3m 37s\tremaining: 4m 36s\n",
      "4500:\ttest: 0.9665567\tbest: 0.9665571 (4498)\ttotal: 3m 42s\tremaining: 4m 31s\n",
      "4600:\ttest: 0.9665888\tbest: 0.9665890 (4591)\ttotal: 3m 47s\tremaining: 4m 26s\n",
      "4700:\ttest: 0.9666181\tbest: 0.9666242 (4675)\ttotal: 3m 51s\tremaining: 4m 21s\n",
      "4800:\ttest: 0.9666129\tbest: 0.9666242 (4675)\ttotal: 3m 56s\tremaining: 4m 16s\n",
      "4900:\ttest: 0.9666540\tbest: 0.9666564 (4879)\ttotal: 4m 1s\tremaining: 4m 11s\n",
      "5000:\ttest: 0.9666671\tbest: 0.9666759 (4962)\ttotal: 4m 6s\tremaining: 4m 6s\n",
      "5100:\ttest: 0.9666700\tbest: 0.9666769 (5087)\ttotal: 4m 11s\tremaining: 4m 1s\n",
      "5200:\ttest: 0.9666841\tbest: 0.9666893 (5186)\ttotal: 4m 16s\tremaining: 3m 56s\n",
      "5300:\ttest: 0.9667010\tbest: 0.9667015 (5299)\ttotal: 4m 21s\tremaining: 3m 51s\n",
      "5400:\ttest: 0.9667287\tbest: 0.9667287 (5400)\ttotal: 4m 26s\tremaining: 3m 46s\n",
      "5500:\ttest: 0.9667578\tbest: 0.9667584 (5499)\ttotal: 4m 30s\tremaining: 3m 41s\n",
      "5600:\ttest: 0.9667747\tbest: 0.9667779 (5594)\ttotal: 4m 35s\tremaining: 3m 36s\n",
      "5700:\ttest: 0.9667945\tbest: 0.9667957 (5697)\ttotal: 4m 40s\tremaining: 3m 31s\n",
      "5800:\ttest: 0.9668123\tbest: 0.9668141 (5775)\ttotal: 4m 45s\tremaining: 3m 26s\n",
      "5900:\ttest: 0.9668127\tbest: 0.9668141 (5775)\ttotal: 4m 50s\tremaining: 3m 21s\n",
      "6000:\ttest: 0.9668299\tbest: 0.9668308 (5982)\ttotal: 4m 55s\tremaining: 3m 16s\n",
      "6100:\ttest: 0.9668339\tbest: 0.9668459 (6089)\ttotal: 4m 59s\tremaining: 3m 11s\n",
      "6200:\ttest: 0.9668621\tbest: 0.9668631 (6199)\ttotal: 5m 4s\tremaining: 3m 6s\n",
      "6300:\ttest: 0.9668752\tbest: 0.9668768 (6282)\ttotal: 5m 9s\tremaining: 3m 1s\n",
      "6400:\ttest: 0.9668773\tbest: 0.9668841 (6378)\ttotal: 5m 14s\tremaining: 2m 56s\n",
      "6500:\ttest: 0.9668921\tbest: 0.9668967 (6497)\ttotal: 5m 19s\tremaining: 2m 51s\n",
      "6600:\ttest: 0.9668940\tbest: 0.9668967 (6497)\ttotal: 5m 23s\tremaining: 2m 46s\n",
      "6700:\ttest: 0.9669103\tbest: 0.9669150 (6692)\ttotal: 5m 28s\tremaining: 2m 41s\n",
      "6800:\ttest: 0.9669194\tbest: 0.9669268 (6778)\ttotal: 5m 33s\tremaining: 2m 36s\n",
      "6900:\ttest: 0.9669244\tbest: 0.9669268 (6778)\ttotal: 5m 38s\tremaining: 2m 31s\n",
      "7000:\ttest: 0.9669403\tbest: 0.9669470 (6988)\ttotal: 5m 43s\tremaining: 2m 26s\n",
      "7100:\ttest: 0.9669537\tbest: 0.9669588 (7088)\ttotal: 5m 47s\tremaining: 2m 22s\n",
      "7200:\ttest: 0.9669733\tbest: 0.9669788 (7183)\ttotal: 5m 52s\tremaining: 2m 17s\n",
      "7300:\ttest: 0.9670042\tbest: 0.9670042 (7300)\ttotal: 5m 57s\tremaining: 2m 12s\n",
      "7400:\ttest: 0.9670166\tbest: 0.9670249 (7372)\ttotal: 6m 2s\tremaining: 2m 7s\n",
      "7500:\ttest: 0.9670562\tbest: 0.9670562 (7500)\ttotal: 6m 7s\tremaining: 2m 2s\n",
      "7600:\ttest: 0.9670805\tbest: 0.9670805 (7600)\ttotal: 6m 11s\tremaining: 1m 57s\n",
      "7700:\ttest: 0.9670914\tbest: 0.9670982 (7695)\ttotal: 6m 16s\tremaining: 1m 52s\n",
      "7800:\ttest: 0.9671000\tbest: 0.9671062 (7774)\ttotal: 6m 21s\tremaining: 1m 47s\n",
      "7900:\ttest: 0.9671330\tbest: 0.9671350 (7894)\ttotal: 6m 26s\tremaining: 1m 42s\n",
      "8000:\ttest: 0.9671400\tbest: 0.9671507 (7934)\ttotal: 6m 31s\tremaining: 1m 37s\n",
      "8100:\ttest: 0.9671657\tbest: 0.9671660 (8099)\ttotal: 6m 36s\tremaining: 1m 32s\n",
      "8200:\ttest: 0.9671855\tbest: 0.9671858 (8199)\ttotal: 6m 41s\tremaining: 1m 28s\n",
      "8300:\ttest: 0.9671906\tbest: 0.9671929 (8282)\ttotal: 6m 46s\tremaining: 1m 23s\n",
      "8400:\ttest: 0.9672134\tbest: 0.9672143 (8399)\ttotal: 6m 51s\tremaining: 1m 18s\n",
      "8500:\ttest: 0.9672273\tbest: 0.9672315 (8452)\ttotal: 6m 56s\tremaining: 1m 13s\n",
      "8600:\ttest: 0.9672387\tbest: 0.9672398 (8597)\ttotal: 7m\tremaining: 1m 8s\n",
      "8700:\ttest: 0.9672553\tbest: 0.9672596 (8682)\ttotal: 7m 5s\tremaining: 1m 3s\n",
      "8800:\ttest: 0.9672506\tbest: 0.9672629 (8756)\ttotal: 7m 10s\tremaining: 58.7s\n",
      "8900:\ttest: 0.9672736\tbest: 0.9672781 (8885)\ttotal: 7m 15s\tremaining: 53.8s\n",
      "9000:\ttest: 0.9672702\tbest: 0.9672781 (8885)\ttotal: 7m 20s\tremaining: 48.9s\n",
      "Stopped by overfitting detector  (200 iterations wait)\n",
      "\n",
      "bestTest = 0.9672781298\n",
      "bestIteration = 8885\n",
      "\n",
      "Shrink model to first 8886 iterations.\n"
     ]
    },
    {
     "data": {
      "text/html": [
       "<div>\n",
       "<style scoped>\n",
       "    .dataframe tbody tr th:only-of-type {\n",
       "        vertical-align: middle;\n",
       "    }\n",
       "\n",
       "    .dataframe tbody tr th {\n",
       "        vertical-align: top;\n",
       "    }\n",
       "\n",
       "    .dataframe thead th {\n",
       "        text-align: right;\n",
       "    }\n",
       "</style>\n",
       "<table border=\"1\" class=\"dataframe\">\n",
       "  <thead>\n",
       "    <tr style=\"text-align: right;\">\n",
       "      <th></th>\n",
       "      <th>importance</th>\n",
       "    </tr>\n",
       "  </thead>\n",
       "  <tbody>\n",
       "    <tr>\n",
       "      <th>step</th>\n",
       "      <td>10.508763</td>\n",
       "    </tr>\n",
       "    <tr>\n",
       "      <th>speed_1</th>\n",
       "      <td>4.974156</td>\n",
       "    </tr>\n",
       "    <tr>\n",
       "      <th>players_distance_sum</th>\n",
       "      <td>4.882120</td>\n",
       "    </tr>\n",
       "    <tr>\n",
       "      <th>jersey_number_1</th>\n",
       "      <td>3.695326</td>\n",
       "    </tr>\n",
       "    <tr>\n",
       "      <th>track_emb_2</th>\n",
       "      <td>3.247283</td>\n",
       "    </tr>\n",
       "    <tr>\n",
       "      <th>nfl_player_id_1</th>\n",
       "      <td>2.780609</td>\n",
       "    </tr>\n",
       "    <tr>\n",
       "      <th>distance_1</th>\n",
       "      <td>2.632252</td>\n",
       "    </tr>\n",
       "    <tr>\n",
       "      <th>x_position_diff</th>\n",
       "      <td>2.546340</td>\n",
       "    </tr>\n",
       "    <tr>\n",
       "      <th>y_position_diff</th>\n",
       "      <td>2.474837</td>\n",
       "    </tr>\n",
       "    <tr>\n",
       "      <th>m2_E_img_emb_4</th>\n",
       "      <td>2.358457</td>\n",
       "    </tr>\n",
       "    <tr>\n",
       "      <th>S_top_1</th>\n",
       "      <td>2.333171</td>\n",
       "    </tr>\n",
       "    <tr>\n",
       "      <th>track_emb_1</th>\n",
       "      <td>2.240323</td>\n",
       "    </tr>\n",
       "    <tr>\n",
       "      <th>jersey_number_2</th>\n",
       "      <td>1.924778</td>\n",
       "    </tr>\n",
       "    <tr>\n",
       "      <th>m2_E_pred</th>\n",
       "      <td>1.516746</td>\n",
       "    </tr>\n",
       "    <tr>\n",
       "      <th>m2_S_img_emb_4</th>\n",
       "      <td>1.425527</td>\n",
       "    </tr>\n",
       "    <tr>\n",
       "      <th>nfl_player_id_2</th>\n",
       "      <td>1.405074</td>\n",
       "    </tr>\n",
       "    <tr>\n",
       "      <th>orientation_diff</th>\n",
       "      <td>1.341512</td>\n",
       "    </tr>\n",
       "    <tr>\n",
       "      <th>S_left_1</th>\n",
       "      <td>1.311051</td>\n",
       "    </tr>\n",
       "    <tr>\n",
       "      <th>players_dis_rollsum</th>\n",
       "      <td>1.310254</td>\n",
       "    </tr>\n",
       "    <tr>\n",
       "      <th>team_1</th>\n",
       "      <td>1.306866</td>\n",
       "    </tr>\n",
       "  </tbody>\n",
       "</table>\n",
       "</div>"
      ],
      "text/plain": [
       "                      importance\n",
       "step                   10.508763\n",
       "speed_1                 4.974156\n",
       "players_distance_sum    4.882120\n",
       "jersey_number_1         3.695326\n",
       "track_emb_2             3.247283\n",
       "nfl_player_id_1         2.780609\n",
       "distance_1              2.632252\n",
       "x_position_diff         2.546340\n",
       "y_position_diff         2.474837\n",
       "m2_E_img_emb_4          2.358457\n",
       "S_top_1                 2.333171\n",
       "track_emb_1             2.240323\n",
       "jersey_number_2         1.924778\n",
       "m2_E_pred               1.516746\n",
       "m2_S_img_emb_4          1.425527\n",
       "nfl_player_id_2         1.405074\n",
       "orientation_diff        1.341512\n",
       "S_left_1                1.311051\n",
       "players_dis_rollsum     1.310254\n",
       "team_1                  1.306866"
      ]
     },
     "metadata": {},
     "output_type": "display_data"
    },
    {
     "name": "stdout",
     "output_type": "stream",
     "text": [
      "Performance of the prediction: 0.96728\n",
      "\n",
      "-\n",
      "fold 3\n"
     ]
    },
    {
     "data": {
      "text/plain": [
       "0    118010\n",
       "1     14260\n",
       "Name: contact, dtype: int64"
      ]
     },
     "metadata": {},
     "output_type": "display_data"
    },
    {
     "name": "stdout",
     "output_type": "stream",
     "text": [
      "0:\ttest: 0.8654110\tbest: 0.8654110 (0)\ttotal: 46.9ms\tremaining: 7m 48s\n",
      "100:\ttest: 0.9431858\tbest: 0.9432211 (99)\ttotal: 4.87s\tremaining: 7m 57s\n",
      "200:\ttest: 0.9507989\tbest: 0.9507989 (200)\ttotal: 10s\tremaining: 8m 7s\n",
      "300:\ttest: 0.9547721\tbest: 0.9547721 (300)\ttotal: 15.2s\tremaining: 8m 8s\n",
      "400:\ttest: 0.9567316\tbest: 0.9567316 (400)\ttotal: 20.1s\tremaining: 8m 1s\n",
      "500:\ttest: 0.9580960\tbest: 0.9580960 (500)\ttotal: 24.9s\tremaining: 7m 51s\n",
      "600:\ttest: 0.9590354\tbest: 0.9590354 (600)\ttotal: 29.7s\tremaining: 7m 44s\n",
      "700:\ttest: 0.9598235\tbest: 0.9598235 (700)\ttotal: 34.6s\tremaining: 7m 38s\n",
      "800:\ttest: 0.9603801\tbest: 0.9603801 (800)\ttotal: 39.4s\tremaining: 7m 32s\n",
      "900:\ttest: 0.9609157\tbest: 0.9609157 (900)\ttotal: 44.3s\tremaining: 7m 27s\n",
      "1000:\ttest: 0.9612714\tbest: 0.9612731 (999)\ttotal: 49.2s\tremaining: 7m 22s\n",
      "1100:\ttest: 0.9616729\tbest: 0.9616729 (1100)\ttotal: 54.1s\tremaining: 7m 17s\n",
      "1200:\ttest: 0.9619970\tbest: 0.9619970 (1200)\ttotal: 58.9s\tremaining: 7m 11s\n",
      "1300:\ttest: 0.9624153\tbest: 0.9624153 (1300)\ttotal: 1m 3s\tremaining: 7m 6s\n",
      "1400:\ttest: 0.9626493\tbest: 0.9626589 (1398)\ttotal: 1m 8s\tremaining: 7m 1s\n",
      "1500:\ttest: 0.9629548\tbest: 0.9629563 (1499)\ttotal: 1m 13s\tremaining: 6m 56s\n",
      "1600:\ttest: 0.9632232\tbest: 0.9632238 (1598)\ttotal: 1m 18s\tremaining: 6m 52s\n",
      "1700:\ttest: 0.9634753\tbest: 0.9634753 (1700)\ttotal: 1m 23s\tremaining: 6m 48s\n",
      "1800:\ttest: 0.9636526\tbest: 0.9636526 (1800)\ttotal: 1m 28s\tremaining: 6m 43s\n",
      "1900:\ttest: 0.9638651\tbest: 0.9638681 (1898)\ttotal: 1m 33s\tremaining: 6m 38s\n",
      "2000:\ttest: 0.9640323\tbest: 0.9640327 (1999)\ttotal: 1m 38s\tremaining: 6m 33s\n",
      "2100:\ttest: 0.9641770\tbest: 0.9641805 (2096)\ttotal: 1m 43s\tremaining: 6m 27s\n",
      "2200:\ttest: 0.9643125\tbest: 0.9643125 (2200)\ttotal: 1m 47s\tremaining: 6m 22s\n",
      "2300:\ttest: 0.9644475\tbest: 0.9644494 (2294)\ttotal: 1m 52s\tremaining: 6m 17s\n",
      "2400:\ttest: 0.9645253\tbest: 0.9645339 (2397)\ttotal: 1m 57s\tremaining: 6m 12s\n",
      "2500:\ttest: 0.9646694\tbest: 0.9646694 (2500)\ttotal: 2m 2s\tremaining: 6m 7s\n",
      "2600:\ttest: 0.9647770\tbest: 0.9647770 (2600)\ttotal: 2m 7s\tremaining: 6m 2s\n",
      "2700:\ttest: 0.9648716\tbest: 0.9648756 (2694)\ttotal: 2m 12s\tremaining: 5m 57s\n",
      "2800:\ttest: 0.9649340\tbest: 0.9649361 (2798)\ttotal: 2m 17s\tremaining: 5m 52s\n",
      "2900:\ttest: 0.9650016\tbest: 0.9650016 (2900)\ttotal: 2m 22s\tremaining: 5m 47s\n",
      "3000:\ttest: 0.9650941\tbest: 0.9650941 (3000)\ttotal: 2m 27s\tremaining: 5m 43s\n",
      "3100:\ttest: 0.9651576\tbest: 0.9651600 (3097)\ttotal: 2m 32s\tremaining: 5m 38s\n",
      "3200:\ttest: 0.9651965\tbest: 0.9651981 (3199)\ttotal: 2m 36s\tremaining: 5m 33s\n",
      "3300:\ttest: 0.9652600\tbest: 0.9652601 (3299)\ttotal: 2m 41s\tremaining: 5m 28s\n",
      "3400:\ttest: 0.9653243\tbest: 0.9653243 (3400)\ttotal: 2m 46s\tremaining: 5m 23s\n",
      "3500:\ttest: 0.9654083\tbest: 0.9654091 (3498)\ttotal: 2m 51s\tremaining: 5m 18s\n",
      "3600:\ttest: 0.9654422\tbest: 0.9654460 (3595)\ttotal: 2m 56s\tremaining: 5m 13s\n",
      "3700:\ttest: 0.9655208\tbest: 0.9655217 (3694)\ttotal: 3m 1s\tremaining: 5m 8s\n",
      "3800:\ttest: 0.9655703\tbest: 0.9655703 (3800)\ttotal: 3m 6s\tremaining: 5m 3s\n",
      "3900:\ttest: 0.9656400\tbest: 0.9656400 (3900)\ttotal: 3m 11s\tremaining: 4m 58s\n",
      "4000:\ttest: 0.9656898\tbest: 0.9656898 (4000)\ttotal: 3m 15s\tremaining: 4m 53s\n",
      "4100:\ttest: 0.9657490\tbest: 0.9657499 (4098)\ttotal: 3m 20s\tremaining: 4m 48s\n",
      "4200:\ttest: 0.9657947\tbest: 0.9657953 (4196)\ttotal: 3m 25s\tremaining: 4m 44s\n",
      "4300:\ttest: 0.9658286\tbest: 0.9658303 (4280)\ttotal: 3m 30s\tremaining: 4m 39s\n",
      "4400:\ttest: 0.9658473\tbest: 0.9658557 (4352)\ttotal: 3m 35s\tremaining: 4m 34s\n",
      "4500:\ttest: 0.9659003\tbest: 0.9659003 (4500)\ttotal: 3m 40s\tremaining: 4m 29s\n",
      "4600:\ttest: 0.9659481\tbest: 0.9659489 (4597)\ttotal: 3m 45s\tremaining: 4m 24s\n",
      "4700:\ttest: 0.9659542\tbest: 0.9659664 (4676)\ttotal: 3m 50s\tremaining: 4m 19s\n",
      "4800:\ttest: 0.9659870\tbest: 0.9659881 (4797)\ttotal: 3m 54s\tremaining: 4m 14s\n",
      "4900:\ttest: 0.9660041\tbest: 0.9660049 (4896)\ttotal: 3m 59s\tremaining: 4m 9s\n",
      "5000:\ttest: 0.9660320\tbest: 0.9660320 (5000)\ttotal: 4m 4s\tremaining: 4m 4s\n",
      "5100:\ttest: 0.9660306\tbest: 0.9660384 (5045)\ttotal: 4m 9s\tremaining: 3m 59s\n",
      "5200:\ttest: 0.9660314\tbest: 0.9660409 (5161)\ttotal: 4m 14s\tremaining: 3m 54s\n",
      "5300:\ttest: 0.9660599\tbest: 0.9660599 (5300)\ttotal: 4m 19s\tremaining: 3m 49s\n",
      "5400:\ttest: 0.9660951\tbest: 0.9660951 (5400)\ttotal: 4m 24s\tremaining: 3m 44s\n",
      "5500:\ttest: 0.9661241\tbest: 0.9661290 (5487)\ttotal: 4m 28s\tremaining: 3m 39s\n",
      "5600:\ttest: 0.9661531\tbest: 0.9661534 (5599)\ttotal: 4m 33s\tremaining: 3m 34s\n",
      "5700:\ttest: 0.9661770\tbest: 0.9661798 (5677)\ttotal: 4m 38s\tremaining: 3m 30s\n",
      "5800:\ttest: 0.9662048\tbest: 0.9662063 (5797)\ttotal: 4m 43s\tremaining: 3m 25s\n",
      "5900:\ttest: 0.9662462\tbest: 0.9662520 (5890)\ttotal: 4m 48s\tremaining: 3m 20s\n",
      "6000:\ttest: 0.9662629\tbest: 0.9662649 (5996)\ttotal: 4m 53s\tremaining: 3m 15s\n",
      "6100:\ttest: 0.9662993\tbest: 0.9662993 (6100)\ttotal: 4m 58s\tremaining: 3m 10s\n",
      "6200:\ttest: 0.9662975\tbest: 0.9663112 (6115)\ttotal: 5m 2s\tremaining: 3m 5s\n",
      "6300:\ttest: 0.9663188\tbest: 0.9663191 (6298)\ttotal: 5m 7s\tremaining: 3m\n",
      "6400:\ttest: 0.9663415\tbest: 0.9663415 (6400)\ttotal: 5m 12s\tremaining: 2m 55s\n",
      "6500:\ttest: 0.9663628\tbest: 0.9663629 (6499)\ttotal: 5m 17s\tremaining: 2m 50s\n",
      "6600:\ttest: 0.9663778\tbest: 0.9663838 (6571)\ttotal: 5m 22s\tremaining: 2m 45s\n",
      "6700:\ttest: 0.9663667\tbest: 0.9663838 (6571)\ttotal: 5m 27s\tremaining: 2m 41s\n",
      "Stopped by overfitting detector  (200 iterations wait)\n",
      "\n",
      "bestTest = 0.966383806\n",
      "bestIteration = 6571\n",
      "\n",
      "Shrink model to first 6572 iterations.\n"
     ]
    },
    {
     "data": {
      "text/html": [
       "<div>\n",
       "<style scoped>\n",
       "    .dataframe tbody tr th:only-of-type {\n",
       "        vertical-align: middle;\n",
       "    }\n",
       "\n",
       "    .dataframe tbody tr th {\n",
       "        vertical-align: top;\n",
       "    }\n",
       "\n",
       "    .dataframe thead th {\n",
       "        text-align: right;\n",
       "    }\n",
       "</style>\n",
       "<table border=\"1\" class=\"dataframe\">\n",
       "  <thead>\n",
       "    <tr style=\"text-align: right;\">\n",
       "      <th></th>\n",
       "      <th>importance</th>\n",
       "    </tr>\n",
       "  </thead>\n",
       "  <tbody>\n",
       "    <tr>\n",
       "      <th>step</th>\n",
       "      <td>10.535523</td>\n",
       "    </tr>\n",
       "    <tr>\n",
       "      <th>speed_1</th>\n",
       "      <td>5.185038</td>\n",
       "    </tr>\n",
       "    <tr>\n",
       "      <th>players_distance_sum</th>\n",
       "      <td>5.045507</td>\n",
       "    </tr>\n",
       "    <tr>\n",
       "      <th>track_emb_2</th>\n",
       "      <td>4.143115</td>\n",
       "    </tr>\n",
       "    <tr>\n",
       "      <th>y_position_diff</th>\n",
       "      <td>3.444028</td>\n",
       "    </tr>\n",
       "    <tr>\n",
       "      <th>jersey_number_1</th>\n",
       "      <td>2.948422</td>\n",
       "    </tr>\n",
       "    <tr>\n",
       "      <th>x_position_diff</th>\n",
       "      <td>2.919672</td>\n",
       "    </tr>\n",
       "    <tr>\n",
       "      <th>nfl_player_id_1</th>\n",
       "      <td>2.567739</td>\n",
       "    </tr>\n",
       "    <tr>\n",
       "      <th>distance_1</th>\n",
       "      <td>2.382834</td>\n",
       "    </tr>\n",
       "    <tr>\n",
       "      <th>S_top_1</th>\n",
       "      <td>2.314415</td>\n",
       "    </tr>\n",
       "    <tr>\n",
       "      <th>track_emb_1</th>\n",
       "      <td>2.150370</td>\n",
       "    </tr>\n",
       "    <tr>\n",
       "      <th>m2_S_img_emb_4</th>\n",
       "      <td>1.921745</td>\n",
       "    </tr>\n",
       "    <tr>\n",
       "      <th>m2_E_img_emb_4</th>\n",
       "      <td>1.752862</td>\n",
       "    </tr>\n",
       "    <tr>\n",
       "      <th>jersey_number_2</th>\n",
       "      <td>1.672003</td>\n",
       "    </tr>\n",
       "    <tr>\n",
       "      <th>orientation_diff</th>\n",
       "      <td>1.604084</td>\n",
       "    </tr>\n",
       "    <tr>\n",
       "      <th>team_1</th>\n",
       "      <td>1.510963</td>\n",
       "    </tr>\n",
       "    <tr>\n",
       "      <th>players_dis_rollsum</th>\n",
       "      <td>1.464209</td>\n",
       "    </tr>\n",
       "    <tr>\n",
       "      <th>team_2</th>\n",
       "      <td>1.436157</td>\n",
       "    </tr>\n",
       "    <tr>\n",
       "      <th>m0_E_pred</th>\n",
       "      <td>1.421567</td>\n",
       "    </tr>\n",
       "    <tr>\n",
       "      <th>S_helmet_dis</th>\n",
       "      <td>1.357106</td>\n",
       "    </tr>\n",
       "  </tbody>\n",
       "</table>\n",
       "</div>"
      ],
      "text/plain": [
       "                      importance\n",
       "step                   10.535523\n",
       "speed_1                 5.185038\n",
       "players_distance_sum    5.045507\n",
       "track_emb_2             4.143115\n",
       "y_position_diff         3.444028\n",
       "jersey_number_1         2.948422\n",
       "x_position_diff         2.919672\n",
       "nfl_player_id_1         2.567739\n",
       "distance_1              2.382834\n",
       "S_top_1                 2.314415\n",
       "track_emb_1             2.150370\n",
       "m2_S_img_emb_4          1.921745\n",
       "m2_E_img_emb_4          1.752862\n",
       "jersey_number_2         1.672003\n",
       "orientation_diff        1.604084\n",
       "team_1                  1.510963\n",
       "players_dis_rollsum     1.464209\n",
       "team_2                  1.436157\n",
       "m0_E_pred               1.421567\n",
       "S_helmet_dis            1.357106"
      ]
     },
     "metadata": {},
     "output_type": "display_data"
    },
    {
     "name": "stdout",
     "output_type": "stream",
     "text": [
      "Performance of the prediction: 0.96638\n",
      "\n",
      "-\n",
      "fold 4\n"
     ]
    },
    {
     "data": {
      "text/plain": [
       "0    120486\n",
       "1     11840\n",
       "Name: contact, dtype: int64"
      ]
     },
     "metadata": {},
     "output_type": "display_data"
    },
    {
     "name": "stdout",
     "output_type": "stream",
     "text": [
      "0:\ttest: 0.9062404\tbest: 0.9062404 (0)\ttotal: 52.5ms\tremaining: 8m 45s\n",
      "100:\ttest: 0.9576890\tbest: 0.9576989 (99)\ttotal: 4.91s\tremaining: 8m 1s\n",
      "200:\ttest: 0.9619422\tbest: 0.9619422 (200)\ttotal: 10.1s\tremaining: 8m 10s\n",
      "300:\ttest: 0.9641534\tbest: 0.9641534 (300)\ttotal: 15.1s\tremaining: 8m 8s\n",
      "400:\ttest: 0.9653940\tbest: 0.9653940 (400)\ttotal: 20s\tremaining: 7m 57s\n",
      "500:\ttest: 0.9661422\tbest: 0.9661422 (500)\ttotal: 24.8s\tremaining: 7m 49s\n",
      "600:\ttest: 0.9666262\tbest: 0.9666285 (599)\ttotal: 29.5s\tremaining: 7m 42s\n",
      "700:\ttest: 0.9670641\tbest: 0.9670643 (699)\ttotal: 34.4s\tremaining: 7m 36s\n",
      "800:\ttest: 0.9674155\tbest: 0.9674155 (800)\ttotal: 39.3s\tremaining: 7m 31s\n",
      "900:\ttest: 0.9677421\tbest: 0.9677421 (900)\ttotal: 44.3s\tremaining: 7m 27s\n",
      "1000:\ttest: 0.9680442\tbest: 0.9680442 (1000)\ttotal: 49.2s\tremaining: 7m 22s\n",
      "1100:\ttest: 0.9683540\tbest: 0.9683541 (1099)\ttotal: 54.3s\tremaining: 7m 18s\n",
      "1200:\ttest: 0.9687246\tbest: 0.9687246 (1200)\ttotal: 59.2s\tremaining: 7m 13s\n",
      "1300:\ttest: 0.9690568\tbest: 0.9690568 (1300)\ttotal: 1m 4s\tremaining: 7m 8s\n",
      "1400:\ttest: 0.9693373\tbest: 0.9693420 (1395)\ttotal: 1m 9s\tremaining: 7m 3s\n",
      "1500:\ttest: 0.9695206\tbest: 0.9695206 (1500)\ttotal: 1m 13s\tremaining: 6m 58s\n",
      "1600:\ttest: 0.9696483\tbest: 0.9696518 (1591)\ttotal: 1m 18s\tremaining: 6m 52s\n",
      "1700:\ttest: 0.9698293\tbest: 0.9698324 (1698)\ttotal: 1m 23s\tremaining: 6m 47s\n",
      "1800:\ttest: 0.9699859\tbest: 0.9699862 (1794)\ttotal: 1m 28s\tremaining: 6m 42s\n",
      "1900:\ttest: 0.9701769\tbest: 0.9701769 (1900)\ttotal: 1m 33s\tremaining: 6m 37s\n",
      "2000:\ttest: 0.9704070\tbest: 0.9704073 (1999)\ttotal: 1m 38s\tremaining: 6m 32s\n",
      "2100:\ttest: 0.9705718\tbest: 0.9705721 (2092)\ttotal: 1m 42s\tremaining: 6m 27s\n",
      "2200:\ttest: 0.9707142\tbest: 0.9707142 (2200)\ttotal: 1m 47s\tremaining: 6m 22s\n",
      "2300:\ttest: 0.9708159\tbest: 0.9708179 (2298)\ttotal: 1m 52s\tremaining: 6m 17s\n",
      "2400:\ttest: 0.9709134\tbest: 0.9709134 (2396)\ttotal: 1m 57s\tremaining: 6m 12s\n",
      "2500:\ttest: 0.9710172\tbest: 0.9710172 (2500)\ttotal: 2m 2s\tremaining: 6m 7s\n",
      "2600:\ttest: 0.9710880\tbest: 0.9710884 (2598)\ttotal: 2m 7s\tremaining: 6m 2s\n",
      "2700:\ttest: 0.9711895\tbest: 0.9711903 (2698)\ttotal: 2m 12s\tremaining: 5m 57s\n",
      "2800:\ttest: 0.9712258\tbest: 0.9712258 (2800)\ttotal: 2m 17s\tremaining: 5m 52s\n",
      "2900:\ttest: 0.9713137\tbest: 0.9713173 (2894)\ttotal: 2m 22s\tremaining: 5m 48s\n",
      "3000:\ttest: 0.9713666\tbest: 0.9713753 (2985)\ttotal: 2m 27s\tremaining: 5m 43s\n",
      "3100:\ttest: 0.9714302\tbest: 0.9714331 (3095)\ttotal: 2m 32s\tremaining: 5m 38s\n",
      "3200:\ttest: 0.9715113\tbest: 0.9715113 (3200)\ttotal: 2m 36s\tremaining: 5m 33s\n",
      "3300:\ttest: 0.9716002\tbest: 0.9716002 (3300)\ttotal: 2m 41s\tremaining: 5m 28s\n",
      "3400:\ttest: 0.9717114\tbest: 0.9717114 (3400)\ttotal: 2m 46s\tremaining: 5m 23s\n",
      "3500:\ttest: 0.9717827\tbest: 0.9717842 (3495)\ttotal: 2m 51s\tremaining: 5m 18s\n",
      "3600:\ttest: 0.9718560\tbest: 0.9718571 (3579)\ttotal: 2m 56s\tremaining: 5m 13s\n",
      "3700:\ttest: 0.9719077\tbest: 0.9719077 (3700)\ttotal: 3m 1s\tremaining: 5m 8s\n",
      "3800:\ttest: 0.9719387\tbest: 0.9719387 (3800)\ttotal: 3m 6s\tremaining: 5m 3s\n",
      "3900:\ttest: 0.9719990\tbest: 0.9719990 (3900)\ttotal: 3m 10s\tremaining: 4m 58s\n",
      "4000:\ttest: 0.9720349\tbest: 0.9720359 (3989)\ttotal: 3m 15s\tremaining: 4m 53s\n",
      "4100:\ttest: 0.9720878\tbest: 0.9720898 (4081)\ttotal: 3m 20s\tremaining: 4m 48s\n",
      "4200:\ttest: 0.9721253\tbest: 0.9721253 (4200)\ttotal: 3m 25s\tremaining: 4m 43s\n",
      "4300:\ttest: 0.9722020\tbest: 0.9722078 (4295)\ttotal: 3m 30s\tremaining: 4m 39s\n",
      "4400:\ttest: 0.9722831\tbest: 0.9722831 (4400)\ttotal: 3m 35s\tremaining: 4m 34s\n",
      "4500:\ttest: 0.9723181\tbest: 0.9723208 (4489)\ttotal: 3m 40s\tremaining: 4m 29s\n",
      "4600:\ttest: 0.9723518\tbest: 0.9723599 (4578)\ttotal: 3m 45s\tremaining: 4m 24s\n",
      "4700:\ttest: 0.9723866\tbest: 0.9723866 (4700)\ttotal: 3m 50s\tremaining: 4m 19s\n",
      "4800:\ttest: 0.9723962\tbest: 0.9724015 (4790)\ttotal: 3m 54s\tremaining: 4m 14s\n",
      "4900:\ttest: 0.9724181\tbest: 0.9724181 (4900)\ttotal: 3m 59s\tremaining: 4m 9s\n",
      "5000:\ttest: 0.9724532\tbest: 0.9724548 (4998)\ttotal: 4m 4s\tremaining: 4m 4s\n",
      "5100:\ttest: 0.9724580\tbest: 0.9724665 (5030)\ttotal: 4m 9s\tremaining: 3m 59s\n",
      "5200:\ttest: 0.9724712\tbest: 0.9724770 (5174)\ttotal: 4m 14s\tremaining: 3m 54s\n",
      "5300:\ttest: 0.9724799\tbest: 0.9724824 (5220)\ttotal: 4m 18s\tremaining: 3m 49s\n",
      "5400:\ttest: 0.9724994\tbest: 0.9725002 (5383)\ttotal: 4m 23s\tremaining: 3m 44s\n",
      "5500:\ttest: 0.9725072\tbest: 0.9725100 (5478)\ttotal: 4m 28s\tremaining: 3m 39s\n",
      "5600:\ttest: 0.9725269\tbest: 0.9725346 (5575)\ttotal: 4m 33s\tremaining: 3m 34s\n",
      "5700:\ttest: 0.9725404\tbest: 0.9725419 (5694)\ttotal: 4m 38s\tremaining: 3m 29s\n",
      "5800:\ttest: 0.9725393\tbest: 0.9725439 (5735)\ttotal: 4m 43s\tremaining: 3m 24s\n",
      "5900:\ttest: 0.9725711\tbest: 0.9725731 (5896)\ttotal: 4m 47s\tremaining: 3m 20s\n",
      "6000:\ttest: 0.9725755\tbest: 0.9725819 (5983)\ttotal: 4m 52s\tremaining: 3m 15s\n",
      "6100:\ttest: 0.9725997\tbest: 0.9726071 (6079)\ttotal: 4m 57s\tremaining: 3m 10s\n",
      "6200:\ttest: 0.9726053\tbest: 0.9726080 (6198)\ttotal: 5m 2s\tremaining: 3m 5s\n",
      "6300:\ttest: 0.9726293\tbest: 0.9726293 (6300)\ttotal: 5m 7s\tremaining: 3m\n",
      "6400:\ttest: 0.9726587\tbest: 0.9726611 (6397)\ttotal: 5m 12s\tremaining: 2m 55s\n",
      "6500:\ttest: 0.9726871\tbest: 0.9726902 (6487)\ttotal: 5m 17s\tremaining: 2m 50s\n",
      "6600:\ttest: 0.9726844\tbest: 0.9726947 (6581)\ttotal: 5m 22s\tremaining: 2m 45s\n",
      "6700:\ttest: 0.9726923\tbest: 0.9727012 (6689)\ttotal: 5m 27s\tremaining: 2m 41s\n",
      "6800:\ttest: 0.9727041\tbest: 0.9727041 (6800)\ttotal: 5m 31s\tremaining: 2m 36s\n",
      "6900:\ttest: 0.9727301\tbest: 0.9727304 (6897)\ttotal: 5m 36s\tremaining: 2m 31s\n",
      "7000:\ttest: 0.9727464\tbest: 0.9727465 (6998)\ttotal: 5m 41s\tremaining: 2m 26s\n",
      "7100:\ttest: 0.9727676\tbest: 0.9727676 (7100)\ttotal: 5m 46s\tremaining: 2m 21s\n",
      "7200:\ttest: 0.9727588\tbest: 0.9727683 (7101)\ttotal: 5m 51s\tremaining: 2m 16s\n",
      "7300:\ttest: 0.9727629\tbest: 0.9727692 (7255)\ttotal: 5m 56s\tremaining: 2m 11s\n",
      "7400:\ttest: 0.9727720\tbest: 0.9727742 (7396)\ttotal: 6m\tremaining: 2m 6s\n",
      "7500:\ttest: 0.9727684\tbest: 0.9727743 (7417)\ttotal: 6m 5s\tremaining: 2m 1s\n",
      "7600:\ttest: 0.9727600\tbest: 0.9727743 (7417)\ttotal: 6m 10s\tremaining: 1m 56s\n",
      "Stopped by overfitting detector  (200 iterations wait)\n",
      "\n",
      "bestTest = 0.9727743363\n",
      "bestIteration = 7417\n",
      "\n",
      "Shrink model to first 7418 iterations.\n"
     ]
    },
    {
     "data": {
      "text/html": [
       "<div>\n",
       "<style scoped>\n",
       "    .dataframe tbody tr th:only-of-type {\n",
       "        vertical-align: middle;\n",
       "    }\n",
       "\n",
       "    .dataframe tbody tr th {\n",
       "        vertical-align: top;\n",
       "    }\n",
       "\n",
       "    .dataframe thead th {\n",
       "        text-align: right;\n",
       "    }\n",
       "</style>\n",
       "<table border=\"1\" class=\"dataframe\">\n",
       "  <thead>\n",
       "    <tr style=\"text-align: right;\">\n",
       "      <th></th>\n",
       "      <th>importance</th>\n",
       "    </tr>\n",
       "  </thead>\n",
       "  <tbody>\n",
       "    <tr>\n",
       "      <th>step</th>\n",
       "      <td>9.678227</td>\n",
       "    </tr>\n",
       "    <tr>\n",
       "      <th>speed_1</th>\n",
       "      <td>5.545572</td>\n",
       "    </tr>\n",
       "    <tr>\n",
       "      <th>players_distance_sum</th>\n",
       "      <td>4.965374</td>\n",
       "    </tr>\n",
       "    <tr>\n",
       "      <th>jersey_number_1</th>\n",
       "      <td>3.644388</td>\n",
       "    </tr>\n",
       "    <tr>\n",
       "      <th>track_emb_2</th>\n",
       "      <td>3.488889</td>\n",
       "    </tr>\n",
       "    <tr>\n",
       "      <th>y_position_diff</th>\n",
       "      <td>2.727547</td>\n",
       "    </tr>\n",
       "    <tr>\n",
       "      <th>nfl_player_id_1</th>\n",
       "      <td>2.719009</td>\n",
       "    </tr>\n",
       "    <tr>\n",
       "      <th>x_position_diff</th>\n",
       "      <td>2.632204</td>\n",
       "    </tr>\n",
       "    <tr>\n",
       "      <th>distance_1</th>\n",
       "      <td>2.356417</td>\n",
       "    </tr>\n",
       "    <tr>\n",
       "      <th>m2_E_img_emb_4</th>\n",
       "      <td>2.322997</td>\n",
       "    </tr>\n",
       "    <tr>\n",
       "      <th>S_top_1</th>\n",
       "      <td>2.208253</td>\n",
       "    </tr>\n",
       "    <tr>\n",
       "      <th>track_emb_1</th>\n",
       "      <td>1.962862</td>\n",
       "    </tr>\n",
       "    <tr>\n",
       "      <th>m2_S_img_emb_4</th>\n",
       "      <td>1.851264</td>\n",
       "    </tr>\n",
       "    <tr>\n",
       "      <th>jersey_number_2</th>\n",
       "      <td>1.666189</td>\n",
       "    </tr>\n",
       "    <tr>\n",
       "      <th>players_dis_rollsum</th>\n",
       "      <td>1.623762</td>\n",
       "    </tr>\n",
       "    <tr>\n",
       "      <th>orientation_diff</th>\n",
       "      <td>1.460842</td>\n",
       "    </tr>\n",
       "    <tr>\n",
       "      <th>m2_E_pred</th>\n",
       "      <td>1.396237</td>\n",
       "    </tr>\n",
       "    <tr>\n",
       "      <th>m0_E_img_emb_4</th>\n",
       "      <td>1.384423</td>\n",
       "    </tr>\n",
       "    <tr>\n",
       "      <th>team_2</th>\n",
       "      <td>1.281687</td>\n",
       "    </tr>\n",
       "    <tr>\n",
       "      <th>m0_E_pred</th>\n",
       "      <td>1.273601</td>\n",
       "    </tr>\n",
       "  </tbody>\n",
       "</table>\n",
       "</div>"
      ],
      "text/plain": [
       "                      importance\n",
       "step                    9.678227\n",
       "speed_1                 5.545572\n",
       "players_distance_sum    4.965374\n",
       "jersey_number_1         3.644388\n",
       "track_emb_2             3.488889\n",
       "y_position_diff         2.727547\n",
       "nfl_player_id_1         2.719009\n",
       "x_position_diff         2.632204\n",
       "distance_1              2.356417\n",
       "m2_E_img_emb_4          2.322997\n",
       "S_top_1                 2.208253\n",
       "track_emb_1             1.962862\n",
       "m2_S_img_emb_4          1.851264\n",
       "jersey_number_2         1.666189\n",
       "players_dis_rollsum     1.623762\n",
       "orientation_diff        1.460842\n",
       "m2_E_pred               1.396237\n",
       "m0_E_img_emb_4          1.384423\n",
       "team_2                  1.281687\n",
       "m0_E_pred               1.273601"
      ]
     },
     "metadata": {},
     "output_type": "display_data"
    },
    {
     "name": "stdout",
     "output_type": "stream",
     "text": [
      "Performance of the prediction: 0.97277\n",
      "\n",
      "All Performance of the AUC:0.96863, MCC:0.70347\n"
     ]
    }
   ],
   "source": [
    "target_df = target_df.to_pandas()\n",
    "if CFG[\"DEBUG\"]:\n",
    "    target_df = target_df.sample(1000).reset_index(drop=True)\n",
    "oof_pred = fit_catboost(target_df, FEATURE_COLS)\n",
    "# oof_pred = fit_lgboost(target_df, FEATURE_COLS)\n",
    "# oof_pred = fit_xgboost(target_df, FEATURE_COLS)"
   ]
  },
  {
   "cell_type": "code",
   "execution_count": 28,
   "id": "28b47883",
   "metadata": {
    "execution": {
     "iopub.execute_input": "2023-02-27T11:35:55.233101Z",
     "iopub.status.busy": "2023-02-27T11:35:55.232742Z",
     "iopub.status.idle": "2023-02-27T11:35:55.495892Z",
     "shell.execute_reply": "2023-02-27T11:35:55.494991Z"
    },
    "papermill": {
     "duration": 0.295608,
     "end_time": "2023-02-27T11:35:55.498353",
     "exception": false,
     "start_time": "2023-02-27T11:35:55.202745",
     "status": "completed"
    },
    "tags": []
   },
   "outputs": [
    {
     "data": {
      "text/plain": [
       "<AxesSubplot:>"
      ]
     },
     "metadata": {},
     "output_type": "display_data"
    },
    {
     "data": {
      "image/png": "[encoded data removed]",
      "text/plain": [
       "<Figure size 432x288 with 1 Axes>"
      ]
     },
     "metadata": {
      "needs_background": "light"
     },
     "output_type": "display_data"
    }
   ],
   "source": [
    "target_df[\"pred\"] = oof_pred\n",
    "display(target_df[\"pred\"].hist(bins=20))"
   ]
  },
  {
   "cell_type": "code",
   "execution_count": 29,
   "id": "ab23fc51",
   "metadata": {
    "execution": {
     "iopub.execute_input": "2023-02-27T11:35:55.556946Z",
     "iopub.status.busy": "2023-02-27T11:35:55.556588Z",
     "iopub.status.idle": "2023-02-27T11:36:50.481501Z",
     "shell.execute_reply": "2023-02-27T11:36:50.480417Z"
    },
    "papermill": {
     "duration": 54.985678,
     "end_time": "2023-02-27T11:36:50.512893",
     "exception": false,
     "start_time": "2023-02-27T11:35:55.527215",
     "status": "completed"
    },
    "tags": []
   },
   "outputs": [
    {
     "name": "stdout",
     "output_type": "stream",
     "text": [
      "4721618\n",
      "score:0.72784, threshold:0.34053\n"
     ]
    }
   ],
   "source": [
    "train = pd.read_csv(CFG[\"TRAIN_LABEL_CSV\"])\n",
    "if CFG[\"DEBUG\"]:\n",
    "    train = train.sample(5000).reset_index(drop=True)\n",
    "\n",
    "train = pd.merge(train, target_df[[\"contact_id\", \"pred\"]], on=\"contact_id\", how=\"left\")\n",
    "train = train.fillna(0)\n",
    "print(len(train))\n",
    "\n",
    "def func(x_list):\n",
    "    score = matthews_corrcoef(train['contact'], train[\"pred\"]>x_list[0])\n",
    "    return -score\n",
    "x0 = [0.5]\n",
    "result = minimize(func, x0,  method=\"nelder-mead\")\n",
    "opt_threshold = result.x[0]\n",
    "score = round(matthews_corrcoef(train['contact'], train[\"pred\"]>opt_threshold), 5)\n",
    "threshold = round(opt_threshold, 5)\n",
    "print(f\"score:{score}, threshold:{threshold}\")"
   ]
  },
  {
   "cell_type": "markdown",
   "id": "ae8b8a75",
   "metadata": {
    "papermill": {
     "duration": 0.028495,
     "end_time": "2023-02-27T11:36:50.570059",
     "exception": false,
     "start_time": "2023-02-27T11:36:50.541564",
     "status": "completed"
    },
    "tags": []
   },
   "source": [
    "## post proc"
   ]
  },
  {
   "cell_type": "code",
   "execution_count": 30,
   "id": "1369f37b",
   "metadata": {
    "execution": {
     "iopub.execute_input": "2023-02-27T11:36:50.629930Z",
     "iopub.status.busy": "2023-02-27T11:36:50.628099Z",
     "iopub.status.idle": "2023-02-27T11:43:26.705958Z",
     "shell.execute_reply": "2023-02-27T11:43:26.701396Z"
    },
    "papermill": {
     "duration": 396.139749,
     "end_time": "2023-02-27T11:43:26.738258",
     "exception": false,
     "start_time": "2023-02-27T11:36:50.598509",
     "status": "completed"
    },
    "tags": []
   },
   "outputs": [
    {
     "name": "stdout",
     "output_type": "stream",
     "text": [
      "4721618\n",
      "score:0.72784, threshold:0.34053\n",
      "window size = 3, score:0.73718, threshold:0.34727\n",
      "window size = 5, score:0.7395, threshold:0.32354\n",
      "window size = 7, score:0.73943, threshold:0.32588\n",
      "window size = 9, score:0.73687, threshold:0.3373\n",
      "window size = 11, score:0.73427, threshold:0.3375\n",
      "window size = 13, score:0.73026, threshold:0.329\n",
      "BEST SCORE => window size:5, score:0.7395, threshold:0.32354 \n"
     ]
    }
   ],
   "source": [
    "train = pd.read_csv(CFG[\"TRAIN_LABEL_CSV\"])\n",
    "# train = train[train[\"game_play\"].isin(train_game_play)]\n",
    "print(len(train))\n",
    "\n",
    "# scoring post process\n",
    "print(f\"score:{score}, threshold:{threshold}\")\n",
    "output_threshold =threshold\n",
    "best_score = score\n",
    "best_threshold = threshold\n",
    "best_window = 1\n",
    "\n",
    "for window_size in [3, 5, 7, 9, 11, 13]:\n",
    "    print(f\"window size = {window_size}\", end=\", \")\n",
    "    proc_sub = post_proc_roll(train, target_df, window_size)\n",
    "    def func(x_list):\n",
    "        score = matthews_corrcoef(proc_sub['contact'], proc_sub[\"proc_pred\"]>x_list[0])\n",
    "        return -score\n",
    "    x0 = [0.5]\n",
    "    result = minimize(func, x0,  method=\"nelder-mead\")\n",
    "    opt_threshold = result.x[0]\n",
    "    score = round(matthews_corrcoef(proc_sub['contact'], proc_sub[\"proc_pred\"]>opt_threshold), 5)\n",
    "    threshold = round(opt_threshold, 5)\n",
    "    print(f\"score:{score}, threshold:{threshold}\")\n",
    "    if score > best_score:\n",
    "        best_score = score\n",
    "        best_threshold = threshold\n",
    "        best_window = window_size\n",
    "print(f\"BEST SCORE => window size:{best_window}, score:{best_score}, threshold:{best_threshold} \")"
   ]
  },
  {
   "cell_type": "code",
   "execution_count": 31,
   "id": "f891c381",
   "metadata": {
    "execution": {
     "iopub.execute_input": "2023-02-27T11:43:26.799459Z",
     "iopub.status.busy": "2023-02-27T11:43:26.799057Z",
     "iopub.status.idle": "2023-02-27T11:43:26.890987Z",
     "shell.execute_reply": "2023-02-27T11:43:26.889803Z"
    },
    "papermill": {
     "duration": 0.124561,
     "end_time": "2023-02-27T11:43:26.893258",
     "exception": false,
     "start_time": "2023-02-27T11:43:26.768697",
     "status": "completed"
    },
    "tags": []
   },
   "outputs": [
    {
     "name": "stdout",
     "output_type": "stream",
     "text": [
      "156\n",
      "['nfl_player_id_1', 'nfl_player_id_2', 'step', 'x_position_1', 'y_position_1', 'speed_1', 'distance_1', 'direction_1', 'orientation_1', 'acceleration_1', 'sa_1', 'team_1', 'jersey_number_1', 'is_lineman_1', 'x_position_shift-6_1', 'x_position_shift-5_1', 'x_position_shift-4_1', 'x_position_shift-3_1', 'x_position_shift-2_1', 'x_position_shift-1_1', 'x_position_shift0_1', 'x_position_shift1_1', 'x_position_shift2_1', 'x_position_shift3_1', 'x_position_shift4_1', 'x_position_shift5_1', 'y_position_shift-6_1', 'y_position_shift-5_1', 'y_position_shift-4_1', 'y_position_shift-3_1', 'y_position_shift-2_1', 'y_position_shift-1_1', 'y_position_shift0_1', 'y_position_shift1_1', 'y_position_shift2_1', 'y_position_shift3_1', 'y_position_shift4_1', 'y_position_shift5_1', 'x_position_2', 'y_position_2', 'speed_2', 'distance_2', 'direction_2', 'orientation_2', 'acceleration_2', 'sa_2', 'team_2', 'jersey_number_2', 'is_lineman_2', 'x_position_shift-6_2', 'x_position_shift-5_2', 'x_position_shift-4_2', 'x_position_shift-3_2', 'x_position_shift-2_2', 'x_position_shift-1_2', 'x_position_shift0_2', 'x_position_shift1_2', 'x_position_shift2_2', 'x_position_shift3_2', 'x_position_shift4_2', 'x_position_shift5_2', 'y_position_shift-6_2', 'y_position_shift-5_2', 'y_position_shift-4_2', 'y_position_shift-3_2', 'y_position_shift-2_2', 'y_position_shift-1_2', 'y_position_shift0_2', 'y_position_shift1_2', 'y_position_shift2_2', 'y_position_shift3_2', 'y_position_shift4_2', 'y_position_shift5_2', 'players_distance_sum', 'x_move_distance_1', 'x_move_distance_2', 'y_move_distance_1', 'y_move_distance_2', 'x_position_diff', 'y_position_diff', 'speed_diff', 'distance_diff', 'direction_diff', 'orientation_diff', 'acceleration_diff', 'sa_diff', 'players_dis_rollsum', 'x_position_diff_rollsum', 'y_position_diff_rollsum', 'speed_diff_rollsum', 'distance_diff_rollsum', 'direction_diff_rollsum', 'orientation_diff_rollsum', 'acceleration_diff_rollsum', 'sa_diff_rollsum', 'E_left_1', 'E_width_1', 'E_top_1', 'E_height_1', 'E_left_2', 'E_width_2', 'E_top_2', 'E_height_2', 'S_left_1', 'S_width_1', 'S_top_1', 'S_height_1', 'S_left_2', 'S_width_2', 'S_top_2', 'S_height_2', 'E_helmet_dis', 'S_helmet_dis', 'is_ground', 'is_E_helmet', 'is_S_helmet', 'both_helmet', 'm0_E_img_emb_0', 'm0_E_img_emb_1', 'm0_E_img_emb_2', 'm0_E_img_emb_3', 'm0_E_img_emb_4', 'm0_E_pred', 'm0_S_img_emb_0', 'm0_S_img_emb_1', 'm0_S_img_emb_2', 'm0_S_img_emb_3', 'm0_S_img_emb_4', 'm0_S_pred', 'm1_E_img_emb_0', 'm1_E_img_emb_1', 'm1_E_img_emb_2', 'm1_E_img_emb_3', 'm1_E_img_emb_4', 'm1_E_pred', 'm1_S_img_emb_0', 'm1_S_img_emb_1', 'm1_S_img_emb_2', 'm1_S_img_emb_3', 'm1_S_img_emb_4', 'm1_S_pred', 'm2_E_img_emb_0', 'm2_E_img_emb_1', 'm2_E_img_emb_2', 'm2_E_img_emb_3', 'm2_E_img_emb_4', 'm2_E_pred', 'm2_S_img_emb_0', 'm2_S_img_emb_1', 'm2_S_img_emb_2', 'm2_S_img_emb_3', 'm2_S_img_emb_4', 'm2_S_pred', 'track_emb_0', 'track_emb_1', 'track_emb_2']\n"
     ]
    }
   ],
   "source": [
    "print(len(FEATURE_COLS))\n",
    "print(FEATURE_COLS)\n",
    "del train"
   ]
  },
  {
   "cell_type": "code",
   "execution_count": 32,
   "id": "7b6e0a05",
   "metadata": {
    "execution": {
     "iopub.execute_input": "2023-02-27T11:43:26.951913Z",
     "iopub.status.busy": "2023-02-27T11:43:26.950996Z",
     "iopub.status.idle": "2023-02-27T11:43:26.966655Z",
     "shell.execute_reply": "2023-02-27T11:43:26.965783Z"
    },
    "papermill": {
     "duration": 0.04668,
     "end_time": "2023-02-27T11:43:26.968748",
     "exception": false,
     "start_time": "2023-02-27T11:43:26.922068",
     "status": "completed"
    },
    "tags": []
   },
   "outputs": [],
   "source": [
    "CFG[\"features\"] = FEATURE_COLS\n",
    "CFG[\"PRED_THR\"] = output_threshold\n",
    "CFG[\"PROC_PRED_THR\"] = best_threshold\n",
    "CFG[\"proc_window_size\"] = best_window\n",
    "\n",
    "import yaml\n",
    "\n",
    "cofig_yaml = os.path.join(CFG[\"EXP_DIR\"], \"Config.yaml\")\n",
    "with open(cofig_yaml, \"w\") as f:\n",
    "    yaml.dump(CFG, f)"
   ]
  },
  {
   "cell_type": "code",
   "execution_count": null,
   "id": "cd97c854",
   "metadata": {
    "papermill": {
     "duration": 0.04158,
     "end_time": "2023-02-27T11:43:27.043995",
     "exception": false,
     "start_time": "2023-02-27T11:43:27.002415",
     "status": "completed"
    },
    "tags": []
   },
   "outputs": [],
   "source": []
  },
  {
   "cell_type": "code",
   "execution_count": null,
   "id": "59d850ec",
   "metadata": {
    "papermill": {
     "duration": 0.028904,
     "end_time": "2023-02-27T11:43:27.101254",
     "exception": false,
     "start_time": "2023-02-27T11:43:27.072350",
     "status": "completed"
    },
    "tags": []
   },
   "outputs": [],
   "source": []
  }
 ],
 "metadata": {
  "kernelspec": {
   "display_name": "base",
   "language": "python",
   "name": "python3"
  },
  "language_info": {
   "codemirror_mode": {
    "name": "ipython",
    "version": 3
   },
   "file_extension": ".py",
   "mimetype": "text/x-python",
   "name": "python",
   "nbconvert_exporter": "python",
   "pygments_lexer": "ipython3",
   "version": "3.7.12"
  },
  "papermill": {
   "default_parameters": {},
   "duration": 16016.888521,
   "end_time": "2023-02-27T11:43:28.881260",
   "environment_variables": {},
   "exception": null,
   "input_path": "__notebook__.ipynb",
   "output_path": "__notebook__.ipynb",
   "parameters": {},
   "start_time": "2023-02-27T07:16:31.992739",
   "version": "2.3.4"
  },
  "vscode": {
   "interpreter": {
    "hash": "d4d1e4263499bec80672ea0156c357c1ee493ec2b1c70f0acce89fc37c4a6abe"
   }
  }
 },
 "nbformat": 4,
 "nbformat_minor": 5
}
