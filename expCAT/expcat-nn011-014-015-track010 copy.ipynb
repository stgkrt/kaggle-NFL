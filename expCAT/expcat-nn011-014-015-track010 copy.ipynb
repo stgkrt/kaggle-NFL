{
 "cells": [
  {
   "cell_type": "markdown",
   "id": "fc642bc2",
   "metadata": {
    "papermill": {
     "duration": 0.011005,
     "end_time": "2023-02-27T07:16:39.639827",
     "exception": false,
     "start_time": "2023-02-27T07:16:39.628822",
     "status": "completed"
    },
    "tags": []
   },
   "source": [
    "## Try Polars\n",
    "This notebook is just for learning polars"
   ]
  },
  {
   "cell_type": "markdown",
   "id": "7df37548",
   "metadata": {
    "papermill": {
     "duration": 0.010209,
     "end_time": "2023-02-27T07:17:11.214148",
     "exception": false,
     "start_time": "2023-02-27T07:17:11.203939",
     "status": "completed"
    },
    "tags": []
   },
   "source": [
    "# import libraries"
   ]
  },
  {
   "cell_type": "code",
   "execution_count": null,
   "id": "0bf33d1e",
   "metadata": {
    "_cell_guid": "b1076dfc-b9ad-4769-8c92-a6c4dae69d19",
    "_uuid": "8f2839f25d086af736a60e9eeb907d3b93b6e0e5",
    "execution": {
     "iopub.execute_input": "2023-02-27T07:17:11.233271Z",
     "iopub.status.busy": "2023-02-27T07:17:11.232949Z",
     "iopub.status.idle": "2023-02-27T07:17:14.571969Z",
     "shell.execute_reply": "2023-02-27T07:17:14.571182Z"
    },
    "papermill": {
     "duration": 3.352481,
     "end_time": "2023-02-27T07:17:14.575478",
     "exception": false,
     "start_time": "2023-02-27T07:17:11.222997",
     "status": "completed"
    },
    "tags": []
   },
   "outputs": [],
   "source": [
    "import os\n",
    "import gc\n",
    "import pickle\n",
    "import glob\n",
    "import random\n",
    "import numpy as np\n",
    "import pandas as pd\n",
    "from tqdm.notebook import tqdm\n",
    "import cv2\n",
    "import matplotlib.pyplot as plt\n",
    "import time\n",
    "import math\n",
    "import sys\n",
    "\n",
    "import polars as pl\n",
    "\n",
    "import lightgbm as lgb\n",
    "from lightgbm import LGBMClassifier, early_stopping, log_evaluation\n",
    "from catboost import CatBoostClassifier, Pool\n",
    "\n",
    "import xgboost as xgb\n",
    "import torch\n",
    "import cupy \n",
    "import cudf\n",
    "from cuml import ForestInference\n",
    "\n",
    "from sklearn.metrics import matthews_corrcoef, confusion_matrix, roc_auc_score\n",
    "from sklearn.model_selection import GroupKFold\n",
    "from scipy.optimize import minimize\n",
    "\n",
    "import warnings\n",
    "warnings.filterwarnings(\"ignore\")"
   ]
  },
  {
   "cell_type": "markdown",
   "id": "094f7993",
   "metadata": {
    "papermill": {
     "duration": 0.016363,
     "end_time": "2023-02-27T07:17:14.617541",
     "exception": false,
     "start_time": "2023-02-27T07:17:14.601178",
     "status": "completed"
    },
    "tags": []
   },
   "source": [
    "# Set Configurations"
   ]
  },
  {
   "cell_type": "code",
   "execution_count": null,
   "id": "9331afa1",
   "metadata": {
    "execution": {
     "iopub.execute_input": "2023-02-27T07:17:14.648500Z",
     "iopub.status.busy": "2023-02-27T07:17:14.648170Z",
     "iopub.status.idle": "2023-02-27T07:17:14.665704Z",
     "shell.execute_reply": "2023-02-27T07:17:14.664644Z"
    },
    "papermill": {
     "duration": 0.035881,
     "end_time": "2023-02-27T07:17:14.667738",
     "exception": false,
     "start_time": "2023-02-27T07:17:14.631857",
     "status": "completed"
    },
    "tags": []
   },
   "outputs": [],
   "source": [
    "CFG = {\n",
    "    \"DEBUG\" : False,\n",
    "    \"EXP_NAME\" : \"expCAT003\",\n",
    "    \"n_folds\" : 5,\n",
    "    \"train_folds\" : [0,1,2,3,4],\n",
    "    \n",
    "}\n",
    "\n",
    "CFG[\"cat_params\"] = {\n",
    "            'iterations': 10000,\n",
    "            'learning_rate' : 0.01,\n",
    "            'loss_function' : 'Logloss',\n",
    "            'eval_metric' : 'AUC',\n",
    "            'verbose' : 200,\n",
    "            'random_seed' : 42,\n",
    "            'use_best_model': True,\n",
    "}\n",
    "\n",
    "\n",
    "CFG[\"lgb_params\"] = { 'boosting_type' :'dart',\n",
    "                      'objective': 'binary',\n",
    "                      'random_state': 21,\n",
    "                      'learning_rate': 0.01,\n",
    "                      'n_estimators':5000,\n",
    "                      }\n",
    "\n",
    "# CFG[\"xgb_params\"] =  {\n",
    "#                         'objective': 'binary:logistic',\n",
    "#                         'eval_metric': 'auc',\n",
    "#                         'learning_rate':0.01,\n",
    "#                         'tree_method':'hist' if not torch.cuda.is_available() else 'gpu_hist',\n",
    "#                         'seed': 42,\n",
    "#                     }\n",
    "\n",
    "if CFG[\"DEBUG\"]:\n",
    "    CFG[\"EXP_CATEGORY\"] = \"DEBUG\"\n",
    "    CFG[\"sample_num\"] = 1000\n",
    "\n",
    "CFG[\"INPUT_DIR\"] = \"/workspace/input\"\n",
    "CFG[\"OUTPUT_DIR\"] = \"/workspace/output\"\n",
    "CFG[\"BASE_DIR\"] = os.path.join(CFG[\"INPUT_DIR\"])\n",
    "CFG[\"TRAIN_HELMET_CSV\"] = os.path.join(CFG[\"BASE_DIR\"], \"train_baseline_helmets.csv\")\n",
    "CFG[\"TRAIN_TRACKING_CSV\"] = os.path.join(CFG[\"BASE_DIR\"], \"train_player_tracking.csv\")\n",
    "CFG[\"TRAIN_VIDEO_META_CSV\"] = os.path.join(CFG[\"BASE_DIR\"], \"train_video_metadata.csv\")\n",
    "CFG[\"TRAIN_LABEL_CSV\"] = os.path.join(CFG[\"BASE_DIR\"], \"train_labels.csv\")\n",
    "\n",
    "CFG[\"NN_FEATURE_CSV_1\"] = os.path.join(CFG[\"OUTPUT_DIR\"], \"expP011_PandG_bothview_swins3base224\", \"oof_df.csv\")\n",
    "CFG[\"NN_FEATURE_CSV_2\"] = os.path.join(CFG[\"OUTPUT_DIR\"], \"expP014_PandG_nomask_swins3base224\", \"oof_df.csv\")\n",
    "CFG[\"NN_FEATURE_CSV_3\"] = os.path.join(CFG[\"OUTPUT_DIR\"], \"expP015_PandG_nomaskzoom_swins3base224\", \"oof_df.csv\")\n",
    "\n",
    "CFG[\"TRACK_FEATURE_CSV\"] = os.path.join(CFG[\"OUTPUT_DIR\"], \"expT011_Trackshift1D\", \"oof_df.csv\")\n",
    "\n",
    "CFG[\"TEST_HELMET_CSV\"] = os.path.join(CFG[\"BASE_DIR\"], \"test_baseline_helmets.csv\")\n",
    "CFG[\"TEST_TRACKING_CSV\"] = os.path.join(CFG[\"BASE_DIR\"], \"test_player_tracking.csv\")\n",
    "CFG[\"TEST_VIDEO_META_CSV\"] = os.path.join(CFG[\"BASE_DIR\"], \"test_video_metadata.csv\")\n",
    "CFG[\"TEST_LABEL_CSV\"] = os.path.join(CFG[\"BASE_DIR\"], \"sample_submission.csv\")\n",
    "\n",
    "\n",
    "CFG[\"EXP_DIR\"] = os.path.join(CFG[\"OUTPUT_DIR\"], CFG[\"EXP_NAME\"])\n",
    "if not CFG[\"DEBUG\"]:\n",
    "    os.mkdir(CFG[\"EXP_DIR\"])"
   ]
  },
  {
   "cell_type": "markdown",
   "id": "2ed4f4b4",
   "metadata": {
    "papermill": {
     "duration": 0.009013,
     "end_time": "2023-02-27T07:17:15.736708",
     "exception": false,
     "start_time": "2023-02-27T07:17:15.727695",
     "status": "completed"
    },
    "tags": []
   },
   "source": [
    "# MODEL Functions"
   ]
  },
  {
   "cell_type": "code",
   "execution_count": null,
   "id": "ae0cf124",
   "metadata": {
    "execution": {
     "iopub.execute_input": "2023-02-27T07:17:15.756496Z",
     "iopub.status.busy": "2023-02-27T07:17:15.756153Z",
     "iopub.status.idle": "2023-02-27T07:17:15.769620Z",
     "shell.execute_reply": "2023-02-27T07:17:15.768661Z"
    },
    "papermill": {
     "duration": 0.025744,
     "end_time": "2023-02-27T07:17:15.771549",
     "exception": false,
     "start_time": "2023-02-27T07:17:15.745805",
     "status": "completed"
    },
    "tags": []
   },
   "outputs": [],
   "source": [
    "def fit_lgboost(df_, feature_cols_):\n",
    "    kf = GroupKFold(n_splits=CFG[\"n_folds\"])\n",
    "    X = df_[feature_cols_]\n",
    "    y = df_[\"contact\"]\n",
    "    oof_pred = np.zeros(len(y), dtype=np.float32)\n",
    "    generator = kf.split(X, y, df_[\"game_play\"])\n",
    "    for fold, (idx_train, idx_valid) in enumerate(generator):\n",
    "        print(\"-\")\n",
    "        print(f\"fold {fold}\")\n",
    "        x_train, y_train = X.iloc[idx_train], y.iloc[idx_train]\n",
    "        x_valid, y_valid = X.iloc[idx_valid], y.iloc[idx_valid]\n",
    "        display(pd.Series(y_valid).value_counts())\n",
    "\n",
    "        params = CFG[\"lgb_params\"]\n",
    "        model = LGBMClassifier(**params).fit(x_train, y_train, \n",
    "                                   eval_set=[(x_train, y_train), (x_valid, y_valid)],\n",
    "                                   callbacks=[early_stopping(200), log_evaluation(100)],\n",
    "                                   eval_metric=['auc'],)\n",
    "\n",
    "        model_path = os.path.join(CFG[\"EXP_DIR\"], f'lgb_fold{fold}.model')\n",
    "        pickle.dump(model, open(model_path, 'wb'))\n",
    "        importance = pd.DataFrame(model.feature_importances_, index=X.columns, columns=['importance'])\n",
    "        display(importance.sort_values(\"importance\", ascending=False).head(20))\n",
    "\n",
    "        pred_i = model.predict_proba(x_valid)[:, 1]\n",
    "        oof_pred[x_valid.index] = pred_i\n",
    "        score = round(roc_auc_score(y_valid, pred_i), 5)\n",
    "        print(f'Performance of the prediction: {score}\\n')\n",
    "        del model; gc.collect()\n",
    "\n",
    "    oof_pred_file = os.path.join(CFG[\"EXP_DIR\"], 'oof_pred')\n",
    "    df_[\"pred\"] = oof_pred\n",
    "    np.save(oof_pred_file, oof_pred)\n",
    "    auc = round(roc_auc_score(y, oof_pred), 5)\n",
    "    \n",
    "    def func(x_list):\n",
    "        score = matthews_corrcoef(df_['contact'], df_[\"pred\"]>x_list[0])\n",
    "        return -score\n",
    "    x0 = [0.5]\n",
    "    result = minimize(func, x0,  method=\"nelder-mead\")\n",
    "    opt_threshold = result.x[0]\n",
    "    score = round(matthews_corrcoef(df_['contact'], df_[\"pred\"]>opt_threshold), 5)\n",
    "    \n",
    "    print(f'All Performance of the AUC:{auc}, MCC:{score}')\n",
    "    return oof_pred\n"
   ]
  },
  {
   "cell_type": "code",
   "execution_count": null,
   "id": "e1ff8e43",
   "metadata": {
    "execution": {
     "iopub.execute_input": "2023-02-27T07:17:15.791176Z",
     "iopub.status.busy": "2023-02-27T07:17:15.790910Z",
     "iopub.status.idle": "2023-02-27T07:17:15.802359Z",
     "shell.execute_reply": "2023-02-27T07:17:15.801383Z"
    },
    "papermill": {
     "duration": 0.023703,
     "end_time": "2023-02-27T07:17:15.804355",
     "exception": false,
     "start_time": "2023-02-27T07:17:15.780652",
     "status": "completed"
    },
    "tags": []
   },
   "outputs": [],
   "source": [
    "def fit_catboost(df_, feature_cols_):\n",
    "    kf = GroupKFold(n_splits=CFG[\"n_folds\"])\n",
    "    X = df_[feature_cols_]\n",
    "    y = df_[\"contact\"]\n",
    "    oof_pred = np.zeros(len(y), dtype=np.float32)\n",
    "    generator = kf.split(X, y, df_[\"game_play\"])\n",
    "    for fold, (idx_train, idx_valid) in enumerate(generator):\n",
    "        print(\"-\")\n",
    "        print(f\"fold {fold}\")\n",
    "        x_train, y_train = X.iloc[idx_train], y.iloc[idx_train]\n",
    "        x_valid, y_valid = X.iloc[idx_valid], y.iloc[idx_valid]\n",
    "        display(pd.Series(y_valid).value_counts())\n",
    "\n",
    "        params = CFG[\"cat_params\"]\n",
    "        model =  CatBoostClassifier(**params)\n",
    "        model.fit(x_train, y_train, eval_set=[(x_valid, y_valid)], verbose=100, early_stopping_rounds=200)\n",
    "        model_path = os.path.join(CFG[\"EXP_DIR\"], f'cat_fold{fold}.model')\n",
    "        pickle.dump(model, open(model_path, 'wb'))\n",
    "        importance = pd.DataFrame(model.feature_importances_, index=X.columns, columns=['importance'])\n",
    "        display(importance.sort_values(\"importance\", ascending=False).head(20))\n",
    "\n",
    "        pred_i = model.predict_proba(x_valid)[:, 1]\n",
    "        oof_pred[x_valid.index] = pred_i\n",
    "        score = round(roc_auc_score(y_valid, pred_i), 5)\n",
    "        print(f'Performance of the prediction: {score}\\n')\n",
    "        del model; gc.collect()\n",
    "    \n",
    "    oof_pred_file = os.path.join(CFG[\"EXP_DIR\"], 'oof_pred')\n",
    "    df_[\"pred\"] = oof_pred\n",
    "    np.save(oof_pred_file, oof_pred)\n",
    "    auc = round(roc_auc_score(y, oof_pred), 5)\n",
    "    \n",
    "    def func(x_list):\n",
    "        score = matthews_corrcoef(df_['contact'], df_[\"pred\"]>x_list[0])\n",
    "        return -score\n",
    "    x0 = [0.5]\n",
    "    result = minimize(func, x0,  method=\"nelder-mead\")\n",
    "    opt_threshold = result.x[0]\n",
    "    score = round(matthews_corrcoef(df_['contact'], df_[\"pred\"]>opt_threshold), 5)\n",
    "    \n",
    "    print(f'All Performance of the AUC:{auc}, MCC:{score}')\n",
    "    return oof_pred"
   ]
  },
  {
   "cell_type": "code",
   "execution_count": null,
   "id": "b27173df",
   "metadata": {
    "execution": {
     "iopub.execute_input": "2023-02-27T07:17:15.824029Z",
     "iopub.status.busy": "2023-02-27T07:17:15.823500Z",
     "iopub.status.idle": "2023-02-27T07:17:15.836942Z",
     "shell.execute_reply": "2023-02-27T07:17:15.835982Z"
    },
    "papermill": {
     "duration": 0.025574,
     "end_time": "2023-02-27T07:17:15.838948",
     "exception": false,
     "start_time": "2023-02-27T07:17:15.813374",
     "status": "completed"
    },
    "tags": []
   },
   "outputs": [],
   "source": [
    "def fit_xgboost(df_, feature_cols_):\n",
    "    kf = GroupKFold(n_splits=CFG[\"n_folds\"])\n",
    "    X = df_[feature_cols_]\n",
    "    y = df_[\"contact\"]\n",
    "    oof_pred = np.zeros(len(y), dtype=np.float32)\n",
    "    generator = kf.split(X, y, df_[\"game_play\"])\n",
    "    for fold, (idx_train, idx_valid) in enumerate(generator):\n",
    "        print(\"-\")\n",
    "        print(f\"fold {fold}\")\n",
    "        # set dataset\n",
    "        x_train, y_train = X.iloc[idx_train], y.iloc[idx_train]\n",
    "        x_valid, y_valid = X.iloc[idx_valid], y.iloc[idx_valid]\n",
    "        display(pd.Series(y_valid).value_counts())\n",
    "        xgb_train = xgb.DMatrix(x_train, label=y_train)\n",
    "        xgb_valid = xgb.DMatrix(x_valid, label=y_valid)\n",
    "        evals = [(xgb_train,'train'),(xgb_valid,'eval')]\n",
    "        # fit\n",
    "        params = CFG[\"xgb_params\"]\n",
    "        model = xgb.train(\n",
    "            params,\n",
    "            xgb_train,\n",
    "            num_boost_round=10_000,\n",
    "            early_stopping_rounds=200,\n",
    "            evals=evals,\n",
    "            verbose_eval=100,\n",
    "        )\n",
    "\n",
    "        model_path = os.path.join(CFG[\"EXP_DIR\"], f'xgb_fold{fold}.model')\n",
    "        model.save_model(model_path)\n",
    "        _, ax = plt.subplots(figsize=(20, 16))\n",
    "        xgb.plot_importance(model,\n",
    "                            ax=ax,\n",
    "                            importance_type='gain',\n",
    "                            show_values=False)\n",
    "        plt.show()\n",
    "\n",
    "        if not torch.cuda.is_available():\n",
    "            model = xgb.Booster().load_model(model_path)\n",
    "        else:\n",
    "            model = ForestInference.load(model_path, output_class=True, model_type='xgboost')\n",
    "        \n",
    "        pred_i = model.predict_proba(x_valid)[:, 1]\n",
    "        oof_pred[x_valid.index] = pred_i\n",
    "        score = round(roc_auc_score(y_valid, pred_i), 5)\n",
    "        print(f'Performance of the prediction: {score}\\n')\n",
    "        del model; gc.collect()\n",
    "    \n",
    "    oof_pred_file = os.path.join(CFG[\"EXP_DIR\"], 'oof_pred')\n",
    "    df_[\"pred\"] = oof_pred\n",
    "    np.save(oof_pred_file, oof_pred)\n",
    "    auc = round(roc_auc_score(y, oof_pred), 5)\n",
    "    \n",
    "    def func(x_list):\n",
    "        score = matthews_corrcoef(df_['contact'], df_[\"pred\"]>x_list[0])\n",
    "        return -score\n",
    "    x0 = [0.5]\n",
    "    result = minimize(func, x0,  method=\"nelder-mead\")\n",
    "    opt_threshold = result.x[0]\n",
    "    score = round(matthews_corrcoef(df_['contact'], df_[\"pred\"]>opt_threshold), 5)\n",
    "    \n",
    "    print(f'All Performance of the AUC:{auc}, MCC:{score}')\n",
    "    return oof_pred"
   ]
  },
  {
   "cell_type": "markdown",
   "id": "637b4d25",
   "metadata": {
    "papermill": {
     "duration": 0.008976,
     "end_time": "2023-02-27T07:17:15.856980",
     "exception": false,
     "start_time": "2023-02-27T07:17:15.848004",
     "status": "completed"
    },
    "tags": []
   },
   "source": [
    "# Dataset Functions"
   ]
  },
  {
   "cell_type": "code",
   "execution_count": null,
   "id": "725de3cb",
   "metadata": {
    "execution": {
     "iopub.execute_input": "2023-02-27T07:17:15.876409Z",
     "iopub.status.busy": "2023-02-27T07:17:15.876111Z",
     "iopub.status.idle": "2023-02-27T07:17:15.881699Z",
     "shell.execute_reply": "2023-02-27T07:17:15.880778Z"
    },
    "papermill": {
     "duration": 0.017794,
     "end_time": "2023-02-27T07:17:15.883953",
     "exception": false,
     "start_time": "2023-02-27T07:17:15.866159",
     "status": "completed"
    },
    "tags": []
   },
   "outputs": [],
   "source": [
    "def add_feature_cols(df_, feature_cols_, remove_col_list):\n",
    "    additional_cols = list(df_.columns)\n",
    "    additional_cols = [col for col in additional_cols if not col in remove_col_list]\n",
    "    feature_cols_.extend(additional_cols)\n",
    "    return feature_cols_"
   ]
  },
  {
   "cell_type": "markdown",
   "id": "d54e0afd",
   "metadata": {
    "papermill": {
     "duration": 0.008985,
     "end_time": "2023-02-27T07:17:15.902041",
     "exception": false,
     "start_time": "2023-02-27T07:17:15.893056",
     "status": "completed"
    },
    "tags": []
   },
   "source": [
    "## Merge Functions"
   ]
  },
  {
   "cell_type": "code",
   "execution_count": null,
   "id": "ebffbfac",
   "metadata": {
    "execution": {
     "iopub.execute_input": "2023-02-27T07:17:15.923176Z",
     "iopub.status.busy": "2023-02-27T07:17:15.922910Z",
     "iopub.status.idle": "2023-02-27T07:17:15.934849Z",
     "shell.execute_reply": "2023-02-27T07:17:15.933964Z"
    },
    "papermill": {
     "duration": 0.02423,
     "end_time": "2023-02-27T07:17:15.936850",
     "exception": false,
     "start_time": "2023-02-27T07:17:15.912620",
     "status": "completed"
    },
    "tags": []
   },
   "outputs": [],
   "source": [
    "def target_merge_tracking(target_df_, tracking_df_, feature_cols_, SHIFT_COLS_):\n",
    "    target_df_ = target_df_.with_column(pl.concat_str([pl.col(\"game_play\"),\n",
    "                                                     pl.col(\"step\").cast(str),\n",
    "                                                     pl.col(\"nfl_player_id_1\"),\n",
    "                                                    ], sep='_').alias('game_step_player_1'))\n",
    "    target_df_ = target_df_.with_column(pl.concat_str([pl.col(\"game_play\"),\n",
    "                                                     pl.col(\"step\").cast(str),\n",
    "                                                     pl.col(\"nfl_player_id_2\"),\n",
    "                                                    ], sep='_').alias('game_step_player_2'))\n",
    "    # line man positions\n",
    "    lineman_pos = [\"T\", \"G\", \"C\", \"DE\", \"DT\", \"NG\"]\n",
    "    tracking_df_ = tracking_df_.with_column((pl.col(\"position\").is_in(lineman_pos)).cast(int).alias('is_lineman'))\n",
    "    \n",
    "    \n",
    "    # Norm cols\n",
    "    norm_cols = [\"x_position\", \"y_position\", \"direction\", \"orientation\"]\n",
    "    Norm_value_list = [120., 60., 360., 360.]\n",
    "    for col, norm_val in zip(norm_cols, Norm_value_list):\n",
    "        tracking_df_ = tracking_df_.with_column((pl.col(col)/norm_val).alias(col))\n",
    "    \n",
    "    # use columns\n",
    "    track_cols = [\"game_play\", \"nfl_player_id\", \"step\", \n",
    "                   \"x_position\", \"y_position\", \"datetime\",\n",
    "                   \"speed\",\"distance\",\"direction\",\"orientation\",\n",
    "                   \"acceleration\",\"sa\", \"team\", \"jersey_number\",\n",
    "                   \"is_lineman\",\n",
    "                 ]\n",
    "    track_cols.extend(SHIFT_COLS_)\n",
    "    tracking_df_ = tracking_df_.select(track_cols)\n",
    "    tracking_df_ = tracking_df_.with_column(pl.concat_str([pl.col(\"game_play\"),\n",
    "                                                         pl.col(\"step\").cast(str),\n",
    "                                                         pl.col(\"nfl_player_id\"),\n",
    "                                                        ], sep='_').alias('game_step_player'))\n",
    "\n",
    "    tracking_df_ = tracking_df_.drop([\"game_play\", \"step\", \"nfl_player_id\", \"datetime\"])\n",
    "\n",
    "    # merge tracking to target\n",
    "    for player_id in [1,2]:\n",
    "        tracking_player = tracking_df_.select([pl.all().suffix(f\"_{player_id}\")])\n",
    "        target_df_ = target_df_.join(tracking_player, on=[f\"game_step_player_{player_id}\"], how=\"left\")\n",
    "        # add features col\n",
    "        feature_cols_ = add_feature_cols(tracking_player, feature_cols_,\n",
    "                                        [f\"game_step_player_{player_id}\", f\"frame_{player_id}\", f\"datetime_{player_id}\"])\n",
    "    # drop col\n",
    "    target_df_ = target_df_.drop([\"game_step_player_1\", \"game_step_player_2\"])\n",
    "    print(len(target_df_.columns))\n",
    "    print(\"original length\", len(target_df_))\n",
    "    return target_df_, feature_cols_"
   ]
  },
  {
   "cell_type": "code",
   "execution_count": null,
   "id": "6382069b",
   "metadata": {
    "execution": {
     "iopub.execute_input": "2023-02-27T07:17:15.956494Z",
     "iopub.status.busy": "2023-02-27T07:17:15.956207Z",
     "iopub.status.idle": "2023-02-27T07:17:15.966297Z",
     "shell.execute_reply": "2023-02-27T07:17:15.965379Z"
    },
    "papermill": {
     "duration": 0.022278,
     "end_time": "2023-02-27T07:17:15.968305",
     "exception": false,
     "start_time": "2023-02-27T07:17:15.946027",
     "status": "completed"
    },
    "tags": []
   },
   "outputs": [],
   "source": [
    "def target_merge_helmet(target_df_, helmet_df_, feature_cols_):\n",
    "    print(\"original length\", len(target_df_))\n",
    "    # set merge-key (game_frame_player_1,2) to merge helmet_df\n",
    "    target_df_ = target_df_.with_column(((pl.col(\"step\").cast(int)/10*59.94+5*59.94).cast(int)+1).alias(\"frame\"))\n",
    "    target_df_ = target_df_.with_column(pl.concat_str([pl.col(\"game_play\"),\n",
    "                                                     pl.col(\"frame\").cast(str),\n",
    "                                                     pl.col(\"nfl_player_id_1\"),\n",
    "                                                    ], sep='_').alias('game_frame_player_1'))\n",
    "    target_df_ = target_df_.with_column(pl.concat_str([pl.col(\"game_play\"),\n",
    "                                                     pl.col(\"frame\").cast(str),\n",
    "                                                     pl.col(\"nfl_player_id_2\"),\n",
    "                                                    ], sep='_').alias('game_frame_player_2'))\n",
    "    # set merge key\n",
    "    helmet_df_ = helmet_df_.with_column(pl.concat_str([pl.col(\"game_play\"),\n",
    "                                                     pl.col(\"frame\").cast(str),\n",
    "                                                     pl.col(\"nfl_player_id\"),\n",
    "                                                    ], sep='_').alias('game_frame_player'))\n",
    "\n",
    "    # merge target df & helmet_df\n",
    "    player_views = [[1, \"Endzone\"],[2, \"Endzone\"], [1, \"Sideline\"],[2, \"Sideline\"]]\n",
    "    for player_id, view in player_views:\n",
    "        helmet_view = helmet_df_.filter(pl.col(\"view\")==view)\n",
    "        helmet_view = helmet_view[[\"game_frame_player\", \"left\", \"width\", \"top\", \"height\"]]\n",
    "        helmet_view = helmet_view.select(pl.all().suffix(f\"_{player_id}\"))\n",
    "        helmet_view = helmet_view.select([pl.col(helmet_view.columns[0]), pl.col(helmet_view.columns[1:]).prefix(f\"{view[0]}_\")])\n",
    "        target_df_ = target_df_.join(helmet_view, on=f\"game_frame_player_{player_id}\", how=\"left\")  \n",
    "        # add features col\n",
    "        feature_cols_ = add_feature_cols(helmet_view, feature_cols_, [f\"game_frame_player_{player_id}\"])\n",
    "\n",
    "    print(len(target_df_.columns))\n",
    "    print(\"original length\", len(target_df_))\n",
    "    return target_df_, feature_cols_"
   ]
  },
  {
   "cell_type": "markdown",
   "id": "4c9adfb6",
   "metadata": {
    "papermill": {
     "duration": 0.008861,
     "end_time": "2023-02-27T07:17:15.986309",
     "exception": false,
     "start_time": "2023-02-27T07:17:15.977448",
     "status": "completed"
    },
    "tags": []
   },
   "source": [
    "## Create feature function"
   ]
  },
  {
   "cell_type": "code",
   "execution_count": null,
   "id": "0a1bb120",
   "metadata": {
    "execution": {
     "iopub.execute_input": "2023-02-27T07:17:16.005673Z",
     "iopub.status.busy": "2023-02-27T07:17:16.005397Z",
     "iopub.status.idle": "2023-02-27T07:17:16.011961Z",
     "shell.execute_reply": "2023-02-27T07:17:16.010939Z"
    },
    "papermill": {
     "duration": 0.01882,
     "end_time": "2023-02-27T07:17:16.014253",
     "exception": false,
     "start_time": "2023-02-27T07:17:15.995433",
     "status": "completed"
    },
    "tags": []
   },
   "outputs": [],
   "source": [
    "def get_tracking_shift(tracking_df_, shift_cols=[\"x_position\",\"y_position\"], shift_nums=range(-6,6,1)):\n",
    "    # get shift key\n",
    "    tracking_df_ = tracking_df_.with_column(pl.concat_str([pl.col(\"game_play\"),\n",
    "                                                         pl.col(\"nfl_player_id\"),\n",
    "                                                        ], sep='_').alias('shift_key'))\n",
    "    # get shift features\n",
    "    shift_col_list = []\n",
    "    for num in shift_nums:\n",
    "        tracking_df_ = tracking_df_.with_columns(\n",
    "                            pl.col(shift_cols).shift(periods=num).over(\"shift_key\").suffix(f\"_shift{num}\"))\n",
    "    for col in shift_cols:\n",
    "        colname = [f\"{col}_shift{idx}\" for idx in shift_nums]\n",
    "        shift_col_list.extend(colname)\n",
    "                    \n",
    "    return tracking_df_, shift_col_list"
   ]
  },
  {
   "cell_type": "code",
   "execution_count": null,
   "id": "d2054a3a",
   "metadata": {
    "execution": {
     "iopub.execute_input": "2023-02-27T07:17:16.033653Z",
     "iopub.status.busy": "2023-02-27T07:17:16.033392Z",
     "iopub.status.idle": "2023-02-27T07:17:16.045279Z",
     "shell.execute_reply": "2023-02-27T07:17:16.044442Z"
    },
    "papermill": {
     "duration": 0.02384,
     "end_time": "2023-02-27T07:17:16.047240",
     "exception": false,
     "start_time": "2023-02-27T07:17:16.023400",
     "status": "completed"
    },
    "tags": []
   },
   "outputs": [],
   "source": [
    "def create_trackmerged_ftr(target_df_, feature_cols_,\n",
    "                           diff_cols = ['x_position', 'y_position', 'speed', 'distance',\n",
    "                                        'direction', 'orientation', 'acceleration', 'sa']):    \n",
    "#     target_df_ = target_df_.with_column((np.sqrt(np.square(pl.col(\"x_position_1\")-pl.col(\"x_position_2\")) \\\n",
    "#                                               + np.square(pl.col(\"y_position_1\")-pl.col(\"y_position_2\"))) \\\n",
    "#                                       ).alias(\"players_dis\"))\n",
    "    target_df_ = target_df_.with_column((np.sqrt(np.square(pl.col(\"x_position_1\")*120. - pl.col(\"x_position_2\")*120.) \\\n",
    "                                              + np.square(pl.col(\"y_position_1\")*60. - pl.col(\"y_position_2\")*60.)) \\\n",
    "                                      ).alias(\"players_dis\"))\n",
    "    target_df_ = target_df_.with_column(pl.col(\"players_dis\").fill_null(0))\n",
    "    \n",
    "    # players distance sum(in shift range time : default(-6~6 frames not step))\n",
    "    players_distance_sum = 0\n",
    "    for idx in range(-6,6,1):\n",
    "        players_distance_sum += np.sqrt((target_df_[f\"x_position_shift{idx}_1\"] - target_df_[f\"x_position_shift{idx}_2\"])**2 \\\n",
    "                                       + (target_df_[f\"y_position_shift{idx}_1\"] - target_df_[f\"y_position_shift{idx}_2\"])**2)\n",
    "    target_df_ = target_df_.with_column(pl.Series(\"players_distance_sum\", players_distance_sum))\n",
    "    target_df_ = target_df_.with_column(pl.col(\"players_distance_sum\").fill_null(0))\n",
    "    feature_cols_.append(\"players_distance_sum\")\n",
    "\n",
    "    # players each axis distance sum(in shift range time : default(-6~6 frames not step))\n",
    "    for axis in [\"x\", \"y\"]:\n",
    "        axis_distance_1 = 0\n",
    "        axis_distance_2 = 0\n",
    "        for idx in range(-6, 5, 1):\n",
    "            axis_distance_1 += abs(target_df_[f\"{axis}_position_shift{idx}_1\"] - target_df_[f\"{axis}_position_shift{idx+1}_1\"])\n",
    "            axis_distance_2 += abs(target_df_[f\"{axis}_position_shift{idx}_2\"] - target_df_[f\"{axis}_position_shift{idx+1}_2\"])\n",
    "        target_df_ = target_df_.with_column(pl.Series(f\"{axis}_move_distance_1\", axis_distance_1))\n",
    "        target_df_ = target_df_.with_column(pl.col(f\"{axis}_move_distance_1\").fill_null(0))\n",
    "        target_df_ = target_df_.with_column(pl.Series(f\"{axis}_move_distance_2\", axis_distance_2))\n",
    "        target_df_ = target_df_.with_column(pl.col(f\"{axis}_move_distance_2\").fill_null(0))\n",
    "        feature_cols_.extend([f\"{axis}_move_distance_1\", f\"{axis}_move_distance_2\"])\n",
    "\n",
    "    # players difference ftr (in each step)\n",
    "    for col in diff_cols:\n",
    "        colname = f\"{col}_diff\"\n",
    "        target_df_ = target_df_.with_column((abs(pl.col(f\"{col}_1\") - pl.col(f\"{col}_2\"))).alias(colname))\n",
    "        target_df_ = target_df_.with_column(pl.col(colname).fill_null(0))\n",
    "        feature_cols_.append(colname)\n",
    "        \n",
    "    return target_df_, feature_cols_"
   ]
  },
  {
   "cell_type": "code",
   "execution_count": null,
   "id": "3ba4359b",
   "metadata": {
    "execution": {
     "iopub.execute_input": "2023-02-27T07:17:16.067813Z",
     "iopub.status.busy": "2023-02-27T07:17:16.066397Z",
     "iopub.status.idle": "2023-02-27T07:17:16.074760Z",
     "shell.execute_reply": "2023-02-27T07:17:16.073850Z"
    },
    "papermill": {
     "duration": 0.020491,
     "end_time": "2023-02-27T07:17:16.076900",
     "exception": false,
     "start_time": "2023-02-27T07:17:16.056409",
     "status": "completed"
    },
    "tags": []
   },
   "outputs": [],
   "source": [
    "def create_roll_ftr(target_df_, feature_cols_,\n",
    "                    roll_cols = ['players_dis', 'x_position_diff', 'y_position_diff', \n",
    "                                  'speed_diff', 'distance_diff','direction_diff',\n",
    "                                  'orientation_diff', 'acceleration_diff', 'sa_diff'],\n",
    "                    key_cols = [\"contact_id\", \"game_play\", \"nfl_player_id_1\", \n",
    "                                \"nfl_player_id_2\", \"step\"]):\n",
    "    roll_df = target_df_.select(roll_cols+key_cols)\n",
    "\n",
    "    roll_df = roll_df.with_column(pl.concat_str([pl.col(\"game_play\"),\n",
    "                                                 pl.col(\"nfl_player_id_1\"),\n",
    "                                                 pl.col(\"nfl_player_id_2\"),\n",
    "                                                ], sep='_').alias('key'))\n",
    "    # cast datetime\n",
    "\n",
    "    # groupby rolling\n",
    "    roll_df = roll_df.groupby_dynamic(\"step\", every=\"1i\", period=\"6i\", by=\"key\", closed=\"both\").agg([pl.col(roll_cols).sum().suffix(\"_rollsum\"), pl.col(\"contact_id\")])\n",
    "    roll_df = roll_df.with_column(pl.col(\"contact_id\").apply(lambda x:x[0]))\n",
    "    roll_df = roll_df.drop([\"key\", \"step\"])\n",
    "    target_df_ = target_df_.join(roll_df, on=\"contact_id\", how=\"left\")\n",
    "    additional_cols = [col+\"_rollsum\" for col in roll_cols]\n",
    "    feature_cols_.extend(additional_cols)\n",
    "    return target_df_, feature_cols_"
   ]
  },
  {
   "cell_type": "code",
   "execution_count": null,
   "id": "a9345d13",
   "metadata": {
    "_kg_hide-output": true,
    "execution": {
     "iopub.execute_input": "2023-02-27T07:17:16.096634Z",
     "iopub.status.busy": "2023-02-27T07:17:16.095774Z",
     "iopub.status.idle": "2023-02-27T07:17:16.105065Z",
     "shell.execute_reply": "2023-02-27T07:17:16.104253Z"
    },
    "papermill": {
     "duration": 0.021048,
     "end_time": "2023-02-27T07:17:16.107012",
     "exception": false,
     "start_time": "2023-02-27T07:17:16.085964",
     "status": "completed"
    },
    "tags": []
   },
   "outputs": [],
   "source": [
    "def create_helmetmerged_ftr(target_df_, feature_cols_):\n",
    "    # helmet center distance feature\n",
    "    for view in [\"Endzone\", \"Sideline\"]:\n",
    "        for p_id in [\"1\", \"2\"]: \n",
    "            # get helmet center\n",
    "            target_df_ = target_df_.with_column((pl.col(f\"{view[0]}_left_{p_id}\") + (pl.col(f\"{view[0]}_width_{p_id}\")//2)).alias(f\"{view[0]}_Wcenter_{p_id}\"))\n",
    "            target_df_ = target_df_.with_column((pl.col(f\"{view[0]}_top_{p_id}\") + (pl.col(f\"{view[0]}_height_{p_id}\")//2)).alias(f\"{view[0]}_Hcenter_{p_id}\"))\n",
    "        # helmet center distance\n",
    "        target_df_ = target_df_.with_column((np.sqrt(np.square(pl.col(f\"{view[0]}_Wcenter_1\") - pl.col(f\"{view[0]}_Wcenter_2\")) \\\n",
    "                                                  + np.square(pl.col(f\"{view[0]}_Hcenter_1\") - pl.col(f\"{view[0]}_Hcenter_2\")))\n",
    "                                          ).alias(f\"{view[0]}_helmet_dis\"))\n",
    "\n",
    "        # GがNanになるので0にしておく\n",
    "        target_df_ = target_df_.with_column(pl.col(f\"{view[0]}_helmet_dis\").fill_null(0))\n",
    "        feature_cols_.append(f\"{view[0]}_helmet_dis\")\n",
    "    \n",
    "    # helmet cols fillna(0) after get helmet distance \n",
    "    helmet_cols = ['E_left_1', 'E_width_1', 'E_top_1', 'E_height_1',\n",
    "                   'E_left_2', 'E_width_2', 'E_top_2', 'E_height_2', \n",
    "                   'S_left_1','S_width_1', 'S_top_1', 'S_height_1', \n",
    "                   'S_left_2', 'S_width_2', 'S_top_2', 'S_height_2']\n",
    "    target_df_ = target_df_.with_column(pl.col(helmet_cols).fill_null(0))\n",
    "\n",
    "    return target_df_, feature_cols_"
   ]
  },
  {
   "cell_type": "code",
   "execution_count": null,
   "id": "307d2f4f",
   "metadata": {
    "execution": {
     "iopub.execute_input": "2023-02-27T07:17:16.127354Z",
     "iopub.status.busy": "2023-02-27T07:17:16.125996Z",
     "iopub.status.idle": "2023-02-27T07:17:16.134878Z",
     "shell.execute_reply": "2023-02-27T07:17:16.134030Z"
    },
    "papermill": {
     "duration": 0.020645,
     "end_time": "2023-02-27T07:17:16.136782",
     "exception": false,
     "start_time": "2023-02-27T07:17:16.116137",
     "status": "completed"
    },
    "tags": []
   },
   "outputs": [],
   "source": [
    "def get_categorical_ftr(target_df_, feature_cols_):\n",
    "    target_df_ = target_df_.with_column((pl.col(\"nfl_player_id_2\")== \"G\").cast(int).alias(\"is_ground\"))\n",
    "    # set team \n",
    "    target_df_ = target_df_.with_column(((pl.col(\"team_1\")==\"home\").cast(int)).alias(\"team_1\"))\n",
    "    target_df_ = target_df_.with_column(((pl.col(\"team_2\")==\"home\").cast(int)).alias(\"team_2\"))\n",
    "    target_df_ = target_df_.with_column(pl.col('nfl_player_id_2').str.replace(\"G\", \"99999\"))\n",
    "    \n",
    "    target_df_ = target_df_.with_column((1 - ((pl.col(\"E_width_1\")==0) & (pl.col(\"E_width_2\")==0)).cast(int)).alias(\"is_E_helmet\"))\n",
    "    target_df_ = target_df_.with_column((1 - ((pl.col(\"S_width_1\")==0) & (pl.col(\"S_width_2\")==0)).cast(int)).alias(\"is_S_helmet\"))\n",
    "    target_df_ = target_df_.with_column(((pl.col(\"is_E_helmet\")==1) & (pl.col(\"is_S_helmet\")==1)).cast(int).alias(\"both_helmet\"))\n",
    "    \n",
    "    target_df_ = target_df_.with_column(pl.col([\"nfl_player_id_1\", \"nfl_player_id_2\"]).cast(int))\n",
    "    \n",
    "    target_df_ = target_df_.fill_null(0)\n",
    "    target_df_ = target_df_.fill_nan(0)\n",
    "    feature_cols_.extend([\"is_ground\",\"is_E_helmet\", \"is_S_helmet\", \"both_helmet\"])\n",
    "    return target_df_, feature_cols_"
   ]
  },
  {
   "cell_type": "markdown",
   "id": "64dceb77",
   "metadata": {
    "papermill": {
     "duration": 0.009107,
     "end_time": "2023-02-27T07:17:16.154918",
     "exception": false,
     "start_time": "2023-02-27T07:17:16.145811",
     "status": "completed"
    },
    "tags": []
   },
   "source": [
    "# Merge NN df"
   ]
  },
  {
   "cell_type": "code",
   "execution_count": null,
   "id": "3e6a829a",
   "metadata": {
    "execution": {
     "iopub.execute_input": "2023-02-27T07:17:16.203649Z",
     "iopub.status.busy": "2023-02-27T07:17:16.203392Z",
     "iopub.status.idle": "2023-02-27T07:17:16.210287Z",
     "shell.execute_reply": "2023-02-27T07:17:16.209357Z"
    },
    "papermill": {
     "duration": 0.022479,
     "end_time": "2023-02-27T07:17:16.212247",
     "exception": false,
     "start_time": "2023-02-27T07:17:16.189768",
     "status": "completed"
    },
    "tags": []
   },
   "outputs": [],
   "source": [
    "def target_merge_emb(target_df_, nn_df_, feature_cols, view_, model_num, fillna_num=0):\n",
    "    use_cols = [\"contact_id\"]\n",
    "    cnn_ftr_list_ = [f\"img_emb_{idx}\" for idx in range(5)]\n",
    "    cnn_ftr_list_.append(\"pred\")\n",
    "    use_cols.extend(cnn_ftr_list_)\n",
    "    # set use cols\n",
    "    nn_df_ = nn_df_.select(use_cols)\n",
    "    nn_df_ = nn_df_.with_columns(pl.col(cnn_ftr_list_).prefix(f\"m{model_num}_{view[0]}_\"))\n",
    "    target_df_ = target_df_.join(nn_df_, on=\"contact_id\", how=\"left\")\n",
    "    target_df_ = target_df_.fill_null(fillna_num)\n",
    "    target_df_ = target_df_.fill_nan(fillna_num)\n",
    "    # add feature cols\n",
    "    prefix_cnnftr_list_ = [f\"m{model_num}_{view[0]}_img_emb_{idx}\" for idx in range(5)]\n",
    "    prefix_cnnftr_list_.append(f\"m{model_num}_{view[0]}_pred\")\n",
    "    feature_cols.extend(prefix_cnnftr_list_)\n",
    "    target_df_ = target_df_.drop(cnn_ftr_list_)\n",
    "    return target_df_, feature_cols"
   ]
  },
  {
   "cell_type": "code",
   "execution_count": null,
   "id": "0d005073",
   "metadata": {
    "execution": {
     "iopub.execute_input": "2023-02-27T07:17:16.232891Z",
     "iopub.status.busy": "2023-02-27T07:17:16.232610Z",
     "iopub.status.idle": "2023-02-27T07:17:16.238353Z",
     "shell.execute_reply": "2023-02-27T07:17:16.237445Z"
    },
    "papermill": {
     "duration": 0.018794,
     "end_time": "2023-02-27T07:17:16.240232",
     "exception": false,
     "start_time": "2023-02-27T07:17:16.221438",
     "status": "completed"
    },
    "tags": []
   },
   "outputs": [],
   "source": [
    "def target_merge_trackemb(target_df_, nn_df_, feature_cols, fillna_num=0):\n",
    "    use_cols = [\"contact_id\"]\n",
    "    ftr_list_ = [f\"track_emb_{idx}\" for idx in range(3)]\n",
    "    use_cols.extend(ftr_list_)\n",
    "    # set use cols\n",
    "    nn_df_ = nn_df_.select(use_cols)\n",
    "    target_df_ = target_df_.join(nn_df_, on=\"contact_id\", how=\"left\")\n",
    "    target_df_ = target_df_.fill_null(fillna_num)\n",
    "    target_df_ = target_df_.fill_nan(fillna_num)\n",
    "    # add feature cols\n",
    "    ftr_list_ = [f\"track_emb_{idx}\" for idx in range(3)]\n",
    "    feature_cols.extend(ftr_list_)\n",
    "    return target_df_, feature_cols"
   ]
  },
  {
   "cell_type": "markdown",
   "id": "d2e65ef0",
   "metadata": {
    "papermill": {
     "duration": 0.008844,
     "end_time": "2023-02-27T07:17:16.258173",
     "exception": false,
     "start_time": "2023-02-27T07:17:16.249329",
     "status": "completed"
    },
    "tags": []
   },
   "source": [
    "# Post Proc"
   ]
  },
  {
   "cell_type": "code",
   "execution_count": null,
   "id": "45a3fb69",
   "metadata": {
    "execution": {
     "iopub.execute_input": "2023-02-27T07:17:16.278369Z",
     "iopub.status.busy": "2023-02-27T07:17:16.277563Z",
     "iopub.status.idle": "2023-02-27T07:17:16.285198Z",
     "shell.execute_reply": "2023-02-27T07:17:16.284280Z"
    },
    "papermill": {
     "duration": 0.020012,
     "end_time": "2023-02-27T07:17:16.287245",
     "exception": false,
     "start_time": "2023-02-27T07:17:16.267233",
     "status": "completed"
    },
    "tags": []
   },
   "outputs": [],
   "source": [
    "def post_proc_roll(sub_, target_df_, window_size_):\n",
    "    sub_ = pd.merge(sub_, target_df_[[\"contact_id\", \"pred\"]], on=\"contact_id\", how=\"left\")\n",
    "    sub_ = sub_.fillna(0)\n",
    "    proc_df = sub_.copy()\n",
    "    proc_cols = [\"contact_id\", \"game_play\", \"nfl_player_id_1\", \"nfl_player_id_2\",\"step\", \"pred\", \"contact\"]\n",
    "    proc_df = proc_df[proc_cols]\n",
    "    proc_df[\"proc_key\"] = proc_df[\"game_play\"] + \"_\" + proc_df[\"nfl_player_id_1\"].astype(\"str\") + \"_\" + proc_df[\"nfl_player_id_2\"].astype(\"str\")\n",
    "    \n",
    "    proc_pred = proc_df.groupby(\"proc_key\")[\"pred\"].rolling(window_size, center=True).mean().reset_index().set_index(\"level_1\")\n",
    "    proc_pred = proc_pred.rename(columns={\"pred\":\"proc_pred\"})    \n",
    "\n",
    "    proc_df = pd.concat([proc_df, proc_pred], axis=1)\n",
    "    proc_df[\"proc_pred\"] = proc_df[\"proc_pred\"].fillna(proc_df[\"pred\"])\n",
    "    return proc_df"
   ]
  },
  {
   "cell_type": "markdown",
   "id": "1ada3382",
   "metadata": {
    "papermill": {
     "duration": 0.008853,
     "end_time": "2023-02-27T07:17:16.305139",
     "exception": false,
     "start_time": "2023-02-27T07:17:16.296286",
     "status": "completed"
    },
    "tags": []
   },
   "source": [
    "---"
   ]
  },
  {
   "cell_type": "markdown",
   "id": "fc07e09a",
   "metadata": {
    "papermill": {
     "duration": 0.008924,
     "end_time": "2023-02-27T07:17:16.323111",
     "exception": false,
     "start_time": "2023-02-27T07:17:16.314187",
     "status": "completed"
    },
    "tags": []
   },
   "source": [
    "# Load Target"
   ]
  },
  {
   "cell_type": "code",
   "execution_count": null,
   "id": "7f8f2be1",
   "metadata": {
    "execution": {
     "iopub.execute_input": "2023-02-27T07:17:16.343892Z",
     "iopub.status.busy": "2023-02-27T07:17:16.342509Z",
     "iopub.status.idle": "2023-02-27T07:17:19.895390Z",
     "shell.execute_reply": "2023-02-27T07:17:19.894381Z"
    },
    "papermill": {
     "duration": 3.565375,
     "end_time": "2023-02-27T07:17:19.897834",
     "exception": false,
     "start_time": "2023-02-27T07:17:16.332459",
     "status": "completed"
    },
    "tags": []
   },
   "outputs": [],
   "source": [
    "target_dtypes = {'contact_id':str, \n",
    "                'game_play':str,\n",
    "                'datetime':str,\n",
    "                'step':int,\n",
    "                'nfl_player_id_1':str,\n",
    "                'nfl_player_id_2':str,\n",
    "                'contact':int,\n",
    "                }\n",
    "target_df = pl.read_csv(CFG[\"TRAIN_LABEL_CSV\"], dtypes=target_dtypes)    \n",
    "\n",
    "FEATURE_COLS = [\"nfl_player_id_1\", \"nfl_player_id_2\", \"step\"]"
   ]
  },
  {
   "cell_type": "markdown",
   "id": "2874c40d",
   "metadata": {
    "papermill": {
     "duration": 0.009057,
     "end_time": "2023-02-27T07:17:19.916408",
     "exception": false,
     "start_time": "2023-02-27T07:17:19.907351",
     "status": "completed"
    },
    "tags": []
   },
   "source": [
    "# Merge tracking_df"
   ]
  },
  {
   "cell_type": "code",
   "execution_count": null,
   "id": "f546fc6e",
   "metadata": {
    "execution": {
     "iopub.execute_input": "2023-02-27T07:17:19.936982Z",
     "iopub.status.busy": "2023-02-27T07:17:19.935463Z",
     "iopub.status.idle": "2023-02-27T07:18:15.139479Z",
     "shell.execute_reply": "2023-02-27T07:18:15.138467Z"
    },
    "papermill": {
     "duration": 55.21651,
     "end_time": "2023-02-27T07:18:15.141948",
     "exception": false,
     "start_time": "2023-02-27T07:17:19.925438",
     "status": "completed"
    },
    "tags": []
   },
   "outputs": [],
   "source": [
    "tracking_df = pl.read_csv(CFG[\"TRAIN_TRACKING_CSV\"])\n",
    "tracking_df, SHIFT_COLS = get_tracking_shift(tracking_df)\n",
    "target_df, FEATURE_COLS = target_merge_tracking(target_df, tracking_df, FEATURE_COLS, SHIFT_COLS)\n",
    "\n",
    "del tracking_df\n",
    "\n",
    "target_df, FEATURE_COLS = create_trackmerged_ftr(target_df, FEATURE_COLS)\n",
    "target_df, FEATURE_COLS = create_roll_ftr(target_df, FEATURE_COLS)"
   ]
  },
  {
   "cell_type": "markdown",
   "id": "51ed9b5b",
   "metadata": {
    "papermill": {
     "duration": 0.00906,
     "end_time": "2023-02-27T07:18:15.160773",
     "exception": false,
     "start_time": "2023-02-27T07:18:15.151713",
     "status": "completed"
    },
    "tags": []
   },
   "source": [
    "# Exclude distance > 2"
   ]
  },
  {
   "cell_type": "code",
   "execution_count": null,
   "id": "d01b078b",
   "metadata": {
    "execution": {
     "iopub.execute_input": "2023-02-27T07:18:15.180753Z",
     "iopub.status.busy": "2023-02-27T07:18:15.180447Z",
     "iopub.status.idle": "2023-02-27T07:18:16.178087Z",
     "shell.execute_reply": "2023-02-27T07:18:16.177092Z"
    },
    "papermill": {
     "duration": 1.010291,
     "end_time": "2023-02-27T07:18:16.180569",
     "exception": false,
     "start_time": "2023-02-27T07:18:15.170278",
     "status": "completed"
    },
    "tags": []
   },
   "outputs": [],
   "source": [
    "target_df = target_df.filter(pl.col(\"players_dis\") <= 2)\n",
    "print(len(target_df))"
   ]
  },
  {
   "cell_type": "markdown",
   "id": "aaaf607a",
   "metadata": {
    "papermill": {
     "duration": 0.01661,
     "end_time": "2023-02-27T07:18:16.214344",
     "exception": false,
     "start_time": "2023-02-27T07:18:16.197734",
     "status": "completed"
    },
    "tags": []
   },
   "source": [
    "# Merge helmet df"
   ]
  },
  {
   "cell_type": "code",
   "execution_count": null,
   "id": "11a42ccf",
   "metadata": {
    "execution": {
     "iopub.execute_input": "2023-02-27T07:18:16.250628Z",
     "iopub.status.busy": "2023-02-27T07:18:16.250250Z",
     "iopub.status.idle": "2023-02-27T07:18:25.895256Z",
     "shell.execute_reply": "2023-02-27T07:18:25.894223Z"
    },
    "papermill": {
     "duration": 9.665491,
     "end_time": "2023-02-27T07:18:25.897684",
     "exception": false,
     "start_time": "2023-02-27T07:18:16.232193",
     "status": "completed"
    },
    "tags": []
   },
   "outputs": [],
   "source": [
    "helmet_df = pl.read_csv(CFG[\"TRAIN_HELMET_CSV\"])\n",
    "target_df, FEATURE_COLS = target_merge_helmet(target_df, helmet_df, FEATURE_COLS)\n",
    "target_df, FEATURE_COLS = create_helmetmerged_ftr(target_df, FEATURE_COLS)\n",
    "target_df, FEATURE_COLS = get_categorical_ftr(target_df, FEATURE_COLS)\n",
    "print(len(target_df))"
   ]
  },
  {
   "cell_type": "markdown",
   "id": "9556e0ff",
   "metadata": {
    "papermill": {
     "duration": 0.009375,
     "end_time": "2023-02-27T07:18:25.917417",
     "exception": false,
     "start_time": "2023-02-27T07:18:25.908042",
     "status": "completed"
    },
    "tags": []
   },
   "source": [
    "# Merge NN feature"
   ]
  },
  {
   "cell_type": "code",
   "execution_count": null,
   "id": "086c3b8b",
   "metadata": {
    "execution": {
     "iopub.execute_input": "2023-02-27T07:18:25.938596Z",
     "iopub.status.busy": "2023-02-27T07:18:25.937684Z",
     "iopub.status.idle": "2023-02-27T07:18:30.252828Z",
     "shell.execute_reply": "2023-02-27T07:18:30.251698Z"
    },
    "papermill": {
     "duration": 4.327858,
     "end_time": "2023-02-27T07:18:30.254905",
     "exception": false,
     "start_time": "2023-02-27T07:18:25.927047",
     "status": "completed"
    },
    "tags": []
   },
   "outputs": [],
   "source": [
    "nn_df = pl.read_csv(CFG[\"NN_FEATURE_CSV_1\"])\n",
    "\n",
    "for view in [\"Endzone\", \"Sideline\"]:\n",
    "    if view == \"Endzone\":\n",
    "        view_nn_df = nn_df.filter(pl.col(\"is_End\")==1)\n",
    "        target_df, FEATURE_COLS = target_merge_emb(target_df, view_nn_df, FEATURE_COLS, view, 0)\n",
    "    else:\n",
    "        view_nn_df = nn_df.filter(pl.col(\"is_End\")==1)\n",
    "        target_df, FEATURE_COLS = target_merge_emb(target_df, view_nn_df, FEATURE_COLS, view, 0)\n",
    "print(len(target_df))"
   ]
  },
  {
   "cell_type": "code",
   "execution_count": null,
   "id": "f9a8c1af",
   "metadata": {
    "execution": {
     "iopub.execute_input": "2023-02-27T07:18:30.277064Z",
     "iopub.status.busy": "2023-02-27T07:18:30.275383Z",
     "iopub.status.idle": "2023-02-27T07:18:35.309139Z",
     "shell.execute_reply": "2023-02-27T07:18:35.307079Z"
    },
    "papermill": {
     "duration": 5.046695,
     "end_time": "2023-02-27T07:18:35.311434",
     "exception": false,
     "start_time": "2023-02-27T07:18:30.264739",
     "status": "completed"
    },
    "tags": []
   },
   "outputs": [],
   "source": [
    "nn_df = pl.read_csv(CFG[\"NN_FEATURE_CSV_2\"])\n",
    "\n",
    "for view in [\"Endzone\", \"Sideline\"]:\n",
    "    if view == \"Endzone\":\n",
    "        view_nn_df = nn_df.filter(pl.col(\"is_End\")==1)\n",
    "        target_df, FEATURE_COLS = target_merge_emb(target_df, view_nn_df, FEATURE_COLS, view, 1)\n",
    "    else:\n",
    "        view_nn_df = nn_df.filter(pl.col(\"is_End\")==1)\n",
    "        target_df, FEATURE_COLS = target_merge_emb(target_df, view_nn_df, FEATURE_COLS, view, 1)\n",
    "print(len(target_df))"
   ]
  },
  {
   "cell_type": "code",
   "execution_count": null,
   "id": "2888740b",
   "metadata": {
    "execution": {
     "iopub.execute_input": "2023-02-27T07:18:35.333112Z",
     "iopub.status.busy": "2023-02-27T07:18:35.332807Z",
     "iopub.status.idle": "2023-02-27T07:18:40.195403Z",
     "shell.execute_reply": "2023-02-27T07:18:40.194115Z"
    },
    "papermill": {
     "duration": 4.875613,
     "end_time": "2023-02-27T07:18:40.197760",
     "exception": false,
     "start_time": "2023-02-27T07:18:35.322147",
     "status": "completed"
    },
    "tags": []
   },
   "outputs": [],
   "source": [
    "nn_df = pl.read_csv(CFG[\"NN_FEATURE_CSV_3\"])\n",
    "\n",
    "for view in [\"Endzone\", \"Sideline\"]:\n",
    "    if view == \"Endzone\":\n",
    "        view_nn_df = nn_df.filter(pl.col(\"is_End\")==1)\n",
    "        target_df, FEATURE_COLS = target_merge_emb(target_df, view_nn_df, FEATURE_COLS, view, 2)\n",
    "    else:\n",
    "        view_nn_df = nn_df.filter(pl.col(\"is_End\")==1)\n",
    "        target_df, FEATURE_COLS = target_merge_emb(target_df, view_nn_df, FEATURE_COLS, view, 2)\n",
    "print(len(target_df))"
   ]
  },
  {
   "cell_type": "markdown",
   "id": "797da79c",
   "metadata": {
    "papermill": {
     "duration": 0.009542,
     "end_time": "2023-02-27T07:18:40.217209",
     "exception": false,
     "start_time": "2023-02-27T07:18:40.207667",
     "status": "completed"
    },
    "tags": []
   },
   "source": [
    "# Merge Track NN feature"
   ]
  },
  {
   "cell_type": "code",
   "execution_count": null,
   "id": "97b805d9",
   "metadata": {
    "execution": {
     "iopub.execute_input": "2023-02-27T07:18:40.238253Z",
     "iopub.status.busy": "2023-02-27T07:18:40.237424Z",
     "iopub.status.idle": "2023-02-27T07:18:42.593623Z",
     "shell.execute_reply": "2023-02-27T07:18:42.592491Z"
    },
    "papermill": {
     "duration": 2.370527,
     "end_time": "2023-02-27T07:18:42.597327",
     "exception": false,
     "start_time": "2023-02-27T07:18:40.226800",
     "status": "completed"
    },
    "tags": []
   },
   "outputs": [],
   "source": [
    "tracknn_df = pl.read_csv(CFG[\"TRACK_FEATURE_CSV\"])\n",
    "target_df, FEATURE_COLS = target_merge_trackemb(target_df, tracknn_df, FEATURE_COLS)\n",
    "print(len(target_df))"
   ]
  },
  {
   "cell_type": "code",
   "execution_count": null,
   "id": "5d0a35e9",
   "metadata": {
    "execution": {
     "iopub.execute_input": "2023-02-27T07:18:42.640291Z",
     "iopub.status.busy": "2023-02-27T07:18:42.639974Z",
     "iopub.status.idle": "2023-02-27T07:18:42.645037Z",
     "shell.execute_reply": "2023-02-27T07:18:42.644087Z"
    },
    "papermill": {
     "duration": 0.030606,
     "end_time": "2023-02-27T07:18:42.648732",
     "exception": false,
     "start_time": "2023-02-27T07:18:42.618126",
     "status": "completed"
    },
    "tags": []
   },
   "outputs": [],
   "source": [
    "# FEATURE_COLS = [col for col in FEATURE_COLS if not col in [\"step\"]]\n",
    "print(FEATURE_COLS)"
   ]
  },
  {
   "cell_type": "markdown",
   "id": "72d07fb2",
   "metadata": {
    "papermill": {
     "duration": 0.017005,
     "end_time": "2023-02-27T07:18:42.693696",
     "exception": false,
     "start_time": "2023-02-27T07:18:42.676691",
     "status": "completed"
    },
    "tags": []
   },
   "source": [
    "# Train"
   ]
  },
  {
   "cell_type": "code",
   "execution_count": null,
   "id": "3a2a70ba",
   "metadata": {
    "execution": {
     "iopub.execute_input": "2023-02-27T07:18:42.725169Z",
     "iopub.status.busy": "2023-02-27T07:18:42.724791Z",
     "iopub.status.idle": "2023-02-27T11:35:55.171731Z",
     "shell.execute_reply": "2023-02-27T11:35:55.169800Z"
    },
    "papermill": {
     "duration": 15432.466865,
     "end_time": "2023-02-27T11:35:55.174103",
     "exception": false,
     "start_time": "2023-02-27T07:18:42.707238",
     "status": "completed"
    },
    "tags": []
   },
   "outputs": [],
   "source": [
    "target_df = target_df.to_pandas()\n",
    "if CFG[\"DEBUG\"]:\n",
    "    target_df = target_df.sample(1000).reset_index(drop=True)\n",
    "oof_pred = fit_catboost(target_df, FEATURE_COLS)\n",
    "# oof_pred = fit_lgboost(target_df, FEATURE_COLS)\n",
    "# oof_pred = fit_xgboost(target_df, FEATURE_COLS)"
   ]
  },
  {
   "cell_type": "code",
   "execution_count": null,
   "id": "28b47883",
   "metadata": {
    "execution": {
     "iopub.execute_input": "2023-02-27T11:35:55.233101Z",
     "iopub.status.busy": "2023-02-27T11:35:55.232742Z",
     "iopub.status.idle": "2023-02-27T11:35:55.495892Z",
     "shell.execute_reply": "2023-02-27T11:35:55.494991Z"
    },
    "papermill": {
     "duration": 0.295608,
     "end_time": "2023-02-27T11:35:55.498353",
     "exception": false,
     "start_time": "2023-02-27T11:35:55.202745",
     "status": "completed"
    },
    "tags": []
   },
   "outputs": [],
   "source": [
    "target_df[\"pred\"] = oof_pred\n",
    "display(target_df[\"pred\"].hist(bins=20))"
   ]
  },
  {
   "cell_type": "code",
   "execution_count": null,
   "id": "ab23fc51",
   "metadata": {
    "execution": {
     "iopub.execute_input": "2023-02-27T11:35:55.556946Z",
     "iopub.status.busy": "2023-02-27T11:35:55.556588Z",
     "iopub.status.idle": "2023-02-27T11:36:50.481501Z",
     "shell.execute_reply": "2023-02-27T11:36:50.480417Z"
    },
    "papermill": {
     "duration": 54.985678,
     "end_time": "2023-02-27T11:36:50.512893",
     "exception": false,
     "start_time": "2023-02-27T11:35:55.527215",
     "status": "completed"
    },
    "tags": []
   },
   "outputs": [],
   "source": [
    "train = pd.read_csv(CFG[\"TRAIN_LABEL_CSV\"])\n",
    "if CFG[\"DEBUG\"]:\n",
    "    train = train.sample(5000).reset_index(drop=True)\n",
    "\n",
    "train = pd.merge(train, target_df[[\"contact_id\", \"pred\"]], on=\"contact_id\", how=\"left\")\n",
    "train = train.fillna(0)\n",
    "print(len(train))\n",
    "\n",
    "def func(x_list):\n",
    "    score = matthews_corrcoef(train['contact'], train[\"pred\"]>x_list[0])\n",
    "    return -score\n",
    "x0 = [0.5]\n",
    "result = minimize(func, x0,  method=\"nelder-mead\")\n",
    "opt_threshold = result.x[0]\n",
    "score = round(matthews_corrcoef(train['contact'], train[\"pred\"]>opt_threshold), 5)\n",
    "threshold = round(opt_threshold, 5)\n",
    "print(f\"score:{score}, threshold:{threshold}\")"
   ]
  },
  {
   "cell_type": "markdown",
   "id": "ae8b8a75",
   "metadata": {
    "papermill": {
     "duration": 0.028495,
     "end_time": "2023-02-27T11:36:50.570059",
     "exception": false,
     "start_time": "2023-02-27T11:36:50.541564",
     "status": "completed"
    },
    "tags": []
   },
   "source": [
    "## post proc"
   ]
  },
  {
   "cell_type": "code",
   "execution_count": null,
   "id": "1369f37b",
   "metadata": {
    "execution": {
     "iopub.execute_input": "2023-02-27T11:36:50.629930Z",
     "iopub.status.busy": "2023-02-27T11:36:50.628099Z",
     "iopub.status.idle": "2023-02-27T11:43:26.705958Z",
     "shell.execute_reply": "2023-02-27T11:43:26.701396Z"
    },
    "papermill": {
     "duration": 396.139749,
     "end_time": "2023-02-27T11:43:26.738258",
     "exception": false,
     "start_time": "2023-02-27T11:36:50.598509",
     "status": "completed"
    },
    "tags": []
   },
   "outputs": [],
   "source": [
    "train = pd.read_csv(CFG[\"TRAIN_LABEL_CSV\"])\n",
    "# train = train[train[\"game_play\"].isin(train_game_play)]\n",
    "print(len(train))\n",
    "\n",
    "# scoring post process\n",
    "print(f\"score:{score}, threshold:{threshold}\")\n",
    "output_threshold =threshold\n",
    "best_score = score\n",
    "best_threshold = threshold\n",
    "best_window = 1\n",
    "\n",
    "for window_size in [3, 5, 7, 9, 11, 13]:\n",
    "    print(f\"window size = {window_size}\", end=\", \")\n",
    "    proc_sub = post_proc_roll(train, target_df, window_size)\n",
    "    def func(x_list):\n",
    "        score = matthews_corrcoef(proc_sub['contact'], proc_sub[\"proc_pred\"]>x_list[0])\n",
    "        return -score\n",
    "    x0 = [0.5]\n",
    "    result = minimize(func, x0,  method=\"nelder-mead\")\n",
    "    opt_threshold = result.x[0]\n",
    "    score = round(matthews_corrcoef(proc_sub['contact'], proc_sub[\"proc_pred\"]>opt_threshold), 5)\n",
    "    threshold = round(opt_threshold, 5)\n",
    "    print(f\"score:{score}, threshold:{threshold}\")\n",
    "    if score > best_score:\n",
    "        best_score = score\n",
    "        best_threshold = threshold\n",
    "        best_window = window_size\n",
    "print(f\"BEST SCORE => window size:{best_window}, score:{best_score}, threshold:{best_threshold} \")"
   ]
  },
  {
   "cell_type": "code",
   "execution_count": null,
   "id": "f891c381",
   "metadata": {
    "execution": {
     "iopub.execute_input": "2023-02-27T11:43:26.799459Z",
     "iopub.status.busy": "2023-02-27T11:43:26.799057Z",
     "iopub.status.idle": "2023-02-27T11:43:26.890987Z",
     "shell.execute_reply": "2023-02-27T11:43:26.889803Z"
    },
    "papermill": {
     "duration": 0.124561,
     "end_time": "2023-02-27T11:43:26.893258",
     "exception": false,
     "start_time": "2023-02-27T11:43:26.768697",
     "status": "completed"
    },
    "tags": []
   },
   "outputs": [],
   "source": [
    "print(len(FEATURE_COLS))\n",
    "print(FEATURE_COLS)\n",
    "del train"
   ]
  },
  {
   "cell_type": "code",
   "execution_count": null,
   "id": "7b6e0a05",
   "metadata": {
    "execution": {
     "iopub.execute_input": "2023-02-27T11:43:26.951913Z",
     "iopub.status.busy": "2023-02-27T11:43:26.950996Z",
     "iopub.status.idle": "2023-02-27T11:43:26.966655Z",
     "shell.execute_reply": "2023-02-27T11:43:26.965783Z"
    },
    "papermill": {
     "duration": 0.04668,
     "end_time": "2023-02-27T11:43:26.968748",
     "exception": false,
     "start_time": "2023-02-27T11:43:26.922068",
     "status": "completed"
    },
    "tags": []
   },
   "outputs": [],
   "source": [
    "CFG[\"features\"] = FEATURE_COLS\n",
    "CFG[\"PRED_THR\"] = output_threshold\n",
    "CFG[\"PROC_PRED_THR\"] = best_threshold\n",
    "CFG[\"proc_window_size\"] = best_window\n",
    "\n",
    "import yaml\n",
    "\n",
    "cofig_yaml = os.path.join(CFG[\"EXP_DIR\"], \"Config.yaml\")\n",
    "with open(cofig_yaml, \"w\") as f:\n",
    "    yaml.dump(CFG, f)"
   ]
  },
  {
   "cell_type": "code",
   "execution_count": null,
   "id": "cd97c854",
   "metadata": {
    "papermill": {
     "duration": 0.04158,
     "end_time": "2023-02-27T11:43:27.043995",
     "exception": false,
     "start_time": "2023-02-27T11:43:27.002415",
     "status": "completed"
    },
    "tags": []
   },
   "outputs": [],
   "source": []
  },
  {
   "cell_type": "code",
   "execution_count": null,
   "id": "59d850ec",
   "metadata": {
    "papermill": {
     "duration": 0.028904,
     "end_time": "2023-02-27T11:43:27.101254",
     "exception": false,
     "start_time": "2023-02-27T11:43:27.072350",
     "status": "completed"
    },
    "tags": []
   },
   "outputs": [],
   "source": []
  }
 ],
 "metadata": {
  "kernelspec": {
   "display_name": "base",
   "language": "python",
   "name": "python3"
  },
  "language_info": {
   "codemirror_mode": {
    "name": "ipython",
    "version": 3
   },
   "file_extension": ".py",
   "mimetype": "text/x-python",
   "name": "python",
   "nbconvert_exporter": "python",
   "pygments_lexer": "ipython3",
   "version": "3.7.12"
  },
  "papermill": {
   "default_parameters": {},
   "duration": 16016.888521,
   "end_time": "2023-02-27T11:43:28.881260",
   "environment_variables": {},
   "exception": null,
   "input_path": "__notebook__.ipynb",
   "output_path": "__notebook__.ipynb",
   "parameters": {},
   "start_time": "2023-02-27T07:16:31.992739",
   "version": "2.3.4"
  },
  "vscode": {
   "interpreter": {
    "hash": "d4d1e4263499bec80672ea0156c357c1ee493ec2b1c70f0acce89fc37c4a6abe"
   }
  }
 },
 "nbformat": 4,
 "nbformat_minor": 5
}
