{
 "cells": [
  {
   "attachments": {},
   "cell_type": "markdown",
   "id": "3209733f",
   "metadata": {
    "papermill": {
     "duration": 0.008427,
     "end_time": "2023-01-30T08:49:38.461986",
     "exception": false,
     "start_time": "2023-01-30T08:49:38.453559",
     "status": "completed"
    },
    "tags": []
   },
   "source": [
    "# NFL Baseline"
   ]
  },
  {
   "cell_type": "markdown",
   "id": "7c2d2e2e",
   "metadata": {
    "papermill": {
     "duration": 0.006728,
     "end_time": "2023-01-30T08:49:38.475977",
     "exception": false,
     "start_time": "2023-01-30T08:49:38.469249",
     "status": "completed"
    },
    "tags": []
   },
   "source": [
    "# import libraries"
   ]
  },
  {
   "cell_type": "code",
   "execution_count": 1,
   "id": "7378a5b3",
   "metadata": {
    "_cell_guid": "b1076dfc-b9ad-4769-8c92-a6c4dae69d19",
    "_uuid": "8f2839f25d086af736a60e9eeb907d3b93b6e0e5",
    "execution": {
     "iopub.execute_input": "2023-01-30T08:49:38.491527Z",
     "iopub.status.busy": "2023-01-30T08:49:38.491103Z",
     "iopub.status.idle": "2023-01-30T08:49:43.646045Z",
     "shell.execute_reply": "2023-01-30T08:49:43.645016Z"
    },
    "papermill": {
     "duration": 5.165615,
     "end_time": "2023-01-30T08:49:43.648603",
     "exception": false,
     "start_time": "2023-01-30T08:49:38.482988",
     "status": "completed"
    },
    "tags": []
   },
   "outputs": [],
   "source": [
    "# general\n",
    "import os\n",
    "import gc\n",
    "import pickle\n",
    "import glob\n",
    "import random\n",
    "import numpy as np\n",
    "import pandas as pd\n",
    "from tqdm.notebook import tqdm\n",
    "import cv2\n",
    "import matplotlib.pyplot as plt\n",
    "import time\n",
    "import math\n",
    "\n",
    "import sys\n",
    "sys.path.append('/kaggle/input/timm-pytorch-image-models/pytorch-image-models-master')\n",
    "import timm\n",
    "\n",
    "\n",
    "# deep learning\n",
    "from torch.utils.data import Dataset, DataLoader\n",
    "from torch.optim import SGD, Adam, AdamW\n",
    "from torch.optim.lr_scheduler import CosineAnnealingLR, CosineAnnealingWarmRestarts, ReduceLROnPlateau\n",
    "import torch\n",
    "import torchvision\n",
    "import torch.nn as nn\n",
    "import torch.nn.functional as F\n",
    "import torch.optim as optim\n",
    "\n",
    "import albumentations as A\n",
    "from albumentations.pytorch import ToTensorV2\n",
    "\n",
    "from sklearn.model_selection import GroupKFold\n",
    "\n",
    "# loss metrics\n",
    "from sklearn.metrics import matthews_corrcoef, confusion_matrix, roc_auc_score\n",
    "\n",
    "import mlflow\n",
    "# import wandb\n",
    "# warningの表示方法の設定\n",
    "import warnings\n",
    "warnings.filterwarnings(\"ignore\")"
   ]
  },
  {
   "cell_type": "markdown",
   "id": "b88c6985",
   "metadata": {
    "papermill": {
     "duration": 0.00739,
     "end_time": "2023-01-30T08:49:43.663481",
     "exception": false,
     "start_time": "2023-01-30T08:49:43.656091",
     "status": "completed"
    },
    "tags": []
   },
   "source": [
    "# Set Configurations"
   ]
  },
  {
   "cell_type": "code",
   "execution_count": 2,
   "id": "f0685d52",
   "metadata": {
    "execution": {
     "iopub.execute_input": "2023-01-30T08:49:43.678941Z",
     "iopub.status.busy": "2023-01-30T08:49:43.678490Z",
     "iopub.status.idle": "2023-01-30T08:49:43.690022Z",
     "shell.execute_reply": "2023-01-30T08:49:43.689134Z"
    },
    "papermill": {
     "duration": 0.021464,
     "end_time": "2023-01-30T08:49:43.691978",
     "exception": false,
     "start_time": "2023-01-30T08:49:43.670514",
     "status": "completed"
    },
    "tags": []
   },
   "outputs": [],
   "source": [
    "CFG = {\n",
    "        \"kaggle\" : False,\n",
    "        \"DEBUG\" : False,\n",
    "        # model config\n",
    "        \"model_name\" : \"swin_s3_tiny_224\",\n",
    "        \"out_features\" : 20,\n",
    "        \"inp_channels\": 3*2,\n",
    "        \"num_img_feature\" : 5,\n",
    "        \"pretrained\" : True,\n",
    "        \n",
    "        \"roll_sum_window_size\" : 10,\n",
    "        \"features\" : ['x_position_1', 'y_position_1', 'x_position_2', 'y_position_2', \n",
    "                      'speed_1', 'distance_1', 'direction_1', 'orientation_1','acceleration_1', 'sa_1', \n",
    "                      'speed_2', 'distance_2', 'direction_2', 'orientation_2', 'acceleration_2', 'sa_2',\n",
    "                      'speed_diff', 'distance_diff', 'direction_diff', 'orientation_diff','acceleration_diff', 'sa_diff', # diff-feature\n",
    "                      'players_dis', 'is_ground'],\n",
    "        \"track_features_x_1\" : ['x_position_shift-6_1','x_position_shift-5_1', 'x_position_shift-4_1',\n",
    "                                'x_position_shift-3_1','x_position_shift-2_1', 'x_position_shift-1_1', \n",
    "                                'x_position_shift0_1','x_position_shift1_1', 'x_position_shift2_1', \n",
    "                                'x_position_shift3_1','x_position_shift4_1', 'x_position_shift5_1'],    \n",
    "        \"track_features_y_1\" : ['y_position_shift-6_1','y_position_shift-5_1', 'y_position_shift-4_1',\n",
    "                                'y_position_shift-3_1','y_position_shift-2_1', 'y_position_shift-1_1',\n",
    "                                'y_position_shift0_1','y_position_shift1_1', 'y_position_shift2_1',\n",
    "                                'y_position_shift3_1','y_position_shift4_1', 'y_position_shift5_1'],\n",
    "        \"track_features_x_2\" : ['x_position_shift-6_2','x_position_shift-5_2', 'x_position_shift-4_2',\n",
    "                                'x_position_shift-3_2','x_position_shift-2_2', 'x_position_shift-1_2',\n",
    "                                'x_position_shift0_2','x_position_shift1_2', 'x_position_shift2_2',\n",
    "                                'x_position_shift3_2','x_position_shift4_2', 'x_position_shift5_2'],\n",
    "        \"track_features_y_2\" : ['y_position_shift-6_2','y_position_shift-5_2', 'y_position_shift-4_2',\n",
    "                                'y_position_shift-3_2','y_position_shift-2_2', 'y_position_shift-1_2',\n",
    "                                'y_position_shift0_2','y_position_shift1_2', 'y_position_shift2_2',\n",
    "                                'y_position_shift3_2','y_position_shift4_2', 'y_position_shift5_2'],\n",
    "        # learning config\n",
    "        \"n_epoch\" : 5,\n",
    "        \"n_folds\": 3,\n",
    "        \"train_folds\" : [0,1,2],\n",
    "        \"lr\" : 1e-4,\n",
    "        \"T_max\" : 10,\n",
    "        \"min_lr\" : 1e-8,\n",
    "        \"weight_decay\" : 1e-6,\n",
    "\n",
    "        # etc\n",
    "        \"print_freq\" : 1000,\n",
    "        \"random_seed\" : 21,\n",
    "\n",
    "        # data config    \n",
    "        \"img_size\" : (224, 224),\n",
    "        \"batch_size\" : 32,\n",
    "        \"num_workers\" : 2,\n",
    "        \"masksize_helmet_ratio\" : 4, # helmetサイズにこの係数をかけたサイズだけ色を残して後は黒塗りする\n",
    "        \"TRAIN_VIDEO_NUM\" : 100,\n",
    "        \"VALID_VIDEO_NUM\" : 10,\n",
    "        \"sample_num\" : -1, \n",
    "\n",
    "        \"EXP_CATEGORY\" : \"exps_cudf\",\n",
    "        \"EXP_NAME\" : \"expC002_pretrain_players_swins3tiny\",\n",
    "}\n",
    "\n",
    "if CFG[\"DEBUG\"]:\n",
    "    CFG[\"EXP_CATEGORY\"] = \"DEBUG\"\n",
    "    CFG[\"EXP_NAME\"] = \"DEBUG\"\n",
    "    CFG[\"n_epoch\"] = 2\n",
    "    CFG[\"sample_num\"] = 1000\n",
    "    CFG[\"batch_size\"] = 32\n",
    "    CFG[\"train_folds\"] : [0,1]\n",
    "\n",
    "\n",
    "CFG[\"INPUT_DIR\"] = \"/workspace/input\"\n",
    "CFG[\"OUTPUT_DIR\"] = \"/workspace/output\"\n",
    "CFG[\"TRAIN_HELMET_CSV\"] = os.path.join(CFG[\"INPUT_DIR\"], \"train_baseline_helmets.csv\")\n",
    "CFG[\"TRAIN_TRACKING_CSV\"] = os.path.join(CFG[\"INPUT_DIR\"], \"train_player_tracking.csv\")\n",
    "CFG[\"TRAIN_VIDEO_META_CSV\"] = os.path.join(CFG[\"INPUT_DIR\"], \"train_video_metadata.csv\")\n",
    "CFG[\"TRAIN_LABEL_CSV\"] = os.path.join(CFG[\"INPUT_DIR\"], \"train_labels.csv\")\n",
    "CFG[\"SAVED_CONTACT_CSV\"] = os.path.join(CFG[\"INPUT_DIR\"], \"Saved_contact_frames.csv\")\n",
    "CFG[\"CONTACT_IMG_DIR\"] = os.path.join(CFG[\"INPUT_DIR\"], \"contact_images\")\n",
    "CFG[\"MODEL_DIR\"] = os.path.join(CFG[\"OUTPUT_DIR\"], CFG[\"EXP_NAME\"] ,\"model\")\n",
    "    \n",
    "if not CFG[\"kaggle\"] and not CFG[\"DEBUG\"]:\n",
    "    os.mkdir(os.path.join(CFG[\"OUTPUT_DIR\"], CFG[\"EXP_NAME\"]))\n",
    "    os.mkdir(CFG[\"MODEL_DIR\"])\n"
   ]
  },
  {
   "cell_type": "code",
   "execution_count": 3,
   "id": "1ba088d8",
   "metadata": {
    "execution": {
     "iopub.execute_input": "2023-01-30T08:49:43.708637Z",
     "iopub.status.busy": "2023-01-30T08:49:43.707879Z",
     "iopub.status.idle": "2023-01-30T08:49:54.657063Z",
     "shell.execute_reply": "2023-01-30T08:49:54.656038Z"
    },
    "papermill": {
     "duration": 10.960148,
     "end_time": "2023-01-30T08:49:54.660335",
     "exception": false,
     "start_time": "2023-01-30T08:49:43.700187",
     "status": "completed"
    },
    "tags": []
   },
   "outputs": [],
   "source": [
    "if CFG[\"kaggle\"]:\n",
    "    os.environ[\"WANDB_SILENT\"] = \"true\"\n",
    "    WANDB_CONFIG = {'competition': 'NFL', '_wandb_kernel': 'taro'}\n",
    "    # Secrets\n",
    "    from kaggle_secrets import UserSecretsClient\n",
    "    user_secrets = UserSecretsClient()\n",
    "    secret_value_0 = user_secrets.get_secret(\"wandb\")\n",
    "\n",
    "    !wandb login $secret_value_0\n",
    "    #! TODO : logger settings\n",
    "    wandb.init(project=WANDB_CONFIG[\"competition\"], config=CFG, group=CFG[\"EXP_CATEGORY\"], name=CFG[\"EXP_NAME\"])\n",
    "\n",
    "else:\n",
    "    mlflow.set_tracking_uri(\"/workspace/mlruns\")\n",
    "    experiment = mlflow.get_experiment_by_name(CFG[\"EXP_CATEGORY\"])\n",
    "    if experiment is None:  # 当該Experiment存在しないとき、新たに作成\n",
    "        experiment_id = mlflow.create_experiment(name=CFG[\"EXP_CATEGORY\"])\n",
    "    else: # 当該Experiment存在するとき、IDを取得\n",
    "        experiment_id = experiment.experiment_id"
   ]
  },
  {
   "cell_type": "markdown",
   "id": "5a7f724e",
   "metadata": {
    "_kg_hide-input": true,
    "papermill": {
     "duration": 0.010513,
     "end_time": "2023-01-30T08:49:54.682696",
     "exception": false,
     "start_time": "2023-01-30T08:49:54.672183",
     "status": "completed"
    },
    "tags": []
   },
   "source": [
    "# Utils"
   ]
  },
  {
   "cell_type": "code",
   "execution_count": 4,
   "id": "2424714e",
   "metadata": {
    "_kg_hide-input": true,
    "execution": {
     "iopub.execute_input": "2023-01-30T08:49:54.705885Z",
     "iopub.status.busy": "2023-01-30T08:49:54.705532Z",
     "iopub.status.idle": "2023-01-30T08:49:54.718807Z",
     "shell.execute_reply": "2023-01-30T08:49:54.718014Z"
    },
    "papermill": {
     "duration": 0.027849,
     "end_time": "2023-01-30T08:49:54.721410",
     "exception": false,
     "start_time": "2023-01-30T08:49:54.693561",
     "status": "completed"
    },
    "tags": []
   },
   "outputs": [],
   "source": [
    "def logging_metrics_epoch(fold, epoch, train_loss_avg, valid_loss_avg, score, threshold, tn_best, fp_best, fn_best, tp_best):\n",
    "    if CFG[\"kaggle\"]:\n",
    "        wandb.log({\"loss avg\":{f\"train/fold{fold}\": train_loss_avg,\n",
    "                                f\"valid/fold{fold}\": valid_loss_avg}}, step=epoch)\n",
    "        wandb.log({\"Metircs\" : {f\"score/fold{fold}\":score,\n",
    "                                f\"score threshold/fold{fold}\":threshold,\n",
    "                                f\"tn/fold{fold}\":tn_best,\n",
    "                                f\"fp/fold{fold}\":fp_best,\n",
    "                                f\"fn/fold{fold}\":fn_best,\n",
    "                                f\"tp/fold{fold}\":tp_best,}}, step=epoch)\n",
    "    else:\n",
    "        mlflow.log_metric(f\"fold{fold} train loss avg\", train_loss_avg, step=epoch)\n",
    "        mlflow.log_metric(f\"fold{fold} valid loss avg\", valid_loss_avg, step=epoch)\n",
    "        mlflow.log_metric(f\"fold{fold} score\", score, step=epoch)\n",
    "        mlflow.log_metric(f\"fold{fold} score threshold\", threshold, step=epoch)\n",
    "        mlflow.log_metric(f\"fold{fold} tn\", tn_best, step=epoch)\n",
    "        mlflow.log_metric(f\"fold{fold} fp\", fp_best, step=epoch)\n",
    "        mlflow.log_metric(f\"fold{fold} fn\", fn_best, step=epoch)\n",
    "        mlflow.log_metric(f\"fold{fold} tp\", tp_best, step=epoch)"
   ]
  },
  {
   "cell_type": "code",
   "execution_count": 5,
   "id": "dd4dd1e8",
   "metadata": {
    "_kg_hide-input": true,
    "execution": {
     "iopub.execute_input": "2023-01-30T08:49:54.744919Z",
     "iopub.status.busy": "2023-01-30T08:49:54.744606Z",
     "iopub.status.idle": "2023-01-30T08:49:54.823188Z",
     "shell.execute_reply": "2023-01-30T08:49:54.822272Z"
    },
    "papermill": {
     "duration": 0.093141,
     "end_time": "2023-01-30T08:49:54.825976",
     "exception": false,
     "start_time": "2023-01-30T08:49:54.732835",
     "status": "completed"
    },
    "tags": []
   },
   "outputs": [
    {
     "name": "stdout",
     "output_type": "stream",
     "text": [
      "Using device: cuda\n"
     ]
    }
   ],
   "source": [
    "def seed_everything(seed=CFG[\"random_seed\"]):\n",
    "    #os.environ['PYTHONSEED'] = str(seed)\n",
    "    np.random.seed(seed%(2**32-1))\n",
    "    random.seed(seed)\n",
    "    torch.manual_seed(seed)\n",
    "    torch.cuda.manual_seed(seed)\n",
    "    torch.backends.cudnn.deterministic =True\n",
    "    torch.backends.cudnn.benchmark = False\n",
    "seed_everything()\n",
    "\n",
    "# device optimization\n",
    "if torch.cuda.is_available():\n",
    "    device = torch.device('cuda')\n",
    "else:\n",
    "    device = torch.device('cpu')\n",
    "print(f'Using device: {device}')"
   ]
  },
  {
   "cell_type": "code",
   "execution_count": 6,
   "id": "98f2eedf",
   "metadata": {
    "_kg_hide-input": true,
    "execution": {
     "iopub.execute_input": "2023-01-30T08:49:54.849168Z",
     "iopub.status.busy": "2023-01-30T08:49:54.848824Z",
     "iopub.status.idle": "2023-01-30T08:49:54.861112Z",
     "shell.execute_reply": "2023-01-30T08:49:54.860266Z"
    },
    "papermill": {
     "duration": 0.026867,
     "end_time": "2023-01-30T08:49:54.863885",
     "exception": false,
     "start_time": "2023-01-30T08:49:54.837018",
     "status": "completed"
    },
    "tags": []
   },
   "outputs": [],
   "source": [
    "def asMinutes(s):\n",
    "    \"\"\"Convert Seconds to Minutes.\"\"\"\n",
    "    m = math.floor(s / 60)\n",
    "    s -= m * 60\n",
    "    return '%dm %ds' % (m, s)\n",
    "\n",
    "def timeSince(since, percent):\n",
    "    \"\"\"Accessing and Converting Time Data.\"\"\"\n",
    "    now = time.time()\n",
    "    s = now - since\n",
    "    es = s / (percent)\n",
    "    rs = es - s\n",
    "    return '%s (remain %s)' % (asMinutes(s), asMinutes(rs))\n",
    "\n",
    "class AverageMeter(object):\n",
    "    \"\"\"Computes and stores the average and current value.\"\"\"\n",
    "    def __init__(self):\n",
    "        self.reset()\n",
    "\n",
    "    def reset(self):\n",
    "        self.val = 0\n",
    "        self.avg = 0\n",
    "        self.sum = 0\n",
    "        self.count = 0\n",
    "\n",
    "    def update(self, val, n=1):\n",
    "        self.val = val\n",
    "        self.sum += val * n\n",
    "        self.count += n\n",
    "        self.avg = self.sum / self.count"
   ]
  },
  {
   "cell_type": "markdown",
   "id": "79bc38da",
   "metadata": {
    "_kg_hide-input": true,
    "papermill": {
     "duration": 0.010587,
     "end_time": "2023-01-30T08:49:54.885281",
     "exception": false,
     "start_time": "2023-01-30T08:49:54.874694",
     "status": "completed"
    },
    "tags": []
   },
   "source": [
    "## Dataset Utils"
   ]
  },
  {
   "cell_type": "code",
   "execution_count": 7,
   "id": "521b8428",
   "metadata": {
    "_kg_hide-input": true,
    "execution": {
     "iopub.execute_input": "2023-01-30T08:49:54.908441Z",
     "iopub.status.busy": "2023-01-30T08:49:54.908021Z",
     "iopub.status.idle": "2023-01-30T08:49:54.920542Z",
     "shell.execute_reply": "2023-01-30T08:49:54.919709Z"
    },
    "papermill": {
     "duration": 0.026542,
     "end_time": "2023-01-30T08:49:54.922835",
     "exception": false,
     "start_time": "2023-01-30T08:49:54.896293",
     "status": "completed"
    },
    "tags": []
   },
   "outputs": [],
   "source": [
    "def set_inimg_window(crop_pos, mask_size, img_size=(720, 1280)):#crop_pos = [left, top, right, bot]\n",
    "    if mask_size[1] >= img_size[0]:\n",
    "        top, bot = 0, img_size[1]\n",
    "    else:\n",
    "        top=(crop_pos[1] + crop_pos[3])//2 - mask_size[1]//2\n",
    "        bot=(crop_pos[1] + crop_pos[3])//2 + mask_size[1]//2\n",
    "        if top < 0:\n",
    "            bot = bot - top\n",
    "            top = 0\n",
    "        elif bot > img_size[0]:\n",
    "            top = top - (bot-img_size[0])\n",
    "            bot = img_size[0]\n",
    "\n",
    "    if mask_size[0] >= img_size[1]:\n",
    "        left, right = 0, img_size[1]\n",
    "    else:\n",
    "        left = (crop_pos[0] + crop_pos[2])//2 - mask_size[0]//2\n",
    "        right = (crop_pos[0] + crop_pos[2])//2 + mask_size[0]//2\n",
    "        if left < 0:\n",
    "            right = right - left\n",
    "            left = 0\n",
    "        elif right > img_size[1]:\n",
    "            left = left - (right - img_size[1])\n",
    "            right = img_size[1]\n",
    "    crop_area = np.array([left, top, right, bot]).astype(np.int)\n",
    "    return crop_area"
   ]
  },
  {
   "cell_type": "code",
   "execution_count": 8,
   "id": "773703d6",
   "metadata": {
    "_kg_hide-input": true,
    "execution": {
     "iopub.execute_input": "2023-01-30T08:49:54.946017Z",
     "iopub.status.busy": "2023-01-30T08:49:54.945672Z",
     "iopub.status.idle": "2023-01-30T08:49:54.963283Z",
     "shell.execute_reply": "2023-01-30T08:49:54.962429Z"
    },
    "papermill": {
     "duration": 0.031759,
     "end_time": "2023-01-30T08:49:54.965595",
     "exception": false,
     "start_time": "2023-01-30T08:49:54.933836",
     "status": "completed"
    },
    "tags": []
   },
   "outputs": [],
   "source": [
    "def get_crop_area(p1_helmet, p2_helmet, input_size=(720, 1280)):#helmet[left, width, top, height]\n",
    "    if (p1_helmet[1]==0 and p1_helmet[3]==0) and (p2_helmet[1]==0 and p2_helmet[3]==0):\n",
    "        crop_area = [0, 0, input_size[1], input_size[0]]\n",
    "        # print(\"bose player's helmet is not detected.\")\n",
    "        return crop_area\n",
    "    elif (p2_helmet[1]==0 and p2_helmet[3]==0) and (p1_helmet[1] != 0 and p1_helmet[3]!=0):\n",
    "        # print(\"p1 detected.\")\n",
    "        crop_x_center, crop_y_center = p1_helmet[0] + (p1_helmet[1])//2, p1_helmet[2] + (p1_helmet[3])//2\n",
    "        helmet_base_size = (p1_helmet[1] + p1_helmet[3])*0.5*CFG[\"masksize_helmet_ratio\"]*4\n",
    "        output_size = [helmet_base_size, helmet_base_size]\n",
    "    elif (p1_helmet[1]==0 and p1_helmet[3]==0) and (p2_helmet[1]!=0 and p2_helmet[3]!=0):\n",
    "        # print(\"p2 detected.\")\n",
    "        crop_x_center, crop_y_center = p2_helmet[0] + (p2_helmet[1])//2, p2_helmet[2] + (p2_helmet[3])//2\n",
    "        helmet_base_size = (p2_helmet[1] + p2_helmet[3])*0.5*CFG[\"masksize_helmet_ratio\"]*4\n",
    "        output_size = [helmet_base_size, helmet_base_size]\n",
    "    else:\n",
    "    #     print(\"p1 and p2 detected.\")\n",
    "        p1_x_center, p1_y_center = p1_helmet[0] + (p1_helmet[1])//2, p1_helmet[2] + (p1_helmet[3])//2\n",
    "        p2_x_center, p2_y_center = p2_helmet[0] + (p2_helmet[1])//2, p2_helmet[2] + (p2_helmet[3])//2\n",
    "        crop_x_center, crop_y_center = (p1_x_center + p2_x_center)//2, (p1_y_center + p2_y_center)//2\n",
    "        helmet_base_size = (abs(p1_x_center - p2_x_center) + abs(p1_y_center - p2_y_center))*0.5 \\\n",
    "                            + ((p1_helmet[1] + p2_helmet[1])*0.5 + (p1_helmet[3] + p2_helmet[3])*0.5)*0.5*CFG[\"masksize_helmet_ratio\"]*2\n",
    "        output_size = [helmet_base_size, helmet_base_size]\n",
    "    \n",
    "    # print(\"crop center\", crop_x_center, crop_y_center)\n",
    "    crop_left = crop_x_center - output_size[1]//2\n",
    "    crop_top = crop_y_center - output_size[0]//2\n",
    "    crop_right = crop_x_center + output_size[1]//2\n",
    "    crop_bot = crop_y_center + output_size[0]//2\n",
    "    crop_area = [crop_left, crop_top, crop_right, crop_bot]\n",
    "    crop_area = set_inimg_window(crop_area, output_size)\n",
    "    return crop_area"
   ]
  },
  {
   "cell_type": "code",
   "execution_count": 9,
   "id": "693d4203",
   "metadata": {
    "_kg_hide-input": true,
    "execution": {
     "iopub.execute_input": "2023-01-30T08:49:54.989115Z",
     "iopub.status.busy": "2023-01-30T08:49:54.988778Z",
     "iopub.status.idle": "2023-01-30T08:49:54.998101Z",
     "shell.execute_reply": "2023-01-30T08:49:54.997265Z"
    },
    "papermill": {
     "duration": 0.024266,
     "end_time": "2023-01-30T08:49:55.000613",
     "exception": false,
     "start_time": "2023-01-30T08:49:54.976347",
     "status": "completed"
    },
    "tags": []
   },
   "outputs": [],
   "source": [
    "def get_playermasked_img(img, helmet_pos, img_size=(720, 1280, 3)):#helmet pos = [left, width, top, height]\n",
    "    if helmet_pos[1] == 0 and helmet_pos[3] == 0:\n",
    "        mask = np.ones_like(img)\n",
    "        return mask\n",
    "    mask_size=(helmet_pos[1]+helmet_pos[3])*0.5*CFG[\"masksize_helmet_ratio\"]# helmetの大きさによってplayerの範囲も変更\n",
    "    helmet_area = [helmet_pos[0], helmet_pos[2], helmet_pos[0]+helmet_pos[1], helmet_pos[2]+helmet_pos[3]]#[left, top, right, bot]\n",
    "    player_area = set_inimg_window(helmet_area, (mask_size,mask_size))\n",
    "    mask = np.zeros(img_size, dtype=np.float)\n",
    "    cv2.rectangle(mask, [player_area[0], player_area[1]], [player_area[2], player_area[3]], (255, 255, 255), -1)\n",
    "    mask = np.clip(mask, 0, 1).astype(np.float)\n",
    "    return mask"
   ]
  },
  {
   "cell_type": "code",
   "execution_count": 10,
   "id": "ec441854",
   "metadata": {
    "execution": {
     "iopub.execute_input": "2023-01-30T08:49:55.024426Z",
     "iopub.status.busy": "2023-01-30T08:49:55.023983Z",
     "iopub.status.idle": "2023-01-30T08:49:55.041808Z",
     "shell.execute_reply": "2023-01-30T08:49:55.041010Z"
    },
    "papermill": {
     "duration": 0.032088,
     "end_time": "2023-01-30T08:49:55.044105",
     "exception": false,
     "start_time": "2023-01-30T08:49:55.012017",
     "status": "completed"
    },
    "tags": []
   },
   "outputs": [],
   "source": [
    "def get_view_img(target_info, transform=None):\n",
    "    game_play = target_info.game_play\n",
    "    frame = target_info.frame\n",
    "    view = target_info.EorS\n",
    "    file_id = f\"{game_play}_{view}.mp4_{frame:04}.jpg\"\n",
    "    filename = os.path.join(CFG[\"TRAIN_IMG_DIR\"], file_id)\n",
    "    img = cv2.imread(filename)\n",
    "    if img is None:\n",
    "        img = np.zeros((224, 224, 3))\n",
    "        img = np.transpose(img, (2, 0, 1)).astype(np.float32)\n",
    "        img = torch.tensor(img, dtype=torch.float32)\n",
    "    else:\n",
    "        img = cv2.cvtColor(img, cv2.COLOR_BGR2RGB)\n",
    "        # player highlight mask\n",
    "        player1 = target_info.nfl_player_id_1\n",
    "        player2 = target_info.nfl_player_id_2\n",
    "        if view == \"Endzone\":\n",
    "            p1_helmet = np.array([target_info.E_left_1, target_info.E_width_1,\n",
    "                                target_info.E_top_1, target_info.E_height_1]).astype(np.int)\n",
    "            p2_helmet = np.array([target_info.E_left_2, target_info.E_width_2,\n",
    "                                target_info.E_top_2, target_info.E_height_2]).astype(np.int)\n",
    "        else:\n",
    "            p1_helmet = np.array([target_info.S_left_1, target_info.S_width_1,\n",
    "                                target_info.S_top_1, target_info.S_height_1]).astype(np.int)\n",
    "            p2_helmet = np.array([target_info.S_left_2, target_info.S_width_2,\n",
    "                                target_info.S_top_2, target_info.S_height_2]).astype(np.int)            \n",
    "        mask1 = get_playermasked_img(img, p1_helmet)# helmet=[left, width, top, height]\n",
    "        mask2 = get_playermasked_img(img, p2_helmet)\n",
    "        mask = np.clip(mask1 + mask2, 0, 1).astype(np.float32)\n",
    "        img = mask*img\n",
    "        # crop players area\n",
    "        crop_area = get_crop_area(p1_helmet, p2_helmet)# crop_area=[left, top, right, bot]\n",
    "\n",
    "        img = img[crop_area[1]:crop_area[3], crop_area[0]:crop_area[2], :]\n",
    "        img = cv2.resize(img, dsize=CFG[\"img_size\"])\n",
    "        if transform:\n",
    "            img = transform(image=img)[\"image\"]\n",
    "        else:\n",
    "            img = img / 255. # convert to 0-1\n",
    "            img = np.transpose(img, (2, 0, 1)).astype(np.float32)\n",
    "    return img"
   ]
  },
  {
   "cell_type": "markdown",
   "id": "cc1ba7da",
   "metadata": {
    "papermill": {
     "duration": 0.010838,
     "end_time": "2023-01-30T08:49:55.065712",
     "exception": false,
     "start_time": "2023-01-30T08:49:55.054874",
     "status": "completed"
    },
    "tags": []
   },
   "source": [
    "----"
   ]
  },
  {
   "cell_type": "markdown",
   "id": "b3552968",
   "metadata": {
    "papermill": {
     "duration": 0.01053,
     "end_time": "2023-01-30T08:49:55.087295",
     "exception": false,
     "start_time": "2023-01-30T08:49:55.076765",
     "status": "completed"
    },
    "tags": []
   },
   "source": [
    "# Load Data"
   ]
  },
  {
   "cell_type": "code",
   "execution_count": 11,
   "id": "ff565aff",
   "metadata": {
    "execution": {
     "iopub.execute_input": "2023-01-30T08:49:55.110875Z",
     "iopub.status.busy": "2023-01-30T08:49:55.110555Z",
     "iopub.status.idle": "2023-01-30T08:50:19.647061Z",
     "shell.execute_reply": "2023-01-30T08:50:19.646038Z"
    },
    "papermill": {
     "duration": 24.551879,
     "end_time": "2023-01-30T08:50:19.650247",
     "exception": false,
     "start_time": "2023-01-30T08:49:55.098368",
     "status": "completed"
    },
    "tags": []
   },
   "outputs": [
    {
     "ename": "KeyError",
     "evalue": "'TARGET_CSV'",
     "output_type": "error",
     "traceback": [
      "\u001b[0;31m---------------------------------------------------------------------------\u001b[0m",
      "\u001b[0;31mKeyError\u001b[0m                                  Traceback (most recent call last)",
      "\u001b[0;32m/tmp/ipykernel_2374/2774033377.py\u001b[0m in \u001b[0;36m<module>\u001b[0;34m\u001b[0m\n\u001b[0;32m----> 1\u001b[0;31m \u001b[0mtarget_df\u001b[0m \u001b[0;34m=\u001b[0m \u001b[0mpd\u001b[0m\u001b[0;34m.\u001b[0m\u001b[0mread_csv\u001b[0m\u001b[0;34m(\u001b[0m\u001b[0mCFG\u001b[0m\u001b[0;34m[\u001b[0m\u001b[0;34m\"TARGET_CSV\"\u001b[0m\u001b[0;34m]\u001b[0m\u001b[0;34m)\u001b[0m \u001b[0;31m# created by cudf (only distance < 2)\u001b[0m\u001b[0;34m\u001b[0m\u001b[0;34m\u001b[0m\u001b[0m\n\u001b[0m\u001b[1;32m      2\u001b[0m \u001b[0mtarget_df\u001b[0m \u001b[0;34m=\u001b[0m \u001b[0mtarget_df\u001b[0m\u001b[0;34m.\u001b[0m\u001b[0mfillna\u001b[0m\u001b[0;34m(\u001b[0m\u001b[0;36m0\u001b[0m\u001b[0;34m)\u001b[0m\u001b[0;34m\u001b[0m\u001b[0;34m\u001b[0m\u001b[0m\n\u001b[1;32m      3\u001b[0m \u001b[0;34m\u001b[0m\u001b[0m\n\u001b[1;32m      4\u001b[0m \u001b[0msaved_frame_df\u001b[0m \u001b[0;34m=\u001b[0m \u001b[0mpd\u001b[0m\u001b[0;34m.\u001b[0m\u001b[0mread_csv\u001b[0m\u001b[0;34m(\u001b[0m\u001b[0mCFG\u001b[0m\u001b[0;34m[\u001b[0m\u001b[0;34m\"SAVED_FRAME_CSV\"\u001b[0m\u001b[0;34m]\u001b[0m\u001b[0;34m)\u001b[0m\u001b[0;34m\u001b[0m\u001b[0;34m\u001b[0m\u001b[0m\n\u001b[1;32m      5\u001b[0m \u001b[0msaved_contact_id\u001b[0m \u001b[0;34m=\u001b[0m \u001b[0mlist\u001b[0m\u001b[0;34m(\u001b[0m\u001b[0msaved_frame_df\u001b[0m\u001b[0;34m[\u001b[0m\u001b[0;34m\"contact_id\"\u001b[0m\u001b[0;34m]\u001b[0m\u001b[0;34m.\u001b[0m\u001b[0munique\u001b[0m\u001b[0;34m(\u001b[0m\u001b[0;34m)\u001b[0m\u001b[0;34m)\u001b[0m\u001b[0;34m\u001b[0m\u001b[0;34m\u001b[0m\u001b[0m\n",
      "\u001b[0;31mKeyError\u001b[0m: 'TARGET_CSV'"
     ]
    }
   ],
   "source": [
    "target_df = pd.read_csv(CFG[\"TARGET_CSV\"]) # created by cudf (only distance < 2)\n",
    "target_df = target_df.fillna(0)\n",
    "\n",
    "saved_frame_df = pd.read_csv(CFG[\"SAVED_FRAME_CSV\"])\n",
    "saved_contact_id = list(saved_frame_df[\"contact_id\"].unique())\n",
    "\n",
    "target_df = target_df[target_df[\"contact_id\"].isin(saved_contact_id)]\n",
    "\n",
    "# print(target_df[\"game_play\"].unique())\n",
    "# print(len(target_df[\"game_play\"].unique()))"
   ]
  },
  {
   "cell_type": "markdown",
   "id": "4bc60d12",
   "metadata": {
    "papermill": {
     "duration": 0.023368,
     "end_time": "2023-01-30T08:50:19.697664",
     "exception": false,
     "start_time": "2023-01-30T08:50:19.674296",
     "status": "completed"
    },
    "tags": []
   },
   "source": [
    "## reduce data"
   ]
  },
  {
   "cell_type": "code",
   "execution_count": null,
   "id": "cde7aea4",
   "metadata": {
    "execution": {
     "iopub.execute_input": "2023-01-30T08:50:19.739067Z",
     "iopub.status.busy": "2023-01-30T08:50:19.738662Z",
     "iopub.status.idle": "2023-01-30T08:50:19.873776Z",
     "shell.execute_reply": "2023-01-30T08:50:19.872858Z"
    },
    "papermill": {
     "duration": 0.163401,
     "end_time": "2023-01-30T08:50:19.876428",
     "exception": false,
     "start_time": "2023-01-30T08:50:19.713027",
     "status": "completed"
    },
    "tags": []
   },
   "outputs": [],
   "source": [
    "target_game_plays = target_df[\"game_play\"].unique()[:6]\n",
    "target_df = target_df[target_df[\"game_play\"].isin(target_game_plays)]\n",
    "print(len(target_df))"
   ]
  },
  {
   "cell_type": "code",
   "execution_count": null,
   "id": "ed990725",
   "metadata": {
    "execution": {
     "iopub.execute_input": "2023-01-30T08:50:19.917937Z",
     "iopub.status.busy": "2023-01-30T08:50:19.917605Z",
     "iopub.status.idle": "2023-01-30T08:50:19.957438Z",
     "shell.execute_reply": "2023-01-30T08:50:19.956646Z"
    },
    "papermill": {
     "duration": 0.063402,
     "end_time": "2023-01-30T08:50:19.959789",
     "exception": false,
     "start_time": "2023-01-30T08:50:19.896387",
     "status": "completed"
    },
    "tags": []
   },
   "outputs": [],
   "source": [
    "target_df.loc[:, target_df.isnull().any()].columns"
   ]
  },
  {
   "cell_type": "markdown",
   "id": "f141dd02",
   "metadata": {
    "papermill": {
     "duration": 0.020383,
     "end_time": "2023-01-30T08:50:20.007435",
     "exception": false,
     "start_time": "2023-01-30T08:50:19.987052",
     "status": "completed"
    },
    "tags": []
   },
   "source": [
    "# only use have Endzone helmet infom"
   ]
  },
  {
   "cell_type": "code",
   "execution_count": null,
   "id": "7208b79a",
   "metadata": {
    "execution": {
     "iopub.execute_input": "2023-01-30T08:50:20.054120Z",
     "iopub.status.busy": "2023-01-30T08:50:20.053756Z",
     "iopub.status.idle": "2023-01-30T08:50:20.174231Z",
     "shell.execute_reply": "2023-01-30T08:50:20.173318Z"
    },
    "papermill": {
     "duration": 0.151031,
     "end_time": "2023-01-30T08:50:20.176767",
     "exception": false,
     "start_time": "2023-01-30T08:50:20.025736",
     "status": "completed"
    },
    "tags": []
   },
   "outputs": [],
   "source": [
    "target_df[\"is_E_helmet\"] = 1 -  ((target_df[\"E_width_1\"]==0) & (target_df[\"E_width_2\"]==0)).astype(int)\n",
    "target_df[\"is_S_helmet\"] = 1 -  ((target_df[\"S_width_1\"]==0) & (target_df[\"S_width_2\"]==0)).astype(int)\n",
    "target_df[\"is_helmet\"] = (target_df[\"is_E_helmet\"] + target_df[\"is_S_helmet\"] > 0).astype(int)\n",
    "target_df = target_df[target_df[\"is_ground\"]==0]\n",
    "\n",
    "target_df_E = target_df[target_df[\"is_E_helmet\"]==1]\n",
    "target_df_E[\"EorS\"] = \"Endzone\"\n",
    "\n",
    "target_df_S = target_df[target_df[\"is_S_helmet\"]==1]\n",
    "target_df_S[\"EorS\"] = \"Sideline\"\n",
    "\n",
    "target_df = pd.concat([target_df_E, target_df_S], axis=0).reset_index(drop=True)\n",
    "\n",
    "if CFG[\"DEBUG\"]:\n",
    "    target_df = target_df.sample(CFG[\"sample_num\"]).reset_index(drop=True)\n",
    "elif CFG[\"sample_num\"] != -1:\n",
    "    target_df = target_df.sample(CFG[\"sample_num\"]).reset_index(drop=True)\n",
    "\n",
    "print(len(target_df))\n",
    "print(len(target_df[\"game_play\"].unique()))\n",
    "display(target_df[\"contact\"].value_counts())"
   ]
  },
  {
   "cell_type": "markdown",
   "id": "9db98d31",
   "metadata": {
    "papermill": {
     "duration": 0.021416,
     "end_time": "2023-01-30T08:50:20.222740",
     "exception": false,
     "start_time": "2023-01-30T08:50:20.201324",
     "status": "completed"
    },
    "tags": []
   },
   "source": [
    "# Augmentation"
   ]
  },
  {
   "cell_type": "code",
   "execution_count": null,
   "id": "9a51f402",
   "metadata": {
    "execution": {
     "iopub.execute_input": "2023-01-30T08:50:20.266138Z",
     "iopub.status.busy": "2023-01-30T08:50:20.265782Z",
     "iopub.status.idle": "2023-01-30T08:50:20.273839Z",
     "shell.execute_reply": "2023-01-30T08:50:20.273022Z"
    },
    "papermill": {
     "duration": 0.037794,
     "end_time": "2023-01-30T08:50:20.284076",
     "exception": false,
     "start_time": "2023-01-30T08:50:20.246282",
     "status": "completed"
    },
    "tags": []
   },
   "outputs": [],
   "source": [
    "train_transform = A.Compose([\n",
    "    A.HorizontalFlip(p=0.5),\n",
    "    A.RandomBrightnessContrast(brightness_limit=(-0.1, 0.1), contrast_limit=(-0.3, 0.3), p=0.5),\n",
    "    A.Normalize(mean=[0.], std=[1.0]),\n",
    "    ToTensorV2()\n",
    "])\n",
    "\n",
    "valid_transform = A.Compose([\n",
    "    A.Normalize(mean=[0.], std=[1.0]),\n",
    "    ToTensorV2()\n",
    "])"
   ]
  },
  {
   "cell_type": "markdown",
   "id": "9e8a6839",
   "metadata": {
    "papermill": {
     "duration": 0.019225,
     "end_time": "2023-01-30T08:50:20.320069",
     "exception": false,
     "start_time": "2023-01-30T08:50:20.300844",
     "status": "completed"
    },
    "tags": []
   },
   "source": [
    "# Dataset"
   ]
  },
  {
   "cell_type": "code",
   "execution_count": null,
   "id": "def9cd49",
   "metadata": {
    "execution": {
     "iopub.execute_input": "2023-01-30T08:50:20.358504Z",
     "iopub.status.busy": "2023-01-30T08:50:20.358156Z",
     "iopub.status.idle": "2023-01-30T08:50:20.380651Z",
     "shell.execute_reply": "2023-01-30T08:50:20.379862Z"
    },
    "papermill": {
     "duration": 0.044391,
     "end_time": "2023-01-30T08:50:20.383069",
     "exception": false,
     "start_time": "2023-01-30T08:50:20.338678",
     "status": "completed"
    },
    "tags": []
   },
   "outputs": [],
   "source": [
    "class NFLDataset(Dataset):\n",
    "    def __init__(self, target_df, transform=None):\n",
    "        self.target_df = target_df\n",
    "        self.transform = transform\n",
    "\n",
    "    def __len__(self):\n",
    "        return len(self.target_df)\n",
    "\n",
    "    def __getitem__(self, idx):\n",
    "        target_info = self.target_df.iloc[idx]\n",
    "        target = target_info.contact\n",
    "        # read frame image\n",
    "        img = get_view_img(target_info, self.transform)\n",
    "        img = torch.tensor(img, dtype=torch.float32)\n",
    "        target = torch.tensor(target, dtype=torch.float32)\n",
    "        return img, target"
   ]
  },
  {
   "cell_type": "code",
   "execution_count": null,
   "id": "4c023b30",
   "metadata": {
    "execution": {
     "iopub.execute_input": "2023-01-30T08:50:20.435165Z",
     "iopub.status.busy": "2023-01-30T08:50:20.434842Z",
     "iopub.status.idle": "2023-01-30T08:50:20.446656Z",
     "shell.execute_reply": "2023-01-30T08:50:20.445879Z"
    },
    "papermill": {
     "duration": 0.045564,
     "end_time": "2023-01-30T08:50:20.455013",
     "exception": false,
     "start_time": "2023-01-30T08:50:20.409449",
     "status": "completed"
    },
    "tags": []
   },
   "outputs": [],
   "source": [
    "if CFG[\"DEBUG\"]:\n",
    "    show_img_num = 4\n",
    "\n",
    "    pick_df = target_df[target_df[\"contact\"]==1]\n",
    "    train_dataset = NFLDataset(pick_df)\n",
    "    train_loader = DataLoader(\n",
    "        train_dataset,\n",
    "        batch_size = show_img_num,\n",
    "        shuffle = True,\n",
    "        num_workers = CFG[\"num_workers\"],\n",
    "        pin_memory = True\n",
    "    )\n",
    "    for batch_idx, (images, targets) in enumerate(train_loader):\n",
    "        fig = plt.figure(figsize=(12, 25))\n",
    "        print(images.shape)\n",
    "        for idx in range(show_img_num):\n",
    "            img = images[idx].numpy()\n",
    "            img = img.transpose((1,2,0))\n",
    "            fig.add_subplot(1,show_img_num ,idx+1)\n",
    "            plt.imshow(img)\n",
    "            plt.title(targets[idx].numpy())\n",
    "        plt.show()\n",
    "        break\n",
    "    del train_loader, train_dataset"
   ]
  },
  {
   "cell_type": "markdown",
   "id": "b4cbd506",
   "metadata": {
    "papermill": {
     "duration": 0.02694,
     "end_time": "2023-01-30T08:50:20.500045",
     "exception": false,
     "start_time": "2023-01-30T08:50:20.473105",
     "status": "completed"
    },
    "tags": []
   },
   "source": [
    "# Model"
   ]
  },
  {
   "cell_type": "code",
   "execution_count": null,
   "id": "46d7a470",
   "metadata": {
    "execution": {
     "iopub.execute_input": "2023-01-30T08:50:20.547241Z",
     "iopub.status.busy": "2023-01-30T08:50:20.546883Z",
     "iopub.status.idle": "2023-01-30T08:50:20.560164Z",
     "shell.execute_reply": "2023-01-30T08:50:20.559196Z"
    },
    "papermill": {
     "duration": 0.040576,
     "end_time": "2023-01-30T08:50:20.565748",
     "exception": false,
     "start_time": "2023-01-30T08:50:20.525172",
     "status": "completed"
    },
    "tags": []
   },
   "outputs": [],
   "source": [
    "# without meta\n",
    "class NFLNet(nn.Module):\n",
    "    def __init__(\n",
    "        self,\n",
    "        model_name = CFG[\"model_name\"],\n",
    "        out_features = CFG[\"num_img_feature\"],\n",
    "        inp_channels= CFG[\"inp_channels\"],\n",
    "        pretrained = CFG[\"pretrained\"]\n",
    "    ):\n",
    "        super().__init__()\n",
    "        self.model = timm.create_model(model_name, pretrained=pretrained, in_chans=inp_channels, num_classes=out_features)\n",
    "        self.fc = nn.Linear(CFG[\"num_img_feature\"], 1)\n",
    "\n",
    "    def forward(self, img):\n",
    "        img_emb = self.model(img)\n",
    "        output = self.fc(img_emb)\n",
    "        return output, img_emb"
   ]
  },
  {
   "cell_type": "markdown",
   "id": "25343b3b",
   "metadata": {
    "papermill": {
     "duration": 0.01784,
     "end_time": "2023-01-30T08:50:20.602120",
     "exception": false,
     "start_time": "2023-01-30T08:50:20.584280",
     "status": "completed"
    },
    "tags": []
   },
   "source": [
    "# train fn"
   ]
  },
  {
   "cell_type": "code",
   "execution_count": null,
   "id": "f10e311b",
   "metadata": {
    "execution": {
     "iopub.execute_input": "2023-01-30T08:50:20.647154Z",
     "iopub.status.busy": "2023-01-30T08:50:20.646835Z",
     "iopub.status.idle": "2023-01-30T08:50:20.667287Z",
     "shell.execute_reply": "2023-01-30T08:50:20.666476Z"
    },
    "papermill": {
     "duration": 0.049426,
     "end_time": "2023-01-30T08:50:20.676683",
     "exception": false,
     "start_time": "2023-01-30T08:50:20.627257",
     "status": "completed"
    },
    "tags": []
   },
   "outputs": [],
   "source": [
    "def train_fn(train_loader, model, criterion, epoch ,optimizer, scheduler):\n",
    "    model.train()\n",
    "    batch_time = AverageMeter()\n",
    "    losses = AverageMeter()\n",
    "    start = end = time.time()\n",
    "    for batch_idx, (images, targets) in enumerate(train_loader):\n",
    "        images = images.to(device, non_blocking = True).float()\n",
    "        targets = targets.to(device, non_blocking = True).float().view(-1, 1)\n",
    "#         preds = model(images, features, track_features)\n",
    "        preds, _ = model(images)\n",
    "        \n",
    "        loss = criterion(preds, targets)\n",
    "        losses.update(loss.item(), CFG[\"batch_size\"]) \n",
    "        targets = targets.detach().cpu().numpy().ravel().tolist()\n",
    "        preds = torch.sigmoid(preds).detach().cpu().numpy().ravel().tolist()\n",
    "\n",
    "        loss.backward() # パラメータの勾配を計算\n",
    "        optimizer.step() # モデル更新\n",
    "        optimizer.zero_grad() # 勾配の初期化\n",
    "                \n",
    "        batch_time.update(time.time() - end)\n",
    "        end = time.time()\n",
    "        if batch_idx % CFG[\"print_freq\"] == 0 or batch_idx == (len(train_loader)-1):\n",
    "            print('\\t Epoch: [{0}][{1}/{2}] '\n",
    "                    'Elapsed {remain:s} '\n",
    "                    'Loss: {loss.val:.4f}({loss.avg:.4f}) '\n",
    "                    .format(\n",
    "                        epoch, batch_idx, len(train_loader), batch_time=batch_time, loss=losses,\n",
    "                        remain=timeSince(start, float(batch_idx+1)/len(train_loader)),\n",
    "            ))\n",
    "        del preds, images, targets\n",
    "    gc.collect()\n",
    "    torch.cuda.empty_cache()\n",
    "    return losses.avg"
   ]
  },
  {
   "cell_type": "markdown",
   "id": "3c492398",
   "metadata": {
    "papermill": {
     "duration": 0.025098,
     "end_time": "2023-01-30T08:50:20.719985",
     "exception": false,
     "start_time": "2023-01-30T08:50:20.694887",
     "status": "completed"
    },
    "tags": []
   },
   "source": [
    "# valid fn"
   ]
  },
  {
   "cell_type": "code",
   "execution_count": null,
   "id": "468b5a54",
   "metadata": {
    "execution": {
     "iopub.execute_input": "2023-01-30T08:50:20.765098Z",
     "iopub.status.busy": "2023-01-30T08:50:20.764781Z",
     "iopub.status.idle": "2023-01-30T08:50:20.790797Z",
     "shell.execute_reply": "2023-01-30T08:50:20.790001Z"
    },
    "papermill": {
     "duration": 0.048171,
     "end_time": "2023-01-30T08:50:20.793275",
     "exception": false,
     "start_time": "2023-01-30T08:50:20.745104",
     "status": "completed"
    },
    "tags": []
   },
   "outputs": [],
   "source": [
    "def valid_fn(model, valid_loader, criterion):\n",
    "    model.eval()# モデルを検証モードに設定\n",
    "    test_targets = []\n",
    "    test_preds = []\n",
    "    img_embeddings = []\n",
    "    track_embeddings = []\n",
    "\n",
    "    batch_time = AverageMeter()\n",
    "    losses = AverageMeter()\n",
    "    start = end = time.time()\n",
    "    for batch_idx, (images, targets) in enumerate(valid_loader):\n",
    "        images = images.to(device, non_blocking = True).float()\n",
    "        targets = targets.to(device, non_blocking = True).float().view(-1, 1)\n",
    "        with torch.no_grad():\n",
    "            preds, img_emb = model(images)\n",
    "            loss = criterion(preds, targets)\n",
    "        losses.update(loss.item(), CFG[\"batch_size\"])\n",
    "        batch_time.update(time.time() - end)\n",
    "\n",
    "        targets = targets.detach().cpu().numpy().ravel().tolist()\n",
    "        preds = torch.sigmoid(preds).detach().cpu().numpy().ravel().tolist()\n",
    "\n",
    "        test_preds.extend(preds)\n",
    "        test_targets.extend(targets)\n",
    "        \n",
    "        # get embeddings\n",
    "        img_emb = img_emb.detach().cpu().numpy()\n",
    "        img_embeddings.extend(img_emb)\n",
    "        # score = matthews_corrcoef(preds, targets)\n",
    "        if batch_idx % CFG[\"print_freq\"] == 0 or batch_idx == (len(valid_loader)-1):\n",
    "            print('\\t EVAL: [{0}/{1}] '\n",
    "                'Elapsed {remain:s} '\n",
    "                'Loss: {loss.val:.4f}({loss.avg:.4f}) '\n",
    "                .format(\n",
    "                    batch_idx, len(valid_loader), batch_time=batch_time, loss=losses,\n",
    "                    remain=timeSince(start, float(batch_idx+1)/len(valid_loader)),\n",
    "                ))\n",
    "        del preds, images, targets\n",
    "        gc.collect()\n",
    "        torch.cuda.empty_cache()\n",
    "    test_preds = np.array(test_preds)\n",
    "    test_targets = np.array(test_targets)\n",
    "    return test_targets, test_preds, img_embeddings, losses.avg"
   ]
  },
  {
   "cell_type": "markdown",
   "id": "dcef4ab1",
   "metadata": {
    "papermill": {
     "duration": 0.022012,
     "end_time": "2023-01-30T08:50:20.833116",
     "exception": false,
     "start_time": "2023-01-30T08:50:20.811104",
     "status": "completed"
    },
    "tags": []
   },
   "source": [
    "# Train loop"
   ]
  },
  {
   "cell_type": "code",
   "execution_count": null,
   "id": "d752fc4d",
   "metadata": {
    "execution": {
     "iopub.execute_input": "2023-01-30T08:50:20.879809Z",
     "iopub.status.busy": "2023-01-30T08:50:20.879503Z",
     "iopub.status.idle": "2023-01-30T08:50:20.924931Z",
     "shell.execute_reply": "2023-01-30T08:50:20.924146Z"
    },
    "papermill": {
     "duration": 0.069396,
     "end_time": "2023-01-30T08:50:20.927498",
     "exception": false,
     "start_time": "2023-01-30T08:50:20.858102",
     "status": "completed"
    },
    "tags": []
   },
   "outputs": [],
   "source": [
    "def training_loop(target_df):\n",
    "    # set model & learning fn\n",
    "    model = NFLNet()\n",
    "    model = model.to(device)\n",
    "    if CFG[\"kaggle\"]:\n",
    "        wandb.watch(model)\n",
    "    criterion = nn.BCEWithLogitsLoss()\n",
    "    optimizer = AdamW(model.parameters(), lr=CFG[\"lr\"], weight_decay=CFG[\"weight_decay\"], amsgrad=False)\n",
    "    scheduler = CosineAnnealingLR(optimizer, T_max=CFG[\"T_max\"], eta_min=CFG[\"min_lr\"], last_epoch=-1)\n",
    "\n",
    "    oof_df = pd.DataFrame()\n",
    "    kf = GroupKFold(n_splits=CFG[\"n_folds\"])\n",
    "    for fold, (idx_train, idx_valid) in enumerate(kf.split(target_df, target_df[\"contact_id\"], target_df[\"game_play\"])):\n",
    "        print(\"---\")\n",
    "        print(f\"fold {fold} start training...\")\n",
    "        if not fold in CFG[\"train_folds\"]:\n",
    "            print(f\"fold{fold} is skip\")\n",
    "            continue\n",
    "        # separate train/valid data \n",
    "        train_df = target_df.iloc[idx_train]\n",
    "        valid_df = target_df.iloc[idx_valid]\n",
    "        train_dataset = NFLDataset(train_df, train_transform)\n",
    "        valid_dataset = NFLDataset(valid_df, valid_transform)\n",
    "        train_loader = DataLoader(train_dataset,batch_size=CFG[\"batch_size\"], shuffle = True,\n",
    "                                    num_workers = CFG[\"num_workers\"], pin_memory = True)\n",
    "        valid_loader = DataLoader(valid_dataset,batch_size=CFG[\"batch_size\"], shuffle = False,\n",
    "                                    num_workers = CFG[\"num_workers\"], pin_memory = True)\n",
    "\n",
    "        # training\n",
    "        best_score = -np.inf\n",
    "        best_threshold = 0\n",
    "        AUC = 0\n",
    "        start_time = end = time.time()\n",
    "        for epoch in range(1, CFG[\"n_epoch\"] + 1):\n",
    "            print(f'\\t === epoch: {epoch}: training ===')\n",
    "            train_loss_avg = train_fn(train_loader, model, criterion, epoch ,optimizer, scheduler)\n",
    "            valid_targets, valid_preds, img_embeddings, valid_loss_avg = valid_fn(model, valid_loader, criterion)\n",
    "            valid_score = -np.inf\n",
    "            valid_threshold = 0\n",
    "            tn_best, fp_best, fn_best, tp_best = 0, 0, 0, 0\n",
    "            for idx in range(1, 10, 1):\n",
    "                thr = idx*0.1\n",
    "                valid_targets = (np.array(valid_targets) > thr).astype(np.int32)\n",
    "                valid_binary_preds = (np.array(valid_preds) > thr).astype(np.int32)\n",
    "                score_tmp = matthews_corrcoef(valid_targets, valid_binary_preds)\n",
    "                cm = confusion_matrix(valid_targets, valid_binary_preds)\n",
    "                tn, fp, fn, tp = cm.flatten()\n",
    "                if score_tmp > valid_score:\n",
    "                    valid_score = score_tmp \n",
    "                    valid_threshold = thr\n",
    "                    tn_best, fp_best, fn_best, tp_best = tn, fp, fn, tp\n",
    "            AUC = roc_auc_score(valid_targets, valid_preds)\n",
    "            elapsed = (time.time() - start_time)/60\n",
    "            print(f'\\t epoch:{epoch}, avg train loss:{train_loss_avg:.4f}, avg valid loss:{valid_loss_avg:.4f}')\n",
    "            print(f'\\t\\t score:{valid_score:.4f}(th={valid_threshold}), AUC:{AUC:.4f} ::: time:{elapsed:.2f} min')\n",
    "            scheduler.step()\n",
    "            # validationスコアがbestを更新したらモデルを保存する\n",
    "            if valid_score > best_score:\n",
    "                best_score = valid_score\n",
    "                best_threshold = valid_threshold\n",
    "                model_name = CFG[\"model_name\"]\n",
    "                torch.save(model.state_dict(), f'{CFG[\"MODEL_DIR\"]}/{model_name}_fold{fold}.pth')\n",
    "                print(f'\\t Epoch {epoch} - Save Best Score: {best_score:.4f}. Model is saved.')\n",
    "                contact_id = valid_df[\"contact_id\"].values\n",
    "                _oof_df = pd.DataFrame({\n",
    "                    \"contact_id\" : contact_id,\n",
    "                    \"pred\" : valid_preds,\n",
    "                    \"contact\" : valid_targets,\n",
    "                    \"fold\" : [fold]*len(valid_targets),\n",
    "                })\n",
    "                img_emb_colname = [f\"img_emb_{idx}\" for idx in range(CFG[\"num_img_feature\"])]\n",
    "                img_emb_df = pd.DataFrame(img_embeddings, columns=img_emb_colname)\n",
    "                _oof_df = pd.concat([_oof_df, img_emb_df], axis=1)\n",
    "            logging_metrics_epoch(fold, epoch, train_loss_avg, valid_loss_avg, valid_score, valid_threshold, tn_best, fp_best, fn_best, tp_best)\n",
    "        print(f'\\t Fold {fold} : Epoch {epoch} - Save Best Score:{best_score:.4f} (thr={best_threshold:.3f}).')\n",
    "        del train_loader, train_dataset, valid_loader, valid_dataset\n",
    "        oof_df = pd.concat([oof_df, _oof_df], axis = 0)\n",
    "        del _oof_df\n",
    "        gc.collect()\n",
    "        torch.cuda.empty_cache()\n",
    "    return oof_df"
   ]
  },
  {
   "cell_type": "code",
   "execution_count": null,
   "id": "66861501",
   "metadata": {
    "execution": {
     "iopub.execute_input": "2023-01-30T08:50:20.971443Z",
     "iopub.status.busy": "2023-01-30T08:50:20.971136Z",
     "iopub.status.idle": "2023-01-30T10:05:04.122175Z",
     "shell.execute_reply": "2023-01-30T10:05:04.121105Z"
    },
    "papermill": {
     "duration": 4483.172683,
     "end_time": "2023-01-30T10:05:04.124787",
     "exception": false,
     "start_time": "2023-01-30T08:50:20.952104",
     "status": "completed"
    },
    "tags": []
   },
   "outputs": [],
   "source": [
    "if CFG[\"kaggle\"]:\n",
    "    oof_df = training_loop(target_df)\n",
    "    wandb.finish()\n",
    "else:\n",
    "    with mlflow.start_run(experiment_id=experiment_id, run_name=CFG[\"EXP_NAME\"]) as run:\n",
    "        mlflow.log_dict(CFG, \"configuration.yaml\")\n",
    "        mlflow.log_param(\"positive data num\", len(target_df[target_df[\"contact\"]==1]))\n",
    "        mlflow.log_param(\"negative data num\", len(target_df[target_df[\"contact\"]==0]))\n",
    "        oof_df = training_loop(target_df)"
   ]
  },
  {
   "cell_type": "code",
   "execution_count": null,
   "id": "b5c608c7",
   "metadata": {
    "execution": {
     "iopub.execute_input": "2023-01-30T10:05:04.145256Z",
     "iopub.status.busy": "2023-01-30T10:05:04.144886Z",
     "iopub.status.idle": "2023-01-30T10:05:04.189763Z",
     "shell.execute_reply": "2023-01-30T10:05:04.188880Z"
    },
    "papermill": {
     "duration": 0.057372,
     "end_time": "2023-01-30T10:05:04.191826",
     "exception": false,
     "start_time": "2023-01-30T10:05:04.134454",
     "status": "completed"
    },
    "tags": []
   },
   "outputs": [],
   "source": [
    "display(oof_df)\n",
    "if CFG[\"kaggle\"]:\n",
    "    oof_filename = os.path.join(CFG[\"OUTPUT_DIR\"], \"oof_df.csv\")\n",
    "    oof_df.to_csv(oof_filename, index=False)\n",
    "else:\n",
    "    oof_filename = os.path.join(CFG[\"OUTPUT_DIR\"], CFG[\"EXP_NAME\"], \"oof_df.csv\")\n",
    "    oof_df.to_csv(oof_filename, index=False)"
   ]
  },
  {
   "cell_type": "code",
   "execution_count": null,
   "id": "4e570585",
   "metadata": {
    "papermill": {
     "duration": 0.009412,
     "end_time": "2023-01-30T10:05:04.210728",
     "exception": false,
     "start_time": "2023-01-30T10:05:04.201316",
     "status": "completed"
    },
    "tags": []
   },
   "outputs": [],
   "source": []
  }
 ],
 "metadata": {
  "kernelspec": {
   "display_name": "base",
   "language": "python",
   "name": "python3"
  },
  "language_info": {
   "codemirror_mode": {
    "name": "ipython",
    "version": 3
   },
   "file_extension": ".py",
   "mimetype": "text/x-python",
   "name": "python",
   "nbconvert_exporter": "python",
   "pygments_lexer": "ipython3",
   "version": "3.7.12"
  },
  "papermill": {
   "default_parameters": {},
   "duration": 4536.212636,
   "end_time": "2023-01-30T10:05:07.246518",
   "environment_variables": {},
   "exception": null,
   "input_path": "__notebook__.ipynb",
   "output_path": "__notebook__.ipynb",
   "parameters": {},
   "start_time": "2023-01-30T08:49:31.033882",
   "version": "2.3.4"
  },
  "vscode": {
   "interpreter": {
    "hash": "d4d1e4263499bec80672ea0156c357c1ee493ec2b1c70f0acce89fc37c4a6abe"
   }
  },
  "widgets": {
   "application/vnd.jupyter.widget-state+json": {
    "state": {
     "068bc8e502b140a28762f4e46d5d56a8": {
      "model_module": "@jupyter-widgets/controls",
      "model_module_version": "1.5.0",
      "model_name": "LabelModel",
      "state": {
       "_dom_classes": [],
       "_model_module": "@jupyter-widgets/controls",
       "_model_module_version": "1.5.0",
       "_model_name": "LabelModel",
       "_view_count": null,
       "_view_module": "@jupyter-widgets/controls",
       "_view_module_version": "1.5.0",
       "_view_name": "LabelView",
       "description": "",
       "description_tooltip": null,
       "layout": "IPY_MODEL_0d68963e24e142e68ae4285696220401",
       "placeholder": "​",
       "style": "IPY_MODEL_e60b84ce579c43a491a6d7d3dc42d14d",
       "value": "0.046 MB of 0.046 MB uploaded (0.000 MB deduped)\r"
      }
     },
     "0d68963e24e142e68ae4285696220401": {
      "model_module": "@jupyter-widgets/base",
      "model_module_version": "1.2.0",
      "model_name": "LayoutModel",
      "state": {
       "_model_module": "@jupyter-widgets/base",
       "_model_module_version": "1.2.0",
       "_model_name": "LayoutModel",
       "_view_count": null,
       "_view_module": "@jupyter-widgets/base",
       "_view_module_version": "1.2.0",
       "_view_name": "LayoutView",
       "align_content": null,
       "align_items": null,
       "align_self": null,
       "border": null,
       "bottom": null,
       "display": null,
       "flex": null,
       "flex_flow": null,
       "grid_area": null,
       "grid_auto_columns": null,
       "grid_auto_flow": null,
       "grid_auto_rows": null,
       "grid_column": null,
       "grid_gap": null,
       "grid_row": null,
       "grid_template_areas": null,
       "grid_template_columns": null,
       "grid_template_rows": null,
       "height": null,
       "justify_content": null,
       "justify_items": null,
       "left": null,
       "margin": null,
       "max_height": null,
       "max_width": null,
       "min_height": null,
       "min_width": null,
       "object_fit": null,
       "object_position": null,
       "order": null,
       "overflow": null,
       "overflow_x": null,
       "overflow_y": null,
       "padding": null,
       "right": null,
       "top": null,
       "visibility": null,
       "width": null
      }
     },
     "29626ebdf9804315b4141f39a6970aa5": {
      "model_module": "@jupyter-widgets/base",
      "model_module_version": "1.2.0",
      "model_name": "LayoutModel",
      "state": {
       "_model_module": "@jupyter-widgets/base",
       "_model_module_version": "1.2.0",
       "_model_name": "LayoutModel",
       "_view_count": null,
       "_view_module": "@jupyter-widgets/base",
       "_view_module_version": "1.2.0",
       "_view_name": "LayoutView",
       "align_content": null,
       "align_items": null,
       "align_self": null,
       "border": null,
       "bottom": null,
       "display": null,
       "flex": null,
       "flex_flow": null,
       "grid_area": null,
       "grid_auto_columns": null,
       "grid_auto_flow": null,
       "grid_auto_rows": null,
       "grid_column": null,
       "grid_gap": null,
       "grid_row": null,
       "grid_template_areas": null,
       "grid_template_columns": null,
       "grid_template_rows": null,
       "height": null,
       "justify_content": null,
       "justify_items": null,
       "left": null,
       "margin": null,
       "max_height": null,
       "max_width": null,
       "min_height": null,
       "min_width": null,
       "object_fit": null,
       "object_position": null,
       "order": null,
       "overflow": null,
       "overflow_x": null,
       "overflow_y": null,
       "padding": null,
       "right": null,
       "top": null,
       "visibility": null,
       "width": null
      }
     },
     "47310e895ca047f5a5ea810dd8e30ef6": {
      "model_module": "@jupyter-widgets/controls",
      "model_module_version": "1.5.0",
      "model_name": "FloatProgressModel",
      "state": {
       "_dom_classes": [],
       "_model_module": "@jupyter-widgets/controls",
       "_model_module_version": "1.5.0",
       "_model_name": "FloatProgressModel",
       "_view_count": null,
       "_view_module": "@jupyter-widgets/controls",
       "_view_module_version": "1.5.0",
       "_view_name": "ProgressView",
       "bar_style": "",
       "description": "",
       "description_tooltip": null,
       "layout": "IPY_MODEL_29626ebdf9804315b4141f39a6970aa5",
       "max": 1,
       "min": 0,
       "orientation": "horizontal",
       "style": "IPY_MODEL_a3b1723b5aba4a00a49bb6c0efc06bfb",
       "value": 1
      }
     },
     "805e74b1103d40268a6e784bf353ab3d": {
      "model_module": "@jupyter-widgets/controls",
      "model_module_version": "1.5.0",
      "model_name": "VBoxModel",
      "state": {
       "_dom_classes": [],
       "_model_module": "@jupyter-widgets/controls",
       "_model_module_version": "1.5.0",
       "_model_name": "VBoxModel",
       "_view_count": null,
       "_view_module": "@jupyter-widgets/controls",
       "_view_module_version": "1.5.0",
       "_view_name": "VBoxView",
       "box_style": "",
       "children": [
        "IPY_MODEL_068bc8e502b140a28762f4e46d5d56a8",
        "IPY_MODEL_47310e895ca047f5a5ea810dd8e30ef6"
       ],
       "layout": "IPY_MODEL_df1be6713bd9459aa499943d14bf91da"
      }
     },
     "a3b1723b5aba4a00a49bb6c0efc06bfb": {
      "model_module": "@jupyter-widgets/controls",
      "model_module_version": "1.5.0",
      "model_name": "ProgressStyleModel",
      "state": {
       "_model_module": "@jupyter-widgets/controls",
       "_model_module_version": "1.5.0",
       "_model_name": "ProgressStyleModel",
       "_view_count": null,
       "_view_module": "@jupyter-widgets/base",
       "_view_module_version": "1.2.0",
       "_view_name": "StyleView",
       "bar_color": null,
       "description_width": ""
      }
     },
     "df1be6713bd9459aa499943d14bf91da": {
      "model_module": "@jupyter-widgets/base",
      "model_module_version": "1.2.0",
      "model_name": "LayoutModel",
      "state": {
       "_model_module": "@jupyter-widgets/base",
       "_model_module_version": "1.2.0",
       "_model_name": "LayoutModel",
       "_view_count": null,
       "_view_module": "@jupyter-widgets/base",
       "_view_module_version": "1.2.0",
       "_view_name": "LayoutView",
       "align_content": null,
       "align_items": null,
       "align_self": null,
       "border": null,
       "bottom": null,
       "display": null,
       "flex": null,
       "flex_flow": null,
       "grid_area": null,
       "grid_auto_columns": null,
       "grid_auto_flow": null,
       "grid_auto_rows": null,
       "grid_column": null,
       "grid_gap": null,
       "grid_row": null,
       "grid_template_areas": null,
       "grid_template_columns": null,
       "grid_template_rows": null,
       "height": null,
       "justify_content": null,
       "justify_items": null,
       "left": null,
       "margin": null,
       "max_height": null,
       "max_width": null,
       "min_height": null,
       "min_width": null,
       "object_fit": null,
       "object_position": null,
       "order": null,
       "overflow": null,
       "overflow_x": null,
       "overflow_y": null,
       "padding": null,
       "right": null,
       "top": null,
       "visibility": null,
       "width": null
      }
     },
     "e60b84ce579c43a491a6d7d3dc42d14d": {
      "model_module": "@jupyter-widgets/controls",
      "model_module_version": "1.5.0",
      "model_name": "DescriptionStyleModel",
      "state": {
       "_model_module": "@jupyter-widgets/controls",
       "_model_module_version": "1.5.0",
       "_model_name": "DescriptionStyleModel",
       "_view_count": null,
       "_view_module": "@jupyter-widgets/base",
       "_view_module_version": "1.2.0",
       "_view_name": "StyleView",
       "description_width": ""
      }
     }
    },
    "version_major": 2,
    "version_minor": 0
   }
  }
 },
 "nbformat": 4,
 "nbformat_minor": 5
}
